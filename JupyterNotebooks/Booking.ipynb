{
  "nbformat": 4,
  "nbformat_minor": 0,
  "metadata": {
    "colab": {
      "provenance": []
    },
    "kernelspec": {
      "name": "python3",
      "display_name": "Python 3"
    },
    "language_info": {
      "name": "python"
    },
    "widgets": {
      "application/vnd.jupyter.widget-state+json": {
        "6383de5fdf574c8fa5726788769bdb5b": {
          "model_module": "@jupyter-widgets/controls",
          "model_name": "HBoxModel",
          "model_module_version": "1.5.0",
          "state": {
            "_dom_classes": [],
            "_model_module": "@jupyter-widgets/controls",
            "_model_module_version": "1.5.0",
            "_model_name": "HBoxModel",
            "_view_count": null,
            "_view_module": "@jupyter-widgets/controls",
            "_view_module_version": "1.5.0",
            "_view_name": "HBoxView",
            "box_style": "",
            "children": [
              "IPY_MODEL_b48cdf8390104b9081111a6aed6ab897",
              "IPY_MODEL_7a9f805d10404b79baf7f53a5ebb5c9a",
              "IPY_MODEL_bedd3a24c42d4afe9792a8ec92c261b3"
            ],
            "layout": "IPY_MODEL_ff51a92c45804757b5253a9cd212bc6b"
          }
        },
        "b48cdf8390104b9081111a6aed6ab897": {
          "model_module": "@jupyter-widgets/controls",
          "model_name": "HTMLModel",
          "model_module_version": "1.5.0",
          "state": {
            "_dom_classes": [],
            "_model_module": "@jupyter-widgets/controls",
            "_model_module_version": "1.5.0",
            "_model_name": "HTMLModel",
            "_view_count": null,
            "_view_module": "@jupyter-widgets/controls",
            "_view_module_version": "1.5.0",
            "_view_name": "HTMLView",
            "description": "",
            "description_tooltip": null,
            "layout": "IPY_MODEL_8a6507559a3d4b1582628303d7b0ee0f",
            "placeholder": "​",
            "style": "IPY_MODEL_4d949b209b234feb8095475cdbf0eaf0",
            "value": "100%"
          }
        },
        "7a9f805d10404b79baf7f53a5ebb5c9a": {
          "model_module": "@jupyter-widgets/controls",
          "model_name": "FloatProgressModel",
          "model_module_version": "1.5.0",
          "state": {
            "_dom_classes": [],
            "_model_module": "@jupyter-widgets/controls",
            "_model_module_version": "1.5.0",
            "_model_name": "FloatProgressModel",
            "_view_count": null,
            "_view_module": "@jupyter-widgets/controls",
            "_view_module_version": "1.5.0",
            "_view_name": "ProgressView",
            "bar_style": "success",
            "description": "",
            "description_tooltip": null,
            "layout": "IPY_MODEL_18456b3485ab40d786cbb377857751f4",
            "max": 194,
            "min": 0,
            "orientation": "horizontal",
            "style": "IPY_MODEL_1bc466869edf49b887ed05ac7b44dec1",
            "value": 194
          }
        },
        "bedd3a24c42d4afe9792a8ec92c261b3": {
          "model_module": "@jupyter-widgets/controls",
          "model_name": "HTMLModel",
          "model_module_version": "1.5.0",
          "state": {
            "_dom_classes": [],
            "_model_module": "@jupyter-widgets/controls",
            "_model_module_version": "1.5.0",
            "_model_name": "HTMLModel",
            "_view_count": null,
            "_view_module": "@jupyter-widgets/controls",
            "_view_module_version": "1.5.0",
            "_view_name": "HTMLView",
            "description": "",
            "description_tooltip": null,
            "layout": "IPY_MODEL_b8be40ea28b64c9d906296325a03a96d",
            "placeholder": "​",
            "style": "IPY_MODEL_a4e1938dc48744dbbef9ab528cff3786",
            "value": " 194/194 [00:17&lt;00:00, 12.49it/s]"
          }
        },
        "ff51a92c45804757b5253a9cd212bc6b": {
          "model_module": "@jupyter-widgets/base",
          "model_name": "LayoutModel",
          "model_module_version": "1.2.0",
          "state": {
            "_model_module": "@jupyter-widgets/base",
            "_model_module_version": "1.2.0",
            "_model_name": "LayoutModel",
            "_view_count": null,
            "_view_module": "@jupyter-widgets/base",
            "_view_module_version": "1.2.0",
            "_view_name": "LayoutView",
            "align_content": null,
            "align_items": null,
            "align_self": null,
            "border": null,
            "bottom": null,
            "display": null,
            "flex": null,
            "flex_flow": null,
            "grid_area": null,
            "grid_auto_columns": null,
            "grid_auto_flow": null,
            "grid_auto_rows": null,
            "grid_column": null,
            "grid_gap": null,
            "grid_row": null,
            "grid_template_areas": null,
            "grid_template_columns": null,
            "grid_template_rows": null,
            "height": null,
            "justify_content": null,
            "justify_items": null,
            "left": null,
            "margin": null,
            "max_height": null,
            "max_width": null,
            "min_height": null,
            "min_width": null,
            "object_fit": null,
            "object_position": null,
            "order": null,
            "overflow": null,
            "overflow_x": null,
            "overflow_y": null,
            "padding": null,
            "right": null,
            "top": null,
            "visibility": null,
            "width": null
          }
        },
        "8a6507559a3d4b1582628303d7b0ee0f": {
          "model_module": "@jupyter-widgets/base",
          "model_name": "LayoutModel",
          "model_module_version": "1.2.0",
          "state": {
            "_model_module": "@jupyter-widgets/base",
            "_model_module_version": "1.2.0",
            "_model_name": "LayoutModel",
            "_view_count": null,
            "_view_module": "@jupyter-widgets/base",
            "_view_module_version": "1.2.0",
            "_view_name": "LayoutView",
            "align_content": null,
            "align_items": null,
            "align_self": null,
            "border": null,
            "bottom": null,
            "display": null,
            "flex": null,
            "flex_flow": null,
            "grid_area": null,
            "grid_auto_columns": null,
            "grid_auto_flow": null,
            "grid_auto_rows": null,
            "grid_column": null,
            "grid_gap": null,
            "grid_row": null,
            "grid_template_areas": null,
            "grid_template_columns": null,
            "grid_template_rows": null,
            "height": null,
            "justify_content": null,
            "justify_items": null,
            "left": null,
            "margin": null,
            "max_height": null,
            "max_width": null,
            "min_height": null,
            "min_width": null,
            "object_fit": null,
            "object_position": null,
            "order": null,
            "overflow": null,
            "overflow_x": null,
            "overflow_y": null,
            "padding": null,
            "right": null,
            "top": null,
            "visibility": null,
            "width": null
          }
        },
        "4d949b209b234feb8095475cdbf0eaf0": {
          "model_module": "@jupyter-widgets/controls",
          "model_name": "DescriptionStyleModel",
          "model_module_version": "1.5.0",
          "state": {
            "_model_module": "@jupyter-widgets/controls",
            "_model_module_version": "1.5.0",
            "_model_name": "DescriptionStyleModel",
            "_view_count": null,
            "_view_module": "@jupyter-widgets/base",
            "_view_module_version": "1.2.0",
            "_view_name": "StyleView",
            "description_width": ""
          }
        },
        "18456b3485ab40d786cbb377857751f4": {
          "model_module": "@jupyter-widgets/base",
          "model_name": "LayoutModel",
          "model_module_version": "1.2.0",
          "state": {
            "_model_module": "@jupyter-widgets/base",
            "_model_module_version": "1.2.0",
            "_model_name": "LayoutModel",
            "_view_count": null,
            "_view_module": "@jupyter-widgets/base",
            "_view_module_version": "1.2.0",
            "_view_name": "LayoutView",
            "align_content": null,
            "align_items": null,
            "align_self": null,
            "border": null,
            "bottom": null,
            "display": null,
            "flex": null,
            "flex_flow": null,
            "grid_area": null,
            "grid_auto_columns": null,
            "grid_auto_flow": null,
            "grid_auto_rows": null,
            "grid_column": null,
            "grid_gap": null,
            "grid_row": null,
            "grid_template_areas": null,
            "grid_template_columns": null,
            "grid_template_rows": null,
            "height": null,
            "justify_content": null,
            "justify_items": null,
            "left": null,
            "margin": null,
            "max_height": null,
            "max_width": null,
            "min_height": null,
            "min_width": null,
            "object_fit": null,
            "object_position": null,
            "order": null,
            "overflow": null,
            "overflow_x": null,
            "overflow_y": null,
            "padding": null,
            "right": null,
            "top": null,
            "visibility": null,
            "width": null
          }
        },
        "1bc466869edf49b887ed05ac7b44dec1": {
          "model_module": "@jupyter-widgets/controls",
          "model_name": "ProgressStyleModel",
          "model_module_version": "1.5.0",
          "state": {
            "_model_module": "@jupyter-widgets/controls",
            "_model_module_version": "1.5.0",
            "_model_name": "ProgressStyleModel",
            "_view_count": null,
            "_view_module": "@jupyter-widgets/base",
            "_view_module_version": "1.2.0",
            "_view_name": "StyleView",
            "bar_color": null,
            "description_width": ""
          }
        },
        "b8be40ea28b64c9d906296325a03a96d": {
          "model_module": "@jupyter-widgets/base",
          "model_name": "LayoutModel",
          "model_module_version": "1.2.0",
          "state": {
            "_model_module": "@jupyter-widgets/base",
            "_model_module_version": "1.2.0",
            "_model_name": "LayoutModel",
            "_view_count": null,
            "_view_module": "@jupyter-widgets/base",
            "_view_module_version": "1.2.0",
            "_view_name": "LayoutView",
            "align_content": null,
            "align_items": null,
            "align_self": null,
            "border": null,
            "bottom": null,
            "display": null,
            "flex": null,
            "flex_flow": null,
            "grid_area": null,
            "grid_auto_columns": null,
            "grid_auto_flow": null,
            "grid_auto_rows": null,
            "grid_column": null,
            "grid_gap": null,
            "grid_row": null,
            "grid_template_areas": null,
            "grid_template_columns": null,
            "grid_template_rows": null,
            "height": null,
            "justify_content": null,
            "justify_items": null,
            "left": null,
            "margin": null,
            "max_height": null,
            "max_width": null,
            "min_height": null,
            "min_width": null,
            "object_fit": null,
            "object_position": null,
            "order": null,
            "overflow": null,
            "overflow_x": null,
            "overflow_y": null,
            "padding": null,
            "right": null,
            "top": null,
            "visibility": null,
            "width": null
          }
        },
        "a4e1938dc48744dbbef9ab528cff3786": {
          "model_module": "@jupyter-widgets/controls",
          "model_name": "DescriptionStyleModel",
          "model_module_version": "1.5.0",
          "state": {
            "_model_module": "@jupyter-widgets/controls",
            "_model_module_version": "1.5.0",
            "_model_name": "DescriptionStyleModel",
            "_view_count": null,
            "_view_module": "@jupyter-widgets/base",
            "_view_module_version": "1.2.0",
            "_view_name": "StyleView",
            "description_width": ""
          }
        },
        "73012c40545146f9aae7cc794084349a": {
          "model_module": "@jupyter-widgets/controls",
          "model_name": "HBoxModel",
          "model_module_version": "1.5.0",
          "state": {
            "_dom_classes": [],
            "_model_module": "@jupyter-widgets/controls",
            "_model_module_version": "1.5.0",
            "_model_name": "HBoxModel",
            "_view_count": null,
            "_view_module": "@jupyter-widgets/controls",
            "_view_module_version": "1.5.0",
            "_view_name": "HBoxView",
            "box_style": "",
            "children": [
              "IPY_MODEL_21ca69c71d5747e78048e2137d382496",
              "IPY_MODEL_3b1498b6438f4fb5b07ba18c1280c51e",
              "IPY_MODEL_dcd03bc3b9734cf9a68eaf5a61733ed4"
            ],
            "layout": "IPY_MODEL_ace4c28cc4704c53ac9979858081e4b6"
          }
        },
        "21ca69c71d5747e78048e2137d382496": {
          "model_module": "@jupyter-widgets/controls",
          "model_name": "HTMLModel",
          "model_module_version": "1.5.0",
          "state": {
            "_dom_classes": [],
            "_model_module": "@jupyter-widgets/controls",
            "_model_module_version": "1.5.0",
            "_model_name": "HTMLModel",
            "_view_count": null,
            "_view_module": "@jupyter-widgets/controls",
            "_view_module_version": "1.5.0",
            "_view_name": "HTMLView",
            "description": "",
            "description_tooltip": null,
            "layout": "IPY_MODEL_a33fb258308143b99bcc38900cfbfae0",
            "placeholder": "​",
            "style": "IPY_MODEL_54e2ad6227ee4ada902ee26538d2573d",
            "value": "100%"
          }
        },
        "3b1498b6438f4fb5b07ba18c1280c51e": {
          "model_module": "@jupyter-widgets/controls",
          "model_name": "FloatProgressModel",
          "model_module_version": "1.5.0",
          "state": {
            "_dom_classes": [],
            "_model_module": "@jupyter-widgets/controls",
            "_model_module_version": "1.5.0",
            "_model_name": "FloatProgressModel",
            "_view_count": null,
            "_view_module": "@jupyter-widgets/controls",
            "_view_module_version": "1.5.0",
            "_view_name": "ProgressView",
            "bar_style": "success",
            "description": "",
            "description_tooltip": null,
            "layout": "IPY_MODEL_53d84c847f4e47fd969e90fd5ec81e06",
            "max": 193,
            "min": 0,
            "orientation": "horizontal",
            "style": "IPY_MODEL_cc4bd4a6e84740fd9da3707c07245baa",
            "value": 193
          }
        },
        "dcd03bc3b9734cf9a68eaf5a61733ed4": {
          "model_module": "@jupyter-widgets/controls",
          "model_name": "HTMLModel",
          "model_module_version": "1.5.0",
          "state": {
            "_dom_classes": [],
            "_model_module": "@jupyter-widgets/controls",
            "_model_module_version": "1.5.0",
            "_model_name": "HTMLModel",
            "_view_count": null,
            "_view_module": "@jupyter-widgets/controls",
            "_view_module_version": "1.5.0",
            "_view_name": "HTMLView",
            "description": "",
            "description_tooltip": null,
            "layout": "IPY_MODEL_5951baef9f354da3b507a5d9f69dfc40",
            "placeholder": "​",
            "style": "IPY_MODEL_94e8613e56f844c6b8852fab1a2d6970",
            "value": " 193/193 [00:02&lt;00:00, 93.31it/s]"
          }
        },
        "ace4c28cc4704c53ac9979858081e4b6": {
          "model_module": "@jupyter-widgets/base",
          "model_name": "LayoutModel",
          "model_module_version": "1.2.0",
          "state": {
            "_model_module": "@jupyter-widgets/base",
            "_model_module_version": "1.2.0",
            "_model_name": "LayoutModel",
            "_view_count": null,
            "_view_module": "@jupyter-widgets/base",
            "_view_module_version": "1.2.0",
            "_view_name": "LayoutView",
            "align_content": null,
            "align_items": null,
            "align_self": null,
            "border": null,
            "bottom": null,
            "display": null,
            "flex": null,
            "flex_flow": null,
            "grid_area": null,
            "grid_auto_columns": null,
            "grid_auto_flow": null,
            "grid_auto_rows": null,
            "grid_column": null,
            "grid_gap": null,
            "grid_row": null,
            "grid_template_areas": null,
            "grid_template_columns": null,
            "grid_template_rows": null,
            "height": null,
            "justify_content": null,
            "justify_items": null,
            "left": null,
            "margin": null,
            "max_height": null,
            "max_width": null,
            "min_height": null,
            "min_width": null,
            "object_fit": null,
            "object_position": null,
            "order": null,
            "overflow": null,
            "overflow_x": null,
            "overflow_y": null,
            "padding": null,
            "right": null,
            "top": null,
            "visibility": null,
            "width": null
          }
        },
        "a33fb258308143b99bcc38900cfbfae0": {
          "model_module": "@jupyter-widgets/base",
          "model_name": "LayoutModel",
          "model_module_version": "1.2.0",
          "state": {
            "_model_module": "@jupyter-widgets/base",
            "_model_module_version": "1.2.0",
            "_model_name": "LayoutModel",
            "_view_count": null,
            "_view_module": "@jupyter-widgets/base",
            "_view_module_version": "1.2.0",
            "_view_name": "LayoutView",
            "align_content": null,
            "align_items": null,
            "align_self": null,
            "border": null,
            "bottom": null,
            "display": null,
            "flex": null,
            "flex_flow": null,
            "grid_area": null,
            "grid_auto_columns": null,
            "grid_auto_flow": null,
            "grid_auto_rows": null,
            "grid_column": null,
            "grid_gap": null,
            "grid_row": null,
            "grid_template_areas": null,
            "grid_template_columns": null,
            "grid_template_rows": null,
            "height": null,
            "justify_content": null,
            "justify_items": null,
            "left": null,
            "margin": null,
            "max_height": null,
            "max_width": null,
            "min_height": null,
            "min_width": null,
            "object_fit": null,
            "object_position": null,
            "order": null,
            "overflow": null,
            "overflow_x": null,
            "overflow_y": null,
            "padding": null,
            "right": null,
            "top": null,
            "visibility": null,
            "width": null
          }
        },
        "54e2ad6227ee4ada902ee26538d2573d": {
          "model_module": "@jupyter-widgets/controls",
          "model_name": "DescriptionStyleModel",
          "model_module_version": "1.5.0",
          "state": {
            "_model_module": "@jupyter-widgets/controls",
            "_model_module_version": "1.5.0",
            "_model_name": "DescriptionStyleModel",
            "_view_count": null,
            "_view_module": "@jupyter-widgets/base",
            "_view_module_version": "1.2.0",
            "_view_name": "StyleView",
            "description_width": ""
          }
        },
        "53d84c847f4e47fd969e90fd5ec81e06": {
          "model_module": "@jupyter-widgets/base",
          "model_name": "LayoutModel",
          "model_module_version": "1.2.0",
          "state": {
            "_model_module": "@jupyter-widgets/base",
            "_model_module_version": "1.2.0",
            "_model_name": "LayoutModel",
            "_view_count": null,
            "_view_module": "@jupyter-widgets/base",
            "_view_module_version": "1.2.0",
            "_view_name": "LayoutView",
            "align_content": null,
            "align_items": null,
            "align_self": null,
            "border": null,
            "bottom": null,
            "display": null,
            "flex": null,
            "flex_flow": null,
            "grid_area": null,
            "grid_auto_columns": null,
            "grid_auto_flow": null,
            "grid_auto_rows": null,
            "grid_column": null,
            "grid_gap": null,
            "grid_row": null,
            "grid_template_areas": null,
            "grid_template_columns": null,
            "grid_template_rows": null,
            "height": null,
            "justify_content": null,
            "justify_items": null,
            "left": null,
            "margin": null,
            "max_height": null,
            "max_width": null,
            "min_height": null,
            "min_width": null,
            "object_fit": null,
            "object_position": null,
            "order": null,
            "overflow": null,
            "overflow_x": null,
            "overflow_y": null,
            "padding": null,
            "right": null,
            "top": null,
            "visibility": null,
            "width": null
          }
        },
        "cc4bd4a6e84740fd9da3707c07245baa": {
          "model_module": "@jupyter-widgets/controls",
          "model_name": "ProgressStyleModel",
          "model_module_version": "1.5.0",
          "state": {
            "_model_module": "@jupyter-widgets/controls",
            "_model_module_version": "1.5.0",
            "_model_name": "ProgressStyleModel",
            "_view_count": null,
            "_view_module": "@jupyter-widgets/base",
            "_view_module_version": "1.2.0",
            "_view_name": "StyleView",
            "bar_color": null,
            "description_width": ""
          }
        },
        "5951baef9f354da3b507a5d9f69dfc40": {
          "model_module": "@jupyter-widgets/base",
          "model_name": "LayoutModel",
          "model_module_version": "1.2.0",
          "state": {
            "_model_module": "@jupyter-widgets/base",
            "_model_module_version": "1.2.0",
            "_model_name": "LayoutModel",
            "_view_count": null,
            "_view_module": "@jupyter-widgets/base",
            "_view_module_version": "1.2.0",
            "_view_name": "LayoutView",
            "align_content": null,
            "align_items": null,
            "align_self": null,
            "border": null,
            "bottom": null,
            "display": null,
            "flex": null,
            "flex_flow": null,
            "grid_area": null,
            "grid_auto_columns": null,
            "grid_auto_flow": null,
            "grid_auto_rows": null,
            "grid_column": null,
            "grid_gap": null,
            "grid_row": null,
            "grid_template_areas": null,
            "grid_template_columns": null,
            "grid_template_rows": null,
            "height": null,
            "justify_content": null,
            "justify_items": null,
            "left": null,
            "margin": null,
            "max_height": null,
            "max_width": null,
            "min_height": null,
            "min_width": null,
            "object_fit": null,
            "object_position": null,
            "order": null,
            "overflow": null,
            "overflow_x": null,
            "overflow_y": null,
            "padding": null,
            "right": null,
            "top": null,
            "visibility": null,
            "width": null
          }
        },
        "94e8613e56f844c6b8852fab1a2d6970": {
          "model_module": "@jupyter-widgets/controls",
          "model_name": "DescriptionStyleModel",
          "model_module_version": "1.5.0",
          "state": {
            "_model_module": "@jupyter-widgets/controls",
            "_model_module_version": "1.5.0",
            "_model_name": "DescriptionStyleModel",
            "_view_count": null,
            "_view_module": "@jupyter-widgets/base",
            "_view_module_version": "1.2.0",
            "_view_name": "StyleView",
            "description_width": ""
          }
        }
      }
    }
  },
  "cells": [
    {
      "cell_type": "markdown",
      "source": [
        "## DEPENDENCIES"
      ],
      "metadata": {
        "id": "pvss1Z6RD_WK"
      }
    },
    {
      "cell_type": "markdown",
      "source": [
        "Uncomment the following pip commands to install the necessary dependencies if it is the first time run.\n",
        "Then, reset the runtime and do not run the pip installs again."
      ],
      "metadata": {
        "id": "pE2Z79eHX68T"
      }
    },
    {
      "cell_type": "code",
      "source": [
        "# !pip install --user -U nltk\n",
        "# !pip install -U deep-translator\n",
        "# !pip install tqdm_notebook\n",
        "# !pip install pyldavis\n",
        "# !pip install vadersentiment"
      ],
      "metadata": {
        "id": "dUeRCIpw4yub",
        "colab": {
          "base_uri": "https://localhost:8080/"
        },
        "outputId": "172ed13d-6258-49bb-c1e4-3d8acce9a9c9"
      },
      "execution_count": null,
      "outputs": [
        {
          "output_type": "stream",
          "name": "stderr",
          "text": [
            "/usr/local/lib/python3.10/dist-packages/ipykernel/ipkernel.py:283: DeprecationWarning: `should_run_async` will not call `transform_cell` automatically in the future. Please pass the result to `transformed_cell` argument and any exception that happen during thetransform in `preprocessing_exc_tuple` in IPython 7.17 and above.\n",
            "  and should_run_async(code)\n"
          ]
        }
      ]
    },
    {
      "cell_type": "code",
      "execution_count": null,
      "metadata": {
        "id": "OdpYDADIYyvM",
        "colab": {
          "base_uri": "https://localhost:8080/"
        },
        "outputId": "8a8fe7ab-b4ff-486b-b266-3180e26b01c6"
      },
      "outputs": [
        {
          "output_type": "stream",
          "name": "stderr",
          "text": [
            "/usr/local/lib/python3.10/dist-packages/ipykernel/ipkernel.py:283: DeprecationWarning: `should_run_async` will not call `transform_cell` automatically in the future. Please pass the result to `transformed_cell` argument and any exception that happen during thetransform in `preprocessing_exc_tuple` in IPython 7.17 and above.\n",
            "  and should_run_async(code)\n",
            "[nltk_data] Downloading package stopwords to /root/nltk_data...\n",
            "[nltk_data]   Package stopwords is already up-to-date!\n",
            "[nltk_data] Downloading package punkt to /root/nltk_data...\n",
            "[nltk_data]   Package punkt is already up-to-date!\n",
            "[nltk_data] Downloading package wordnet to /root/nltk_data...\n",
            "[nltk_data]   Package wordnet is already up-to-date!\n"
          ]
        }
      ],
      "source": [
        "from deep_translator import GoogleTranslator\n",
        "from matplotlib import pyplot as plt\n",
        "import nltk\n",
        "nltk.download('stopwords')\n",
        "nltk.download('punkt')\n",
        "nltk.download('wordnet')\n",
        "from nltk.corpus import stopwords\n",
        "from nltk.tokenize import word_tokenize\n",
        "from nltk.stem.snowball import PorterStemmer\n",
        "import gensim\n",
        "import pyLDAvis\n",
        "import pyLDAvis.gensim\n",
        "import re\n",
        "import numpy as np\n",
        "import pandas as pd\n",
        "import statistics\n",
        "import seaborn as sns\n",
        "from tqdm._tqdm_notebook import tqdm_notebook\n",
        "tqdm_notebook.pandas()\n",
        "from vaderSentiment.vaderSentiment import SentimentIntensityAnalyzer"
      ]
    },
    {
      "cell_type": "markdown",
      "source": [
        "## IMPORT DATA"
      ],
      "metadata": {
        "id": "QqMIYpNZEEaY"
      }
    },
    {
      "cell_type": "code",
      "source": [
        "df = pd.read_excel(\"Viva-Tec-data.xlsx\", sheet_name=\"Booking flow\")\n",
        "df.rename({'text': 'Comment'}, axis=1, inplace=True)\n",
        "df = df.iloc[:200,:] # Average per day 508\n",
        "df"
      ],
      "metadata": {
        "colab": {
          "base_uri": "https://localhost:8080/",
          "height": 479
        },
        "id": "A36gsDzhgVKb",
        "outputId": "0e919c04-7043-4dcc-c0c2-d56eff2254cd"
      },
      "execution_count": null,
      "outputs": [
        {
          "output_type": "stream",
          "name": "stderr",
          "text": [
            "/usr/local/lib/python3.10/dist-packages/ipykernel/ipkernel.py:283: DeprecationWarning: `should_run_async` will not call `transform_cell` automatically in the future. Please pass the result to `transformed_cell` argument and any exception that happen during thetransform in `preprocessing_exc_tuple` in IPython 7.17 and above.\n",
            "  and should_run_async(code)\n"
          ]
        },
        {
          "output_type": "execute_result",
          "data": {
            "text/plain": [
              "                   Date  nps   \n",
              "0   2023-03-01 04:57:35    8  \\\n",
              "1   2023-03-01 04:55:45    6   \n",
              "2   2023-03-01 04:54:40    8   \n",
              "3   2023-03-01 04:51:03    2   \n",
              "4   2023-03-01 04:48:36    0   \n",
              "..                  ...  ...   \n",
              "195 2023-02-28 09:43:42    6   \n",
              "196 2023-02-28 09:10:15    1   \n",
              "197 2023-02-28 09:09:11    7   \n",
              "198 2023-02-28 08:23:30    6   \n",
              "199 2023-02-28 08:09:33    3   \n",
              "\n",
              "                                               Comment  \n",
              "0    No me dio la opción de pago a meses sin intereses  \n",
              "1    muy tardado, no me llega la confirmación vía c...  \n",
              "2    Que los precios no sean tan caros, eso atraeri...  \n",
              "3    Me estas mandando el NPS cuando todavía ni siq...  \n",
              "4                                        no pude pagar  \n",
              "..                                                 ...  \n",
              "195  muy confuso, no te dan las opciones del equipa...  \n",
              "196  MUY TEDIOSA LA PAGINA PARA COMPRAR VUELOS Y SA...  \n",
              "197  Sintantos rodeos  a la hora de comprar los bol...  \n",
              "198  Son demasiados los pasos, si fuera más sencill...  \n",
              "199  Poco dificil navegar, no sive bien en mobile. ...  \n",
              "\n",
              "[200 rows x 3 columns]"
            ],
            "text/html": [
              "\n",
              "  <div id=\"df-79f8d687-14e4-4168-a3c7-95e09f43a84d\">\n",
              "    <div class=\"colab-df-container\">\n",
              "      <div>\n",
              "<style scoped>\n",
              "    .dataframe tbody tr th:only-of-type {\n",
              "        vertical-align: middle;\n",
              "    }\n",
              "\n",
              "    .dataframe tbody tr th {\n",
              "        vertical-align: top;\n",
              "    }\n",
              "\n",
              "    .dataframe thead th {\n",
              "        text-align: right;\n",
              "    }\n",
              "</style>\n",
              "<table border=\"1\" class=\"dataframe\">\n",
              "  <thead>\n",
              "    <tr style=\"text-align: right;\">\n",
              "      <th></th>\n",
              "      <th>Date</th>\n",
              "      <th>nps</th>\n",
              "      <th>Comment</th>\n",
              "    </tr>\n",
              "  </thead>\n",
              "  <tbody>\n",
              "    <tr>\n",
              "      <th>0</th>\n",
              "      <td>2023-03-01 04:57:35</td>\n",
              "      <td>8</td>\n",
              "      <td>No me dio la opción de pago a meses sin intereses</td>\n",
              "    </tr>\n",
              "    <tr>\n",
              "      <th>1</th>\n",
              "      <td>2023-03-01 04:55:45</td>\n",
              "      <td>6</td>\n",
              "      <td>muy tardado, no me llega la confirmación vía c...</td>\n",
              "    </tr>\n",
              "    <tr>\n",
              "      <th>2</th>\n",
              "      <td>2023-03-01 04:54:40</td>\n",
              "      <td>8</td>\n",
              "      <td>Que los precios no sean tan caros, eso atraeri...</td>\n",
              "    </tr>\n",
              "    <tr>\n",
              "      <th>3</th>\n",
              "      <td>2023-03-01 04:51:03</td>\n",
              "      <td>2</td>\n",
              "      <td>Me estas mandando el NPS cuando todavía ni siq...</td>\n",
              "    </tr>\n",
              "    <tr>\n",
              "      <th>4</th>\n",
              "      <td>2023-03-01 04:48:36</td>\n",
              "      <td>0</td>\n",
              "      <td>no pude pagar</td>\n",
              "    </tr>\n",
              "    <tr>\n",
              "      <th>...</th>\n",
              "      <td>...</td>\n",
              "      <td>...</td>\n",
              "      <td>...</td>\n",
              "    </tr>\n",
              "    <tr>\n",
              "      <th>195</th>\n",
              "      <td>2023-02-28 09:43:42</td>\n",
              "      <td>6</td>\n",
              "      <td>muy confuso, no te dan las opciones del equipa...</td>\n",
              "    </tr>\n",
              "    <tr>\n",
              "      <th>196</th>\n",
              "      <td>2023-02-28 09:10:15</td>\n",
              "      <td>1</td>\n",
              "      <td>MUY TEDIOSA LA PAGINA PARA COMPRAR VUELOS Y SA...</td>\n",
              "    </tr>\n",
              "    <tr>\n",
              "      <th>197</th>\n",
              "      <td>2023-02-28 09:09:11</td>\n",
              "      <td>7</td>\n",
              "      <td>Sintantos rodeos  a la hora de comprar los bol...</td>\n",
              "    </tr>\n",
              "    <tr>\n",
              "      <th>198</th>\n",
              "      <td>2023-02-28 08:23:30</td>\n",
              "      <td>6</td>\n",
              "      <td>Son demasiados los pasos, si fuera más sencill...</td>\n",
              "    </tr>\n",
              "    <tr>\n",
              "      <th>199</th>\n",
              "      <td>2023-02-28 08:09:33</td>\n",
              "      <td>3</td>\n",
              "      <td>Poco dificil navegar, no sive bien en mobile. ...</td>\n",
              "    </tr>\n",
              "  </tbody>\n",
              "</table>\n",
              "<p>200 rows × 3 columns</p>\n",
              "</div>\n",
              "      <button class=\"colab-df-convert\" onclick=\"convertToInteractive('df-79f8d687-14e4-4168-a3c7-95e09f43a84d')\"\n",
              "              title=\"Convert this dataframe to an interactive table.\"\n",
              "              style=\"display:none;\">\n",
              "        \n",
              "  <svg xmlns=\"http://www.w3.org/2000/svg\" height=\"24px\"viewBox=\"0 0 24 24\"\n",
              "       width=\"24px\">\n",
              "    <path d=\"M0 0h24v24H0V0z\" fill=\"none\"/>\n",
              "    <path d=\"M18.56 5.44l.94 2.06.94-2.06 2.06-.94-2.06-.94-.94-2.06-.94 2.06-2.06.94zm-11 1L8.5 8.5l.94-2.06 2.06-.94-2.06-.94L8.5 2.5l-.94 2.06-2.06.94zm10 10l.94 2.06.94-2.06 2.06-.94-2.06-.94-.94-2.06-.94 2.06-2.06.94z\"/><path d=\"M17.41 7.96l-1.37-1.37c-.4-.4-.92-.59-1.43-.59-.52 0-1.04.2-1.43.59L10.3 9.45l-7.72 7.72c-.78.78-.78 2.05 0 2.83L4 21.41c.39.39.9.59 1.41.59.51 0 1.02-.2 1.41-.59l7.78-7.78 2.81-2.81c.8-.78.8-2.07 0-2.86zM5.41 20L4 18.59l7.72-7.72 1.47 1.35L5.41 20z\"/>\n",
              "  </svg>\n",
              "      </button>\n",
              "      \n",
              "  <style>\n",
              "    .colab-df-container {\n",
              "      display:flex;\n",
              "      flex-wrap:wrap;\n",
              "      gap: 12px;\n",
              "    }\n",
              "\n",
              "    .colab-df-convert {\n",
              "      background-color: #E8F0FE;\n",
              "      border: none;\n",
              "      border-radius: 50%;\n",
              "      cursor: pointer;\n",
              "      display: none;\n",
              "      fill: #1967D2;\n",
              "      height: 32px;\n",
              "      padding: 0 0 0 0;\n",
              "      width: 32px;\n",
              "    }\n",
              "\n",
              "    .colab-df-convert:hover {\n",
              "      background-color: #E2EBFA;\n",
              "      box-shadow: 0px 1px 2px rgba(60, 64, 67, 0.3), 0px 1px 3px 1px rgba(60, 64, 67, 0.15);\n",
              "      fill: #174EA6;\n",
              "    }\n",
              "\n",
              "    [theme=dark] .colab-df-convert {\n",
              "      background-color: #3B4455;\n",
              "      fill: #D2E3FC;\n",
              "    }\n",
              "\n",
              "    [theme=dark] .colab-df-convert:hover {\n",
              "      background-color: #434B5C;\n",
              "      box-shadow: 0px 1px 3px 1px rgba(0, 0, 0, 0.15);\n",
              "      filter: drop-shadow(0px 1px 2px rgba(0, 0, 0, 0.3));\n",
              "      fill: #FFFFFF;\n",
              "    }\n",
              "  </style>\n",
              "\n",
              "      <script>\n",
              "        const buttonEl =\n",
              "          document.querySelector('#df-79f8d687-14e4-4168-a3c7-95e09f43a84d button.colab-df-convert');\n",
              "        buttonEl.style.display =\n",
              "          google.colab.kernel.accessAllowed ? 'block' : 'none';\n",
              "\n",
              "        async function convertToInteractive(key) {\n",
              "          const element = document.querySelector('#df-79f8d687-14e4-4168-a3c7-95e09f43a84d');\n",
              "          const dataTable =\n",
              "            await google.colab.kernel.invokeFunction('convertToInteractive',\n",
              "                                                     [key], {});\n",
              "          if (!dataTable) return;\n",
              "\n",
              "          const docLinkHtml = 'Like what you see? Visit the ' +\n",
              "            '<a target=\"_blank\" href=https://colab.research.google.com/notebooks/data_table.ipynb>data table notebook</a>'\n",
              "            + ' to learn more about interactive tables.';\n",
              "          element.innerHTML = '';\n",
              "          dataTable['output_type'] = 'display_data';\n",
              "          await google.colab.output.renderOutput(dataTable, element);\n",
              "          const docLink = document.createElement('div');\n",
              "          docLink.innerHTML = docLinkHtml;\n",
              "          element.appendChild(docLink);\n",
              "        }\n",
              "      </script>\n",
              "    </div>\n",
              "  </div>\n",
              "  "
            ]
          },
          "metadata": {},
          "execution_count": 4
        }
      ]
    },
    {
      "cell_type": "markdown",
      "source": [
        "## EXPLORATION"
      ],
      "metadata": {
        "id": "tgBkY2RLEk4i"
      }
    },
    {
      "cell_type": "code",
      "source": [
        "unique = []\n",
        "\n",
        "for i, text in enumerate(df[\"Comment\"]):\n",
        "  text = str(text).lower()\n",
        "  x = len(text.split())\n",
        "  if x == 1 and len(text) < 4:\n",
        "    if text not in unique:\n",
        "      unique.append(text)\n",
        "\n",
        "print(len(unique))\n",
        "print(unique)"
      ],
      "metadata": {
        "id": "v1WsshBPpEDU",
        "outputId": "b24167a0-b9a3-41b5-8580-053a9f05fc2d",
        "colab": {
          "base_uri": "https://localhost:8080/"
        }
      },
      "execution_count": null,
      "outputs": [
        {
          "output_type": "stream",
          "name": "stdout",
          "text": [
            "8\n",
            "['x', 'na', 'si', '...', 'v', '.', 'a', 'sip']\n"
          ]
        },
        {
          "output_type": "stream",
          "name": "stderr",
          "text": [
            "/usr/local/lib/python3.10/dist-packages/ipykernel/ipkernel.py:283: DeprecationWarning: `should_run_async` will not call `transform_cell` automatically in the future. Please pass the result to `transformed_cell` argument and any exception that happen during thetransform in `preprocessing_exc_tuple` in IPython 7.17 and above.\n",
            "  and should_run_async(code)\n"
          ]
        }
      ]
    },
    {
      "cell_type": "markdown",
      "source": [
        "### NPS Score"
      ],
      "metadata": {
        "id": "VbProZX5H5zN"
      }
    },
    {
      "cell_type": "code",
      "source": [
        "plt.title(\"NPS\")\n",
        "plt.hist(df[\"nps\"])"
      ],
      "metadata": {
        "colab": {
          "base_uri": "https://localhost:8080/",
          "height": 561
        },
        "id": "WpEUUl11g1T-",
        "outputId": "7d9f10a4-ac4a-44c1-da35-3e14df277627"
      },
      "execution_count": null,
      "outputs": [
        {
          "output_type": "stream",
          "name": "stderr",
          "text": [
            "/usr/local/lib/python3.10/dist-packages/ipykernel/ipkernel.py:283: DeprecationWarning: `should_run_async` will not call `transform_cell` automatically in the future. Please pass the result to `transformed_cell` argument and any exception that happen during thetransform in `preprocessing_exc_tuple` in IPython 7.17 and above.\n",
            "  and should_run_async(code)\n"
          ]
        },
        {
          "output_type": "execute_result",
          "data": {
            "text/plain": [
              "(array([24.,  3.,  5.,  9.,  0.,  9., 27., 16., 44., 63.]),\n",
              " array([0. , 0.8, 1.6, 2.4, 3.2, 4. , 4.8, 5.6, 6.4, 7.2, 8. ]),\n",
              " <BarContainer object of 10 artists>)"
            ]
          },
          "metadata": {},
          "execution_count": 6
        },
        {
          "output_type": "display_data",
          "data": {
            "text/plain": [
              "<Figure size 640x480 with 1 Axes>"
            ],
            "image/png": "[encoded data removed]"
          },
          "metadata": {}
        }
      ]
    },
    {
      "cell_type": "code",
      "source": [
        "# Count number of promoters & obtain percentage\n",
        "promoters_count = len(df[df.nps >= 9])\n",
        "promoters = promoters_count / len(df)\n",
        "\n",
        "# Count number of detractors & obtain percentage\n",
        "detractors_count = len(df[df.nps <= 6])\n",
        "detractors = detractors_count / len(df)\n",
        "\n",
        "# Calculate total nps score\n",
        "nps_score = (promoters - detractors) * 100\n",
        "print(\"Weighted NPS score = {}\".format(nps_score))\n",
        "print(\"NPS Score = %promoters(10-9) - %ditractor(>6)\")"
      ],
      "metadata": {
        "id": "BzRbnn_dwP87",
        "colab": {
          "base_uri": "https://localhost:8080/"
        },
        "outputId": "f79c70c6-0745-4d1e-ec48-77aaa08c46cd"
      },
      "execution_count": null,
      "outputs": [
        {
          "output_type": "stream",
          "name": "stdout",
          "text": [
            "Weighted NPS score = -46.5\n",
            "NPS Score = %promoters(10-9) - %ditractor(>6)\n"
          ]
        },
        {
          "output_type": "stream",
          "name": "stderr",
          "text": [
            "/usr/local/lib/python3.10/dist-packages/ipykernel/ipkernel.py:283: DeprecationWarning: `should_run_async` will not call `transform_cell` automatically in the future. Please pass the result to `transformed_cell` argument and any exception that happen during thetransform in `preprocessing_exc_tuple` in IPython 7.17 and above.\n",
            "  and should_run_async(code)\n"
          ]
        }
      ]
    },
    {
      "cell_type": "markdown",
      "source": [
        "### TIME"
      ],
      "metadata": {
        "id": "0ZN0xtONaz_6"
      }
    },
    {
      "cell_type": "code",
      "source": [
        "def removeTime(row):\n",
        "  return row.date()"
      ],
      "metadata": {
        "colab": {
          "base_uri": "https://localhost:8080/"
        },
        "id": "xZnIvtf2a-iZ",
        "outputId": "7831d128-f787-43c1-bf9d-6251beeb92c0"
      },
      "execution_count": null,
      "outputs": [
        {
          "output_type": "stream",
          "name": "stderr",
          "text": [
            "/usr/local/lib/python3.10/dist-packages/ipykernel/ipkernel.py:283: DeprecationWarning: `should_run_async` will not call `transform_cell` automatically in the future. Please pass the result to `transformed_cell` argument and any exception that happen during thetransform in `preprocessing_exc_tuple` in IPython 7.17 and above.\n",
            "  and should_run_async(code)\n"
          ]
        }
      ]
    },
    {
      "cell_type": "code",
      "source": [
        "df_time = df.copy()\n",
        "df_time['Date'] = pd.to_datetime(df_time.Date)\n",
        "df_time['Date'] = df_time.Date.apply(removeTime)\n",
        "df_time = df_time.groupby(['Date']).count()"
      ],
      "metadata": {
        "colab": {
          "base_uri": "https://localhost:8080/"
        },
        "id": "Jp1Ej1kiazkO",
        "outputId": "389b689f-ed31-400f-94c3-dc21ff325691"
      },
      "execution_count": null,
      "outputs": [
        {
          "output_type": "stream",
          "name": "stderr",
          "text": [
            "/usr/local/lib/python3.10/dist-packages/ipykernel/ipkernel.py:283: DeprecationWarning: `should_run_async` will not call `transform_cell` automatically in the future. Please pass the result to `transformed_cell` argument and any exception that happen during thetransform in `preprocessing_exc_tuple` in IPython 7.17 and above.\n",
            "  and should_run_async(code)\n"
          ]
        }
      ]
    },
    {
      "cell_type": "code",
      "source": [
        "df_time = df_time.drop(\"Comment\", axis=1)\n",
        "df_time.rename({'nps': 'Reviews'}, axis=1, inplace=True)"
      ],
      "metadata": {
        "colab": {
          "base_uri": "https://localhost:8080/"
        },
        "id": "us1V__EEbikz",
        "outputId": "68c44c4f-b56d-4c83-e298-90b17a89804c"
      },
      "execution_count": null,
      "outputs": [
        {
          "output_type": "stream",
          "name": "stderr",
          "text": [
            "/usr/local/lib/python3.10/dist-packages/ipykernel/ipkernel.py:283: DeprecationWarning: `should_run_async` will not call `transform_cell` automatically in the future. Please pass the result to `transformed_cell` argument and any exception that happen during thetransform in `preprocessing_exc_tuple` in IPython 7.17 and above.\n",
            "  and should_run_async(code)\n"
          ]
        }
      ]
    },
    {
      "cell_type": "code",
      "source": [
        "line_plot = sns.lineplot(data=df_time, x=\"Date\", y=\"Reviews\")\n",
        "line_plot.set_xticklabels(line_plot.get_xticklabels(), rotation=30)"
      ],
      "metadata": {
        "colab": {
          "base_uri": "https://localhost:8080/",
          "height": 731
        },
        "id": "9UuHpCAmcMVA",
        "outputId": "34c69eab-c8f2-4d97-8ecf-46d987b36443"
      },
      "execution_count": null,
      "outputs": [
        {
          "output_type": "stream",
          "name": "stderr",
          "text": [
            "/usr/local/lib/python3.10/dist-packages/ipykernel/ipkernel.py:283: DeprecationWarning: `should_run_async` will not call `transform_cell` automatically in the future. Please pass the result to `transformed_cell` argument and any exception that happen during thetransform in `preprocessing_exc_tuple` in IPython 7.17 and above.\n",
            "  and should_run_async(code)\n",
            "<ipython-input-11-888df913a8a3>:2: UserWarning: FixedFormatter should only be used together with FixedLocator\n",
            "  line_plot.set_xticklabels(line_plot.get_xticklabels(), rotation=30)\n"
          ]
        },
        {
          "output_type": "execute_result",
          "data": {
            "text/plain": [
              "[Text(19416.0, 0, '02-28 00'),\n",
              " Text(19416.125, 0, '02-28 03'),\n",
              " Text(19416.25, 0, '02-28 06'),\n",
              " Text(19416.375, 0, '02-28 09'),\n",
              " Text(19416.5, 0, '02-28 12'),\n",
              " Text(19416.625, 0, '02-28 15'),\n",
              " Text(19416.75, 0, '02-28 18'),\n",
              " Text(19416.875, 0, '02-28 21'),\n",
              " Text(19417.0, 0, '03-01 00')]"
            ]
          },
          "metadata": {},
          "execution_count": 11
        },
        {
          "output_type": "display_data",
          "data": {
            "text/plain": [
              "<Figure size 640x480 with 1 Axes>"
            ],
            "image/png": "[encoded data removed]"
          },
          "metadata": {}
        }
      ]
    },
    {
      "cell_type": "code",
      "source": [
        "daily_average = sum(df_time.Reviews)/df_time.shape[0]\n",
        "daily_average"
      ],
      "metadata": {
        "colab": {
          "base_uri": "https://localhost:8080/"
        },
        "id": "O1KKq1W01epP",
        "outputId": "5933b984-59a8-45d8-bac7-7d6112958207"
      },
      "execution_count": null,
      "outputs": [
        {
          "output_type": "stream",
          "name": "stderr",
          "text": [
            "/usr/local/lib/python3.10/dist-packages/ipykernel/ipkernel.py:283: DeprecationWarning: `should_run_async` will not call `transform_cell` automatically in the future. Please pass the result to `transformed_cell` argument and any exception that happen during thetransform in `preprocessing_exc_tuple` in IPython 7.17 and above.\n",
            "  and should_run_async(code)\n"
          ]
        },
        {
          "output_type": "execute_result",
          "data": {
            "text/plain": [
              "100.0"
            ]
          },
          "metadata": {},
          "execution_count": 12
        }
      ]
    },
    {
      "cell_type": "markdown",
      "source": [
        "## PRE-PROCESSING"
      ],
      "metadata": {
        "id": "9tQKwd17EirA"
      }
    },
    {
      "cell_type": "markdown",
      "source": [
        "###Filter: spanish\n",
        "\n",
        "In this step any entries below 3 characters are inspected to certify they contain relevant information and not just trash data like empty text, periods or such. Additionally, the data can contain irregular characters such as emojis or emoticons that can convey relevant customer data. These responses are mapped to equivalent emotions to be analyzed by sentiment. This section also calcultes the mean length of entries and removes empty or useless data."
      ],
      "metadata": {
        "id": "pAHByH0WEyq0"
      }
    },
    {
      "cell_type": "code",
      "source": [
        "avg = 0\n",
        "max_len = 0\n",
        "min_len = 1000000\n",
        "\n",
        "# Declare tokens of lenght less than 3 that are considered relevant feedback\n",
        "desired_tokens = [\"si\", \"no\", \"ok\"]\n",
        "# Converte emojis and emoticons to quantifiable and manageable data based on type of reaction\n",
        "happy_emojis = [\":)\", \"(:\", \"(;\", '👍', \";)\", \";D\", \":D\", \"😊\", \"=)\", \"😇\", \"👌🏻\"]\n",
        "sad_emojis = [\"=(\", \":/\", \"):\", \":(\", \");\", \";(\", \"🙁\",\"😭\",\"😢\"]\n",
        "drop_list = []\n",
        "\n",
        "for i, text in enumerate(df[\"Comment\"]):\n",
        "  text = str(text).lower()\n",
        "  x = len(text.split())\n",
        "  if text in happy_emojis:\n",
        "    df.loc[i, \"Comment\"] = \"feliz\"\n",
        "  elif text in sad_emojis:\n",
        "    df.loc[i, \"Comment\"] = \"triste\"\n",
        "  elif x == 1 and len(text) < 3 and text not in desired_tokens:\n",
        "      drop_list.append(i)\n",
        "      continue\n",
        "  avg += x\n",
        "  if x > max_len:\n",
        "    max_len = x\n",
        "  elif x < min_len:                                     \n",
        "    min_len = x\n",
        "\n",
        "avg /= len(df[\"Comment\"])\n",
        "print(\"LENGTH\\nAvg = {} / Max {} / Min {}\\n\".format(avg, max_len, min_len))\n",
        "print(\"DROP\\nDrop {} invalid reviews\".format(len(drop_list)))\n",
        "print(\"NaN comments dropped {}\".format(df['Comment'].isna().sum()))"
      ],
      "metadata": {
        "colab": {
          "base_uri": "https://localhost:8080/"
        },
        "id": "wrGzJLn_gW2z",
        "outputId": "72d8ca4f-5984-40e7-dae8-5ee05018cf4b"
      },
      "execution_count": null,
      "outputs": [
        {
          "output_type": "stream",
          "name": "stderr",
          "text": [
            "/usr/local/lib/python3.10/dist-packages/ipykernel/ipkernel.py:283: DeprecationWarning: `should_run_async` will not call `transform_cell` automatically in the future. Please pass the result to `transformed_cell` argument and any exception that happen during thetransform in `preprocessing_exc_tuple` in IPython 7.17 and above.\n",
            "  and should_run_async(code)\n"
          ]
        },
        {
          "output_type": "stream",
          "name": "stdout",
          "text": [
            "LENGTH\n",
            "Avg = 9.87 / Max 61 / Min 1\n",
            "\n",
            "DROP\n",
            "Drop 6 invalid reviews\n",
            "NaN comments dropped 0\n"
          ]
        }
      ]
    },
    {
      "cell_type": "code",
      "source": [
        "# Remove trash entries or nonsensical input\n",
        "df = df.drop(labels=drop_list)\n",
        "df = df.dropna()"
      ],
      "metadata": {
        "id": "tDVnBR2YwAF1",
        "colab": {
          "base_uri": "https://localhost:8080/"
        },
        "outputId": "751a65d8-b079-46dc-a27e-f8dfff08b08c"
      },
      "execution_count": null,
      "outputs": [
        {
          "output_type": "stream",
          "name": "stderr",
          "text": [
            "/usr/local/lib/python3.10/dist-packages/ipykernel/ipkernel.py:283: DeprecationWarning: `should_run_async` will not call `transform_cell` automatically in the future. Please pass the result to `transformed_cell` argument and any exception that happen during thetransform in `preprocessing_exc_tuple` in IPython 7.17 and above.\n",
            "  and should_run_async(code)\n"
          ]
        }
      ]
    },
    {
      "cell_type": "markdown",
      "source": [
        "### Translation\n",
        "\n",
        "The processed data is loaded into the Google Translate library to translate all comments from spanish to english. Any comments written in english are skipped. This is done because the sentiment analysis models are trained using text in english."
      ],
      "metadata": {
        "id": "XxDa5BBAFNzm"
      }
    },
    {
      "cell_type": "code",
      "source": [
        "def translate(row):\n",
        "  r = str(row)\n",
        "  try:\n",
        "    t  = GoogleTranslator(source='es', target='en').translate(str(r))\n",
        "    return t\n",
        "  except:\n",
        "    return \"NVT\""
      ],
      "metadata": {
        "id": "wyQNg6QLTk9t",
        "colab": {
          "base_uri": "https://localhost:8080/"
        },
        "outputId": "f232eafa-66ad-4117-bf04-f5ae5db29478"
      },
      "execution_count": null,
      "outputs": [
        {
          "output_type": "stream",
          "name": "stderr",
          "text": [
            "/usr/local/lib/python3.10/dist-packages/ipykernel/ipkernel.py:283: DeprecationWarning: `should_run_async` will not call `transform_cell` automatically in the future. Please pass the result to `transformed_cell` argument and any exception that happen during thetransform in `preprocessing_exc_tuple` in IPython 7.17 and above.\n",
            "  and should_run_async(code)\n"
          ]
        }
      ]
    },
    {
      "cell_type": "code",
      "source": [
        "df['translation'] = df.Comment.progress_apply(translate)\n",
        "df = df.drop(axis = 1, labels = 'Comment') \n",
        "df.rename({'translation': 'Comment'}, axis=1, inplace=True)"
      ],
      "metadata": {
        "id": "TlBPHUrcFSX4",
        "colab": {
          "base_uri": "https://localhost:8080/",
          "height": 105,
          "referenced_widgets": [
            "6383de5fdf574c8fa5726788769bdb5b",
            "b48cdf8390104b9081111a6aed6ab897",
            "7a9f805d10404b79baf7f53a5ebb5c9a",
            "bedd3a24c42d4afe9792a8ec92c261b3",
            "ff51a92c45804757b5253a9cd212bc6b",
            "8a6507559a3d4b1582628303d7b0ee0f",
            "4d949b209b234feb8095475cdbf0eaf0",
            "18456b3485ab40d786cbb377857751f4",
            "1bc466869edf49b887ed05ac7b44dec1",
            "b8be40ea28b64c9d906296325a03a96d",
            "a4e1938dc48744dbbef9ab528cff3786"
          ]
        },
        "outputId": "fb7278a8-c313-4ae9-d77d-259593c4c946"
      },
      "execution_count": null,
      "outputs": [
        {
          "output_type": "stream",
          "name": "stderr",
          "text": [
            "/usr/local/lib/python3.10/dist-packages/ipykernel/ipkernel.py:283: DeprecationWarning: `should_run_async` will not call `transform_cell` automatically in the future. Please pass the result to `transformed_cell` argument and any exception that happen during thetransform in `preprocessing_exc_tuple` in IPython 7.17 and above.\n",
            "  and should_run_async(code)\n"
          ]
        },
        {
          "output_type": "display_data",
          "data": {
            "text/plain": [
              "  0%|          | 0/194 [00:00<?, ?it/s]"
            ],
            "application/vnd.jupyter.widget-view+json": {
              "version_major": 2,
              "version_minor": 0,
              "model_id": "6383de5fdf574c8fa5726788769bdb5b"
            }
          },
          "metadata": {}
        }
      ]
    },
    {
      "cell_type": "markdown",
      "source": [
        "###Filter: english\n",
        "\n",
        "The translated model is once again filtered to ensure only relevant entries are considered and included in the following sentiment analysis and topic modeling. It is important to note that for sentiment analysis, the processed data is input directly with punctuation and capitalization in order to extract the most accurate interpretation. On the other hand, topic modeling is done with the simplified, tokenized words in order to focus entirely on the core ideas."
      ],
      "metadata": {
        "id": "x-zJbzbSE_6p"
      }
    },
    {
      "cell_type": "code",
      "source": [
        "avg = 0\n",
        "max_len = 0\n",
        "min_len = 1000000\n",
        "\n",
        "# Declare tokens of lenght less than 3 that are considered relevant feedback\n",
        "desired_tokens = [\"no\", \"ok\", \"wow\", \"lol\", \"all\", \"wow\", \"bye\", \"sad\"]\n",
        "# Converte emojis and emoticons to quantifiable and manageable data based on type of reaction\n",
        "happy_emojis = [\":)\", \"(:\", \"(;\", '👍', \";)\", \";D\", \":D\", \"😊\", \"=)\", \"😇\", \"👌🏻\"]\n",
        "sad_emojis = [\"=(\", \":/\", \"):\", \":(\", \");\", \";(\", \"🙁\",\"😭\",\"😢\"]\n",
        "drop_list = []\n",
        "\n",
        "for i, text in enumerate(df[\"Comment\"]):\n",
        "  text = str(text).lower()\n",
        "  x = len(text.split())\n",
        "  if text in happy_emojis:\n",
        "    df.loc[i, \"Comment\"] = \"feliz\"\n",
        "  elif text in sad_emojis:\n",
        "    df.loc[i, \"Comment\"] = \"triste\"\n",
        "  elif x == 1 and len(text) < 4 and text not in desired_tokens:\n",
        "      drop_list.append(i)\n",
        "      continue\n",
        "  avg += x\n",
        "  if x > max_len:\n",
        "    max_len = x\n",
        "  elif x < min_len:                                     \n",
        "    min_len = x\n",
        "\n",
        "avg /= len(df[\"Comment\"])\n",
        "print(\"LENGTH\\nAvg = {} / Max {} / Min {}\\n\".format(avg, max_len, min_len))\n",
        "print(\"DROP\\nDrop {} invalid reviews\".format(len(drop_list)))\n",
        "print(\"NaN comments dropped {}\".format(df['Comment'].isna().sum()))"
      ],
      "metadata": {
        "id": "eVGQceFPEZRO",
        "colab": {
          "base_uri": "https://localhost:8080/"
        },
        "outputId": "902fb35e-ab99-4391-d264-ed59d2d6825d"
      },
      "execution_count": null,
      "outputs": [
        {
          "output_type": "stream",
          "name": "stdout",
          "text": [
            "LENGTH\n",
            "Avg = 10.649484536082474 / Max 66 / Min 1\n",
            "\n",
            "DROP\n",
            "Drop 1 invalid reviews\n",
            "NaN comments dropped 1\n"
          ]
        },
        {
          "output_type": "stream",
          "name": "stderr",
          "text": [
            "/usr/local/lib/python3.10/dist-packages/ipykernel/ipkernel.py:283: DeprecationWarning: `should_run_async` will not call `transform_cell` automatically in the future. Please pass the result to `transformed_cell` argument and any exception that happen during thetransform in `preprocessing_exc_tuple` in IPython 7.17 and above.\n",
            "  and should_run_async(code)\n"
          ]
        }
      ]
    },
    {
      "cell_type": "markdown",
      "source": [
        "### Tokenization & Remove Stopwords\n",
        "\n",
        "In order to perform topic modeling, the processed comments are tokenized (separated into individual words) and the stop words are removed. Stop words are unnecesary connecting words, prepositions or other words without key value. These are removed to get a clearer understanding of the core ideas included in the dataset. "
      ],
      "metadata": {
        "id": "ZrUPrUoB4ZFF"
      }
    },
    {
      "cell_type": "code",
      "source": [
        "# Get list of stopwords\n",
        "stop_words = set(stopwords.words('english'))\n",
        "stop_words.add('easy')\n",
        "\n",
        "df_stop = df.copy()\n",
        "stop_series = []\n",
        "filtered = []\n",
        "\n",
        "# Use regex to remove punctuation and tokenize\n",
        "for i, text in enumerate(df['Comment']):\n",
        "  text = re.sub(r'[^\\w\\s]', '', text)\n",
        "  word_tokens = str(text).split()\n",
        "\n",
        "  filtered = []\n",
        "  for w in word_tokens:\n",
        "    if w.lower() not in stop_words:\n",
        "      filtered.append(w.lower())\n",
        "  \n",
        "  stop_series.append(filtered)\n",
        "\n",
        "df_stop['Filtered'] = stop_series"
      ],
      "metadata": {
        "id": "Q6JryEjo4bzi",
        "colab": {
          "base_uri": "https://localhost:8080/"
        },
        "outputId": "1d5fc117-ea56-4dee-f17a-618f2fe6452f"
      },
      "execution_count": null,
      "outputs": [
        {
          "output_type": "stream",
          "name": "stderr",
          "text": [
            "/usr/local/lib/python3.10/dist-packages/ipykernel/ipkernel.py:283: DeprecationWarning: `should_run_async` will not call `transform_cell` automatically in the future. Please pass the result to `transformed_cell` argument and any exception that happen during thetransform in `preprocessing_exc_tuple` in IPython 7.17 and above.\n",
            "  and should_run_async(code)\n"
          ]
        }
      ]
    },
    {
      "cell_type": "markdown",
      "source": [
        "## Topic Modeling\n",
        "\n",
        "Topic modeling analyzes how often different words appear together and creates topics based on the frequency of specific words appearing together. In order to do this, the previously tokenized words are lemmatized in order to remove the temporal tense of the word, as well as removing any words smaller than 2 letters. These words are then used to create a dictionary of the different relations between words, which is then analyzed using a Latent Dirichlet Allocation algorithm to extract the desired topics."
      ],
      "metadata": {
        "id": "z3Vb8nqP9yQ-"
      }
    },
    {
      "cell_type": "code",
      "source": [
        "corpus = []\n",
        "stem = PorterStemmer()\n",
        "lem = nltk.WordNetLemmatizer()\n",
        "\n",
        "for tokens in df_stop['Filtered']:\n",
        "  words = [lem.lemmatize(w.lower()) for w in tokens if len(w) > 2]\n",
        "\n",
        "  corpus.append(words)"
      ],
      "metadata": {
        "id": "toIyf6rM9xco",
        "colab": {
          "base_uri": "https://localhost:8080/"
        },
        "outputId": "a866813a-6233-4bc1-87e1-947cfe2aa9c9"
      },
      "execution_count": null,
      "outputs": [
        {
          "output_type": "stream",
          "name": "stderr",
          "text": [
            "/usr/local/lib/python3.10/dist-packages/ipykernel/ipkernel.py:283: DeprecationWarning: `should_run_async` will not call `transform_cell` automatically in the future. Please pass the result to `transformed_cell` argument and any exception that happen during thetransform in `preprocessing_exc_tuple` in IPython 7.17 and above.\n",
            "  and should_run_async(code)\n"
          ]
        }
      ]
    },
    {
      "cell_type": "code",
      "source": [
        "dic = gensim.corpora.Dictionary(corpus)\n",
        "bow_corpus = [dic.doc2bow(doc) for doc in corpus]"
      ],
      "metadata": {
        "id": "s-5yMGCi_Ifz",
        "colab": {
          "base_uri": "https://localhost:8080/"
        },
        "outputId": "698192ab-bdc6-4e92-adfe-936e0f40db78"
      },
      "execution_count": null,
      "outputs": [
        {
          "output_type": "stream",
          "name": "stderr",
          "text": [
            "/usr/local/lib/python3.10/dist-packages/ipykernel/ipkernel.py:283: DeprecationWarning: `should_run_async` will not call `transform_cell` automatically in the future. Please pass the result to `transformed_cell` argument and any exception that happen during thetransform in `preprocessing_exc_tuple` in IPython 7.17 and above.\n",
            "  and should_run_async(code)\n"
          ]
        }
      ]
    },
    {
      "cell_type": "code",
      "source": [
        "lda_model = gensim.models.LdaMulticore(bow_corpus,\n",
        "                                       num_topics = 8,\n",
        "                                       id2word = dic,\n",
        "                                       passes = 5,\n",
        "                                       workers = 2)\n",
        "lda_model.show_topics() "
      ],
      "metadata": {
        "id": "S6tLaVT5_s4W",
        "colab": {
          "base_uri": "https://localhost:8080/"
        },
        "outputId": "45c3a96b-15f2-462e-a566-2ee3e218a5cb"
      },
      "execution_count": null,
      "outputs": [
        {
          "output_type": "stream",
          "name": "stderr",
          "text": [
            "/usr/local/lib/python3.10/dist-packages/ipykernel/ipkernel.py:283: DeprecationWarning: `should_run_async` will not call `transform_cell` automatically in the future. Please pass the result to `transformed_cell` argument and any exception that happen during thetransform in `preprocessing_exc_tuple` in IPython 7.17 and above.\n",
            "  and should_run_async(code)\n",
            "WARNING:gensim.models.ldamulticore:too few updates, training might not converge; consider increasing the number of passes or iterations to improve accuracy\n"
          ]
        },
        {
          "output_type": "execute_result",
          "data": {
            "text/plain": [
              "[(0,\n",
              "  '0.047*\"let\" + 0.040*\"pay\" + 0.021*\"everything\" + 0.014*\"information\" + 0.014*\"put\" + 0.014*\"insurance\" + 0.008*\"page\" + 0.008*\"purchase\" + 0.008*\"email\" + 0.008*\"select\"'),\n",
              " (1,\n",
              "  '0.051*\"many\" + 0.031*\"option\" + 0.025*\"misleading\" + 0.022*\"card\" + 0.016*\"charge\" + 0.015*\"le\" + 0.015*\"cost\" + 0.015*\"make\" + 0.015*\"extra\" + 0.015*\"show\"'),\n",
              " (2,\n",
              "  '0.032*\"page\" + 0.023*\"card\" + 0.022*\"charge\" + 0.018*\"pay\" + 0.014*\"extra\" + 0.014*\"want\" + 0.014*\"information\" + 0.014*\"change\" + 0.014*\"flight\" + 0.014*\"couldnt\"'),\n",
              " (3,\n",
              "  '0.039*\"good\" + 0.024*\"make\" + 0.024*\"payment\" + 0.016*\"amount\" + 0.016*\"everything\" + 0.016*\"page\" + 0.016*\"difficult\" + 0.016*\"work\" + 0.016*\"doesnt\" + 0.016*\"yeah\"'),\n",
              " (4,\n",
              "  '0.027*\"price\" + 0.023*\"flight\" + 0.019*\"purchase\" + 0.019*\"time\" + 0.015*\"tua\" + 0.015*\"dont\" + 0.015*\"step\" + 0.012*\"would\" + 0.012*\"take\" + 0.012*\"many\"'),\n",
              " (5,\n",
              "  '0.043*\"price\" + 0.030*\"add\" + 0.025*\"many\" + 0.022*\"service\" + 0.017*\"give\" + 0.017*\"system\" + 0.017*\"passenger\" + 0.017*\"payment\" + 0.012*\"seat\" + 0.012*\"cost\"'),\n",
              " (6,\n",
              "  '0.044*\"payment\" + 0.027*\"make\" + 0.023*\"price\" + 0.022*\"cost\" + 0.018*\"page\" + 0.018*\"flight\" + 0.014*\"many\" + 0.014*\"moment\" + 0.014*\"total\" + 0.011*\"promotion\"'),\n",
              " (7,\n",
              "  '0.036*\"cost\" + 0.031*\"seat\" + 0.031*\"charge\" + 0.021*\"additional\" + 0.021*\"process\" + 0.019*\"option\" + 0.019*\"many\" + 0.016*\"page\" + 0.016*\"reservation\" + 0.016*\"lower\"')]"
            ]
          },
          "metadata": {},
          "execution_count": 23
        }
      ]
    },
    {
      "cell_type": "code",
      "source": [
        "pyLDAvis.enable_notebook()\n",
        "vis = pyLDAvis.gensim.prepare(lda_model, bow_corpus, dic)\n",
        "vis"
      ],
      "metadata": {
        "id": "0k00OW8hAGVU",
        "colab": {
          "base_uri": "https://localhost:8080/",
          "height": 917
        },
        "outputId": "0017ef14-1e99-453b-db76-7dd1a21a730a"
      },
      "execution_count": null,
      "outputs": [
        {
          "output_type": "stream",
          "name": "stderr",
          "text": [
            "/usr/local/lib/python3.10/dist-packages/ipykernel/ipkernel.py:283: DeprecationWarning: `should_run_async` will not call `transform_cell` automatically in the future. Please pass the result to `transformed_cell` argument and any exception that happen during thetransform in `preprocessing_exc_tuple` in IPython 7.17 and above.\n",
            "  and should_run_async(code)\n"
          ]
        },
        {
          "output_type": "execute_result",
          "data": {
            "text/plain": [
              "PreparedData(topic_coordinates=              x         y  topics  cluster       Freq\n",
              "topic                                                \n",
              "4     -0.159512 -0.051956       1        1  19.679891\n",
              "2      0.039635 -0.127594       2        1  15.745504\n",
              "6      0.026306  0.105764       3        1  15.438621\n",
              "7      0.080871 -0.038063       4        1  12.342437\n",
              "5     -0.034520  0.087003       5        1  11.646928\n",
              "0     -0.015188  0.010483       6        1   9.356976\n",
              "1      0.094437  0.005442       7        1   8.423628\n",
              "3     -0.032029  0.008921       8        1   7.366015, topic_info=        Term       Freq      Total Category  logprob  loglift\n",
              "136      let   7.000000   7.000000  Default  30.0000  30.0000\n",
              "106  payment  14.000000  14.000000  Default  29.0000  29.0000\n",
              "31       pay  10.000000  10.000000  Default  28.0000  28.0000\n",
              "96      many  16.000000  16.000000  Default  27.0000  27.0000\n",
              "55      good   5.000000   5.000000  Default  26.0000  26.0000\n",
              "..       ...        ...        ...      ...      ...      ...\n",
              "31       pay   0.679826  10.167976   Topic8  -4.7521  -0.0969\n",
              "54      time   0.679826   6.541579   Topic8  -4.7521   0.3442\n",
              "70    ticket   0.679822   4.773497   Topic8  -4.7521   0.6593\n",
              "67       put   0.679798   3.973050   Topic8  -4.7521   0.8428\n",
              "62       yes   0.679794   2.072190   Topic8  -4.7522   1.4937\n",
              "\n",
              "[458 rows x 6 columns], token_table=      Topic      Freq       Term\n",
              "term                            \n",
              "133       5  0.734888     15kilo\n",
              "82        2  0.700782      69000\n",
              "110       3  0.708114  _x000d_to\n",
              "111       1  0.227373       able\n",
              "111       2  0.454747       able\n",
              "...     ...       ...        ...\n",
              "146       5  0.734887    wouldnt\n",
              "434       5  0.734889      wrong\n",
              "197       8  0.526978       yeah\n",
              "62        1  0.482581        yes\n",
              "62        8  0.482581        yes\n",
              "\n",
              "[591 rows x 3 columns], R=30, lambda_step=0.01, plot_opts={'xlab': 'PC1', 'ylab': 'PC2'}, topic_order=[5, 3, 7, 8, 6, 1, 2, 4])"
            ],
            "text/html": [
              "\n",
              "<link rel=\"stylesheet\" type=\"text/css\" href=\"https://cdn.jsdelivr.net/gh/bmabey/pyLDAvis@3.4.0/pyLDAvis/js/ldavis.v1.0.0.css\">\n",
              "\n",
              "\n",
              "<div id=\"ldavis_el71541399730557514249696153569\" style=\"background-color:white;\"></div>\n",
              "<script type=\"text/javascript\">\n",
              "\n",
              "var ldavis_el71541399730557514249696153569_data = {\"mdsDat\": {\"x\": [-0.1595121334282357, 0.0396350909160453, 0.02630567041590739, 0.08087111211032415, -0.03451950922329008, -0.015188009220837831, 0.09443663899284091, -0.0320288605627539], \"y\": [-0.051955519854493495, -0.12759440076215675, 0.1057641379691399, -0.03806291037689856, 0.08700303078604518, 0.010483164022851271, 0.005441863329771815, 0.008920634885740701], \"topics\": [1, 2, 3, 4, 5, 6, 7, 8], \"cluster\": [1, 1, 1, 1, 1, 1, 1, 1], \"Freq\": [19.679891129924446, 15.74550397735315, 15.43862145523533, 12.342436608184947, 11.64692829260472, 9.356975919588677, 8.423627953532431, 7.366014663576302]}, \"tinfo\": {\"Term\": [\"let\", \"payment\", \"pay\", \"many\", \"good\", \"option\", \"cost\", \"make\", \"price\", \"charge\", \"everything\", \"misleading\", \"add\", \"seat\", \"additional\", \"service\", \"information\", \"process\", \"doesnt\", \"extra\", \"le\", \"page\", \"dont\", \"amount\", \"insurance\", \"work\", \"put\", \"difficult\", \"system\", \"without\", \"bank\", \"attempt\", \"told\", \"called\", \"expensive\", \"airport\", \"created\", \"dont\", \"tax\", \"take\", \"bandaids\", \"infinity\", \"going\", \"expedite\", \"alka\", \"whats\", \"vivaaerobus\", \"presentation\", \"website\", \"seltzer\", \"comfort\", \"attract\", \"might\", \"broken\", \"second\", \"resort\", \"oxxo\", \"exceptional\", \"digital\", \"bbva\", \"time\", \"every\", \"made\", \"tua\", \"customer\", \"etc\", \"include\", \"email\", \"long\", \"account\", \"purchase\", \"step\", \"flight\", \"price\", \"making\", \"better\", \"would\", \"lot\", \"rate\", \"one\", \"clearer\", \"many\", \"add\", \"card\", \"page\", \"doters\", \"final\", \"couldnt\", \"want\", \"shouldnt\", \"listed\", \"event\", \"enter\", \"cover\", \"69000\", \"dotersvivaaerobus\", \"travel\", \"especially\", \"incognito\", \"form\", \"acquire\", \"redeem\", \"mxn\", \"use\", \"case\", \"force\", \"look\", \"including\", \"forced\", \"rejected\", \"visibility\", \"older\", \"slow_x000d_many\", \"accessible\", \"reduce\", \"information\", \"full\", \"point\", \"thing\", \"change\", \"refund\", \"page\", \"card\", \"doesnt\", \"charge\", \"added\", \"didnt\", \"pay\", \"extra\", \"able\", \"like\", \"flight\", \"work\", \"selection\", \"reservation\", \"would\", \"step\", \"give\", \"seat\", \"payment\", \"add\", \"moment\", \"get\", \"almost\", \"method\", \"occasion\", \"friendlier\", \"promotion\", \"hour\", \"client_x000d_please\", \"checkin\", \"indicate\", \"button\", \"quoting\", \"removed\", \"deferred\", \"hard\", \"chose\", \"online\", \"confuse\", \"think\", \"decline\", \"seems\", \"_x000d_to\", \"additionals\", \"follow\", \"route\", \"respect\", \"located\", \"query\", \"waited\", \"payment\", \"wont\", \"since\", \"never\", \"make\", \"total\", \"friendly\", \"cost\", \"buy\", \"much\", \"credit\", \"flight\", \"price\", \"beginning\", \"able\", \"page\", \"increase\", \"change\", \"many\", \"extra\", \"let\", \"purchase\", \"card\", \"lower\", \"stuck\", \"uploading\", \"saw\", \"warned\", \"annoyed\", \"suddenly\", \"assignment\", \"trip\", \"apparently\", \"often\", \"document\", \"round\", \"precharging\", \"detour\", \"feel\", \"send\", \"messy\", \"inside\", \"finishing\", \"horrible\", \"direct\", \"transaction\", \"fee\", \"registering\", \"detail\", \"next\", \"additional\", \"process\", \"got\", \"seat\", \"cost\", \"charge\", \"option\", \"didnt\", \"insurance\", \"confusing\", \"reservation\", \"making\", \"lot\", \"le\", \"refund\", \"without\", \"ticket\", \"many\", \"page\", \"price\", \"extra\", \"selection\", \"liked\", \"remove\", \"suitcase\", \"included\", \"like\", \"flight\", \"attention\", \"system\", \"wouldnt\", \"15kilo\", \"people\", \"needed\", \"single\", \"bag\", \"per\", \"cut\", \"emergency\", \"frequent\", \"session\", \"advanced\", \"best\", \"lose\", \"expires\", \"quickly\", \"wrong\", \"back\", \"excellent\", \"available\", \"improve\", \"specific\", \"group\", \"unnecessary\", \"check\", \"booking\", \"client\", \"definition\", \"passenger\", \"add\", \"service\", \"price\", \"give\", \"experience\", \"added\", \"many\", \"additional\", \"payment\", \"everything\", \"option\", \"seat\", \"cost\", \"pay\", \"tax\", \"rate\", \"time\", \"made\", \"flight\", \"one\", \"user\", \"high\", \"confusing\", \"suitcase\", \"beginning\", \"paying\", \"reservation\", \"let\", \"ask\", \"compared\", \"sending\", \"startup\", \"np\", \"offer\", \"phone\", \"application\", \"finished\", \"via\", \"image\", \"confirmation\", \"receive\", \"automatic\", \"simplify\", \"transfer\", \"issue\", \"resolve\", \"several\", \"combo\", \"absolutely\", \"baggage\", \"bother\", \"greatly\", \"claim\", \"insurance\", \"pay\", \"late\", \"app\", \"put\", \"information\", \"everything\", \"page\", \"email\", \"select\", \"purchase\", \"tried\", \"give\", \"price\", \"add\", \"flight\", \"seat\", \"selection\", \"increase\", \"complicated\", \"experience\", \"survey\", \"like\", \"terrible\", \"else\", \"step\", \"lot\", \"even\", \"automatically\", \"expense\", \"misleading\", \"valid\", \"appeared\", \"incorrect\", \"strip\", \"trap\", \"landing\", \"mark\", \"insert\", \"faster\", \"decision\", \"area\", \"omission\", \"discount\", \"senior\", \"failure\", \"hidden\", \"show\", \"option\", \"app\", \"really\", \"data\", \"end\", \"clear\", \"interest\", \"airline\", \"quoted\", \"month\", \"tell\", \"many\", \"credit\", \"le\", \"without\", \"card\", \"extra\", \"charge\", \"make\", \"pay\", \"cost\", \"page\", \"know\", \"necessary\", \"clarity\", \"longer\", \"question\", \"try\", \"yeah\", \"good\", \"marked\", \"match\", \"threedigits\", \"deleted\", \"code\", \"collect\", \"trying\", \"anything\", \"start\", \"stated\", \"respecting\", \"hate\", \"fine\", \"procedure\", \"thats\", \"fast\", \"separately\", \"slow\", \"menu\", \"dollar\", \"navigate\", \"well\", \"peso\", \"either\", \"mobile\", \"difficult\", \"amount\", \"doesnt\", \"make\", \"payment\", \"work\", \"everything\", \"page\", \"could\", \"user\", \"tried\", \"error\", \"dont\", \"friendly\", \"card\", \"allow\", \"reservation\", \"pay\", \"time\", \"ticket\", \"put\", \"yes\"], \"Freq\": [7.0, 14.0, 10.0, 16.0, 5.0, 7.0, 12.0, 9.0, 18.0, 11.0, 6.0, 3.0, 8.0, 9.0, 5.0, 6.0, 4.0, 5.0, 3.0, 6.0, 4.0, 15.0, 4.0, 3.0, 3.0, 5.0, 3.0, 2.0, 3.0, 4.0, 1.659794536903696, 1.6597939491142537, 1.6597935572546256, 1.6597929694651832, 1.6597880712198312, 1.652517899538529, 1.6518495829426976, 3.2081169613137677, 2.4278023773676933, 2.440797422286638, 0.8786938825435272, 0.8786938825435272, 0.8786935886488061, 0.8786935886488061, 0.878693490683899, 0.8786933927189919, 0.8786933927189919, 0.8786923151050146, 0.8786921191752004, 0.8786921191752004, 0.8786917273155723, 0.8786915313857582, 0.8786912374910371, 0.8786902578419666, 0.8786900619121526, 0.8786900619121526, 0.8786896700525244, 0.8786896700525244, 0.8786887883683611, 0.878688690403454, 3.9079643461955196, 1.3259943986881086, 2.4343944359624596, 3.222256628206576, 1.6597984554999776, 1.65982882462116, 1.659816285113059, 1.6436869509582548, 1.6598137380254758, 1.6539689557416155, 4.003833196085148, 3.192612643265883, 4.778372748761175, 5.690304556825089, 1.6597814096061525, 1.6598011985173746, 2.441006675328077, 1.6598141298851041, 1.6468392657370095, 1.6525688412901902, 1.6599673469997156, 2.4398440278113185, 1.6753135496876368, 1.6603987844503227, 1.6596268209828422, 1.5727033643054682, 1.572614168040871, 2.2849755108343546, 2.3129011525990526, 0.8325932830594089, 0.8325932830594089, 0.8325932046795631, 0.8325932046795631, 0.8325931262997173, 0.8325931262997173, 0.8325931262997173, 0.8325928911601796, 0.8325928127803338, 0.8325927344004879, 0.8325925776407962, 0.8325923425012586, 0.8325924208811044, 0.8325918722221833, 0.8325914019431082, 0.8325914019431082, 0.8325914019431082, 0.8325911668035706, 0.8325911668035706, 0.832590931664033, 0.8325908532841871, 0.8325906965244954, 0.8325904613849577, 0.8325901478655743, 0.8325900694857284, 0.8325899127260367, 2.3127448631863934, 1.5727217051894011, 1.5727157483211152, 1.5725053768148072, 2.3040431326981987, 2.274530455814378, 5.4619472142133025, 3.808758564620785, 1.572613697761796, 3.7431530660328867, 1.5727529003680563, 1.519718745258824, 3.024739074781834, 2.3129883109876572, 1.5727358135616571, 1.540076185866262, 2.292975741702036, 1.5726223195448412, 1.5728488372993978, 1.572421040100654, 1.57280745274078, 1.5727235863057019, 1.384768402396388, 1.5725915946452613, 1.5846167873579233, 1.2185376036064386, 2.2666363366311284, 1.5413119465352492, 1.5413076428115182, 1.5412984205463802, 1.529044489448908, 1.5139800730506818, 1.7769283707488643, 0.8159751832336435, 0.8159745684159676, 0.8159744915637581, 0.8159741073027107, 0.8159735693372443, 0.8159734156328253, 0.8159731082239874, 0.8159720322930547, 0.8159719554408452, 0.8159720322930547, 0.8159714943275883, 0.8159711869187504, 0.8159713406231693, 0.8159711869187504, 0.8159711869187504, 0.8159707258054935, 0.8159697267267703, 0.8159688045002564, 0.815968573943628, 0.8159678822737426, 0.8159671906038574, 0.8159669600472289, 0.815966191525134, 7.258746519157696, 1.5413230132534146, 1.5376550109992617, 1.5411866774337937, 4.415291620536324, 2.239407137698429, 1.5411668495637472, 3.6859248042216963, 1.5413995580540585, 1.5363623568357758, 1.6164930815741894, 2.9826311759047406, 3.740085322923143, 1.5140848994644152, 1.5355783105946414, 2.992084612488692, 1.5415185252743364, 1.541227562809238, 2.3173066890911636, 1.541303492792206, 1.5410056136282542, 1.513805772239577, 0.8354048051304422, 2.0701006818488645, 1.4122794800204062, 0.7613348497600588, 0.7613347268807555, 0.7613346040014524, 0.7613342968031942, 0.7613338052859813, 0.7613304875447937, 0.7613294430707161, 0.761329135872458, 0.7613288901138515, 0.7613287672345482, 0.7613277227604707, 0.7613268011656964, 0.7613251422951026, 0.7613234834245088, 0.7613218859935666, 0.7613191212092437, 0.7613185682523791, 0.761318752571334, 0.7613185068127275, 0.761314513235372, 0.761304928649719, 0.761303638417035, 0.7609806501684595, 0.7608444384608142, 0.7608142715918679, 2.7917039834567867, 2.7663647965763447, 1.4123162209320759, 4.085925329696482, 4.765752371546297, 4.062903892233819, 2.5247985861574698, 1.4865445360388738, 1.4380503418931425, 1.437909276453019, 2.1149609663597766, 1.4380959301146456, 1.4125763564170424, 1.4380890488736642, 1.473161874001931, 1.4381109213896415, 1.4381402895431166, 2.4664304255996092, 2.1373844731328577, 2.0398108107200463, 1.412313271828798, 1.2512765043077425, 0.8427896352509534, 0.8532048235542181, 0.85012559109424, 0.8394768706751612, 0.791265913323406, 0.7794658138329358, 1.4319664520507278, 2.1079994924419863, 0.7580904633361161, 0.7580900574938438, 0.7580897096290391, 0.7580895356966367, 0.7580894777191693, 0.7580890138994296, 0.7580870426655362, 0.7580865788457966, 0.7580861150260569, 0.7580859990711221, 0.7580849554767078, 0.7580846655893706, 0.7580843177245659, 0.7580840278372286, 0.758083448062554, 0.7580832161526843, 0.7580830422202819, 0.7580824044681398, 0.7580824044681398, 0.75808217255827, 0.7580819986258677, 0.7580819406484002, 0.7580815927835954, 0.758080259301844, 0.7580781721130156, 0.7580777662707435, 0.7580756790819151, 0.7580756790819151, 2.1059681938922483, 3.7511194171424633, 2.780675869377496, 5.367655049645938, 2.108117998385463, 1.4318892260640783, 1.4319164754737819, 3.122297892319189, 1.431934332533758, 2.105260404969563, 1.4319576394756746, 1.4319114894115808, 1.4574017467977156, 1.457144674707022, 0.7833561160133318, 0.7693695158096601, 0.7693012183529986, 0.76433353500909, 0.7638183472332888, 0.7598440498167465, 0.7595891228923488, 0.7595496982144797, 0.7581845027883273, 0.7581741248216529, 0.7581555140546, 0.7581538906855113, 0.7581344682339141, 0.7581228727404231, 4.723756085742875, 0.74579159794124, 0.7457910855802736, 0.7457907595323859, 0.7457905266410375, 0.7457903403279589, 0.7457901074366106, 0.7457895484973744, 0.745787918257936, 0.7457871264273516, 0.7457858688140705, 0.7457851235617557, 0.7457853098748344, 0.7457849838269467, 0.7457834001657779, 0.7457830275396206, 0.7457821425524968, 0.7457638838707857, 0.7457626728357744, 0.7427163608427557, 0.7413623305434216, 0.7414049962384401, 0.7413510120238915, 0.7407830366035242, 0.7404733376884821, 0.7394787984744683, 1.4044819247543674, 4.027439273750328, 0.7459394839474452, 0.7457691006369889, 1.4087660076856214, 1.4087674050337116, 2.060656372909489, 0.8265119255940523, 0.7555190503575882, 0.7539751204528056, 0.7708811226342991, 0.7507876297244144, 0.7518393670535841, 0.7502880777821935, 0.7496193535645279, 0.7489122022743837, 0.7470283441575427, 0.746642443193319, 0.7458948153868308, 0.7458882944290769, 0.7458673342077249, 0.7458468397690697, 0.7458166104720533, 0.7458158186414688, 0.7458079003356248, 0.745806735878883, 0.7458042672305905, 0.7457957434072406, 0.7457937405416448, 1.316554352884824, 2.2488092064342786, 0.7095680236902431, 0.7095677720974094, 0.7095666818617966, 0.7095661786761291, 0.7095659270832955, 0.7095656754904618, 0.7095648368476828, 0.7095642497977375, 0.7095642497977375, 0.7095572890626715, 0.7095538506272774, 0.7095535990344437, 0.7095453803352092, 0.7095429482711499, 0.7001368985900754, 1.3167955465480738, 1.3404167590623077, 2.8206481844881566, 0.7095640820691816, 0.7095631595621247, 0.709578506724981, 0.7095922604665571, 0.7095912540952223, 0.7000822190808825, 0.7157272678522926, 0.7148804063740254, 0.6976668020808516, 0.7095813581104297, 4.616921721871074, 1.264283845074666, 1.34402485189054, 1.3310401457427772, 1.9417292505353434, 1.3404442665454601, 1.4609217593029, 1.3404839343489083, 1.3402529721275627, 1.3438633292912983, 1.0819095672322196, 0.7097153732265191, 0.7096294123416682, 0.7096092010506936, 0.7095738941896963, 0.7095720491755824, 0.7095699525686349, 1.261205140538664, 3.051531204525497, 0.6797802613310155, 0.6797793079779526, 0.6797782812900388, 0.6797774746066778, 0.6797776212763799, 0.6797752745611481, 0.6797751278914461, 0.6797746145474891, 0.6797742478732341, 0.6797736611944263, 0.6797729278459164, 0.6797705077958336, 0.6797666943835821, 0.6797655943608171, 0.6797639809940953, 0.6797637609895423, 0.6797630276410324, 0.679756867513549, 0.6795923041079226, 0.6738663189424547, 0.6738566387421239, 0.673780883841049, 0.6733141075144838, 0.6732307257889057, 0.6723519542694667, 1.2791253913968101, 1.284187696160799, 1.270146565580734, 1.88892609117311, 1.8889118642120175, 1.271979203507028, 1.284103214412456, 1.2839099037452406, 0.6798254355992267, 0.6800700073272856, 0.6799570716567577, 0.6799366112333308, 0.6799233376253012, 0.6798729565826697, 0.6798677498082492, 0.6798534495123058, 0.679851029462223, 0.6798264622871406, 0.6798257289386307, 0.6798216955218261, 0.6797979350301047, 0.6797941949527041], \"Total\": [7.0, 14.0, 10.0, 16.0, 5.0, 7.0, 12.0, 9.0, 18.0, 11.0, 6.0, 3.0, 8.0, 9.0, 5.0, 6.0, 4.0, 5.0, 3.0, 6.0, 4.0, 15.0, 4.0, 3.0, 3.0, 5.0, 3.0, 2.0, 3.0, 4.0, 2.249057105984229, 2.249056696667122, 2.2490564746705872, 2.249056457009909, 2.249054486699179, 2.248056708065735, 2.2478671311824647, 4.413445246720559, 3.7022115845140644, 3.770187110538542, 1.467954305609251, 1.4679543412484095, 1.4679539800319839, 1.4679541378168404, 1.4679540155832103, 1.4679539011966707, 1.4679540848688712, 1.467953450881962, 1.4679533119820611, 1.4679535045800856, 1.4679530993796568, 1.4679530621287238, 1.4679529071751989, 1.4679523490628053, 1.4679523166229898, 1.4679524168662241, 1.4679521941787006, 1.4679522523092743, 1.4679517766400103, 1.4679516777646866, 6.541579342650736, 2.2309403757234865, 4.333853240956201, 5.9526532956132865, 2.922911768906479, 2.925800777901209, 2.9257961280557576, 2.909569419195729, 2.974360249535345, 2.9882650572340177, 8.61249854438883, 6.6261263813108915, 12.504821750319236, 18.492880236396097, 3.602562570471998, 3.662986086632768, 6.523897783982742, 4.267874277542467, 4.277170573712357, 4.323853725751837, 4.3911794756575, 16.37711844166076, 8.45724276037594, 11.189746115427399, 15.527631902583812, 2.1670919786300695, 2.1670824005652545, 3.5354343467116744, 3.6882535380844663, 1.4269768362259716, 1.4269768680081907, 1.426976747006036, 1.4269768310236675, 1.4269767902119808, 1.4269768018236284, 1.4269768380729002, 1.4269765734481685, 1.4269765782305526, 1.426976665268552, 1.4269764701967727, 1.4269762662953107, 1.4269764117763701, 1.4269760928923867, 1.4269758753463615, 1.426975996219281, 1.4269760632695039, 1.4269758488980049, 1.4269759517794378, 1.42697555190567, 1.426975752062986, 1.426975688945547, 1.4269756356255274, 1.4269753958576146, 1.4269754937477788, 1.4269755012823266, 4.2330681958644085, 2.830021103865162, 2.947036720774832, 2.9470386557208883, 4.962058885688238, 4.920369049925673, 15.527631902583812, 11.189746115427399, 3.377196840114239, 11.80696860361941, 3.514834050571376, 3.516066990609883, 10.16797580320573, 6.97272929903275, 4.398051298604371, 4.903130156295448, 12.504821750319236, 5.614723654099836, 5.718979900403119, 6.139377425679066, 6.523897783982742, 6.6261263813108915, 5.641580802116196, 9.59973596918389, 14.026352791169364, 8.45724276037594, 2.862884228173253, 2.1375470554239593, 2.1375459491317215, 2.1375431206934783, 2.1359444446458205, 2.135705124266175, 2.8007153098544713, 1.412204967984853, 1.412204645169988, 1.4122046157624288, 1.4122043199757357, 1.4122041591335943, 1.4122041100203109, 1.412203987936521, 1.4122034584288805, 1.4122033967833383, 1.4122035792256473, 1.4122033313273807, 1.4122029445971127, 1.4122032371891924, 1.4122030148301636, 1.412203134829618, 1.4122026972761013, 1.4122023429561454, 1.412201967248195, 1.4122019492184918, 1.4122017474531405, 1.4122015484110344, 1.4122015604327574, 1.4122011405340607, 14.026352791169364, 2.800471337392261, 2.8109246570293194, 2.876113506710616, 9.632276137706082, 5.011141563355071, 3.4156142820799307, 12.401971662995896, 3.5953342844245584, 3.5947310955132434, 4.150751559933361, 12.504821750319236, 18.492880236396097, 4.266813816516583, 4.398051298604371, 15.527631902583812, 4.781803971428608, 4.962058885688238, 16.37711844166076, 6.97272929903275, 7.451979916054809, 8.61249854438883, 11.189746115427399, 2.724059148432958, 2.0428375279034836, 1.363637695546242, 1.363637492884401, 1.3636374853274147, 1.3636375230629991, 1.3636373448431707, 1.363635991352946, 1.363635856854113, 1.3636355883989786, 1.3636356341251104, 1.3636355395537298, 1.3636352619205212, 1.3636347486568035, 1.363634690974596, 1.3636338117894173, 1.363632021218472, 1.3636320775172874, 1.3636316121705967, 1.3636319570821, 1.3636317505085414, 1.3636312071214094, 1.3636268202758557, 1.363626558036445, 1.3636924771291994, 1.3637124702617418, 1.3637169918971572, 5.466982881030418, 5.481966486169544, 2.822481441138917, 9.59973596918389, 12.401971662995896, 11.80696860361941, 7.251665270030756, 3.516066990609883, 3.367045545387045, 3.454334284963952, 6.139377425679066, 3.602562570471998, 4.267874277542467, 4.630907587937963, 4.920369049925673, 4.717436284800946, 4.7734967316347685, 16.37711844166076, 15.527631902583812, 18.492880236396097, 6.97272929903275, 5.718979900403119, 2.096081381231361, 3.601416003406069, 3.5502861479653016, 3.5069082687555975, 4.903130156295448, 12.504821750319236, 2.034634299814459, 3.4885360135672845, 1.360752570046118, 1.3607524511657996, 1.3607524102995998, 1.3607521134851137, 1.3607521546307826, 1.3607519465408857, 1.3607511912782002, 1.3607510780709697, 1.3607509628244747, 1.3607509364115575, 1.3607505518427476, 1.3607504848195093, 1.3607505103263566, 1.3607501121863677, 1.3607502088629093, 1.3607501943620557, 1.3607500647858048, 1.3607496811474762, 1.3607498253454609, 1.3607496481304955, 1.360749426786364, 1.3607497644681004, 1.3607497049238253, 1.360749261309194, 1.3607487339837154, 1.3607486890661136, 1.360747710802535, 1.360747750155333, 4.173305865097483, 8.45724276037594, 6.051602751456442, 18.492880236396097, 5.641580802116196, 3.4786001565939184, 3.514834050571376, 16.37711844166076, 5.466982881030418, 14.026352791169364, 6.740301232133066, 7.251665270030756, 9.59973596918389, 12.401971662995896, 10.16797580320573, 3.7022115845140644, 4.277170573712357, 6.541579342650736, 4.333853240956201, 12.504821750319236, 4.323853725751837, 2.744854739557044, 2.0860360652622494, 3.454334284963952, 3.5502861479653016, 4.266813816516583, 3.607180823778077, 6.139377425679066, 7.451979916054809, 1.3498223978460089, 1.3498222127770338, 1.34982221504487, 1.349822278204614, 1.3498221033550575, 1.349822281146558, 1.349821769146055, 1.3498212344429714, 1.3498215549223151, 1.3498208894492387, 1.3498200856215021, 1.34982045118033, 1.3498207444938686, 1.349820101146775, 1.3498199151595514, 1.3498194693373298, 1.349814690602101, 1.3498145869339009, 1.3501789865076093, 1.3503360762910899, 1.3506031451439415, 1.350613194940945, 1.3507139560945174, 1.3507695095808199, 1.3509458214422976, 3.367045545387045, 10.16797580320573, 1.9540722250174951, 1.9805434329020997, 3.9730496759647176, 4.2330681958644085, 6.740301232133066, 15.527631902583812, 2.909569419195729, 2.7482129071491657, 8.61249854438883, 2.7338757017738073, 5.641580802116196, 18.492880236396097, 8.45724276037594, 12.504821750319236, 9.59973596918389, 5.718979900403119, 4.781803971428608, 2.751835556149327, 3.4786001565939184, 2.026556216342022, 4.903130156295448, 2.089896480852569, 2.0236760210016875, 6.6261263813108915, 4.267874277542467, 2.0236773618245016, 2.0899023007384967, 1.951928945736521, 3.9095911595003843, 1.317624248515124, 1.3176242761458248, 1.3176239575711464, 1.317623900141663, 1.317623787442774, 1.3176237654424174, 1.317623492409616, 1.3176233710930063, 1.3176235523690052, 1.3176214455263373, 1.3176213049679542, 1.3176214030864686, 1.3176186767803195, 1.3176187751870543, 1.3192500112846663, 2.6286434642628485, 3.3651783744208803, 7.251665270030756, 1.9805434329020997, 1.9813964438912686, 1.9914782208454402, 1.9943627095186502, 1.9943617616046314, 1.9931155882361238, 2.0420006335151277, 2.042129698362731, 1.993531559198357, 2.0429293097299865, 16.37711844166076, 4.150751559933361, 4.630907587937963, 4.717436284800946, 11.189746115427399, 6.97272929903275, 11.80696860361941, 9.632276137706082, 10.16797580320573, 12.401971662995896, 15.527631902583812, 3.986835294673738, 2.734431312633761, 2.0576832573824073, 2.0577042908212744, 2.042923906120846, 4.226573096189518, 1.8976106625338822, 5.155821321217884, 1.2911452751058627, 1.2911447512309007, 1.2911448778900199, 1.291144648562802, 1.2911449634474603, 1.291144274644203, 1.2911444184516156, 1.2911443754579612, 1.2911439286541344, 1.2911439349841705, 1.2911441070106877, 1.291143456849867, 1.2911426268789912, 1.2911426754044681, 1.2911426524287122, 1.2911423673058204, 1.2911422134620583, 1.2911408726142741, 1.2911241851289343, 1.2918245067416612, 1.2918262774592815, 1.291834792830107, 1.2918882066197086, 1.2918977961958231, 1.2919986460352475, 2.6360524436874533, 3.2836260363177, 3.377196840114239, 9.632276137706082, 14.026352791169364, 5.614723654099836, 6.740301232133066, 15.527631902583812, 1.9678773958952456, 2.744854739557044, 2.7338757017738073, 2.7018339276044507, 4.413445246720559, 3.4156142820799307, 11.189746115427399, 2.8122604762234817, 6.139377425679066, 10.16797580320573, 6.541579342650736, 4.7734967316347685, 3.9730496759647176, 2.072189860235636], \"Category\": [\"Default\", \"Default\", \"Default\", \"Default\", \"Default\", \"Default\", \"Default\", \"Default\", \"Default\", \"Default\", \"Default\", \"Default\", \"Default\", \"Default\", \"Default\", \"Default\", \"Default\", \"Default\", \"Default\", \"Default\", \"Default\", \"Default\", \"Default\", \"Default\", \"Default\", \"Default\", \"Default\", \"Default\", \"Default\", \"Default\", \"Topic1\", \"Topic1\", \"Topic1\", \"Topic1\", \"Topic1\", \"Topic1\", \"Topic1\", \"Topic1\", \"Topic1\", \"Topic1\", \"Topic1\", \"Topic1\", \"Topic1\", \"Topic1\", \"Topic1\", \"Topic1\", \"Topic1\", \"Topic1\", \"Topic1\", \"Topic1\", \"Topic1\", \"Topic1\", \"Topic1\", \"Topic1\", \"Topic1\", \"Topic1\", \"Topic1\", \"Topic1\", \"Topic1\", \"Topic1\", \"Topic1\", \"Topic1\", \"Topic1\", \"Topic1\", \"Topic1\", \"Topic1\", \"Topic1\", \"Topic1\", \"Topic1\", \"Topic1\", \"Topic1\", \"Topic1\", \"Topic1\", \"Topic1\", \"Topic1\", \"Topic1\", \"Topic1\", \"Topic1\", \"Topic1\", \"Topic1\", \"Topic1\", \"Topic1\", \"Topic1\", \"Topic1\", \"Topic1\", \"Topic2\", \"Topic2\", \"Topic2\", \"Topic2\", \"Topic2\", \"Topic2\", \"Topic2\", \"Topic2\", \"Topic2\", \"Topic2\", \"Topic2\", \"Topic2\", \"Topic2\", \"Topic2\", \"Topic2\", \"Topic2\", \"Topic2\", \"Topic2\", \"Topic2\", \"Topic2\", \"Topic2\", \"Topic2\", \"Topic2\", \"Topic2\", \"Topic2\", \"Topic2\", \"Topic2\", \"Topic2\", \"Topic2\", \"Topic2\", \"Topic2\", \"Topic2\", \"Topic2\", \"Topic2\", \"Topic2\", \"Topic2\", \"Topic2\", \"Topic2\", \"Topic2\", \"Topic2\", \"Topic2\", \"Topic2\", \"Topic2\", \"Topic2\", \"Topic2\", \"Topic2\", \"Topic2\", \"Topic2\", \"Topic2\", \"Topic2\", \"Topic2\", \"Topic2\", \"Topic2\", \"Topic2\", \"Topic2\", \"Topic2\", \"Topic3\", \"Topic3\", \"Topic3\", \"Topic3\", \"Topic3\", \"Topic3\", \"Topic3\", \"Topic3\", \"Topic3\", \"Topic3\", \"Topic3\", \"Topic3\", \"Topic3\", \"Topic3\", \"Topic3\", \"Topic3\", \"Topic3\", \"Topic3\", \"Topic3\", \"Topic3\", \"Topic3\", \"Topic3\", \"Topic3\", \"Topic3\", \"Topic3\", \"Topic3\", \"Topic3\", \"Topic3\", \"Topic3\", \"Topic3\", \"Topic3\", \"Topic3\", \"Topic3\", \"Topic3\", \"Topic3\", \"Topic3\", \"Topic3\", \"Topic3\", \"Topic3\", \"Topic3\", \"Topic3\", \"Topic3\", \"Topic3\", \"Topic3\", \"Topic3\", \"Topic3\", \"Topic3\", \"Topic3\", \"Topic3\", \"Topic3\", \"Topic3\", \"Topic3\", \"Topic3\", \"Topic4\", \"Topic4\", \"Topic4\", \"Topic4\", \"Topic4\", \"Topic4\", \"Topic4\", \"Topic4\", \"Topic4\", \"Topic4\", \"Topic4\", \"Topic4\", \"Topic4\", \"Topic4\", \"Topic4\", \"Topic4\", \"Topic4\", \"Topic4\", \"Topic4\", \"Topic4\", \"Topic4\", \"Topic4\", \"Topic4\", \"Topic4\", \"Topic4\", \"Topic4\", \"Topic4\", \"Topic4\", \"Topic4\", \"Topic4\", \"Topic4\", \"Topic4\", \"Topic4\", \"Topic4\", \"Topic4\", \"Topic4\", \"Topic4\", \"Topic4\", \"Topic4\", \"Topic4\", \"Topic4\", \"Topic4\", \"Topic4\", \"Topic4\", \"Topic4\", \"Topic4\", \"Topic4\", \"Topic4\", \"Topic4\", \"Topic4\", \"Topic4\", \"Topic4\", \"Topic4\", \"Topic4\", \"Topic4\", \"Topic5\", \"Topic5\", \"Topic5\", \"Topic5\", \"Topic5\", \"Topic5\", \"Topic5\", \"Topic5\", \"Topic5\", \"Topic5\", \"Topic5\", \"Topic5\", \"Topic5\", \"Topic5\", \"Topic5\", \"Topic5\", \"Topic5\", \"Topic5\", \"Topic5\", \"Topic5\", \"Topic5\", \"Topic5\", \"Topic5\", \"Topic5\", \"Topic5\", \"Topic5\", \"Topic5\", \"Topic5\", \"Topic5\", \"Topic5\", \"Topic5\", \"Topic5\", \"Topic5\", \"Topic5\", \"Topic5\", \"Topic5\", \"Topic5\", \"Topic5\", \"Topic5\", \"Topic5\", \"Topic5\", \"Topic5\", \"Topic5\", \"Topic5\", \"Topic5\", \"Topic5\", \"Topic5\", \"Topic5\", \"Topic5\", \"Topic5\", \"Topic5\", \"Topic5\", \"Topic5\", \"Topic5\", \"Topic5\", \"Topic5\", \"Topic5\", \"Topic5\", \"Topic6\", \"Topic6\", \"Topic6\", \"Topic6\", \"Topic6\", \"Topic6\", \"Topic6\", \"Topic6\", \"Topic6\", \"Topic6\", \"Topic6\", \"Topic6\", \"Topic6\", \"Topic6\", \"Topic6\", \"Topic6\", \"Topic6\", \"Topic6\", \"Topic6\", \"Topic6\", \"Topic6\", \"Topic6\", \"Topic6\", \"Topic6\", \"Topic6\", \"Topic6\", \"Topic6\", \"Topic6\", \"Topic6\", \"Topic6\", \"Topic6\", \"Topic6\", \"Topic6\", \"Topic6\", \"Topic6\", \"Topic6\", \"Topic6\", \"Topic6\", \"Topic6\", \"Topic6\", \"Topic6\", \"Topic6\", \"Topic6\", \"Topic6\", \"Topic6\", \"Topic6\", \"Topic6\", \"Topic6\", \"Topic6\", \"Topic6\", \"Topic6\", \"Topic6\", \"Topic6\", \"Topic6\", \"Topic6\", \"Topic7\", \"Topic7\", \"Topic7\", \"Topic7\", \"Topic7\", \"Topic7\", \"Topic7\", \"Topic7\", \"Topic7\", \"Topic7\", \"Topic7\", \"Topic7\", \"Topic7\", \"Topic7\", \"Topic7\", \"Topic7\", \"Topic7\", \"Topic7\", \"Topic7\", \"Topic7\", \"Topic7\", \"Topic7\", \"Topic7\", \"Topic7\", \"Topic7\", \"Topic7\", \"Topic7\", \"Topic7\", \"Topic7\", \"Topic7\", \"Topic7\", \"Topic7\", \"Topic7\", \"Topic7\", \"Topic7\", \"Topic7\", \"Topic7\", \"Topic7\", \"Topic7\", \"Topic7\", \"Topic7\", \"Topic7\", \"Topic7\", \"Topic7\", \"Topic7\", \"Topic7\", \"Topic7\", \"Topic8\", \"Topic8\", \"Topic8\", \"Topic8\", \"Topic8\", \"Topic8\", \"Topic8\", \"Topic8\", \"Topic8\", \"Topic8\", \"Topic8\", \"Topic8\", \"Topic8\", \"Topic8\", \"Topic8\", \"Topic8\", \"Topic8\", \"Topic8\", \"Topic8\", \"Topic8\", \"Topic8\", \"Topic8\", \"Topic8\", \"Topic8\", \"Topic8\", \"Topic8\", \"Topic8\", \"Topic8\", \"Topic8\", \"Topic8\", \"Topic8\", \"Topic8\", \"Topic8\", \"Topic8\", \"Topic8\", \"Topic8\", \"Topic8\", \"Topic8\", \"Topic8\", \"Topic8\", \"Topic8\", \"Topic8\", \"Topic8\", \"Topic8\", \"Topic8\", \"Topic8\", \"Topic8\", \"Topic8\", \"Topic8\"], \"logprob\": [30.0, 29.0, 28.0, 27.0, 26.0, 25.0, 24.0, 23.0, 22.0, 21.0, 20.0, 19.0, 18.0, 17.0, 16.0, 15.0, 14.0, 13.0, 12.0, 11.0, 10.0, 9.0, 8.0, 7.0, 6.0, 5.0, 4.0, 3.0, 2.0, 1.0, -4.8422, -4.8422, -4.8422, -4.8422, -4.8422, -4.8466, -4.847, -4.1832, -4.4619, -4.4566, -5.4782, -5.4782, -5.4782, -5.4782, -5.4782, -5.4782, -5.4782, -5.4782, -5.4782, -5.4782, -5.4782, -5.4782, -5.4782, -5.4782, -5.4782, -5.4782, -5.4782, -5.4782, -5.4782, -5.4782, -3.9859, -5.0667, -4.4592, -4.1788, -4.8422, -4.8422, -4.8422, -4.852, -4.8422, -4.8457, -3.9617, -4.1881, -3.7848, -3.6101, -4.8422, -4.8422, -4.4565, -4.8422, -4.85, -4.8466, -4.8421, -4.457, -4.8329, -4.8418, -4.8423, -4.6731, -4.6731, -4.2995, -4.2874, -5.3091, -5.3091, -5.3091, -5.3091, -5.3091, -5.3091, -5.3091, -5.3091, -5.3091, -5.3091, -5.3091, -5.3091, -5.3091, -5.3091, -5.3091, -5.3091, -5.3091, -5.3091, -5.3091, -5.3091, -5.3091, -5.3091, -5.3091, -5.3091, -5.3091, -5.3091, -4.2874, -4.6731, -4.6731, -4.6732, -4.2912, -4.3041, -3.4281, -3.7886, -4.6731, -3.8059, -4.673, -4.7073, -4.019, -4.2873, -4.673, -4.694, -4.296, -4.6731, -4.673, -4.6732, -4.673, -4.6731, -4.8003, -4.6731, -4.6655, -4.9282, -4.2879, -4.6735, -4.6735, -4.6736, -4.6815, -4.6914, -4.5313, -5.3096, -5.3096, -5.3096, -5.3096, -5.3096, -5.3096, -5.3096, -5.3096, -5.3096, -5.3096, -5.3096, -5.3096, -5.3096, -5.3096, -5.3096, -5.3096, -5.3096, -5.3096, -5.3096, -5.3096, -5.3096, -5.3096, -5.3096, -3.124, -4.6735, -4.6759, -4.6736, -3.6211, -4.3, -4.6736, -3.8017, -4.6735, -4.6768, -4.6259, -4.0134, -3.7871, -4.6914, -4.6773, -4.0102, -4.6734, -4.6736, -4.2658, -4.6736, -4.6737, -4.6916, -5.286, -4.1548, -4.5371, -5.155, -5.155, -5.155, -5.155, -5.155, -5.155, -5.155, -5.155, -5.155, -5.155, -5.155, -5.155, -5.155, -5.155, -5.1551, -5.1551, -5.1551, -5.1551, -5.1551, -5.1551, -5.1551, -5.1551, -5.1555, -5.1557, -5.1557, -3.8557, -3.8648, -4.5371, -3.4748, -3.3209, -3.4805, -3.9562, -4.4859, -4.5191, -4.5192, -4.1333, -4.519, -4.5369, -4.519, -4.4949, -4.519, -4.519, -3.9796, -4.1228, -4.1695, -4.5371, -4.6582, -5.0534, -5.0411, -5.0447, -5.0573, -5.1165, -5.1315, -4.4653, -4.0786, -5.1013, -5.1013, -5.1013, -5.1013, -5.1013, -5.1013, -5.1013, -5.1013, -5.1013, -5.1013, -5.1013, -5.1013, -5.1013, -5.1013, -5.1013, -5.1013, -5.1013, -5.1013, -5.1013, -5.1013, -5.1013, -5.1013, -5.1013, -5.1013, -5.1013, -5.1013, -5.1013, -5.1013, -4.0796, -3.5023, -3.8017, -3.144, -4.0786, -4.4654, -4.4653, -3.6858, -4.4653, -4.0799, -4.4653, -4.4653, -4.4477, -4.4479, -5.0685, -5.0865, -5.0866, -5.0931, -5.0938, -5.099, -5.0993, -5.0994, -5.1012, -5.1012, -5.1012, -5.1012, -5.1012, -5.1013, -3.0528, -4.8987, -4.8987, -4.8987, -4.8987, -4.8987, -4.8987, -4.8987, -4.8987, -4.8987, -4.8987, -4.8987, -4.8987, -4.8987, -4.8988, -4.8988, -4.8988, -4.8988, -4.8988, -4.9029, -4.9047, -4.9046, -4.9047, -4.9055, -4.9059, -4.9072, -4.2658, -3.2123, -4.8985, -4.8988, -4.2627, -4.2627, -3.8824, -4.796, -4.8858, -4.8878, -4.8657, -4.8921, -4.8907, -4.8927, -4.8936, -4.8946, -4.8971, -4.8976, -4.8986, -4.8986, -4.8986, -4.8987, -4.8987, -4.8987, -4.8987, -4.8987, -4.8987, -4.8987, -4.8987, -4.2253, -3.6899, -4.8434, -4.8434, -4.8435, -4.8435, -4.8435, -4.8435, -4.8435, -4.8435, -4.8435, -4.8435, -4.8435, -4.8435, -4.8435, -4.8435, -4.8568, -4.2251, -4.2074, -3.4634, -4.8435, -4.8435, -4.8434, -4.8434, -4.8434, -4.8569, -4.8348, -4.836, -4.8604, -4.8434, -2.9706, -4.2658, -4.2047, -4.2144, -3.8368, -4.2073, -4.1213, -4.2073, -4.2075, -4.2048, -4.4216, -4.8432, -4.8434, -4.8434, -4.8434, -4.8434, -4.8434, -4.1341, -3.2505, -4.7522, -4.7522, -4.7522, -4.7522, -4.7522, -4.7522, -4.7522, -4.7522, -4.7522, -4.7522, -4.7522, -4.7522, -4.7522, -4.7522, -4.7522, -4.7522, -4.7522, -4.7522, -4.7524, -4.7609, -4.7609, -4.761, -4.7617, -4.7619, -4.7632, -4.12, -4.1161, -4.1271, -3.7302, -3.7302, -4.1256, -4.1161, -4.1163, -4.7521, -4.7517, -4.7519, -4.7519, -4.752, -4.752, -4.752, -4.7521, -4.7521, -4.7521, -4.7521, -4.7521, -4.7521, -4.7522], \"loglift\": [30.0, 29.0, 28.0, 27.0, 26.0, 25.0, 24.0, 23.0, 22.0, 21.0, 20.0, 19.0, 18.0, 17.0, 16.0, 15.0, 14.0, 13.0, 12.0, 11.0, 10.0, 9.0, 8.0, 7.0, 6.0, 5.0, 4.0, 3.0, 2.0, 1.0, 1.3218, 1.3218, 1.3218, 1.3218, 1.3218, 1.3178, 1.3175, 1.3066, 1.2036, 1.1908, 1.1124, 1.1124, 1.1124, 1.1124, 1.1124, 1.1124, 1.1124, 1.1124, 1.1124, 1.1124, 1.1124, 1.1124, 1.1124, 1.1124, 1.1124, 1.1124, 1.1124, 1.1124, 1.1124, 1.1124, 1.1104, 1.1053, 1.0488, 1.0118, 1.0597, 1.0587, 1.0587, 1.0545, 1.0422, 1.0341, 0.8596, 0.8954, 0.6636, 0.447, 0.8506, 0.834, 0.6425, 0.6812, 0.6711, 0.6638, 0.6528, -0.2784, 0.0065, -0.2824, -0.6105, 1.528, 1.528, 1.4121, 1.382, 1.3098, 1.3098, 1.3098, 1.3098, 1.3098, 1.3098, 1.3098, 1.3098, 1.3098, 1.3098, 1.3098, 1.3098, 1.3098, 1.3098, 1.3098, 1.3098, 1.3098, 1.3098, 1.3098, 1.3098, 1.3098, 1.3098, 1.3098, 1.3098, 1.3098, 1.3098, 1.2441, 1.2611, 1.2206, 1.2205, 1.0815, 1.077, 0.8038, 0.7709, 1.0843, 0.6999, 1.0445, 1.0098, 0.6362, 0.7451, 0.8203, 0.6906, 0.1524, 0.576, 0.5577, 0.4865, 0.426, 0.4104, 0.444, 0.0396, -0.332, -0.0888, 1.6348, 1.5413, 1.5413, 1.5413, 1.534, 1.5242, 1.4133, 1.3198, 1.3198, 1.3198, 1.3198, 1.3198, 1.3198, 1.3198, 1.3198, 1.3198, 1.3198, 1.3198, 1.3198, 1.3198, 1.3198, 1.3198, 1.3198, 1.3198, 1.3198, 1.3198, 1.3198, 1.3198, 1.3198, 1.3198, 1.2096, 1.2712, 1.265, 1.2444, 1.0883, 1.0628, 1.0725, 0.655, 1.0214, 1.0182, 0.9253, 0.435, 0.27, 0.8322, 0.816, 0.2216, 0.7362, 0.6991, -0.0872, 0.3589, 0.2923, 0.1297, -0.7265, 1.8176, 1.723, 1.5093, 1.5093, 1.5093, 1.5093, 1.5093, 1.5093, 1.5093, 1.5093, 1.5093, 1.5093, 1.5093, 1.5093, 1.5093, 1.5093, 1.5093, 1.5093, 1.5093, 1.5093, 1.5093, 1.5093, 1.5093, 1.5093, 1.5088, 1.5086, 1.5085, 1.4201, 1.4082, 1.3997, 1.2379, 1.1357, 1.0253, 1.0371, 1.2312, 1.2414, 1.2157, 1.0264, 1.1738, 0.9864, 0.9227, 0.8862, 0.9042, 0.8924, 0.199, 0.1091, -0.1124, 0.4953, 0.5725, 1.181, 0.652, 0.6627, 0.6624, 0.2681, -0.6831, 1.7989, 1.6464, 1.5651, 1.5651, 1.5651, 1.5651, 1.5651, 1.5651, 1.5651, 1.5651, 1.5651, 1.5651, 1.5651, 1.5651, 1.5651, 1.5651, 1.5651, 1.5651, 1.5651, 1.5651, 1.5651, 1.5651, 1.5651, 1.5651, 1.5651, 1.5651, 1.5651, 1.5651, 1.5651, 1.5651, 1.4662, 1.3372, 1.3725, 0.9131, 1.1658, 1.2625, 1.2521, 0.4928, 0.8104, 0.2536, 0.6011, 0.5279, 0.265, 0.0088, -0.4133, 0.579, 0.4346, 0.0032, 0.4142, -0.6506, 0.411, 0.8654, 1.138, 0.6337, 0.6062, 0.4224, 0.5903, 0.0585, 1.9132, 1.7758, 1.7758, 1.7758, 1.7758, 1.7758, 1.7758, 1.7758, 1.7758, 1.7758, 1.7758, 1.7758, 1.7758, 1.7758, 1.7758, 1.7758, 1.7758, 1.7757, 1.7757, 1.7714, 1.7694, 1.7693, 1.7692, 1.7684, 1.7679, 1.7664, 1.4947, 1.4429, 1.406, 1.3923, 1.3322, 1.2688, 1.184, -0.5641, 1.0207, 1.0757, -0.0444, 1.0767, 0.3537, -0.8356, -0.0542, -0.4462, -0.1843, 0.3331, 0.5111, 1.0636, 0.8292, 1.3695, 0.4859, 1.3387, 1.3708, 0.1847, 0.6246, 1.3708, 1.3386, 2.0803, 1.9211, 1.8552, 1.8552, 1.8552, 1.8552, 1.8552, 1.8552, 1.8552, 1.8552, 1.8552, 1.8552, 1.8552, 1.8552, 1.8552, 1.8552, 1.8406, 1.7829, 1.5536, 1.5299, 1.4477, 1.4472, 1.4422, 1.4407, 1.4407, 1.4279, 1.4257, 1.4245, 1.4242, 1.4167, 1.208, 1.2853, 1.237, 1.2088, 0.7227, 0.8251, 0.3845, 0.502, 0.4477, 0.2518, -0.1898, 0.7482, 1.1252, 1.4095, 1.4094, 1.4167, 0.6896, 2.1998, 2.0838, 1.9668, 1.9668, 1.9668, 1.9668, 1.9668, 1.9668, 1.9668, 1.9668, 1.9668, 1.9668, 1.9668, 1.9668, 1.9668, 1.9668, 1.9668, 1.9668, 1.9668, 1.9667, 1.9665, 1.9575, 1.9575, 1.9574, 1.9566, 1.9565, 1.9551, 1.8852, 1.6695, 1.6304, 0.9792, 0.6034, 1.1235, 0.9502, 0.1156, 1.5454, 1.213, 1.2168, 1.2286, 0.7379, 0.9941, -0.1926, 1.1884, 0.4077, -0.0969, 0.3442, 0.6593, 0.8428, 1.4937]}, \"token.table\": {\"Topic\": [5, 2, 3, 1, 2, 3, 6, 2, 1, 2, 2, 1, 2, 3, 5, 6, 2, 5, 3, 4, 5, 3, 5, 3, 7, 1, 1, 1, 2, 8, 3, 3, 6, 8, 4, 8, 6, 7, 4, 7, 6, 7, 6, 4, 1, 5, 1, 6, 2, 6, 5, 5, 5, 6, 1, 1, 1, 1, 3, 4, 5, 5, 1, 2, 5, 5, 6, 1, 3, 1, 3, 4, 1, 1, 2, 3, 4, 5, 6, 7, 8, 2, 2, 3, 8, 1, 2, 3, 4, 7, 8, 5, 3, 3, 6, 2, 7, 4, 7, 1, 2, 3, 4, 5, 3, 8, 8, 6, 1, 6, 3, 4, 6, 6, 3, 2, 4, 5, 2, 3, 4, 5, 7, 4, 8, 2, 7, 2, 1, 2, 3, 7, 1, 5, 5, 5, 7, 7, 3, 3, 5, 8, 4, 4, 2, 4, 2, 8, 1, 4, 7, 4, 2, 8, 8, 1, 8, 2, 2, 8, 5, 6, 1, 6, 5, 4, 7, 2, 1, 7, 8, 2, 1, 4, 5, 6, 2, 1, 1, 3, 5, 6, 8, 5, 1, 1, 7, 1, 1, 5, 6, 5, 2, 3, 4, 7, 7, 8, 7, 4, 4, 2, 8, 6, 4, 1, 2, 3, 4, 5, 6, 3, 2, 2, 2, 5, 3, 3, 5, 8, 2, 6, 3, 1, 2, 5, 6, 1, 1, 6, 8, 1, 4, 6, 5, 3, 8, 4, 7, 3, 5, 4, 3, 6, 5, 1, 4, 1, 2, 4, 7, 2, 2, 7, 3, 4, 5, 6, 7, 3, 1, 2, 6, 7, 4, 4, 6, 5, 7, 6, 3, 4, 6, 7, 8, 7, 6, 8, 3, 4, 7, 8, 3, 5, 6, 2, 3, 4, 5, 6, 2, 4, 2, 3, 1, 3, 2, 7, 2, 5, 1, 4, 6, 4, 1, 5, 7, 1, 2, 3, 7, 8, 1, 4, 1, 3, 4, 5, 6, 7, 7, 8, 8, 8, 4, 3, 1, 5, 7, 8, 3, 5, 7, 1, 3, 4, 2, 8, 2, 4, 7, 5, 2, 3, 4, 6, 3, 6, 4, 2, 7, 1, 3, 4, 5, 3, 4, 5, 7, 1, 1, 2, 3, 4, 6, 7, 8, 2, 3, 5, 2, 5, 6, 7, 8, 1, 2, 3, 5, 1, 2, 3, 5, 8, 5, 5, 8, 6, 1, 2, 4, 1, 1, 3, 4, 5, 6, 8, 8, 1, 4, 5, 7, 3, 1, 3, 5, 6, 7, 8, 3, 6, 7, 8, 3, 3, 7, 5, 3, 7, 3, 1, 3, 5, 7, 6, 7, 6, 2, 2, 2, 4, 6, 4, 2, 1, 2, 3, 4, 3, 2, 4, 5, 6, 8, 6, 1, 3, 8, 4, 3, 4, 2, 3, 4, 5, 6, 7, 1, 3, 3, 5, 6, 1, 2, 3, 4, 6, 1, 4, 6, 7, 8, 3, 4, 5, 6, 8, 5, 6, 2, 2, 4, 7, 6, 3, 5, 5, 8, 2, 5, 8, 6, 8, 1, 2, 5, 6, 7, 4, 4, 1, 2, 4, 5, 4, 6, 1, 5, 1, 2, 1, 5, 3, 7, 2, 6, 8, 1, 2, 3, 8, 2, 3, 4, 6, 8, 1, 4, 5, 8, 1, 1, 2, 3, 7, 4, 6, 7, 2, 1, 6, 8, 4, 1, 2, 3, 6, 7, 8, 1, 2, 3, 4, 5, 4, 2, 1, 5, 8, 7, 6, 2, 1, 3, 1, 2, 4, 1, 8, 1, 2, 4, 5, 7, 3, 6, 1, 2, 4, 8, 1, 2, 4, 5, 6, 5, 5, 8, 1, 8], \"Freq\": [0.7348875242835451, 0.7007822402733062, 0.7081136453915786, 0.2273734279355334, 0.4547468558710668, 0.4547468558710668, 0.7404099446943198, 0.7007828826643833, 0.669284672441751, 0.3346423362208755, 0.7007825032690848, 0.2364836929324583, 0.11824184646622915, 0.11824184646622915, 0.4729673858649166, 0.11824184646622915, 0.5690169069788309, 0.28450845348941545, 0.1829162486441735, 0.5487487459325205, 0.1829162486441735, 0.708113823056484, 0.7348885862294148, 0.4897158128098062, 0.4897158128098062, 0.8896572728011087, 0.6812202489890021, 0.35558583867127286, 0.35558583867127286, 0.35558583867127286, 0.9356524012091562, 0.3045413786283083, 0.3045413786283083, 0.3045413786283083, 0.733332709819984, 0.7745067236538176, 0.5049119263871408, 0.5049119263871408, 0.7333337502390085, 0.7589416938530416, 0.7408388418283169, 0.7589434052330544, 0.7408382033041968, 0.733333533539137, 0.8892617082369692, 0.4914888145212097, 0.6812206914503584, 0.7408394638296051, 0.4784912671021204, 0.4784912671021204, 0.7348890380929941, 0.7348890202617813, 0.7348877968112123, 0.7404044353673922, 0.6812201143992462, 0.8892615463958008, 0.6812213338811964, 0.23436691709609153, 0.46873383419218306, 0.23436691709609153, 0.23436691709609153, 0.7348885724541556, 0.5460026199112641, 0.27300130995563204, 0.27300130995563204, 0.7348895560474898, 0.740349202351785, 0.6812210223570518, 0.7081129123805393, 0.27813825388424274, 0.5562765077684855, 0.27813825388424274, 0.8892618029958099, 0.17873506506484388, 0.35747013012968776, 0.08936753253242194, 0.08936753253242194, 0.08936753253242194, 0.08936753253242194, 0.17873506506484388, 0.08936753253242194, 0.7007826359023994, 0.4030584977071669, 0.4030584977071669, 0.20152924885358345, 0.08469574482424315, 0.3387829792969726, 0.08469574482424315, 0.3387829792969726, 0.08469574482424315, 0.08469574482424315, 0.7348895317891712, 0.7081126834160038, 0.7081132031603612, 0.7402221348391155, 0.4859834459031886, 0.4859834459031886, 0.5014135445494182, 0.5014135445494182, 0.4554584960799253, 0.22772924803996264, 0.22772924803996264, 0.22772924803996264, 0.7348900843714997, 0.7081126686703607, 0.7745063709422062, 0.7745067841280303, 0.7405563826352451, 0.6812206741636301, 0.7408383048776972, 0.3633938073680939, 0.3633938073680939, 0.3633938073680939, 0.7408392717161495, 0.7081135213786783, 0.2894913802502573, 0.2894913802502573, 0.2894913802502573, 0.08063234033857113, 0.3225293613542845, 0.40316170169285565, 0.08063234033857113, 0.08063234033857113, 0.5081617391845037, 0.5081617391845037, 0.5657013548731884, 0.2828506774365942, 0.700782245975737, 0.8897323032380134, 0.24092022506306177, 0.48184045012612353, 0.24092022506306177, 0.6842491864707366, 0.3421245932353683, 0.7348882658374386, 0.5021395612227539, 0.5021395612227539, 0.7589433242721242, 0.7081134861620894, 0.7081132637308016, 0.734890063118493, 0.7745065598290009, 0.7332924071656152, 0.7333342328547651, 0.5688173761595731, 0.28440868807978653, 0.37935512337574956, 0.37935512337574956, 0.681221287996869, 0.7333361064029728, 0.7589449190592533, 0.7333337765069287, 0.5922071157487956, 0.2961035578743978, 0.7740989544487561, 0.6797410712706068, 0.22658035709020224, 0.922895760642473, 0.7007822224714434, 0.7740550397598341, 0.49415024421993, 0.49415024421993, 0.6873869332022486, 0.3436934666011243, 0.734888328077554, 0.501413306229214, 0.501413306229214, 0.7007822259332914, 0.3701189735546175, 0.3701189735546175, 0.3701189735546175, 0.7007823500789323, 0.6835735416799903, 0.34178677083999515, 0.4941499168120469, 0.4941499168120469, 0.7007822671939938, 0.4482414729150721, 0.14836132178079756, 0.14836132178079756, 0.14836132178079756, 0.2967226435615951, 0.14836132178079756, 0.7348889423859559, 0.6812210672566997, 0.6812201922651429, 0.5123137305711045, 0.889262582044109, 0.28747195854183855, 0.28747195854183855, 0.28747195854183855, 0.734888735262907, 0.28683172890096825, 0.28683172890096825, 0.14341586445048413, 0.14341586445048413, 0.7580064365708927, 0.7745079282671696, 0.7589421107432864, 0.7333386066049862, 0.7333347056624815, 0.9228998396546096, 0.7745077725589818, 0.740838665935774, 0.7333357030879507, 0.3998457634849817, 0.15993830539399267, 0.239907458090989, 0.07996915269699634, 0.07996915269699634, 0.07996915269699634, 0.7081140114459632, 0.7007826029742843, 0.7007828541032389, 0.700782403133883, 0.7348883423421368, 0.9364588665709163, 0.5855462106752009, 0.2927731053376004, 0.2927731053376004, 0.7067085108547272, 0.3533542554273636, 0.9356519169601727, 0.1772552827081539, 0.1772552827081539, 0.3545105654163078, 0.1772552827081539, 0.6812202654869411, 0.19395551895576255, 0.19395551895576255, 0.5818665568672876, 0.3542981666502947, 0.3542981666502947, 0.7403187537971055, 0.7348890074210819, 0.7081132946413816, 0.7745072746910718, 0.3804243571238484, 0.3804243571238484, 0.4793780973649098, 0.4793780973649098, 0.7333358141793548, 0.7081125068034216, 0.7408394723505441, 0.7348891576325454, 0.6835746280548382, 0.3417873140274191, 0.2851514563153496, 0.2851514563153496, 0.2851514563153496, 0.2851514563153496, 0.7007826577266427, 0.70078230733493, 0.7589418773497096, 0.4182521935131694, 0.2091260967565847, 0.2091260967565847, 0.2091260967565847, 0.2091260967565847, 0.7081128317304551, 0.6812200978605086, 0.4724705361359274, 0.2362352680679637, 0.7589422151570303, 0.7333358885749381, 0.29699627953356034, 0.29699627953356034, 0.5017270477950475, 0.5017270477950475, 0.74084243338168, 0.250825510985107, 0.250825510985107, 0.250825510985107, 0.250825510985107, 0.250825510985107, 0.7589419880144852, 0.5117518110115131, 0.5117518110115131, 0.21594039203129015, 0.21594039203129015, 0.21594039203129015, 0.21594039203129015, 0.26838504968204885, 0.13419252484102442, 0.6709626242051221, 0.4079026940437365, 0.20395134702186826, 0.20395134702186826, 0.20395134702186826, 0.20395134702186826, 0.47708071306493904, 0.47708071306493904, 0.7007822077703506, 0.7081142214616385, 0.6724135048242526, 0.3362067524121263, 0.485978478278275, 0.485978478278275, 0.7007827082513408, 0.7348887874741843, 0.46861736544677285, 0.23430868272338642, 0.23430868272338642, 0.734198448352533, 0.4614830934050571, 0.23074154670252855, 0.23074154670252855, 0.10381762168190385, 0.10381762168190385, 0.4152704867276154, 0.10381762168190385, 0.2076352433638077, 0.5551603784463806, 0.2775801892231903, 0.12212160564903293, 0.12212160564903293, 0.12212160564903293, 0.1831824084735494, 0.061060802824516466, 0.30530401412258235, 0.7589421452794841, 0.7745061839908051, 0.7745064982424777, 0.7745188352274092, 0.7333356383201703, 0.9356536392824415, 0.6812207633583514, 0.25578122090080446, 0.5115624418016089, 0.7739946191651959, 0.6985961850354524, 0.501622357261363, 0.501622357261363, 0.2781849249442185, 0.556369849888437, 0.2781849249442185, 0.7007825884265978, 0.774097893384523, 0.36570675422701177, 0.36570675422701177, 0.36570675422701177, 0.7348877066513112, 0.3476914237448475, 0.695382847489695, 0.733289975810035, 0.740838364933012, 0.9363539417017175, 0.7408382673536742, 0.7333337256484839, 0.7007828129887033, 0.7589433487172759, 0.4625503374659691, 0.23127516873298454, 0.23127516873298454, 0.23127516873298454, 0.7081133274625999, 0.41369808013591286, 0.1378993600453043, 0.41369808013591286, 0.6812210942328993, 0.12880264115915824, 0.32200660289789557, 0.19320396173873733, 0.12880264115915824, 0.06440132057957912, 0.06440132057957912, 0.06440132057957912, 0.23961819054847575, 0.23961819054847575, 0.4792363810969515, 0.2950439751296584, 0.09834799170988615, 0.3933919668395446, 0.09834799170988615, 0.09834799170988615, 0.27722480486925616, 0.27722480486925616, 0.27722480486925616, 0.27722480486925616, 0.07129437102349048, 0.14258874204698097, 0.4990605971644334, 0.14258874204698097, 0.14258874204698097, 0.7348875463537322, 0.7348882046986605, 0.7740607855044602, 0.740838548360822, 0.33932390219321085, 0.6786478043864217, 0.733334201834481, 0.6812205110449445, 0.3244491892718429, 0.21629945951456192, 0.10814972975728096, 0.2703743243932024, 0.05407486487864048, 0.05407486487864048, 0.7745077434503792, 0.1824162921321939, 0.5472488763965817, 0.1824162921321939, 0.1824162921321939, 0.7141032838871162, 0.4644412976541005, 0.23222064882705026, 0.11611032441352513, 0.11611032441352513, 0.11611032441352513, 0.11611032441352513, 0.25169582098345766, 0.25169582098345766, 0.25169582098345766, 0.25169582098345766, 0.7081142154336371, 0.48949449218538177, 0.48949449218538177, 0.7348887430942592, 0.48968486223071234, 0.48968486223071234, 0.7081129370071141, 0.4675988402922417, 0.23379942014612085, 0.23379942014612085, 0.23379942014612085, 0.504694556752155, 0.504694556752155, 0.7408391107331529, 0.7007824318239088, 0.7007828789641921, 0.40647357539780715, 0.20323678769890358, 0.20323678769890358, 0.7333031579855651, 0.7007827558066737, 0.2776685612143228, 0.2776685612143228, 0.2776685612143228, 0.2776685612143228, 0.7081129982228533, 0.32576593053794595, 0.32576593053794595, 0.16288296526897297, 0.16288296526897297, 0.16288296526897297, 0.7408424902797179, 0.6812209908920576, 0.7081141216568151, 0.774506884684811, 0.7333339258121095, 0.7081140204865153, 0.7333327260493361, 0.2083390633263456, 0.1041695316631728, 0.4166781266526912, 0.1041695316631728, 0.1041695316631728, 0.1041695316631728, 0.6812210374111405, 0.708113425991403, 0.3638728271010637, 0.3638728271010637, 0.3638728271010637, 0.17485635854910278, 0.34971271709820556, 0.17485635854910278, 0.17485635854910278, 0.17485635854910278, 0.6812204861257198, 0.7333356685966138, 0.7408383036330148, 0.7589448623772351, 0.7745080205522892, 0.16524547976308088, 0.16524547976308088, 0.4957364392892426, 0.16524547976308088, 0.16524547976308088, 0.7348885500327638, 0.7406425444278415, 0.7007822233784621, 0.29716106807327614, 0.29716106807327614, 0.29716106807327614, 0.7408395659074255, 0.7115096432764825, 0.35575482163824124, 0.7348876844301844, 0.7745088248776616, 0.7007829307379181, 0.7348889752634917, 0.774506991673951, 0.7408382689683346, 0.7745069878768087, 0.45275321165946275, 0.3018354744396418, 0.1509177372198209, 0.1509177372198209, 0.7589419104286785, 0.4895151897010021, 0.7333328056624968, 0.2816674370242264, 0.2816674370242264, 0.2816674370242264, 0.2816674370242264, 0.4934479448120229, 0.4934479448120229, 0.28665319667358874, 0.5733063933471775, 0.5304776504087925, 0.26523882520439623, 0.5402176386584104, 0.2701088193292052, 0.4894931974578062, 0.4894931974578062, 0.4784925995913693, 0.4784925995913693, 0.774507757232668, 0.33932367940229324, 0.6786473588045865, 0.7081133746657956, 0.774506422264706, 0.209490035548329, 0.209490035548329, 0.209490035548329, 0.209490035548329, 0.209490035548329, 0.6114731306429658, 0.15286828266074146, 0.15286828266074146, 0.15286828266074146, 0.8892617960128966, 0.19955532833330647, 0.19955532833330647, 0.39911065666661294, 0.19955532833330647, 0.7333384655764577, 0.7408398105940289, 0.7589419753424352, 0.7007823524275415, 0.3657810775197917, 0.3657810775197917, 0.3657810775197917, 0.7333336058696672, 0.23659829777971983, 0.23659829777971983, 0.23659829777971983, 0.23659829777971983, 0.23659829777971983, 0.7745066978636163, 0.5039769412088559, 0.16799231373628531, 0.16799231373628531, 0.16799231373628531, 0.7348892470004998, 0.7333326170624984, 0.7007826952626482, 0.3643180040053328, 0.3643180040053328, 0.3643180040053328, 0.7589417097681181, 0.740839031175481, 0.7007827868034265, 0.6812202168362286, 0.7081144259817153, 0.27113103523771326, 0.5422620704754265, 0.7333327301133087, 0.681220575503031, 0.7740927907733732, 0.6812203020713413, 0.211979545589601, 0.211979545589601, 0.211979545589601, 0.211979545589601, 0.7141654953920568, 0.3570827476960284, 0.3562063109801695, 0.3562063109801695, 0.17810315549008476, 0.17810315549008476, 0.30656519556611295, 0.30656519556611295, 0.15328259778305647, 0.15328259778305647, 0.15328259778305647, 0.7348874600810847, 0.7348888130734057, 0.5269784891831808, 0.48258126303459786, 0.48258126303459786], \"Term\": [\"15kilo\", \"69000\", \"_x000d_to\", \"able\", \"able\", \"able\", \"absolutely\", \"accessible\", \"account\", \"account\", \"acquire\", \"add\", \"add\", \"add\", \"add\", \"add\", \"added\", \"added\", \"additional\", \"additional\", \"additional\", \"additionals\", \"advanced\", \"airline\", \"airline\", \"airport\", \"alka\", \"allow\", \"allow\", \"allow\", \"almost\", \"amount\", \"amount\", \"amount\", \"annoyed\", \"anything\", \"app\", \"app\", \"apparently\", \"appeared\", \"application\", \"area\", \"ask\", \"assignment\", \"attempt\", \"attention\", \"attract\", \"automatic\", \"automatically\", \"automatically\", \"available\", \"back\", \"bag\", \"baggage\", \"bandaids\", \"bank\", \"bbva\", \"beginning\", \"beginning\", \"beginning\", \"beginning\", \"best\", \"better\", \"better\", \"better\", \"booking\", \"bother\", \"broken\", \"button\", \"buy\", \"buy\", \"buy\", \"called\", \"card\", \"card\", \"card\", \"card\", \"card\", \"card\", \"card\", \"card\", \"case\", \"change\", \"change\", \"change\", \"charge\", \"charge\", \"charge\", \"charge\", \"charge\", \"charge\", \"check\", \"checkin\", \"chose\", \"claim\", \"clarity\", \"clarity\", \"clear\", \"clear\", \"clearer\", \"clearer\", \"clearer\", \"clearer\", \"client\", \"client_x000d_please\", \"code\", \"collect\", \"combo\", \"comfort\", \"compared\", \"complicated\", \"complicated\", \"complicated\", \"confirmation\", \"confuse\", \"confusing\", \"confusing\", \"confusing\", \"cost\", \"cost\", \"cost\", \"cost\", \"cost\", \"could\", \"could\", \"couldnt\", \"couldnt\", \"cover\", \"created\", \"credit\", \"credit\", \"credit\", \"customer\", \"customer\", \"cut\", \"data\", \"data\", \"decision\", \"decline\", \"deferred\", \"definition\", \"deleted\", \"detail\", \"detour\", \"didnt\", \"didnt\", \"difficult\", \"difficult\", \"digital\", \"direct\", \"discount\", \"document\", \"doesnt\", \"doesnt\", \"dollar\", \"dont\", \"dont\", \"doters\", \"dotersvivaaerobus\", \"either\", \"else\", \"else\", \"email\", \"email\", \"emergency\", \"end\", \"end\", \"enter\", \"error\", \"error\", \"error\", \"especially\", \"etc\", \"etc\", \"even\", \"even\", \"event\", \"every\", \"everything\", \"everything\", \"everything\", \"everything\", \"everything\", \"excellent\", \"exceptional\", \"expedite\", \"expense\", \"expensive\", \"experience\", \"experience\", \"experience\", \"expires\", \"extra\", \"extra\", \"extra\", \"extra\", \"failure\", \"fast\", \"faster\", \"fee\", \"feel\", \"final\", \"fine\", \"finished\", \"finishing\", \"flight\", \"flight\", \"flight\", \"flight\", \"flight\", \"flight\", \"follow\", \"force\", \"forced\", \"form\", \"frequent\", \"friendlier\", \"friendly\", \"friendly\", \"friendly\", \"full\", \"full\", \"get\", \"give\", \"give\", \"give\", \"give\", \"going\", \"good\", \"good\", \"good\", \"got\", \"got\", \"greatly\", \"group\", \"hard\", \"hate\", \"hidden\", \"hidden\", \"high\", \"high\", \"horrible\", \"hour\", \"image\", \"improve\", \"include\", \"include\", \"included\", \"included\", \"included\", \"included\", \"including\", \"incognito\", \"incorrect\", \"increase\", \"increase\", \"increase\", \"increase\", \"increase\", \"indicate\", \"infinity\", \"information\", \"information\", \"insert\", \"inside\", \"insurance\", \"insurance\", \"interest\", \"interest\", \"issue\", \"know\", \"know\", \"know\", \"know\", \"know\", \"landing\", \"late\", \"late\", \"le\", \"le\", \"le\", \"le\", \"let\", \"let\", \"let\", \"like\", \"like\", \"like\", \"like\", \"like\", \"liked\", \"liked\", \"listed\", \"located\", \"long\", \"long\", \"longer\", \"longer\", \"look\", \"lose\", \"lot\", \"lot\", \"lot\", \"lower\", \"made\", \"made\", \"made\", \"make\", \"make\", \"make\", \"make\", \"make\", \"making\", \"making\", \"many\", \"many\", \"many\", \"many\", \"many\", \"many\", \"mark\", \"marked\", \"match\", \"menu\", \"messy\", \"method\", \"might\", \"misleading\", \"misleading\", \"mobile\", \"moment\", \"month\", \"month\", \"much\", \"much\", \"much\", \"mxn\", \"navigate\", \"necessary\", \"necessary\", \"necessary\", \"needed\", \"never\", \"never\", \"next\", \"np\", \"occasion\", \"offer\", \"often\", \"older\", \"omission\", \"one\", \"one\", \"one\", \"one\", \"online\", \"option\", \"option\", \"option\", \"oxxo\", \"page\", \"page\", \"page\", \"page\", \"page\", \"page\", \"page\", \"passenger\", \"passenger\", \"passenger\", \"pay\", \"pay\", \"pay\", \"pay\", \"pay\", \"paying\", \"paying\", \"paying\", \"paying\", \"payment\", \"payment\", \"payment\", \"payment\", \"payment\", \"people\", \"per\", \"peso\", \"phone\", \"point\", \"point\", \"precharging\", \"presentation\", \"price\", \"price\", \"price\", \"price\", \"price\", \"price\", \"procedure\", \"process\", \"process\", \"process\", \"process\", \"promotion\", \"purchase\", \"purchase\", \"purchase\", \"purchase\", \"purchase\", \"purchase\", \"put\", \"put\", \"put\", \"put\", \"query\", \"question\", \"question\", \"quickly\", \"quoted\", \"quoted\", \"quoting\", \"rate\", \"rate\", \"rate\", \"rate\", \"really\", \"really\", \"receive\", \"redeem\", \"reduce\", \"refund\", \"refund\", \"refund\", \"registering\", \"rejected\", \"remove\", \"remove\", \"remove\", \"remove\", \"removed\", \"reservation\", \"reservation\", \"reservation\", \"reservation\", \"reservation\", \"resolve\", \"resort\", \"respect\", \"respecting\", \"round\", \"route\", \"saw\", \"seat\", \"seat\", \"seat\", \"seat\", \"seat\", \"seat\", \"second\", \"seems\", \"select\", \"select\", \"select\", \"selection\", \"selection\", \"selection\", \"selection\", \"selection\", \"seltzer\", \"send\", \"sending\", \"senior\", \"separately\", \"service\", \"service\", \"service\", \"service\", \"service\", \"session\", \"several\", \"shouldnt\", \"show\", \"show\", \"show\", \"simplify\", \"since\", \"since\", \"single\", \"slow\", \"slow_x000d_many\", \"specific\", \"start\", \"startup\", \"stated\", \"step\", \"step\", \"step\", \"step\", \"strip\", \"stuck\", \"suddenly\", \"suitcase\", \"suitcase\", \"suitcase\", \"suitcase\", \"survey\", \"survey\", \"system\", \"system\", \"take\", \"take\", \"tax\", \"tax\", \"tell\", \"tell\", \"terrible\", \"terrible\", \"thats\", \"thing\", \"thing\", \"think\", \"threedigits\", \"ticket\", \"ticket\", \"ticket\", \"ticket\", \"ticket\", \"time\", \"time\", \"time\", \"time\", \"told\", \"total\", \"total\", \"total\", \"total\", \"transaction\", \"transfer\", \"trap\", \"travel\", \"tried\", \"tried\", \"tried\", \"trip\", \"try\", \"try\", \"try\", \"try\", \"try\", \"trying\", \"tua\", \"tua\", \"tua\", \"tua\", \"unnecessary\", \"uploading\", \"use\", \"user\", \"user\", \"user\", \"valid\", \"via\", \"visibility\", \"vivaaerobus\", \"waited\", \"want\", \"want\", \"warned\", \"website\", \"well\", \"whats\", \"without\", \"without\", \"without\", \"without\", \"wont\", \"wont\", \"work\", \"work\", \"work\", \"work\", \"would\", \"would\", \"would\", \"would\", \"would\", \"wouldnt\", \"wrong\", \"yeah\", \"yes\", \"yes\"]}, \"R\": 30, \"lambda.step\": 0.01, \"plot.opts\": {\"xlab\": \"PC1\", \"ylab\": \"PC2\"}, \"topic.order\": [5, 3, 7, 8, 6, 1, 2, 4]};\n",
              "\n",
              "function LDAvis_load_lib(url, callback){\n",
              "  var s = document.createElement('script');\n",
              "  s.src = url;\n",
              "  s.async = true;\n",
              "  s.onreadystatechange = s.onload = callback;\n",
              "  s.onerror = function(){console.warn(\"failed to load library \" + url);};\n",
              "  document.getElementsByTagName(\"head\")[0].appendChild(s);\n",
              "}\n",
              "\n",
              "if(typeof(LDAvis) !== \"undefined\"){\n",
              "   // already loaded: just create the visualization\n",
              "   !function(LDAvis){\n",
              "       new LDAvis(\"#\" + \"ldavis_el71541399730557514249696153569\", ldavis_el71541399730557514249696153569_data);\n",
              "   }(LDAvis);\n",
              "}else if(typeof define === \"function\" && define.amd){\n",
              "   // require.js is available: use it to load d3/LDAvis\n",
              "   require.config({paths: {d3: \"https://d3js.org/d3.v5\"}});\n",
              "   require([\"d3\"], function(d3){\n",
              "      window.d3 = d3;\n",
              "      LDAvis_load_lib(\"https://cdn.jsdelivr.net/gh/bmabey/pyLDAvis@3.4.0/pyLDAvis/js/ldavis.v3.0.0.js\", function(){\n",
              "        new LDAvis(\"#\" + \"ldavis_el71541399730557514249696153569\", ldavis_el71541399730557514249696153569_data);\n",
              "      });\n",
              "    });\n",
              "}else{\n",
              "    // require.js not available: dynamically load d3 & LDAvis\n",
              "    LDAvis_load_lib(\"https://d3js.org/d3.v5.js\", function(){\n",
              "         LDAvis_load_lib(\"https://cdn.jsdelivr.net/gh/bmabey/pyLDAvis@3.4.0/pyLDAvis/js/ldavis.v3.0.0.js\", function(){\n",
              "                 new LDAvis(\"#\" + \"ldavis_el71541399730557514249696153569\", ldavis_el71541399730557514249696153569_data);\n",
              "            })\n",
              "         });\n",
              "}\n",
              "</script>"
            ]
          },
          "metadata": {},
          "execution_count": 24
        }
      ]
    },
    {
      "cell_type": "markdown",
      "source": [
        "# VADER"
      ],
      "metadata": {
        "id": "mZHbxnJFFTnh"
      }
    },
    {
      "cell_type": "code",
      "source": [
        "def getSentiment(comment):\n",
        "  try:\n",
        "    # Create the object analyzer\n",
        "    sent_obj = SentimentIntensityAnalyzer()\n",
        "    #Create the dictionary with the polarity values for the sentence\n",
        "    sent_dictionary = sent_obj.polarity_scores(comment)\n",
        "    #Return the compounded sentiment value\n",
        "    return(sent_dictionary['compound'])\n",
        "  except:\n",
        "    print(comment)\n",
        "    return -10"
      ],
      "metadata": {
        "colab": {
          "base_uri": "https://localhost:8080/"
        },
        "id": "yl8m1OM94UQ-",
        "outputId": "cf458d59-ed6e-4a22-ef0e-aa8e8fe4fd3a"
      },
      "execution_count": null,
      "outputs": [
        {
          "output_type": "stream",
          "name": "stderr",
          "text": [
            "/usr/local/lib/python3.10/dist-packages/ipykernel/ipkernel.py:283: DeprecationWarning: `should_run_async` will not call `transform_cell` automatically in the future. Please pass the result to `transformed_cell` argument and any exception that happen during thetransform in `preprocessing_exc_tuple` in IPython 7.17 and above.\n",
            "  and should_run_async(code)\n"
          ]
        }
      ]
    },
    {
      "cell_type": "code",
      "source": [
        "df = df.dropna()\n",
        "df['vader_sentiment'] = df.Comment.progress_apply(getSentiment)"
      ],
      "metadata": {
        "colab": {
          "base_uri": "https://localhost:8080/",
          "height": 105,
          "referenced_widgets": [
            "73012c40545146f9aae7cc794084349a",
            "21ca69c71d5747e78048e2137d382496",
            "3b1498b6438f4fb5b07ba18c1280c51e",
            "dcd03bc3b9734cf9a68eaf5a61733ed4",
            "ace4c28cc4704c53ac9979858081e4b6",
            "a33fb258308143b99bcc38900cfbfae0",
            "54e2ad6227ee4ada902ee26538d2573d",
            "53d84c847f4e47fd969e90fd5ec81e06",
            "cc4bd4a6e84740fd9da3707c07245baa",
            "5951baef9f354da3b507a5d9f69dfc40",
            "94e8613e56f844c6b8852fab1a2d6970"
          ]
        },
        "id": "5_6U3UFG4Y5W",
        "outputId": "be092449-fc92-46da-a9f7-d2954975c342"
      },
      "execution_count": null,
      "outputs": [
        {
          "output_type": "stream",
          "name": "stderr",
          "text": [
            "/usr/local/lib/python3.10/dist-packages/ipykernel/ipkernel.py:283: DeprecationWarning: `should_run_async` will not call `transform_cell` automatically in the future. Please pass the result to `transformed_cell` argument and any exception that happen during thetransform in `preprocessing_exc_tuple` in IPython 7.17 and above.\n",
            "  and should_run_async(code)\n"
          ]
        },
        {
          "output_type": "display_data",
          "data": {
            "text/plain": [
              "  0%|          | 0/193 [00:00<?, ?it/s]"
            ],
            "application/vnd.jupyter.widget-view+json": {
              "version_major": 2,
              "version_minor": 0,
              "model_id": "73012c40545146f9aae7cc794084349a"
            }
          },
          "metadata": {}
        }
      ]
    },
    {
      "cell_type": "code",
      "source": [
        "dates = df.copy()\n",
        "dates['Date'] = pd.to_datetime(dates.Date)\n",
        "dates['Date'] = dates.Date.apply(removeTime)\n",
        "dates.columns\n",
        "dates = dates.drop(labels= ['Comment', 'nps'], axis = 1)\n",
        "dates = dates.groupby(['Date']).mean()"
      ],
      "metadata": {
        "colab": {
          "base_uri": "https://localhost:8080/"
        },
        "id": "Z5eVcXnP5YvI",
        "outputId": "7374b41c-f119-4c6e-8fad-8b8a4e1dac5d"
      },
      "execution_count": null,
      "outputs": [
        {
          "output_type": "stream",
          "name": "stderr",
          "text": [
            "/usr/local/lib/python3.10/dist-packages/ipykernel/ipkernel.py:283: DeprecationWarning: `should_run_async` will not call `transform_cell` automatically in the future. Please pass the result to `transformed_cell` argument and any exception that happen during thetransform in `preprocessing_exc_tuple` in IPython 7.17 and above.\n",
            "  and should_run_async(code)\n"
          ]
        }
      ]
    },
    {
      "cell_type": "code",
      "source": [
        "df.head()"
      ],
      "metadata": {
        "colab": {
          "base_uri": "https://localhost:8080/",
          "height": 262
        },
        "id": "dra-tcMJPe0f",
        "outputId": "cdcead77-6939-4926-fc13-f3dcb15b911f"
      },
      "execution_count": null,
      "outputs": [
        {
          "output_type": "stream",
          "name": "stderr",
          "text": [
            "/usr/local/lib/python3.10/dist-packages/ipykernel/ipkernel.py:283: DeprecationWarning: `should_run_async` will not call `transform_cell` automatically in the future. Please pass the result to `transformed_cell` argument and any exception that happen during thetransform in `preprocessing_exc_tuple` in IPython 7.17 and above.\n",
            "  and should_run_async(code)\n"
          ]
        },
        {
          "output_type": "execute_result",
          "data": {
            "text/plain": [
              "                 Date  nps                                            Comment   \n",
              "0 2023-03-01 04:57:35    8  It did not give me the option of paying months...  \\\n",
              "1 2023-03-01 04:55:45    6  very late, I did not receive the confirmation ...   \n",
              "2 2023-03-01 04:54:40    8  That the prices are not so expensive, that wou...   \n",
              "3 2023-03-01 04:51:03    2  You are sending me the NPS when I have not eve...   \n",
              "4 2023-03-01 04:48:36    0                                     I couldn't pay   \n",
              "\n",
              "   vader_sentiment  \n",
              "0          -0.3570  \n",
              "1           0.0000  \n",
              "2           0.6124  \n",
              "3          -0.4767  \n",
              "4           0.0762  "
            ],
            "text/html": [
              "\n",
              "  <div id=\"df-70f5204a-4dbc-4808-910c-b44143b5f939\">\n",
              "    <div class=\"colab-df-container\">\n",
              "      <div>\n",
              "<style scoped>\n",
              "    .dataframe tbody tr th:only-of-type {\n",
              "        vertical-align: middle;\n",
              "    }\n",
              "\n",
              "    .dataframe tbody tr th {\n",
              "        vertical-align: top;\n",
              "    }\n",
              "\n",
              "    .dataframe thead th {\n",
              "        text-align: right;\n",
              "    }\n",
              "</style>\n",
              "<table border=\"1\" class=\"dataframe\">\n",
              "  <thead>\n",
              "    <tr style=\"text-align: right;\">\n",
              "      <th></th>\n",
              "      <th>Date</th>\n",
              "      <th>nps</th>\n",
              "      <th>Comment</th>\n",
              "      <th>vader_sentiment</th>\n",
              "    </tr>\n",
              "  </thead>\n",
              "  <tbody>\n",
              "    <tr>\n",
              "      <th>0</th>\n",
              "      <td>2023-03-01 04:57:35</td>\n",
              "      <td>8</td>\n",
              "      <td>It did not give me the option of paying months...</td>\n",
              "      <td>-0.3570</td>\n",
              "    </tr>\n",
              "    <tr>\n",
              "      <th>1</th>\n",
              "      <td>2023-03-01 04:55:45</td>\n",
              "      <td>6</td>\n",
              "      <td>very late, I did not receive the confirmation ...</td>\n",
              "      <td>0.0000</td>\n",
              "    </tr>\n",
              "    <tr>\n",
              "      <th>2</th>\n",
              "      <td>2023-03-01 04:54:40</td>\n",
              "      <td>8</td>\n",
              "      <td>That the prices are not so expensive, that wou...</td>\n",
              "      <td>0.6124</td>\n",
              "    </tr>\n",
              "    <tr>\n",
              "      <th>3</th>\n",
              "      <td>2023-03-01 04:51:03</td>\n",
              "      <td>2</td>\n",
              "      <td>You are sending me the NPS when I have not eve...</td>\n",
              "      <td>-0.4767</td>\n",
              "    </tr>\n",
              "    <tr>\n",
              "      <th>4</th>\n",
              "      <td>2023-03-01 04:48:36</td>\n",
              "      <td>0</td>\n",
              "      <td>I couldn't pay</td>\n",
              "      <td>0.0762</td>\n",
              "    </tr>\n",
              "  </tbody>\n",
              "</table>\n",
              "</div>\n",
              "      <button class=\"colab-df-convert\" onclick=\"convertToInteractive('df-70f5204a-4dbc-4808-910c-b44143b5f939')\"\n",
              "              title=\"Convert this dataframe to an interactive table.\"\n",
              "              style=\"display:none;\">\n",
              "        \n",
              "  <svg xmlns=\"http://www.w3.org/2000/svg\" height=\"24px\"viewBox=\"0 0 24 24\"\n",
              "       width=\"24px\">\n",
              "    <path d=\"M0 0h24v24H0V0z\" fill=\"none\"/>\n",
              "    <path d=\"M18.56 5.44l.94 2.06.94-2.06 2.06-.94-2.06-.94-.94-2.06-.94 2.06-2.06.94zm-11 1L8.5 8.5l.94-2.06 2.06-.94-2.06-.94L8.5 2.5l-.94 2.06-2.06.94zm10 10l.94 2.06.94-2.06 2.06-.94-2.06-.94-.94-2.06-.94 2.06-2.06.94z\"/><path d=\"M17.41 7.96l-1.37-1.37c-.4-.4-.92-.59-1.43-.59-.52 0-1.04.2-1.43.59L10.3 9.45l-7.72 7.72c-.78.78-.78 2.05 0 2.83L4 21.41c.39.39.9.59 1.41.59.51 0 1.02-.2 1.41-.59l7.78-7.78 2.81-2.81c.8-.78.8-2.07 0-2.86zM5.41 20L4 18.59l7.72-7.72 1.47 1.35L5.41 20z\"/>\n",
              "  </svg>\n",
              "      </button>\n",
              "      \n",
              "  <style>\n",
              "    .colab-df-container {\n",
              "      display:flex;\n",
              "      flex-wrap:wrap;\n",
              "      gap: 12px;\n",
              "    }\n",
              "\n",
              "    .colab-df-convert {\n",
              "      background-color: #E8F0FE;\n",
              "      border: none;\n",
              "      border-radius: 50%;\n",
              "      cursor: pointer;\n",
              "      display: none;\n",
              "      fill: #1967D2;\n",
              "      height: 32px;\n",
              "      padding: 0 0 0 0;\n",
              "      width: 32px;\n",
              "    }\n",
              "\n",
              "    .colab-df-convert:hover {\n",
              "      background-color: #E2EBFA;\n",
              "      box-shadow: 0px 1px 2px rgba(60, 64, 67, 0.3), 0px 1px 3px 1px rgba(60, 64, 67, 0.15);\n",
              "      fill: #174EA6;\n",
              "    }\n",
              "\n",
              "    [theme=dark] .colab-df-convert {\n",
              "      background-color: #3B4455;\n",
              "      fill: #D2E3FC;\n",
              "    }\n",
              "\n",
              "    [theme=dark] .colab-df-convert:hover {\n",
              "      background-color: #434B5C;\n",
              "      box-shadow: 0px 1px 3px 1px rgba(0, 0, 0, 0.15);\n",
              "      filter: drop-shadow(0px 1px 2px rgba(0, 0, 0, 0.3));\n",
              "      fill: #FFFFFF;\n",
              "    }\n",
              "  </style>\n",
              "\n",
              "      <script>\n",
              "        const buttonEl =\n",
              "          document.querySelector('#df-70f5204a-4dbc-4808-910c-b44143b5f939 button.colab-df-convert');\n",
              "        buttonEl.style.display =\n",
              "          google.colab.kernel.accessAllowed ? 'block' : 'none';\n",
              "\n",
              "        async function convertToInteractive(key) {\n",
              "          const element = document.querySelector('#df-70f5204a-4dbc-4808-910c-b44143b5f939');\n",
              "          const dataTable =\n",
              "            await google.colab.kernel.invokeFunction('convertToInteractive',\n",
              "                                                     [key], {});\n",
              "          if (!dataTable) return;\n",
              "\n",
              "          const docLinkHtml = 'Like what you see? Visit the ' +\n",
              "            '<a target=\"_blank\" href=https://colab.research.google.com/notebooks/data_table.ipynb>data table notebook</a>'\n",
              "            + ' to learn more about interactive tables.';\n",
              "          element.innerHTML = '';\n",
              "          dataTable['output_type'] = 'display_data';\n",
              "          await google.colab.output.renderOutput(dataTable, element);\n",
              "          const docLink = document.createElement('div');\n",
              "          docLink.innerHTML = docLinkHtml;\n",
              "          element.appendChild(docLink);\n",
              "        }\n",
              "      </script>\n",
              "    </div>\n",
              "  </div>\n",
              "  "
            ]
          },
          "metadata": {},
          "execution_count": 35
        }
      ]
    },
    {
      "cell_type": "code",
      "source": [
        "line_plot = sns.lineplot(data=dates, x=\"Date\", y=\"vader_sentiment\")\n",
        "line_plot.set_xticklabels(line_plot.get_xticklabels(), rotation=30)"
      ],
      "metadata": {
        "colab": {
          "base_uri": "https://localhost:8080/",
          "height": 731
        },
        "id": "gwL4rVIR-Y-z",
        "outputId": "2bb99bb6-9ed8-4e0d-c959-22435458e859"
      },
      "execution_count": null,
      "outputs": [
        {
          "output_type": "stream",
          "name": "stderr",
          "text": [
            "/usr/local/lib/python3.10/dist-packages/ipykernel/ipkernel.py:283: DeprecationWarning: `should_run_async` will not call `transform_cell` automatically in the future. Please pass the result to `transformed_cell` argument and any exception that happen during thetransform in `preprocessing_exc_tuple` in IPython 7.17 and above.\n",
            "  and should_run_async(code)\n",
            "<ipython-input-33-451280906579>:2: UserWarning: FixedFormatter should only be used together with FixedLocator\n",
            "  line_plot.set_xticklabels(line_plot.get_xticklabels(), rotation=30)\n"
          ]
        },
        {
          "output_type": "execute_result",
          "data": {
            "text/plain": [
              "[Text(19416.0, 0, '02-28 00'),\n",
              " Text(19416.125, 0, '02-28 03'),\n",
              " Text(19416.25, 0, '02-28 06'),\n",
              " Text(19416.375, 0, '02-28 09'),\n",
              " Text(19416.5, 0, '02-28 12'),\n",
              " Text(19416.625, 0, '02-28 15'),\n",
              " Text(19416.75, 0, '02-28 18'),\n",
              " Text(19416.875, 0, '02-28 21'),\n",
              " Text(19417.0, 0, '03-01 00')]"
            ]
          },
          "metadata": {},
          "execution_count": 33
        },
        {
          "output_type": "display_data",
          "data": {
            "text/plain": [
              "<Figure size 640x480 with 1 Axes>"
            ],
            "image/png": "[encoded data removed]"
          },
          "metadata": {}
        }
      ]
    },
    {
      "cell_type": "code",
      "source": [],
      "metadata": {
        "colab": {
          "base_uri": "https://localhost:8080/"
        },
        "id": "a9JA9_OaKP4Y",
        "outputId": "ae963470-4efc-4032-c8ec-7ffdcb81ce0b"
      },
      "execution_count": null,
      "outputs": [
        {
          "output_type": "stream",
          "name": "stderr",
          "text": [
            "/usr/local/lib/python3.10/dist-packages/ipykernel/ipkernel.py:283: DeprecationWarning: `should_run_async` will not call `transform_cell` automatically in the future. Please pass the result to `transformed_cell` argument and any exception that happen during thetransform in `preprocessing_exc_tuple` in IPython 7.17 and above.\n",
            "  and should_run_async(code)\n"
          ]
        }
      ]
    }
  ]
}