{
  "nbformat": 4,
  "nbformat_minor": 0,
  "metadata": {
    "colab": {
      "provenance": []
    },
    "kernelspec": {
      "name": "python3",
      "display_name": "Python 3"
    },
    "language_info": {
      "name": "python"
    },
    "widgets": {
      "application/vnd.jupyter.widget-state+json": {
        "9a47bfc410f54b40b4162cafd204efa6": {
          "model_module": "@jupyter-widgets/controls",
          "model_name": "HBoxModel",
          "model_module_version": "1.5.0",
          "state": {
            "_dom_classes": [],
            "_model_module": "@jupyter-widgets/controls",
            "_model_module_version": "1.5.0",
            "_model_name": "HBoxModel",
            "_view_count": null,
            "_view_module": "@jupyter-widgets/controls",
            "_view_module_version": "1.5.0",
            "_view_name": "HBoxView",
            "box_style": "",
            "children": [
              "IPY_MODEL_68a17ed3b3214ab7a874dcfd922800e0",
              "IPY_MODEL_487f550ec0604abda27276f44c834a78",
              "IPY_MODEL_54560875cef64b5797c693a27bcf0be1"
            ],
            "layout": "IPY_MODEL_d59b86e3557647d286b32bdff8452e97"
          }
        },
        "68a17ed3b3214ab7a874dcfd922800e0": {
          "model_module": "@jupyter-widgets/controls",
          "model_name": "HTMLModel",
          "model_module_version": "1.5.0",
          "state": {
            "_dom_classes": [],
            "_model_module": "@jupyter-widgets/controls",
            "_model_module_version": "1.5.0",
            "_model_name": "HTMLModel",
            "_view_count": null,
            "_view_module": "@jupyter-widgets/controls",
            "_view_module_version": "1.5.0",
            "_view_name": "HTMLView",
            "description": "",
            "description_tooltip": null,
            "layout": "IPY_MODEL_3d6d32e528d448c5aca32faffae8252e",
            "placeholder": "​",
            "style": "IPY_MODEL_c7915f6044704b94b924f6879bd6c132",
            "value": "100%"
          }
        },
        "487f550ec0604abda27276f44c834a78": {
          "model_module": "@jupyter-widgets/controls",
          "model_name": "FloatProgressModel",
          "model_module_version": "1.5.0",
          "state": {
            "_dom_classes": [],
            "_model_module": "@jupyter-widgets/controls",
            "_model_module_version": "1.5.0",
            "_model_name": "FloatProgressModel",
            "_view_count": null,
            "_view_module": "@jupyter-widgets/controls",
            "_view_module_version": "1.5.0",
            "_view_name": "ProgressView",
            "bar_style": "success",
            "description": "",
            "description_tooltip": null,
            "layout": "IPY_MODEL_6eec5f43d05c49408003513fdfee07c9",
            "max": 65,
            "min": 0,
            "orientation": "horizontal",
            "style": "IPY_MODEL_6b0491ab0107496d9574b59215b047a8",
            "value": 65
          }
        },
        "54560875cef64b5797c693a27bcf0be1": {
          "model_module": "@jupyter-widgets/controls",
          "model_name": "HTMLModel",
          "model_module_version": "1.5.0",
          "state": {
            "_dom_classes": [],
            "_model_module": "@jupyter-widgets/controls",
            "_model_module_version": "1.5.0",
            "_model_name": "HTMLModel",
            "_view_count": null,
            "_view_module": "@jupyter-widgets/controls",
            "_view_module_version": "1.5.0",
            "_view_name": "HTMLView",
            "description": "",
            "description_tooltip": null,
            "layout": "IPY_MODEL_c4d448cb210d474e82bba1e804b42f07",
            "placeholder": "​",
            "style": "IPY_MODEL_3f61a524ce6749e897a21889aa6a7bae",
            "value": " 65/65 [00:58&lt;00:00,  1.08s/it]"
          }
        },
        "d59b86e3557647d286b32bdff8452e97": {
          "model_module": "@jupyter-widgets/base",
          "model_name": "LayoutModel",
          "model_module_version": "1.2.0",
          "state": {
            "_model_module": "@jupyter-widgets/base",
            "_model_module_version": "1.2.0",
            "_model_name": "LayoutModel",
            "_view_count": null,
            "_view_module": "@jupyter-widgets/base",
            "_view_module_version": "1.2.0",
            "_view_name": "LayoutView",
            "align_content": null,
            "align_items": null,
            "align_self": null,
            "border": null,
            "bottom": null,
            "display": null,
            "flex": null,
            "flex_flow": null,
            "grid_area": null,
            "grid_auto_columns": null,
            "grid_auto_flow": null,
            "grid_auto_rows": null,
            "grid_column": null,
            "grid_gap": null,
            "grid_row": null,
            "grid_template_areas": null,
            "grid_template_columns": null,
            "grid_template_rows": null,
            "height": null,
            "justify_content": null,
            "justify_items": null,
            "left": null,
            "margin": null,
            "max_height": null,
            "max_width": null,
            "min_height": null,
            "min_width": null,
            "object_fit": null,
            "object_position": null,
            "order": null,
            "overflow": null,
            "overflow_x": null,
            "overflow_y": null,
            "padding": null,
            "right": null,
            "top": null,
            "visibility": null,
            "width": null
          }
        },
        "3d6d32e528d448c5aca32faffae8252e": {
          "model_module": "@jupyter-widgets/base",
          "model_name": "LayoutModel",
          "model_module_version": "1.2.0",
          "state": {
            "_model_module": "@jupyter-widgets/base",
            "_model_module_version": "1.2.0",
            "_model_name": "LayoutModel",
            "_view_count": null,
            "_view_module": "@jupyter-widgets/base",
            "_view_module_version": "1.2.0",
            "_view_name": "LayoutView",
            "align_content": null,
            "align_items": null,
            "align_self": null,
            "border": null,
            "bottom": null,
            "display": null,
            "flex": null,
            "flex_flow": null,
            "grid_area": null,
            "grid_auto_columns": null,
            "grid_auto_flow": null,
            "grid_auto_rows": null,
            "grid_column": null,
            "grid_gap": null,
            "grid_row": null,
            "grid_template_areas": null,
            "grid_template_columns": null,
            "grid_template_rows": null,
            "height": null,
            "justify_content": null,
            "justify_items": null,
            "left": null,
            "margin": null,
            "max_height": null,
            "max_width": null,
            "min_height": null,
            "min_width": null,
            "object_fit": null,
            "object_position": null,
            "order": null,
            "overflow": null,
            "overflow_x": null,
            "overflow_y": null,
            "padding": null,
            "right": null,
            "top": null,
            "visibility": null,
            "width": null
          }
        },
        "c7915f6044704b94b924f6879bd6c132": {
          "model_module": "@jupyter-widgets/controls",
          "model_name": "DescriptionStyleModel",
          "model_module_version": "1.5.0",
          "state": {
            "_model_module": "@jupyter-widgets/controls",
            "_model_module_version": "1.5.0",
            "_model_name": "DescriptionStyleModel",
            "_view_count": null,
            "_view_module": "@jupyter-widgets/base",
            "_view_module_version": "1.2.0",
            "_view_name": "StyleView",
            "description_width": ""
          }
        },
        "6eec5f43d05c49408003513fdfee07c9": {
          "model_module": "@jupyter-widgets/base",
          "model_name": "LayoutModel",
          "model_module_version": "1.2.0",
          "state": {
            "_model_module": "@jupyter-widgets/base",
            "_model_module_version": "1.2.0",
            "_model_name": "LayoutModel",
            "_view_count": null,
            "_view_module": "@jupyter-widgets/base",
            "_view_module_version": "1.2.0",
            "_view_name": "LayoutView",
            "align_content": null,
            "align_items": null,
            "align_self": null,
            "border": null,
            "bottom": null,
            "display": null,
            "flex": null,
            "flex_flow": null,
            "grid_area": null,
            "grid_auto_columns": null,
            "grid_auto_flow": null,
            "grid_auto_rows": null,
            "grid_column": null,
            "grid_gap": null,
            "grid_row": null,
            "grid_template_areas": null,
            "grid_template_columns": null,
            "grid_template_rows": null,
            "height": null,
            "justify_content": null,
            "justify_items": null,
            "left": null,
            "margin": null,
            "max_height": null,
            "max_width": null,
            "min_height": null,
            "min_width": null,
            "object_fit": null,
            "object_position": null,
            "order": null,
            "overflow": null,
            "overflow_x": null,
            "overflow_y": null,
            "padding": null,
            "right": null,
            "top": null,
            "visibility": null,
            "width": null
          }
        },
        "6b0491ab0107496d9574b59215b047a8": {
          "model_module": "@jupyter-widgets/controls",
          "model_name": "ProgressStyleModel",
          "model_module_version": "1.5.0",
          "state": {
            "_model_module": "@jupyter-widgets/controls",
            "_model_module_version": "1.5.0",
            "_model_name": "ProgressStyleModel",
            "_view_count": null,
            "_view_module": "@jupyter-widgets/base",
            "_view_module_version": "1.2.0",
            "_view_name": "StyleView",
            "bar_color": null,
            "description_width": ""
          }
        },
        "c4d448cb210d474e82bba1e804b42f07": {
          "model_module": "@jupyter-widgets/base",
          "model_name": "LayoutModel",
          "model_module_version": "1.2.0",
          "state": {
            "_model_module": "@jupyter-widgets/base",
            "_model_module_version": "1.2.0",
            "_model_name": "LayoutModel",
            "_view_count": null,
            "_view_module": "@jupyter-widgets/base",
            "_view_module_version": "1.2.0",
            "_view_name": "LayoutView",
            "align_content": null,
            "align_items": null,
            "align_self": null,
            "border": null,
            "bottom": null,
            "display": null,
            "flex": null,
            "flex_flow": null,
            "grid_area": null,
            "grid_auto_columns": null,
            "grid_auto_flow": null,
            "grid_auto_rows": null,
            "grid_column": null,
            "grid_gap": null,
            "grid_row": null,
            "grid_template_areas": null,
            "grid_template_columns": null,
            "grid_template_rows": null,
            "height": null,
            "justify_content": null,
            "justify_items": null,
            "left": null,
            "margin": null,
            "max_height": null,
            "max_width": null,
            "min_height": null,
            "min_width": null,
            "object_fit": null,
            "object_position": null,
            "order": null,
            "overflow": null,
            "overflow_x": null,
            "overflow_y": null,
            "padding": null,
            "right": null,
            "top": null,
            "visibility": null,
            "width": null
          }
        },
        "3f61a524ce6749e897a21889aa6a7bae": {
          "model_module": "@jupyter-widgets/controls",
          "model_name": "DescriptionStyleModel",
          "model_module_version": "1.5.0",
          "state": {
            "_model_module": "@jupyter-widgets/controls",
            "_model_module_version": "1.5.0",
            "_model_name": "DescriptionStyleModel",
            "_view_count": null,
            "_view_module": "@jupyter-widgets/base",
            "_view_module_version": "1.2.0",
            "_view_name": "StyleView",
            "description_width": ""
          }
        },
        "7b494ce9eb584dcc81742f331812840a": {
          "model_module": "@jupyter-widgets/controls",
          "model_name": "HBoxModel",
          "model_module_version": "1.5.0",
          "state": {
            "_dom_classes": [],
            "_model_module": "@jupyter-widgets/controls",
            "_model_module_version": "1.5.0",
            "_model_name": "HBoxModel",
            "_view_count": null,
            "_view_module": "@jupyter-widgets/controls",
            "_view_module_version": "1.5.0",
            "_view_name": "HBoxView",
            "box_style": "",
            "children": [
              "IPY_MODEL_16f4432097664b01b1bbc6348c2cb444",
              "IPY_MODEL_9d12af2843ff4b869f7ac0aaa37a0730",
              "IPY_MODEL_ad80febe541941feadc9ac5762d1f5ce"
            ],
            "layout": "IPY_MODEL_f0dcc93dc5054bb9b0bf74a079b04dcd"
          }
        },
        "16f4432097664b01b1bbc6348c2cb444": {
          "model_module": "@jupyter-widgets/controls",
          "model_name": "HTMLModel",
          "model_module_version": "1.5.0",
          "state": {
            "_dom_classes": [],
            "_model_module": "@jupyter-widgets/controls",
            "_model_module_version": "1.5.0",
            "_model_name": "HTMLModel",
            "_view_count": null,
            "_view_module": "@jupyter-widgets/controls",
            "_view_module_version": "1.5.0",
            "_view_name": "HTMLView",
            "description": "",
            "description_tooltip": null,
            "layout": "IPY_MODEL_b30539f98d38487fbd5fd1c2f42152b5",
            "placeholder": "​",
            "style": "IPY_MODEL_1dc18c97a39147f2ad5e60a9726ec54d",
            "value": "100%"
          }
        },
        "9d12af2843ff4b869f7ac0aaa37a0730": {
          "model_module": "@jupyter-widgets/controls",
          "model_name": "FloatProgressModel",
          "model_module_version": "1.5.0",
          "state": {
            "_dom_classes": [],
            "_model_module": "@jupyter-widgets/controls",
            "_model_module_version": "1.5.0",
            "_model_name": "FloatProgressModel",
            "_view_count": null,
            "_view_module": "@jupyter-widgets/controls",
            "_view_module_version": "1.5.0",
            "_view_name": "ProgressView",
            "bar_style": "success",
            "description": "",
            "description_tooltip": null,
            "layout": "IPY_MODEL_16b9aa3e66fc4b5fbfee73e3866726e6",
            "max": 65,
            "min": 0,
            "orientation": "horizontal",
            "style": "IPY_MODEL_1b17acb4b68346d580a33a73c3235c4c",
            "value": 65
          }
        },
        "ad80febe541941feadc9ac5762d1f5ce": {
          "model_module": "@jupyter-widgets/controls",
          "model_name": "HTMLModel",
          "model_module_version": "1.5.0",
          "state": {
            "_dom_classes": [],
            "_model_module": "@jupyter-widgets/controls",
            "_model_module_version": "1.5.0",
            "_model_name": "HTMLModel",
            "_view_count": null,
            "_view_module": "@jupyter-widgets/controls",
            "_view_module_version": "1.5.0",
            "_view_name": "HTMLView",
            "description": "",
            "description_tooltip": null,
            "layout": "IPY_MODEL_141a2021661144329a403d90e8cc85c6",
            "placeholder": "​",
            "style": "IPY_MODEL_12d085a17e9948dc9d0de2c3b4d6887a",
            "value": " 65/65 [00:01&lt;00:00, 57.16it/s]"
          }
        },
        "f0dcc93dc5054bb9b0bf74a079b04dcd": {
          "model_module": "@jupyter-widgets/base",
          "model_name": "LayoutModel",
          "model_module_version": "1.2.0",
          "state": {
            "_model_module": "@jupyter-widgets/base",
            "_model_module_version": "1.2.0",
            "_model_name": "LayoutModel",
            "_view_count": null,
            "_view_module": "@jupyter-widgets/base",
            "_view_module_version": "1.2.0",
            "_view_name": "LayoutView",
            "align_content": null,
            "align_items": null,
            "align_self": null,
            "border": null,
            "bottom": null,
            "display": null,
            "flex": null,
            "flex_flow": null,
            "grid_area": null,
            "grid_auto_columns": null,
            "grid_auto_flow": null,
            "grid_auto_rows": null,
            "grid_column": null,
            "grid_gap": null,
            "grid_row": null,
            "grid_template_areas": null,
            "grid_template_columns": null,
            "grid_template_rows": null,
            "height": null,
            "justify_content": null,
            "justify_items": null,
            "left": null,
            "margin": null,
            "max_height": null,
            "max_width": null,
            "min_height": null,
            "min_width": null,
            "object_fit": null,
            "object_position": null,
            "order": null,
            "overflow": null,
            "overflow_x": null,
            "overflow_y": null,
            "padding": null,
            "right": null,
            "top": null,
            "visibility": null,
            "width": null
          }
        },
        "b30539f98d38487fbd5fd1c2f42152b5": {
          "model_module": "@jupyter-widgets/base",
          "model_name": "LayoutModel",
          "model_module_version": "1.2.0",
          "state": {
            "_model_module": "@jupyter-widgets/base",
            "_model_module_version": "1.2.0",
            "_model_name": "LayoutModel",
            "_view_count": null,
            "_view_module": "@jupyter-widgets/base",
            "_view_module_version": "1.2.0",
            "_view_name": "LayoutView",
            "align_content": null,
            "align_items": null,
            "align_self": null,
            "border": null,
            "bottom": null,
            "display": null,
            "flex": null,
            "flex_flow": null,
            "grid_area": null,
            "grid_auto_columns": null,
            "grid_auto_flow": null,
            "grid_auto_rows": null,
            "grid_column": null,
            "grid_gap": null,
            "grid_row": null,
            "grid_template_areas": null,
            "grid_template_columns": null,
            "grid_template_rows": null,
            "height": null,
            "justify_content": null,
            "justify_items": null,
            "left": null,
            "margin": null,
            "max_height": null,
            "max_width": null,
            "min_height": null,
            "min_width": null,
            "object_fit": null,
            "object_position": null,
            "order": null,
            "overflow": null,
            "overflow_x": null,
            "overflow_y": null,
            "padding": null,
            "right": null,
            "top": null,
            "visibility": null,
            "width": null
          }
        },
        "1dc18c97a39147f2ad5e60a9726ec54d": {
          "model_module": "@jupyter-widgets/controls",
          "model_name": "DescriptionStyleModel",
          "model_module_version": "1.5.0",
          "state": {
            "_model_module": "@jupyter-widgets/controls",
            "_model_module_version": "1.5.0",
            "_model_name": "DescriptionStyleModel",
            "_view_count": null,
            "_view_module": "@jupyter-widgets/base",
            "_view_module_version": "1.2.0",
            "_view_name": "StyleView",
            "description_width": ""
          }
        },
        "16b9aa3e66fc4b5fbfee73e3866726e6": {
          "model_module": "@jupyter-widgets/base",
          "model_name": "LayoutModel",
          "model_module_version": "1.2.0",
          "state": {
            "_model_module": "@jupyter-widgets/base",
            "_model_module_version": "1.2.0",
            "_model_name": "LayoutModel",
            "_view_count": null,
            "_view_module": "@jupyter-widgets/base",
            "_view_module_version": "1.2.0",
            "_view_name": "LayoutView",
            "align_content": null,
            "align_items": null,
            "align_self": null,
            "border": null,
            "bottom": null,
            "display": null,
            "flex": null,
            "flex_flow": null,
            "grid_area": null,
            "grid_auto_columns": null,
            "grid_auto_flow": null,
            "grid_auto_rows": null,
            "grid_column": null,
            "grid_gap": null,
            "grid_row": null,
            "grid_template_areas": null,
            "grid_template_columns": null,
            "grid_template_rows": null,
            "height": null,
            "justify_content": null,
            "justify_items": null,
            "left": null,
            "margin": null,
            "max_height": null,
            "max_width": null,
            "min_height": null,
            "min_width": null,
            "object_fit": null,
            "object_position": null,
            "order": null,
            "overflow": null,
            "overflow_x": null,
            "overflow_y": null,
            "padding": null,
            "right": null,
            "top": null,
            "visibility": null,
            "width": null
          }
        },
        "1b17acb4b68346d580a33a73c3235c4c": {
          "model_module": "@jupyter-widgets/controls",
          "model_name": "ProgressStyleModel",
          "model_module_version": "1.5.0",
          "state": {
            "_model_module": "@jupyter-widgets/controls",
            "_model_module_version": "1.5.0",
            "_model_name": "ProgressStyleModel",
            "_view_count": null,
            "_view_module": "@jupyter-widgets/base",
            "_view_module_version": "1.2.0",
            "_view_name": "StyleView",
            "bar_color": null,
            "description_width": ""
          }
        },
        "141a2021661144329a403d90e8cc85c6": {
          "model_module": "@jupyter-widgets/base",
          "model_name": "LayoutModel",
          "model_module_version": "1.2.0",
          "state": {
            "_model_module": "@jupyter-widgets/base",
            "_model_module_version": "1.2.0",
            "_model_name": "LayoutModel",
            "_view_count": null,
            "_view_module": "@jupyter-widgets/base",
            "_view_module_version": "1.2.0",
            "_view_name": "LayoutView",
            "align_content": null,
            "align_items": null,
            "align_self": null,
            "border": null,
            "bottom": null,
            "display": null,
            "flex": null,
            "flex_flow": null,
            "grid_area": null,
            "grid_auto_columns": null,
            "grid_auto_flow": null,
            "grid_auto_rows": null,
            "grid_column": null,
            "grid_gap": null,
            "grid_row": null,
            "grid_template_areas": null,
            "grid_template_columns": null,
            "grid_template_rows": null,
            "height": null,
            "justify_content": null,
            "justify_items": null,
            "left": null,
            "margin": null,
            "max_height": null,
            "max_width": null,
            "min_height": null,
            "min_width": null,
            "object_fit": null,
            "object_position": null,
            "order": null,
            "overflow": null,
            "overflow_x": null,
            "overflow_y": null,
            "padding": null,
            "right": null,
            "top": null,
            "visibility": null,
            "width": null
          }
        },
        "12d085a17e9948dc9d0de2c3b4d6887a": {
          "model_module": "@jupyter-widgets/controls",
          "model_name": "DescriptionStyleModel",
          "model_module_version": "1.5.0",
          "state": {
            "_model_module": "@jupyter-widgets/controls",
            "_model_module_version": "1.5.0",
            "_model_name": "DescriptionStyleModel",
            "_view_count": null,
            "_view_module": "@jupyter-widgets/base",
            "_view_module_version": "1.2.0",
            "_view_name": "StyleView",
            "description_width": ""
          }
        }
      }
    }
  },
  "cells": [
    {
      "cell_type": "markdown",
      "source": [
        "## DEPENDENCIES"
      ],
      "metadata": {
        "id": "pvss1Z6RD_WK"
      }
    },
    {
      "cell_type": "markdown",
      "source": [
        "Uncomment the following pip commands to install the necessary dependencies if it is the first time run.\n",
        "Then, reset the runtime and do not run the pip installs again."
      ],
      "metadata": {
        "id": "pE2Z79eHX68T"
      }
    },
    {
      "cell_type": "code",
      "source": [
        "# !pip install --user -U nltk\n",
        "# !pip install -U deep-translator\n",
        "# !pip install tqdm_notebook\n",
        "# !pip install pyldavis\n",
        "# !pip install vadersentiment"
      ],
      "metadata": {
        "id": "dUeRCIpw4yub",
        "colab": {
          "base_uri": "https://localhost:8080/"
        },
        "outputId": "f27b73ea-9bed-4ae0-f480-774cbbdb7720"
      },
      "execution_count": null,
      "outputs": [
        {
          "output_type": "stream",
          "name": "stderr",
          "text": [
            "/usr/local/lib/python3.10/dist-packages/ipykernel/ipkernel.py:283: DeprecationWarning: `should_run_async` will not call `transform_cell` automatically in the future. Please pass the result to `transformed_cell` argument and any exception that happen during thetransform in `preprocessing_exc_tuple` in IPython 7.17 and above.\n",
            "  and should_run_async(code)\n"
          ]
        }
      ]
    },
    {
      "cell_type": "code",
      "execution_count": null,
      "metadata": {
        "id": "OdpYDADIYyvM",
        "colab": {
          "base_uri": "https://localhost:8080/"
        },
        "outputId": "f01dd3f2-d32d-4bcf-815a-8b9709ec9bfd"
      },
      "outputs": [
        {
          "output_type": "stream",
          "name": "stderr",
          "text": [
            "/usr/local/lib/python3.10/dist-packages/ipykernel/ipkernel.py:283: DeprecationWarning: `should_run_async` will not call `transform_cell` automatically in the future. Please pass the result to `transformed_cell` argument and any exception that happen during thetransform in `preprocessing_exc_tuple` in IPython 7.17 and above.\n",
            "  and should_run_async(code)\n",
            "[nltk_data] Downloading package stopwords to /root/nltk_data...\n",
            "[nltk_data]   Package stopwords is already up-to-date!\n",
            "[nltk_data] Downloading package punkt to /root/nltk_data...\n",
            "[nltk_data]   Package punkt is already up-to-date!\n",
            "[nltk_data] Downloading package wordnet to /root/nltk_data...\n",
            "[nltk_data]   Package wordnet is already up-to-date!\n"
          ]
        }
      ],
      "source": [
        "from deep_translator import GoogleTranslator\n",
        "from matplotlib import pyplot as plt\n",
        "import nltk\n",
        "nltk.download('stopwords')\n",
        "nltk.download('punkt')\n",
        "nltk.download('wordnet')\n",
        "from nltk.corpus import stopwords\n",
        "from nltk.tokenize import word_tokenize\n",
        "from nltk.stem.snowball import PorterStemmer\n",
        "import gensim\n",
        "import pyLDAvis\n",
        "import pyLDAvis.gensim\n",
        "import re\n",
        "import numpy as np\n",
        "import pandas as pd\n",
        "import statistics\n",
        "import seaborn as sns\n",
        "from tqdm._tqdm_notebook import tqdm_notebook\n",
        "tqdm_notebook.pandas()\n",
        "from vaderSentiment.vaderSentiment import SentimentIntensityAnalyzer"
      ]
    },
    {
      "cell_type": "markdown",
      "source": [
        "## IMPORT DATA"
      ],
      "metadata": {
        "id": "QqMIYpNZEEaY"
      }
    },
    {
      "cell_type": "code",
      "source": [
        "df = pd.read_excel(\"Viva-Tec-data.xlsx\", sheet_name=\"Manage my booking\")\n",
        "df.rename({'_C_mo_podemos_mejorar_': 'Comment'}, axis=1, inplace=True)\n",
        "df = df.iloc[:200,:] # Daily average is 66\n",
        "df"
      ],
      "metadata": {
        "colab": {
          "base_uri": "https://localhost:8080/",
          "height": 479
        },
        "id": "A36gsDzhgVKb",
        "outputId": "48a635be-9ae3-4170-e921-29095b5cdd38"
      },
      "execution_count": null,
      "outputs": [
        {
          "output_type": "stream",
          "name": "stderr",
          "text": [
            "/usr/local/lib/python3.10/dist-packages/ipykernel/ipkernel.py:283: DeprecationWarning: `should_run_async` will not call `transform_cell` automatically in the future. Please pass the result to `transformed_cell` argument and any exception that happen during thetransform in `preprocessing_exc_tuple` in IPython 7.17 and above.\n",
            "  and should_run_async(code)\n"
          ]
        },
        {
          "output_type": "execute_result",
          "data": {
            "text/plain": [
              "                  Date  nps                                            Comment\n",
              "0  2023-03-01 03:34:41    6  No hay claridad en la pagina. Las opciones est...\n",
              "1  2023-03-01 02:18:07    1  no cobrando doblemente la seleccion de asiento...\n",
              "2  2023-02-28 23:50:15    6                                       NO ES CLARO.\n",
              "3  2023-02-28 23:32:35    7                  SON DEMASIADOS CARGOS ADICIONALES\n",
              "4  2023-02-28 20:44:16    0  El equipaje de la tarifa smart ya estaba pagad...\n",
              "..                 ...  ...                                                ...\n",
              "61 2023-02-25 04:33:33    8                                       trabajar mas\n",
              "62 2023-02-25 03:20:24    8                              cobra equipaje de mas\n",
              "63 2023-02-25 01:42:40    0                         No funciona bien l apagina\n",
              "64 2023-02-25 01:11:11    8  el proceso de pago cuando se hace el cambio es...\n",
              "65 2023-02-25 01:03:37    2  cambiando algunas politicas con su personal po...\n",
              "\n",
              "[66 rows x 3 columns]"
            ],
            "text/html": [
              "\n",
              "  <div id=\"df-3f6dfd30-96d8-427b-b9e6-ef3b45189bc8\">\n",
              "    <div class=\"colab-df-container\">\n",
              "      <div>\n",
              "<style scoped>\n",
              "    .dataframe tbody tr th:only-of-type {\n",
              "        vertical-align: middle;\n",
              "    }\n",
              "\n",
              "    .dataframe tbody tr th {\n",
              "        vertical-align: top;\n",
              "    }\n",
              "\n",
              "    .dataframe thead th {\n",
              "        text-align: right;\n",
              "    }\n",
              "</style>\n",
              "<table border=\"1\" class=\"dataframe\">\n",
              "  <thead>\n",
              "    <tr style=\"text-align: right;\">\n",
              "      <th></th>\n",
              "      <th>Date</th>\n",
              "      <th>nps</th>\n",
              "      <th>Comment</th>\n",
              "    </tr>\n",
              "  </thead>\n",
              "  <tbody>\n",
              "    <tr>\n",
              "      <th>0</th>\n",
              "      <td>2023-03-01 03:34:41</td>\n",
              "      <td>6</td>\n",
              "      <td>No hay claridad en la pagina. Las opciones est...</td>\n",
              "    </tr>\n",
              "    <tr>\n",
              "      <th>1</th>\n",
              "      <td>2023-03-01 02:18:07</td>\n",
              "      <td>1</td>\n",
              "      <td>no cobrando doblemente la seleccion de asiento...</td>\n",
              "    </tr>\n",
              "    <tr>\n",
              "      <th>2</th>\n",
              "      <td>2023-02-28 23:50:15</td>\n",
              "      <td>6</td>\n",
              "      <td>NO ES CLARO.</td>\n",
              "    </tr>\n",
              "    <tr>\n",
              "      <th>3</th>\n",
              "      <td>2023-02-28 23:32:35</td>\n",
              "      <td>7</td>\n",
              "      <td>SON DEMASIADOS CARGOS ADICIONALES</td>\n",
              "    </tr>\n",
              "    <tr>\n",
              "      <th>4</th>\n",
              "      <td>2023-02-28 20:44:16</td>\n",
              "      <td>0</td>\n",
              "      <td>El equipaje de la tarifa smart ya estaba pagad...</td>\n",
              "    </tr>\n",
              "    <tr>\n",
              "      <th>...</th>\n",
              "      <td>...</td>\n",
              "      <td>...</td>\n",
              "      <td>...</td>\n",
              "    </tr>\n",
              "    <tr>\n",
              "      <th>61</th>\n",
              "      <td>2023-02-25 04:33:33</td>\n",
              "      <td>8</td>\n",
              "      <td>trabajar mas</td>\n",
              "    </tr>\n",
              "    <tr>\n",
              "      <th>62</th>\n",
              "      <td>2023-02-25 03:20:24</td>\n",
              "      <td>8</td>\n",
              "      <td>cobra equipaje de mas</td>\n",
              "    </tr>\n",
              "    <tr>\n",
              "      <th>63</th>\n",
              "      <td>2023-02-25 01:42:40</td>\n",
              "      <td>0</td>\n",
              "      <td>No funciona bien l apagina</td>\n",
              "    </tr>\n",
              "    <tr>\n",
              "      <th>64</th>\n",
              "      <td>2023-02-25 01:11:11</td>\n",
              "      <td>8</td>\n",
              "      <td>el proceso de pago cuando se hace el cambio es...</td>\n",
              "    </tr>\n",
              "    <tr>\n",
              "      <th>65</th>\n",
              "      <td>2023-02-25 01:03:37</td>\n",
              "      <td>2</td>\n",
              "      <td>cambiando algunas politicas con su personal po...</td>\n",
              "    </tr>\n",
              "  </tbody>\n",
              "</table>\n",
              "<p>66 rows × 3 columns</p>\n",
              "</div>\n",
              "      <button class=\"colab-df-convert\" onclick=\"convertToInteractive('df-3f6dfd30-96d8-427b-b9e6-ef3b45189bc8')\"\n",
              "              title=\"Convert this dataframe to an interactive table.\"\n",
              "              style=\"display:none;\">\n",
              "        \n",
              "  <svg xmlns=\"http://www.w3.org/2000/svg\" height=\"24px\"viewBox=\"0 0 24 24\"\n",
              "       width=\"24px\">\n",
              "    <path d=\"M0 0h24v24H0V0z\" fill=\"none\"/>\n",
              "    <path d=\"M18.56 5.44l.94 2.06.94-2.06 2.06-.94-2.06-.94-.94-2.06-.94 2.06-2.06.94zm-11 1L8.5 8.5l.94-2.06 2.06-.94-2.06-.94L8.5 2.5l-.94 2.06-2.06.94zm10 10l.94 2.06.94-2.06 2.06-.94-2.06-.94-.94-2.06-.94 2.06-2.06.94z\"/><path d=\"M17.41 7.96l-1.37-1.37c-.4-.4-.92-.59-1.43-.59-.52 0-1.04.2-1.43.59L10.3 9.45l-7.72 7.72c-.78.78-.78 2.05 0 2.83L4 21.41c.39.39.9.59 1.41.59.51 0 1.02-.2 1.41-.59l7.78-7.78 2.81-2.81c.8-.78.8-2.07 0-2.86zM5.41 20L4 18.59l7.72-7.72 1.47 1.35L5.41 20z\"/>\n",
              "  </svg>\n",
              "      </button>\n",
              "      \n",
              "  <style>\n",
              "    .colab-df-container {\n",
              "      display:flex;\n",
              "      flex-wrap:wrap;\n",
              "      gap: 12px;\n",
              "    }\n",
              "\n",
              "    .colab-df-convert {\n",
              "      background-color: #E8F0FE;\n",
              "      border: none;\n",
              "      border-radius: 50%;\n",
              "      cursor: pointer;\n",
              "      display: none;\n",
              "      fill: #1967D2;\n",
              "      height: 32px;\n",
              "      padding: 0 0 0 0;\n",
              "      width: 32px;\n",
              "    }\n",
              "\n",
              "    .colab-df-convert:hover {\n",
              "      background-color: #E2EBFA;\n",
              "      box-shadow: 0px 1px 2px rgba(60, 64, 67, 0.3), 0px 1px 3px 1px rgba(60, 64, 67, 0.15);\n",
              "      fill: #174EA6;\n",
              "    }\n",
              "\n",
              "    [theme=dark] .colab-df-convert {\n",
              "      background-color: #3B4455;\n",
              "      fill: #D2E3FC;\n",
              "    }\n",
              "\n",
              "    [theme=dark] .colab-df-convert:hover {\n",
              "      background-color: #434B5C;\n",
              "      box-shadow: 0px 1px 3px 1px rgba(0, 0, 0, 0.15);\n",
              "      filter: drop-shadow(0px 1px 2px rgba(0, 0, 0, 0.3));\n",
              "      fill: #FFFFFF;\n",
              "    }\n",
              "  </style>\n",
              "\n",
              "      <script>\n",
              "        const buttonEl =\n",
              "          document.querySelector('#df-3f6dfd30-96d8-427b-b9e6-ef3b45189bc8 button.colab-df-convert');\n",
              "        buttonEl.style.display =\n",
              "          google.colab.kernel.accessAllowed ? 'block' : 'none';\n",
              "\n",
              "        async function convertToInteractive(key) {\n",
              "          const element = document.querySelector('#df-3f6dfd30-96d8-427b-b9e6-ef3b45189bc8');\n",
              "          const dataTable =\n",
              "            await google.colab.kernel.invokeFunction('convertToInteractive',\n",
              "                                                     [key], {});\n",
              "          if (!dataTable) return;\n",
              "\n",
              "          const docLinkHtml = 'Like what you see? Visit the ' +\n",
              "            '<a target=\"_blank\" href=https://colab.research.google.com/notebooks/data_table.ipynb>data table notebook</a>'\n",
              "            + ' to learn more about interactive tables.';\n",
              "          element.innerHTML = '';\n",
              "          dataTable['output_type'] = 'display_data';\n",
              "          await google.colab.output.renderOutput(dataTable, element);\n",
              "          const docLink = document.createElement('div');\n",
              "          docLink.innerHTML = docLinkHtml;\n",
              "          element.appendChild(docLink);\n",
              "        }\n",
              "      </script>\n",
              "    </div>\n",
              "  </div>\n",
              "  "
            ]
          },
          "metadata": {},
          "execution_count": 4
        }
      ]
    },
    {
      "cell_type": "markdown",
      "source": [
        "## EXPLORATION"
      ],
      "metadata": {
        "id": "tgBkY2RLEk4i"
      }
    },
    {
      "cell_type": "code",
      "source": [
        "unique = []\n",
        "\n",
        "for i, text in enumerate(df[\"Comment\"]):\n",
        "  text = str(text).lower()\n",
        "  x = len(text.split())\n",
        "  if x == 1 and len(text) < 4:\n",
        "    if text not in unique:\n",
        "      unique.append(text)\n",
        "\n",
        "print(len(unique))\n",
        "print(unique)"
      ],
      "metadata": {
        "id": "v1WsshBPpEDU",
        "outputId": "f0e2fc2d-aedd-47f0-a5e6-c2a756efd3e7",
        "colab": {
          "base_uri": "https://localhost:8080/"
        }
      },
      "execution_count": null,
      "outputs": [
        {
          "output_type": "stream",
          "name": "stdout",
          "text": [
            "2\n",
            "['si', 'ss']\n"
          ]
        },
        {
          "output_type": "stream",
          "name": "stderr",
          "text": [
            "/usr/local/lib/python3.10/dist-packages/ipykernel/ipkernel.py:283: DeprecationWarning: `should_run_async` will not call `transform_cell` automatically in the future. Please pass the result to `transformed_cell` argument and any exception that happen during thetransform in `preprocessing_exc_tuple` in IPython 7.17 and above.\n",
            "  and should_run_async(code)\n"
          ]
        }
      ]
    },
    {
      "cell_type": "markdown",
      "source": [
        "### NPS Score"
      ],
      "metadata": {
        "id": "VbProZX5H5zN"
      }
    },
    {
      "cell_type": "code",
      "source": [
        "plt.title(\"NPS\")\n",
        "plt.hist(df[\"nps\"])"
      ],
      "metadata": {
        "colab": {
          "base_uri": "https://localhost:8080/",
          "height": 561
        },
        "id": "WpEUUl11g1T-",
        "outputId": "8cb8b190-f63c-49f2-826d-6b44cc504ab7"
      },
      "execution_count": null,
      "outputs": [
        {
          "output_type": "stream",
          "name": "stderr",
          "text": [
            "/usr/local/lib/python3.10/dist-packages/ipykernel/ipkernel.py:283: DeprecationWarning: `should_run_async` will not call `transform_cell` automatically in the future. Please pass the result to `transformed_cell` argument and any exception that happen during thetransform in `preprocessing_exc_tuple` in IPython 7.17 and above.\n",
            "  and should_run_async(code)\n"
          ]
        },
        {
          "output_type": "execute_result",
          "data": {
            "text/plain": [
              "(array([16.,  3.,  5.,  1.,  0.,  1.,  7., 10.,  3., 20.]),\n",
              " array([0. , 0.8, 1.6, 2.4, 3.2, 4. , 4.8, 5.6, 6.4, 7.2, 8. ]),\n",
              " <BarContainer object of 10 artists>)"
            ]
          },
          "metadata": {},
          "execution_count": 6
        },
        {
          "output_type": "display_data",
          "data": {
            "text/plain": [
              "<Figure size 640x480 with 1 Axes>"
            ],
            "image/png": "[encoded data removed]"
          },
          "metadata": {}
        }
      ]
    },
    {
      "cell_type": "code",
      "source": [
        "promoters_count = len(df[df.nps >= 9])\n",
        "promoters = promoters_count / len(df)\n",
        "\n",
        "detractors_count = len(df[df.nps <= 6])\n",
        "detractors = detractors_count / len(df)\n",
        "\n",
        "nps_score = (promoters - detractors) * 100\n",
        "print(\"Weighted NPS score = {}\".format(nps_score))\n",
        "print(\"NPS Score = %promoters(10-9) - %ditractor(>6)\")"
      ],
      "metadata": {
        "id": "BzRbnn_dwP87",
        "colab": {
          "base_uri": "https://localhost:8080/"
        },
        "outputId": "ba380e11-ebf1-427a-a3be-4094f6cfd7c1"
      },
      "execution_count": null,
      "outputs": [
        {
          "output_type": "stream",
          "name": "stdout",
          "text": [
            "Weighted NPS score = -65.15151515151516\n",
            "NPS Score = %promoters(10-9) - %ditractor(>6)\n"
          ]
        },
        {
          "output_type": "stream",
          "name": "stderr",
          "text": [
            "/usr/local/lib/python3.10/dist-packages/ipykernel/ipkernel.py:283: DeprecationWarning: `should_run_async` will not call `transform_cell` automatically in the future. Please pass the result to `transformed_cell` argument and any exception that happen during thetransform in `preprocessing_exc_tuple` in IPython 7.17 and above.\n",
            "  and should_run_async(code)\n"
          ]
        }
      ]
    },
    {
      "cell_type": "markdown",
      "source": [
        "### TIME"
      ],
      "metadata": {
        "id": "0ZN0xtONaz_6"
      }
    },
    {
      "cell_type": "code",
      "source": [
        "def removeTime(row):\n",
        "  return row.date()"
      ],
      "metadata": {
        "colab": {
          "base_uri": "https://localhost:8080/"
        },
        "id": "xZnIvtf2a-iZ",
        "outputId": "a81916cf-462e-43d6-95cc-b7a5a6e79686"
      },
      "execution_count": null,
      "outputs": [
        {
          "output_type": "stream",
          "name": "stderr",
          "text": [
            "/usr/local/lib/python3.10/dist-packages/ipykernel/ipkernel.py:283: DeprecationWarning: `should_run_async` will not call `transform_cell` automatically in the future. Please pass the result to `transformed_cell` argument and any exception that happen during thetransform in `preprocessing_exc_tuple` in IPython 7.17 and above.\n",
            "  and should_run_async(code)\n"
          ]
        }
      ]
    },
    {
      "cell_type": "code",
      "source": [
        "df_time = df.copy()\n",
        "df_time['Date'] = pd.to_datetime(df_time.Date)\n",
        "df_time['Date'] = df_time.Date.apply(removeTime)\n",
        "df_time = df_time.groupby(['Date']).count()\n",
        "df_time.shape"
      ],
      "metadata": {
        "colab": {
          "base_uri": "https://localhost:8080/"
        },
        "id": "Jp1Ej1kiazkO",
        "outputId": "fb2f6612-1b29-4278-c2b8-12a4459fe4e2"
      },
      "execution_count": null,
      "outputs": [
        {
          "output_type": "stream",
          "name": "stderr",
          "text": [
            "/usr/local/lib/python3.10/dist-packages/ipykernel/ipkernel.py:283: DeprecationWarning: `should_run_async` will not call `transform_cell` automatically in the future. Please pass the result to `transformed_cell` argument and any exception that happen during thetransform in `preprocessing_exc_tuple` in IPython 7.17 and above.\n",
            "  and should_run_async(code)\n"
          ]
        },
        {
          "output_type": "execute_result",
          "data": {
            "text/plain": [
              "(5, 2)"
            ]
          },
          "metadata": {},
          "execution_count": 9
        }
      ]
    },
    {
      "cell_type": "code",
      "source": [
        "df_time = df_time.drop(\"Comment\", axis=1)\n",
        "df_time.rename({'nps': 'Reviews'}, axis=1, inplace=True)"
      ],
      "metadata": {
        "colab": {
          "base_uri": "https://localhost:8080/"
        },
        "id": "us1V__EEbikz",
        "outputId": "49ab28fd-8805-4436-d76c-55d3324e67ff"
      },
      "execution_count": null,
      "outputs": [
        {
          "output_type": "stream",
          "name": "stderr",
          "text": [
            "/usr/local/lib/python3.10/dist-packages/ipykernel/ipkernel.py:283: DeprecationWarning: `should_run_async` will not call `transform_cell` automatically in the future. Please pass the result to `transformed_cell` argument and any exception that happen during thetransform in `preprocessing_exc_tuple` in IPython 7.17 and above.\n",
            "  and should_run_async(code)\n"
          ]
        }
      ]
    },
    {
      "cell_type": "code",
      "source": [
        "line_plot = sns.lineplot(data=df_time, x=\"Date\", y=\"Reviews\")\n",
        "line_plot.set_xticklabels(line_plot.get_xticklabels(), rotation=30)"
      ],
      "metadata": {
        "colab": {
          "base_uri": "https://localhost:8080/",
          "height": 734
        },
        "id": "9UuHpCAmcMVA",
        "outputId": "6aff70f0-8656-4695-ba86-90ee5a991050"
      },
      "execution_count": null,
      "outputs": [
        {
          "output_type": "stream",
          "name": "stderr",
          "text": [
            "/usr/local/lib/python3.10/dist-packages/ipykernel/ipkernel.py:283: DeprecationWarning: `should_run_async` will not call `transform_cell` automatically in the future. Please pass the result to `transformed_cell` argument and any exception that happen during thetransform in `preprocessing_exc_tuple` in IPython 7.17 and above.\n",
            "  and should_run_async(code)\n",
            "<ipython-input-11-888df913a8a3>:2: UserWarning: FixedFormatter should only be used together with FixedLocator\n",
            "  line_plot.set_xticklabels(line_plot.get_xticklabels(), rotation=30)\n"
          ]
        },
        {
          "output_type": "execute_result",
          "data": {
            "text/plain": [
              "[Text(19413.0, 0, '02-25 00'),\n",
              " Text(19413.5, 0, '02-25 12'),\n",
              " Text(19414.0, 0, '02-26 00'),\n",
              " Text(19414.5, 0, '02-26 12'),\n",
              " Text(19415.0, 0, '02-27 00'),\n",
              " Text(19415.5, 0, '02-27 12'),\n",
              " Text(19416.0, 0, '02-28 00'),\n",
              " Text(19416.5, 0, '02-28 12'),\n",
              " Text(19417.0, 0, '03-01 00')]"
            ]
          },
          "metadata": {},
          "execution_count": 11
        },
        {
          "output_type": "display_data",
          "data": {
            "text/plain": [
              "<Figure size 640x480 with 1 Axes>"
            ],
            "image/png": "[encoded data removed]"
          },
          "metadata": {}
        }
      ]
    },
    {
      "cell_type": "code",
      "source": [
        "daily_average = sum(df_time.Reviews)/df_time.shape[0]\n",
        "daily_average"
      ],
      "metadata": {
        "colab": {
          "base_uri": "https://localhost:8080/"
        },
        "id": "p193vX4Dx-Oo",
        "outputId": "8e4868b7-72a0-431d-ea30-56d7f549ff2b"
      },
      "execution_count": null,
      "outputs": [
        {
          "output_type": "stream",
          "name": "stderr",
          "text": [
            "/usr/local/lib/python3.10/dist-packages/ipykernel/ipkernel.py:283: DeprecationWarning: `should_run_async` will not call `transform_cell` automatically in the future. Please pass the result to `transformed_cell` argument and any exception that happen during thetransform in `preprocessing_exc_tuple` in IPython 7.17 and above.\n",
            "  and should_run_async(code)\n"
          ]
        },
        {
          "output_type": "execute_result",
          "data": {
            "text/plain": [
              "13.2"
            ]
          },
          "metadata": {},
          "execution_count": 12
        }
      ]
    },
    {
      "cell_type": "markdown",
      "source": [
        "## PRE-PROCESSING"
      ],
      "metadata": {
        "id": "9tQKwd17EirA"
      }
    },
    {
      "cell_type": "markdown",
      "source": [
        "###Filter: spanish\n",
        "\n",
        "In this step any entries below 3 characters are inspected to certify they contain relevant information and not just trash data like empty text, periods or such. Additionally, the data can contain irregular characters such as emojis or emoticons that can convey relevant customer data. These responses are mapped to equivalent emotions to be analyzed by sentiment. This section also calcultes the mean length of entries and removes empty or useless data."
      ],
      "metadata": {
        "id": "pAHByH0WEyq0"
      }
    },
    {
      "cell_type": "code",
      "source": [
        "avg = 0\n",
        "max_len = 0\n",
        "min_len = 1000000\n",
        "\n",
        "# Declare tokens of lenght less than 3 that are considered relevant feedback\n",
        "desired_tokens = [\"si\", \"no\", \"ok\"]\n",
        "# Converte emojis and emoticons to quantifiable and manageable data based on type of reaction\n",
        "happy_emojis = [\":)\", \"(:\", \"(;\", '👍', \";)\", \";D\", \":D\", \"😊\", \"=)\", \"😇\", \"👌🏻\"]\n",
        "sad_emojis = [\"=(\", \":/\", \"):\", \":(\", \");\", \";(\", \"🙁\",\"😭\",\"😢\"]\n",
        "drop_list = []\n",
        "\n",
        "for i, text in enumerate(df[\"Comment\"]):\n",
        "  text = str(text).lower()\n",
        "  x = len(text.split())\n",
        "  if text in happy_emojis:\n",
        "    df.loc[i, \"Comment\"] = \"feliz\"\n",
        "  elif text in sad_emojis:\n",
        "    df.loc[i, \"Comment\"] = \"triste\"\n",
        "  elif x == 1 and len(text) < 3 and text not in desired_tokens:\n",
        "      drop_list.append(i)\n",
        "      continue\n",
        "  avg += x\n",
        "  if x > max_len:\n",
        "    max_len = x\n",
        "  elif x < min_len:                                     \n",
        "    min_len = x\n",
        "\n",
        "avg /= len(df[\"Comment\"])\n",
        "print(\"LENGTH\\nAvg = {} / Max {} / Min {}\\n\".format(avg, max_len, min_len))\n",
        "print(\"DROP\\nDrop {} invalid reviews\".format(len(drop_list)))\n",
        "print(\"NaN comments dropped {}\".format(df['Comment'].isna().sum()))"
      ],
      "metadata": {
        "colab": {
          "base_uri": "https://localhost:8080/"
        },
        "id": "wrGzJLn_gW2z",
        "outputId": "c6583e48-4722-4b8f-f3fd-12549154b033"
      },
      "execution_count": null,
      "outputs": [
        {
          "output_type": "stream",
          "name": "stdout",
          "text": [
            "LENGTH\n",
            "Avg = 13.818181818181818 / Max 76 / Min 1\n",
            "\n",
            "DROP\n",
            "Drop 1 invalid reviews\n",
            "NaN comments dropped 0\n"
          ]
        },
        {
          "output_type": "stream",
          "name": "stderr",
          "text": [
            "/usr/local/lib/python3.10/dist-packages/ipykernel/ipkernel.py:283: DeprecationWarning: `should_run_async` will not call `transform_cell` automatically in the future. Please pass the result to `transformed_cell` argument and any exception that happen during thetransform in `preprocessing_exc_tuple` in IPython 7.17 and above.\n",
            "  and should_run_async(code)\n"
          ]
        }
      ]
    },
    {
      "cell_type": "code",
      "source": [
        "# Remove trash entries or nonsensical input\n",
        "df = df.drop(labels=drop_list)\n",
        "df = df.dropna()"
      ],
      "metadata": {
        "id": "tDVnBR2YwAF1",
        "colab": {
          "base_uri": "https://localhost:8080/"
        },
        "outputId": "b0729785-6595-41df-d68f-95dbe6c6bc15"
      },
      "execution_count": null,
      "outputs": [
        {
          "output_type": "stream",
          "name": "stderr",
          "text": [
            "/usr/local/lib/python3.10/dist-packages/ipykernel/ipkernel.py:283: DeprecationWarning: `should_run_async` will not call `transform_cell` automatically in the future. Please pass the result to `transformed_cell` argument and any exception that happen during thetransform in `preprocessing_exc_tuple` in IPython 7.17 and above.\n",
            "  and should_run_async(code)\n"
          ]
        }
      ]
    },
    {
      "cell_type": "markdown",
      "source": [
        "### Translation\n",
        "\n",
        "The processed data is loaded into the Google Translate library to translate all comments from spanish to english. Any comments written in english are skipped. This is done because the sentiment analysis models are trained using text in english."
      ],
      "metadata": {
        "id": "XxDa5BBAFNzm"
      }
    },
    {
      "cell_type": "code",
      "source": [
        "def translate(row):\n",
        "  r = str(row)\n",
        "  try:\n",
        "    t  = GoogleTranslator(source='es', target='en').translate(str(r))\n",
        "    return t\n",
        "  except:\n",
        "    return \"NVT\""
      ],
      "metadata": {
        "id": "wyQNg6QLTk9t",
        "colab": {
          "base_uri": "https://localhost:8080/"
        },
        "outputId": "0ed6e7a8-486b-4a46-aaac-1c2b3745d1a2"
      },
      "execution_count": null,
      "outputs": [
        {
          "output_type": "stream",
          "name": "stderr",
          "text": [
            "/usr/local/lib/python3.10/dist-packages/ipykernel/ipkernel.py:283: DeprecationWarning: `should_run_async` will not call `transform_cell` automatically in the future. Please pass the result to `transformed_cell` argument and any exception that happen during thetransform in `preprocessing_exc_tuple` in IPython 7.17 and above.\n",
            "  and should_run_async(code)\n"
          ]
        }
      ]
    },
    {
      "cell_type": "code",
      "source": [
        "df['translation'] = df.Comment.progress_apply(translate)\n",
        "df = df.drop(axis = 1, labels = 'Comment') \n",
        "df.rename({'translation': 'Comment'}, axis=1, inplace=True)"
      ],
      "metadata": {
        "id": "TlBPHUrcFSX4",
        "colab": {
          "base_uri": "https://localhost:8080/",
          "height": 105,
          "referenced_widgets": [
            "9a47bfc410f54b40b4162cafd204efa6",
            "68a17ed3b3214ab7a874dcfd922800e0",
            "487f550ec0604abda27276f44c834a78",
            "54560875cef64b5797c693a27bcf0be1",
            "d59b86e3557647d286b32bdff8452e97",
            "3d6d32e528d448c5aca32faffae8252e",
            "c7915f6044704b94b924f6879bd6c132",
            "6eec5f43d05c49408003513fdfee07c9",
            "6b0491ab0107496d9574b59215b047a8",
            "c4d448cb210d474e82bba1e804b42f07",
            "3f61a524ce6749e897a21889aa6a7bae"
          ]
        },
        "outputId": "b88399ec-8604-4155-d71e-876d21d8d882"
      },
      "execution_count": null,
      "outputs": [
        {
          "output_type": "stream",
          "name": "stderr",
          "text": [
            "/usr/local/lib/python3.10/dist-packages/ipykernel/ipkernel.py:283: DeprecationWarning: `should_run_async` will not call `transform_cell` automatically in the future. Please pass the result to `transformed_cell` argument and any exception that happen during thetransform in `preprocessing_exc_tuple` in IPython 7.17 and above.\n",
            "  and should_run_async(code)\n"
          ]
        },
        {
          "output_type": "display_data",
          "data": {
            "text/plain": [
              "  0%|          | 0/65 [00:00<?, ?it/s]"
            ],
            "application/vnd.jupyter.widget-view+json": {
              "version_major": 2,
              "version_minor": 0,
              "model_id": "9a47bfc410f54b40b4162cafd204efa6"
            }
          },
          "metadata": {}
        }
      ]
    },
    {
      "cell_type": "markdown",
      "source": [
        "###Filter: english\n",
        "\n",
        "The translated model is once again filtered to ensure only relevant entries are considered and included in the following sentiment analysis and topic modeling. It is important to note that for sentiment analysis, the processed data is input directly with punctuation and capitalization in order to extract the most accurate interpretation. On the other hand, topic modeling is done with the simplified, tokenized words in order to focus entirely on the core ideas."
      ],
      "metadata": {
        "id": "x-zJbzbSE_6p"
      }
    },
    {
      "cell_type": "code",
      "source": [
        "avg = 0\n",
        "max_len = 0\n",
        "min_len = 1000000\n",
        "\n",
        "# Declare tokens of lenght less than 3 that are considered relevant feedback\n",
        "desired_tokens = [\"no\", \"ok\", \"wow\", \"lol\", \"all\", \"wow\", \"bye\", \"sad\"]\n",
        "# Converte emojis and emoticons to quantifiable and manageable data based on type of reaction\n",
        "happy_emojis = [\":)\", \"(:\", \"(;\", '👍', \";)\", \";D\", \":D\", \"😊\", \"=)\", \"😇\", \"👌🏻\"]\n",
        "sad_emojis = [\"=(\", \":/\", \"):\", \":(\", \");\", \";(\", \"🙁\",\"😭\",\"😢\"]\n",
        "drop_list = []\n",
        "\n",
        "for i, text in enumerate(df[\"Comment\"]):\n",
        "  text = str(text).lower()\n",
        "  x = len(text.split())\n",
        "  if text in happy_emojis:\n",
        "    df.loc[i, \"Comment\"] = \"feliz\"\n",
        "  elif text in sad_emojis:\n",
        "    df.loc[i, \"Comment\"] = \"triste\"\n",
        "  elif x == 1 and len(text) < 4 and text not in desired_tokens:\n",
        "      drop_list.append(i)\n",
        "      continue\n",
        "  avg += x\n",
        "  if x > max_len:\n",
        "    max_len = x\n",
        "  elif x < min_len:                                     \n",
        "    min_len = x\n",
        "\n",
        "avg /= len(df[\"Comment\"])\n",
        "print(\"LENGTH\\nAvg = {} / Max {} / Min {}\\n\".format(avg, max_len, min_len))\n",
        "print(\"DROP\\nDrop {} invalid reviews\".format(len(drop_list)))\n",
        "print(\"NaN comments dropped {}\".format(df['Comment'].isna().sum()))"
      ],
      "metadata": {
        "id": "eVGQceFPEZRO",
        "colab": {
          "base_uri": "https://localhost:8080/"
        },
        "outputId": "f3983afd-e960-48f3-ad3b-2a304c655530"
      },
      "execution_count": null,
      "outputs": [
        {
          "output_type": "stream",
          "name": "stdout",
          "text": [
            "LENGTH\n",
            "Avg = 14.96923076923077 / Max 83 / Min 1\n",
            "\n",
            "DROP\n",
            "Drop 0 invalid reviews\n",
            "NaN comments dropped 0\n"
          ]
        },
        {
          "output_type": "stream",
          "name": "stderr",
          "text": [
            "/usr/local/lib/python3.10/dist-packages/ipykernel/ipkernel.py:283: DeprecationWarning: `should_run_async` will not call `transform_cell` automatically in the future. Please pass the result to `transformed_cell` argument and any exception that happen during thetransform in `preprocessing_exc_tuple` in IPython 7.17 and above.\n",
            "  and should_run_async(code)\n"
          ]
        }
      ]
    },
    {
      "cell_type": "markdown",
      "source": [
        "### Tokenization & Remove Stopwords\n",
        "\n",
        "In order to perform topic modeling, the processed comments are tokenized (separated into individual words) and the stop words are removed. Stop words are unnecesary connecting words, prepositions or other words without key value. These are removed to get a clearer understanding of the core ideas included in the dataset. "
      ],
      "metadata": {
        "id": "ZrUPrUoB4ZFF"
      }
    },
    {
      "cell_type": "code",
      "source": [
        "# Get list of stopwords\n",
        "stop_words = set(stopwords.words('english'))\n",
        "stop_words.add('easy')\n",
        "\n",
        "df_stop = df.copy()\n",
        "stop_series = []\n",
        "filtered = []\n",
        "\n",
        "# Use regex to remove punctuation and tokenize\n",
        "for i, text in enumerate(df['Comment']):\n",
        "  text = re.sub(r'[^\\w\\s]', '', text)\n",
        "  word_tokens = str(text).split()\n",
        "\n",
        "  filtered = []\n",
        "  for w in word_tokens:\n",
        "    if w.lower() not in stop_words:\n",
        "      filtered.append(w.lower())\n",
        "  \n",
        "  stop_series.append(filtered)\n",
        "\n",
        "df_stop['Filtered'] = stop_series\n",
        "\n",
        "df_stop"
      ],
      "metadata": {
        "id": "Q6JryEjo4bzi",
        "colab": {
          "base_uri": "https://localhost:8080/",
          "height": 479
        },
        "outputId": "020cedfe-9ffd-413f-e651-f3196b70fb3b"
      },
      "execution_count": null,
      "outputs": [
        {
          "output_type": "stream",
          "name": "stderr",
          "text": [
            "/usr/local/lib/python3.10/dist-packages/ipykernel/ipkernel.py:283: DeprecationWarning: `should_run_async` will not call `transform_cell` automatically in the future. Please pass the result to `transformed_cell` argument and any exception that happen during thetransform in `preprocessing_exc_tuple` in IPython 7.17 and above.\n",
            "  and should_run_async(code)\n"
          ]
        },
        {
          "output_type": "execute_result",
          "data": {
            "text/plain": [
              "                  Date  nps   \n",
              "0  2023-03-01 03:34:41    6  \\\n",
              "1  2023-03-01 02:18:07    1   \n",
              "2  2023-02-28 23:50:15    6   \n",
              "3  2023-02-28 23:32:35    7   \n",
              "4  2023-02-28 20:44:16    0   \n",
              "..                 ...  ...   \n",
              "61 2023-02-25 04:33:33    8   \n",
              "62 2023-02-25 03:20:24    8   \n",
              "63 2023-02-25 01:42:40    0   \n",
              "64 2023-02-25 01:11:11    8   \n",
              "65 2023-02-25 01:03:37    2   \n",
              "\n",
              "                                              Comment   \n",
              "0   There is no clarity on the page. The options a...  \\\n",
              "1   not double charging for seat selection when ch...   \n",
              "2                                     IT'S NOT CLEAR.   \n",
              "3               THESE ARE TOO MANY ADDITIONAL CHARGES   \n",
              "4   The smart fare baggage was already paid for, a...   \n",
              "..                                                ...   \n",
              "61                                          Work more   \n",
              "62                               charge extra baggage   \n",
              "63                        The page does not work well   \n",
              "64  The payment process when the change is made is...   \n",
              "65  changing some policies with their staff becaus...   \n",
              "\n",
              "                                             Filtered  \n",
              "0         [clarity, page, options, jumbled, disarray]  \n",
              "1   [double, charging, seat, selection, changing, ...  \n",
              "2                                             [clear]  \n",
              "3                         [many, additional, charges]  \n",
              "4   [smart, fare, baggage, already, paid, making, ...  \n",
              "..                                                ...  \n",
              "61                                             [work]  \n",
              "62                           [charge, extra, baggage]  \n",
              "63                                 [page, work, well]  \n",
              "64  [payment, process, change, made, somewhat, con...  \n",
              "65  [changing, policies, staff, many, times, peopl...  \n",
              "\n",
              "[65 rows x 4 columns]"
            ],
            "text/html": [
              "\n",
              "  <div id=\"df-ffd13ac1-fb23-4245-a068-93a80f6c86f6\">\n",
              "    <div class=\"colab-df-container\">\n",
              "      <div>\n",
              "<style scoped>\n",
              "    .dataframe tbody tr th:only-of-type {\n",
              "        vertical-align: middle;\n",
              "    }\n",
              "\n",
              "    .dataframe tbody tr th {\n",
              "        vertical-align: top;\n",
              "    }\n",
              "\n",
              "    .dataframe thead th {\n",
              "        text-align: right;\n",
              "    }\n",
              "</style>\n",
              "<table border=\"1\" class=\"dataframe\">\n",
              "  <thead>\n",
              "    <tr style=\"text-align: right;\">\n",
              "      <th></th>\n",
              "      <th>Date</th>\n",
              "      <th>nps</th>\n",
              "      <th>Comment</th>\n",
              "      <th>Filtered</th>\n",
              "    </tr>\n",
              "  </thead>\n",
              "  <tbody>\n",
              "    <tr>\n",
              "      <th>0</th>\n",
              "      <td>2023-03-01 03:34:41</td>\n",
              "      <td>6</td>\n",
              "      <td>There is no clarity on the page. The options a...</td>\n",
              "      <td>[clarity, page, options, jumbled, disarray]</td>\n",
              "    </tr>\n",
              "    <tr>\n",
              "      <th>1</th>\n",
              "      <td>2023-03-01 02:18:07</td>\n",
              "      <td>1</td>\n",
              "      <td>not double charging for seat selection when ch...</td>\n",
              "      <td>[double, charging, seat, selection, changing, ...</td>\n",
              "    </tr>\n",
              "    <tr>\n",
              "      <th>2</th>\n",
              "      <td>2023-02-28 23:50:15</td>\n",
              "      <td>6</td>\n",
              "      <td>IT'S NOT CLEAR.</td>\n",
              "      <td>[clear]</td>\n",
              "    </tr>\n",
              "    <tr>\n",
              "      <th>3</th>\n",
              "      <td>2023-02-28 23:32:35</td>\n",
              "      <td>7</td>\n",
              "      <td>THESE ARE TOO MANY ADDITIONAL CHARGES</td>\n",
              "      <td>[many, additional, charges]</td>\n",
              "    </tr>\n",
              "    <tr>\n",
              "      <th>4</th>\n",
              "      <td>2023-02-28 20:44:16</td>\n",
              "      <td>0</td>\n",
              "      <td>The smart fare baggage was already paid for, a...</td>\n",
              "      <td>[smart, fare, baggage, already, paid, making, ...</td>\n",
              "    </tr>\n",
              "    <tr>\n",
              "      <th>...</th>\n",
              "      <td>...</td>\n",
              "      <td>...</td>\n",
              "      <td>...</td>\n",
              "      <td>...</td>\n",
              "    </tr>\n",
              "    <tr>\n",
              "      <th>61</th>\n",
              "      <td>2023-02-25 04:33:33</td>\n",
              "      <td>8</td>\n",
              "      <td>Work more</td>\n",
              "      <td>[work]</td>\n",
              "    </tr>\n",
              "    <tr>\n",
              "      <th>62</th>\n",
              "      <td>2023-02-25 03:20:24</td>\n",
              "      <td>8</td>\n",
              "      <td>charge extra baggage</td>\n",
              "      <td>[charge, extra, baggage]</td>\n",
              "    </tr>\n",
              "    <tr>\n",
              "      <th>63</th>\n",
              "      <td>2023-02-25 01:42:40</td>\n",
              "      <td>0</td>\n",
              "      <td>The page does not work well</td>\n",
              "      <td>[page, work, well]</td>\n",
              "    </tr>\n",
              "    <tr>\n",
              "      <th>64</th>\n",
              "      <td>2023-02-25 01:11:11</td>\n",
              "      <td>8</td>\n",
              "      <td>The payment process when the change is made is...</td>\n",
              "      <td>[payment, process, change, made, somewhat, con...</td>\n",
              "    </tr>\n",
              "    <tr>\n",
              "      <th>65</th>\n",
              "      <td>2023-02-25 01:03:37</td>\n",
              "      <td>2</td>\n",
              "      <td>changing some policies with their staff becaus...</td>\n",
              "      <td>[changing, policies, staff, many, times, peopl...</td>\n",
              "    </tr>\n",
              "  </tbody>\n",
              "</table>\n",
              "<p>65 rows × 4 columns</p>\n",
              "</div>\n",
              "      <button class=\"colab-df-convert\" onclick=\"convertToInteractive('df-ffd13ac1-fb23-4245-a068-93a80f6c86f6')\"\n",
              "              title=\"Convert this dataframe to an interactive table.\"\n",
              "              style=\"display:none;\">\n",
              "        \n",
              "  <svg xmlns=\"http://www.w3.org/2000/svg\" height=\"24px\"viewBox=\"0 0 24 24\"\n",
              "       width=\"24px\">\n",
              "    <path d=\"M0 0h24v24H0V0z\" fill=\"none\"/>\n",
              "    <path d=\"M18.56 5.44l.94 2.06.94-2.06 2.06-.94-2.06-.94-.94-2.06-.94 2.06-2.06.94zm-11 1L8.5 8.5l.94-2.06 2.06-.94-2.06-.94L8.5 2.5l-.94 2.06-2.06.94zm10 10l.94 2.06.94-2.06 2.06-.94-2.06-.94-.94-2.06-.94 2.06-2.06.94z\"/><path d=\"M17.41 7.96l-1.37-1.37c-.4-.4-.92-.59-1.43-.59-.52 0-1.04.2-1.43.59L10.3 9.45l-7.72 7.72c-.78.78-.78 2.05 0 2.83L4 21.41c.39.39.9.59 1.41.59.51 0 1.02-.2 1.41-.59l7.78-7.78 2.81-2.81c.8-.78.8-2.07 0-2.86zM5.41 20L4 18.59l7.72-7.72 1.47 1.35L5.41 20z\"/>\n",
              "  </svg>\n",
              "      </button>\n",
              "      \n",
              "  <style>\n",
              "    .colab-df-container {\n",
              "      display:flex;\n",
              "      flex-wrap:wrap;\n",
              "      gap: 12px;\n",
              "    }\n",
              "\n",
              "    .colab-df-convert {\n",
              "      background-color: #E8F0FE;\n",
              "      border: none;\n",
              "      border-radius: 50%;\n",
              "      cursor: pointer;\n",
              "      display: none;\n",
              "      fill: #1967D2;\n",
              "      height: 32px;\n",
              "      padding: 0 0 0 0;\n",
              "      width: 32px;\n",
              "    }\n",
              "\n",
              "    .colab-df-convert:hover {\n",
              "      background-color: #E2EBFA;\n",
              "      box-shadow: 0px 1px 2px rgba(60, 64, 67, 0.3), 0px 1px 3px 1px rgba(60, 64, 67, 0.15);\n",
              "      fill: #174EA6;\n",
              "    }\n",
              "\n",
              "    [theme=dark] .colab-df-convert {\n",
              "      background-color: #3B4455;\n",
              "      fill: #D2E3FC;\n",
              "    }\n",
              "\n",
              "    [theme=dark] .colab-df-convert:hover {\n",
              "      background-color: #434B5C;\n",
              "      box-shadow: 0px 1px 3px 1px rgba(0, 0, 0, 0.15);\n",
              "      filter: drop-shadow(0px 1px 2px rgba(0, 0, 0, 0.3));\n",
              "      fill: #FFFFFF;\n",
              "    }\n",
              "  </style>\n",
              "\n",
              "      <script>\n",
              "        const buttonEl =\n",
              "          document.querySelector('#df-ffd13ac1-fb23-4245-a068-93a80f6c86f6 button.colab-df-convert');\n",
              "        buttonEl.style.display =\n",
              "          google.colab.kernel.accessAllowed ? 'block' : 'none';\n",
              "\n",
              "        async function convertToInteractive(key) {\n",
              "          const element = document.querySelector('#df-ffd13ac1-fb23-4245-a068-93a80f6c86f6');\n",
              "          const dataTable =\n",
              "            await google.colab.kernel.invokeFunction('convertToInteractive',\n",
              "                                                     [key], {});\n",
              "          if (!dataTable) return;\n",
              "\n",
              "          const docLinkHtml = 'Like what you see? Visit the ' +\n",
              "            '<a target=\"_blank\" href=https://colab.research.google.com/notebooks/data_table.ipynb>data table notebook</a>'\n",
              "            + ' to learn more about interactive tables.';\n",
              "          element.innerHTML = '';\n",
              "          dataTable['output_type'] = 'display_data';\n",
              "          await google.colab.output.renderOutput(dataTable, element);\n",
              "          const docLink = document.createElement('div');\n",
              "          docLink.innerHTML = docLinkHtml;\n",
              "          element.appendChild(docLink);\n",
              "        }\n",
              "      </script>\n",
              "    </div>\n",
              "  </div>\n",
              "  "
            ]
          },
          "metadata": {},
          "execution_count": 18
        }
      ]
    },
    {
      "cell_type": "markdown",
      "source": [
        "## Topic Modeling\n",
        "\n",
        "Topic modeling analyzes how often different words appear together and creates topics based on the frequency of specific words appearing together. In order to do this, the previously tokenized words are lemmatized in order to remove the temporal tense of the word, as well as removing any words smaller than 2 letters. These words are then used to create a dictionary of the different relations between words, which is then analyzed using a Latent Dirichlet Allocation algorithm to extract the desired topics."
      ],
      "metadata": {
        "id": "z3Vb8nqP9yQ-"
      }
    },
    {
      "cell_type": "code",
      "source": [
        "corpus = []\n",
        "stem = PorterStemmer()\n",
        "lem = nltk.WordNetLemmatizer()\n",
        "\n",
        "for tokens in df_stop['Filtered']:\n",
        "  words = [lem.lemmatize(w.lower()) for w in tokens if len(w) > 2]\n",
        "\n",
        "  corpus.append(words)"
      ],
      "metadata": {
        "id": "toIyf6rM9xco",
        "colab": {
          "base_uri": "https://localhost:8080/"
        },
        "outputId": "908b3dd3-6b73-4fa9-9744-072db46913b2"
      },
      "execution_count": null,
      "outputs": [
        {
          "output_type": "stream",
          "name": "stderr",
          "text": [
            "/usr/local/lib/python3.10/dist-packages/ipykernel/ipkernel.py:283: DeprecationWarning: `should_run_async` will not call `transform_cell` automatically in the future. Please pass the result to `transformed_cell` argument and any exception that happen during thetransform in `preprocessing_exc_tuple` in IPython 7.17 and above.\n",
            "  and should_run_async(code)\n"
          ]
        }
      ]
    },
    {
      "cell_type": "code",
      "source": [
        "dic = gensim.corpora.Dictionary(corpus)\n",
        "bow_corpus = [dic.doc2bow(doc) for doc in corpus]"
      ],
      "metadata": {
        "id": "s-5yMGCi_Ifz",
        "colab": {
          "base_uri": "https://localhost:8080/"
        },
        "outputId": "3211d9e8-9a6b-4de4-b55f-b0a4fdf22393"
      },
      "execution_count": null,
      "outputs": [
        {
          "output_type": "stream",
          "name": "stderr",
          "text": [
            "/usr/local/lib/python3.10/dist-packages/ipykernel/ipkernel.py:283: DeprecationWarning: `should_run_async` will not call `transform_cell` automatically in the future. Please pass the result to `transformed_cell` argument and any exception that happen during thetransform in `preprocessing_exc_tuple` in IPython 7.17 and above.\n",
            "  and should_run_async(code)\n"
          ]
        }
      ]
    },
    {
      "cell_type": "code",
      "source": [
        "lda_model = gensim.models.LdaMulticore(bow_corpus,\n",
        "                                       num_topics = 8,\n",
        "                                       id2word = dic,\n",
        "                                       passes = 5,\n",
        "                                       workers = 2)\n",
        "lda_model.show_topics() "
      ],
      "metadata": {
        "id": "S6tLaVT5_s4W",
        "colab": {
          "base_uri": "https://localhost:8080/"
        },
        "outputId": "647f1142-480a-42ec-d331-d5aa145a94aa"
      },
      "execution_count": null,
      "outputs": [
        {
          "output_type": "stream",
          "name": "stderr",
          "text": [
            "/usr/local/lib/python3.10/dist-packages/ipykernel/ipkernel.py:283: DeprecationWarning: `should_run_async` will not call `transform_cell` automatically in the future. Please pass the result to `transformed_cell` argument and any exception that happen during thetransform in `preprocessing_exc_tuple` in IPython 7.17 and above.\n",
            "  and should_run_async(code)\n",
            "WARNING:gensim.models.ldamulticore:too few updates, training might not converge; consider increasing the number of passes or iterations to improve accuracy\n"
          ]
        },
        {
          "output_type": "execute_result",
          "data": {
            "text/plain": [
              "[(0,\n",
              "  '0.045*\"seat\" + 0.045*\"change\" + 0.030*\"time\" + 0.030*\"page\" + 0.023*\"charge\" + 0.023*\"pay\" + 0.023*\"flight\" + 0.015*\"cannot\" + 0.015*\"error\" + 0.015*\"wanted\"'),\n",
              " (1,\n",
              "  '0.044*\"change\" + 0.033*\"made\" + 0.024*\"charge\" + 0.022*\"mistake\" + 0.022*\"system\" + 0.022*\"seat\" + 0.022*\"extra\" + 0.012*\"many\" + 0.012*\"pay\" + 0.012*\"changing\"'),\n",
              " (2,\n",
              "  '0.028*\"well\" + 0.028*\"record\" + 0.028*\"accommodation\" + 0.028*\"address\" + 0.028*\"done\" + 0.028*\"understood\" + 0.028*\"complicated\" + 0.004*\"staff\" + 0.004*\"want\" + 0.003*\"say\"'),\n",
              " (3,\n",
              "  '0.052*\"change\" + 0.035*\"make\" + 0.019*\"without\" + 0.019*\"cost\" + 0.019*\"respect\" + 0.019*\"page\" + 0.019*\"airline\" + 0.019*\"lot\" + 0.019*\"happy\" + 0.019*\"ever\"'),\n",
              " (4,\n",
              "  '0.029*\"seat\" + 0.020*\"price\" + 0.020*\"selection\" + 0.020*\"problem\" + 0.020*\"changing\" + 0.019*\"want\" + 0.019*\"staff\" + 0.010*\"cost\" + 0.010*\"per\" + 0.010*\"stop\"'),\n",
              " (5,\n",
              "  '0.085*\"charge\" + 0.032*\"baggage\" + 0.023*\"made\" + 0.023*\"time\" + 0.023*\"change\" + 0.012*\"additional\" + 0.012*\"page\" + 0.012*\"without\" + 0.012*\"full\" + 0.012*\"thing\"'),\n",
              " (6,\n",
              "  '0.048*\"change\" + 0.025*\"difference\" + 0.025*\"lot\" + 0.025*\"nothing\" + 0.025*\"paid\" + 0.013*\"sense\" + 0.013*\"pay\" + 0.013*\"end\" + 0.013*\"rate\" + 0.013*\"making\"'),\n",
              " (7,\n",
              "  '0.042*\"paid\" + 0.040*\"clear\" + 0.032*\"flight\" + 0.021*\"charged\" + 0.021*\"seat\" + 0.021*\"pay\" + 0.021*\"information\" + 0.021*\"later\" + 0.021*\"new\" + 0.021*\"service\"')]"
            ]
          },
          "metadata": {},
          "execution_count": 21
        }
      ]
    },
    {
      "cell_type": "code",
      "source": [
        "pyLDAvis.enable_notebook()\n",
        "vis = pyLDAvis.gensim.prepare(lda_model, bow_corpus, dic)\n",
        "vis"
      ],
      "metadata": {
        "id": "0k00OW8hAGVU",
        "colab": {
          "base_uri": "https://localhost:8080/",
          "height": 917
        },
        "outputId": "87cdaf4c-dc3c-471a-bfe5-d59bf0300f88"
      },
      "execution_count": null,
      "outputs": [
        {
          "output_type": "stream",
          "name": "stderr",
          "text": [
            "/usr/local/lib/python3.10/dist-packages/ipykernel/ipkernel.py:283: DeprecationWarning: `should_run_async` will not call `transform_cell` automatically in the future. Please pass the result to `transformed_cell` argument and any exception that happen during thetransform in `preprocessing_exc_tuple` in IPython 7.17 and above.\n",
            "  and should_run_async(code)\n"
          ]
        },
        {
          "output_type": "execute_result",
          "data": {
            "text/plain": [
              "PreparedData(topic_coordinates=              x         y  topics  cluster       Freq\n",
              "topic                                                \n",
              "0      0.080167  0.003356       1        1  22.293775\n",
              "4     -0.023815 -0.167139       2        1  16.212689\n",
              "7     -0.131086  0.076318       3        1  14.387026\n",
              "1      0.058344  0.000864       4        1  13.338026\n",
              "5      0.108336  0.078469       5        1  13.321096\n",
              "6     -0.085594  0.034699       6        1  11.488527\n",
              "3      0.006679 -0.008770       7        1   6.537579\n",
              "2     -0.013029 -0.017796       8        1   2.421282, topic_info=         Term       Freq      Total Category  logprob  loglift\n",
              "13     charge   9.000000   9.000000  Default  30.0000  30.0000\n",
              "18     change  14.000000  14.000000  Default  29.0000  29.0000\n",
              "22       paid   5.000000   5.000000  Default  28.0000  28.0000\n",
              "11      clear   3.000000   3.000000  Default  27.0000  27.0000\n",
              "59       make   2.000000   2.000000  Default  26.0000  26.0000\n",
              "..        ...        ...        ...      ...      ...      ...\n",
              "154     force   0.036450   2.004086   Topic8  -5.7068  -0.2861\n",
              "5    changing   0.036914   2.587241   Topic8  -5.6942  -0.5289\n",
              "48    airline   0.036799   2.495064   Topic8  -5.6973  -0.4957\n",
              "59       make   0.036621   2.892772   Topic8  -5.7022  -0.6485\n",
              "77    luggage   0.036494   3.377807   Topic8  -5.7056  -0.8069\n",
              "\n",
              "[366 rows x 6 columns], token_table=      Topic      Freq      Term\n",
              "term                           \n",
              "221       6  0.833124  39800mxn\n",
              "222       6  0.833124  70000mxn\n",
              "185       4  0.813814      able\n",
              "186       4  0.813814    access\n",
              "187       4  0.813814   account\n",
              "...     ...       ...       ...\n",
              "238       5  0.507946      work\n",
              "65        7  0.923957     worst\n",
              "174       6  0.833125     worth\n",
              "95        3  0.800891     would\n",
              "199       2  0.785813      yeah\n",
              "\n",
              "[345 rows x 3 columns], R=30, lambda_step=0.01, plot_opts={'xlab': 'PC1', 'ylab': 'PC2'}, topic_order=[1, 5, 8, 2, 6, 7, 4, 3])"
            ],
            "text/html": [
              "\n",
              "<link rel=\"stylesheet\" type=\"text/css\" href=\"https://cdn.jsdelivr.net/gh/bmabey/pyLDAvis@3.4.0/pyLDAvis/js/ldavis.v1.0.0.css\">\n",
              "\n",
              "\n",
              "<div id=\"ldavis_el17571399998395316641006173473\" style=\"background-color:white;\"></div>\n",
              "<script type=\"text/javascript\">\n",
              "\n",
              "var ldavis_el17571399998395316641006173473_data = {\"mdsDat\": {\"x\": [0.08016677769605335, -0.023815338543086904, -0.13108595646945503, 0.058343692725255164, 0.10833568098147393, -0.0855940636780399, 0.0066785348697608595, -0.013029327581961417], \"y\": [0.0033560031427831163, -0.16713896381897947, 0.07631796807914534, 0.000863906609618487, 0.07846893584815323, 0.03469851653207156, -0.008770158790096029, -0.017796207602696325], \"topics\": [1, 2, 3, 4, 5, 6, 7, 8], \"cluster\": [1, 1, 1, 1, 1, 1, 1, 1], \"Freq\": [22.29377511187304, 16.212688847478482, 14.38702618487365, 13.338026369820078, 13.321095538400767, 11.488527086719833, 6.537578876229376, 2.4212819846047755]}, \"tinfo\": {\"Term\": [\"charge\", \"change\", \"paid\", \"clear\", \"make\", \"well\", \"made\", \"flight\", \"baggage\", \"lot\", \"page\", \"time\", \"difference\", \"nothing\", \"cost\", \"record\", \"accommodation\", \"address\", \"done\", \"understood\", \"complicated\", \"charged\", \"respect\", \"difficult\", \"extra\", \"mistake\", \"system\", \"without\", \"policy\", \"airline\", \"wanted\", \"forced\", \"long\", \"take\", \"marked\", \"confirm\", \"every\", \"free\", \"even\", \"continue\", \"thousand\", \"seem\", \"disguised\", \"apart\", \"good\", \"value\", \"peso\", \"theory\", \"rest\", \"recommend\", \"allowed\", \"etc\", \"type\", \"issue\", \"allow\", \"method\", \"respond\", \"keep\", \"robbery\", \"reimbursement\", \"page\", \"time\", \"cannot\", \"error\", \"expensive\", \"call\", \"seat\", \"change\", \"flight\", \"luggage\", \"pay\", \"charge\", \"work\", \"additional\", \"selection\", \"problem\", \"staff\", \"stop\", \"stealing\", \"adding\", \"promotion\", \"much\", \"removing\", \"paying\", \"dis\", \"charging\", \"jumbled\", \"automatically\", \"double\", \"disarray\", \"clarity\", \"maintaining\", \"raising\", \"put\", \"selecting\", \"yeah\", \"look\", \"better\", \"buy\", \"asks\", \"carriage\", \"bad\", \"counter\", \"please\", \"changing\", \"want\", \"price\", \"seat\", \"option\", \"itinerary\", \"card\", \"one\", \"cost\", \"per\", \"thing\", \"clear\", \"later\", \"new\", \"service\", \"tua\", \"concept\", \"confused\", \"space\", \"choosing\", \"would\", \"original\", \"thats\", \"reason\", \"seems\", \"ask\", \"together\", \"important\", \"certain\", \"transferred\", \"got\", \"understand\", \"something\", \"apparent\", \"solid\", \"low\", \"final\", \"cheapskate\", \"include\", \"clearer\", \"charged\", \"paid\", \"information\", \"flight\", \"cost\", \"pay\", \"seat\", \"change\", \"made\", \"appear\", \"nothing\", \"reservation\", \"really\", \"end\", \"already\", \"mistake\", \"system\", \"reflected\", \"purchase\", \"process\", \"trust\", \"correctly\", \"completed\", \"confusing\", \"somewhat\", \"account\", \"since\", \"cant\", \"session\", \"cheatedly\", \"able\", \"close\", \"assigned\", \"access\", \"selected\", \"locking\", \"search\", \"clearer_x000d_i\", \"know\", \"didnt\", \"little\", \"hand\", \"extra\", \"several\", \"add\", \"made\", \"change\", \"charge\", \"seat\", \"many\", \"pay\", \"changing\", \"end\", \"payment\", \"expensive\", \"one\", \"baggage\", \"consent\", \"online\", \"always\", \"check\", \"turn\", \"fare\", \"around\", \"theft\", \"addition\", \"smart\", \"minor\", \"feel\", \"parent\", \"child\", \"dont\", \"everything\", \"leaving\", \"try\", \"truck\", \"could\", \"tell\", \"four\", \"disservice\", \"crap\", \"charge\", \"difficult\", \"respect\", \"add\", \"several\", \"time\", \"made\", \"change\", \"additional\", \"page\", \"without\", \"full\", \"thing\", \"already\", \"name\", \"remove\", \"center\", \"call\", \"making\", \"70000mxn\", \"moment\", \"39800mxn\", \"quoted\", \"friendly\", \"terrible\", \"samuel\", \"manzanares\", \"date\", \"lied\", \"operation\", \"phone\", \"answered\", \"worth\", \"english\", \"see\", \"site\", \"get\", \"stuck\", \"perfect\", \"nobody\", \"courtesy\", \"benefit\", \"plus\", \"hsbc\", \"viva\", \"lot\", \"difference\", \"nothing\", \"rate\", \"change\", \"paid\", \"sense\", \"pay\", \"end\", \"making\", \"name\", \"option\", \"cannot\", \"happy\", \"ever\", \"notifying\", \"ive\", \"charge_x000d_the\", \"schedule\", \"traveled_x000d_this\", \"worst\", \"fails\", \"exaggerating\", \"cancellation\", \"specific\", \"make\", \"respect\", \"difficult\", \"policy\", \"lot\", \"airline\", \"without\", \"cost\", \"change\", \"page\", \"made\", \"flight\", \"understood\", \"complicated\", \"done\", \"address\", \"record\", \"accommodation\", \"reimbursed\", \"time\", \"spoke\", \"medical\", \"diagnosis\", \"requested\", \"record\", \"accommodation\", \"address\", \"done\", \"understood\", \"complicated\", \"well\", \"specific\", \"cancellation\", \"exaggerating\", \"fails\", \"notifying\", \"charge_x000d_the\", \"schedule\", \"happy\", \"worst\", \"traveled_x000d_this\", \"ive\", \"ever\", \"say\", \"document\", \"train\", \"attention\", \"room\", \"send\", \"suitcase\", \"common\", \"please\", \"outside\", \"carriage\", \"people\", \"counter\", \"bad\", \"asks\", \"buy\", \"better\", \"look\", \"staff\", \"want\", \"sense\", \"many\", \"policy\", \"force\", \"changing\", \"airline\", \"make\", \"luggage\"], \"Freq\": [9.0, 14.0, 5.0, 3.0, 2.0, 1.0, 5.0, 5.0, 2.0, 2.0, 5.0, 5.0, 2.0, 2.0, 3.0, 0.0, 0.0, 0.0, 0.0, 0.0, 0.0, 2.0, 1.0, 1.0, 2.0, 1.0, 1.0, 3.0, 1.0, 2.0, 1.5639469658244527, 1.5639327635172942, 1.5637634644915612, 1.5637237732755283, 0.8279627167574286, 0.8279626227024143, 0.8279626227024143, 0.8279624345923857, 0.8279623405373714, 0.8279623405373714, 0.8279623405373714, 0.8279622464823572, 0.8279619643173143, 0.8279620583723285, 0.8279618702623, 0.8279618702623, 0.8279617762072856, 0.8279616821522714, 0.8279615880972571, 0.8279588605018425, 0.8279576377866567, 0.8279570734565709, 0.8279554745213278, 0.8279553804663136, 0.8279550042462563, 0.8279550042462563, 0.8279545339711849, 0.8279487025602985, 0.8278090308640689, 0.8277377371632325, 3.0348426724654405, 3.035398161379873, 1.5639529853453678, 1.5639510101900675, 1.5638960820617187, 1.563945084724167, 4.508001907080477, 4.506770162613256, 2.2988911545433917, 1.5639285310416509, 2.2999020578370453, 2.2999733515378815, 0.8280224416915066, 0.8279912154267604, 1.4487911755482408, 1.4487684668902563, 1.4248781378956206, 0.7670012025270826, 0.7670005869309324, 0.767000450131788, 0.7670000397343545, 0.7669995609373488, 0.7669992189394875, 0.7669992189394875, 0.7669988085420542, 0.7669984665441929, 0.7669976457493259, 0.7669975089501815, 0.7669969617536035, 0.7669967565548869, 0.7669957989608754, 0.7669939521724248, 0.7669936785741359, 0.7669894378006569, 0.7669884118070732, 0.7669288357796499, 0.7590358671407054, 0.7577477663962311, 0.7573404469435259, 0.7572286136429092, 0.7567842216220484, 0.7566822378598346, 0.7565390091555584, 0.7563586394835544, 1.4377164640072835, 1.428782385479233, 1.4489770855855966, 2.1305076874288105, 0.7669906689929572, 0.7669747318926247, 0.7668745949188615, 0.7669991505399153, 0.7670065376937175, 0.7670029809159609, 0.7669801354588318, 2.6122403778013448, 1.39783028858091, 1.3978298030025107, 1.3978279820835142, 1.397825554191519, 1.397824583034721, 0.7400222692418041, 0.7400219657553047, 0.7400219050580048, 0.7400216622688053, 0.7400216622688053, 0.7400213587823058, 0.7400208732039067, 0.7400208732039067, 0.7400205090201075, 0.7400200234417084, 0.7400198413498088, 0.7400194771660095, 0.7400194164687096, 0.7400192343768099, 0.7400188701930106, 0.740017109971314, 0.740017109971314, 0.7400168671821145, 0.7400152283550177, 0.7400146213820188, 0.7400144392901191, 0.7400140144090199, 0.7399998719381472, 1.3987986533032477, 2.714376209893333, 1.3978606372308515, 2.0558309004525452, 1.3744915698027913, 1.3979320172555143, 1.3986282152851754, 0.740739407839925, 0.7405795918493323, 0.7400650608382218, 0.7400339231233817, 0.7400262752635964, 0.740025971777097, 0.7400253041067982, 0.7400208732039067, 1.3556926761441557, 1.3556908754502783, 0.7177173019059998, 0.7177170205475815, 0.7177170205475815, 0.7177170205475815, 0.7177168517325304, 0.7177167391891631, 0.7177163452873774, 0.7177157825705407, 0.7177141506917143, 0.7177138130616123, 0.7177135879748776, 0.7177130815297246, 0.7177131940730919, 0.7177129127146735, 0.7177126313562552, 0.7177123499978368, 0.7177107743906941, 0.7177081858932454, 0.7177045282338068, 0.717700758031001, 0.7147643327620754, 0.7146720472008574, 0.7145349131077549, 0.7143855117876123, 0.7143093761996075, 1.3547583411085073, 0.7177167954608468, 0.7136922446448042, 1.993854759828727, 2.631906776100041, 1.4642933116951677, 1.3555605502308998, 0.7188052586380659, 0.7187341312299076, 0.7186860752120539, 0.7177761058154344, 0.7177582114200275, 0.7177408234697736, 0.7177151635820204, 1.9554950431073446, 0.7221971532716505, 0.7221968722703789, 0.7221967598698702, 0.7221965350688528, 0.7221964788685985, 0.7221965350688528, 0.7221964226683442, 0.7221960292665639, 0.7221954672640205, 0.7221954672640205, 0.7221947366607142, 0.7221942308584253, 0.7221939498571536, 0.7221938936568992, 0.7221937812563906, 0.7221925448507953, 0.7221925448507953, 0.7221911398444371, 0.7221909150434197, 0.7221896786378244, 0.7221891166352811, 0.7221890604350267, 0.7221767525793281, 0.7221730433625422, 5.106722433449162, 0.7222005252869104, 0.7221494954559772, 0.7222066511146326, 0.7221974904731765, 1.3641446145768277, 1.3641738387090803, 1.3639399332505513, 0.722252960124202, 0.7222352570440874, 0.7222222747853368, 0.7222214317815219, 0.7222203639766895, 0.7222126083415917, 0.7222100231298925, 0.7222024360955577, 0.7222023798953033, 0.7221967598698702, 0.7221965350688528, 0.6856740952607241, 0.6856738529164881, 0.6856734166968633, 0.6856720595691418, 0.6856720595691418, 0.6856714779429753, 0.6856711871298922, 0.685670896316809, 0.6856709447856562, 0.6856702177529482, 0.6856697330644762, 0.6856696361267819, 0.6856694907202402, 0.685669199907157, 0.6856665825894083, 0.6856664371828667, 0.6856660979009364, 0.685661638766994, 0.6856615902981469, 0.6856537383449006, 0.6856489883978751, 0.6851659963355391, 0.6851479659243811, 0.6849545267552107, 0.6849072211603447, 0.6847736410174649, 1.2951584586065439, 1.2952082845814643, 1.2951189080272298, 0.6856830135286087, 2.513706475704498, 1.2943764622258385, 0.6878487470279927, 0.6876392646703995, 0.6857329849100706, 0.685680880899332, 0.6856726896641554, 0.685672108037989, 0.6856626566127852, 0.5529238455899946, 0.5529235697766469, 0.5529234042886383, 0.5529234042886383, 0.5529232939632992, 0.5529231836379601, 0.5529231836379601, 0.5529231836379601, 0.5529212529445261, 0.5529181638350318, 0.5529047041436637, 0.5528819219611429, 1.0444922397050016, 0.5529566122157022, 0.5529179431843536, 0.5528817013104649, 0.5529248385180463, 0.5529464071218371, 0.5529667621468979, 0.5529652175921508, 1.5361389096480882, 0.5529525301781562, 0.552813575413581, 0.5529135853334598, 0.061442767085538155, 0.061441808634154875, 0.06143911945401472, 0.061438505769316074, 0.06143823685130206, 0.06143816789796513, 0.061708651152728534, 0.06179647012263872, 0.061695322472700556, 0.06168503463483105, 0.0616580807754263, 0.06162325934027818, 0.30370761376876065, 0.30370740946624974, 0.30370583633691556, 0.3037038546025595, 0.3036898394503095, 0.30368938998478545, 0.30376816903300125, 0.03374869092054428, 0.03374762088614326, 0.03374664023409078, 0.033746507437458675, 0.0337463695332638, 0.03374635676435686, 0.033746321011417446, 0.033746318457636065, 0.033746321011417446, 0.033746292919822195, 0.033746292919822195, 0.033746292919822195, 0.03718562098634486, 0.037010472443721874, 0.03698553221469971, 0.03691603360804303, 0.03680166250864127, 0.03674681239201849, 0.03672726830306635, 0.03664599165665437, 0.0366195395890513, 0.0366141970783904, 0.03657338254426873, 0.03654600600780369, 0.03653357164623202, 0.03649713173962571, 0.03649306867343952, 0.03641505831342109, 0.03628092349986793, 0.035963074760920914, 0.039949976971027985, 0.03892764465253714, 0.03669973598593672, 0.03663277583797838, 0.03609230120664891, 0.03644966205121039, 0.03691442472576943, 0.03679886611802287, 0.03662052279488517, 0.03649448602210912], \"Total\": [9.0, 14.0, 5.0, 3.0, 2.0, 1.0, 5.0, 5.0, 2.0, 2.0, 5.0, 5.0, 2.0, 2.0, 3.0, 0.0, 0.0, 0.0, 0.0, 0.0, 0.0, 2.0, 1.0, 1.0, 2.0, 1.0, 1.0, 3.0, 1.0, 2.0, 2.0627644646153818, 2.0627595640189322, 2.0627037771612104, 2.0626902226625226, 1.3267785076190501, 1.3267784559881126, 1.3267784581072097, 1.326778364709831, 1.3267782757104003, 1.3267783235332429, 1.3267783945402256, 1.3267783117655652, 1.3267780246347758, 1.326778229485377, 1.326777985424185, 1.326778072230379, 1.3267780162177627, 1.326777961908828, 1.3267778852348802, 1.3267766181476441, 1.3267759458414874, 1.3267758500110665, 1.3267752406638893, 1.3267751077762808, 1.3267750049423208, 1.3267750342129863, 1.326775097165069, 1.326772349577296, 1.3267271926253292, 1.32670334438375, 5.349205620544781, 5.496542879654073, 2.672252303037019, 2.7007349660022744, 2.7007217129378587, 2.7047163342065965, 10.253173830313493, 14.093593418258566, 5.944724550030637, 3.3778069957946273, 6.039786003664397, 9.867519240130893, 1.9687147139522183, 2.6067015572450205, 1.9543874315649379, 1.954381205348052, 1.944168260287322, 1.272592722238416, 1.272592644126175, 1.2725925587507014, 1.272592335241395, 1.2725923833703223, 1.2725921394577497, 1.2725922163863135, 1.2725919638342122, 1.272591880217154, 1.2725912303525118, 1.272591583745477, 1.2725915081288246, 1.2725912445096865, 1.272590930291359, 1.2725903109178778, 1.2725902738871102, 1.272588467424527, 1.2725882435967566, 1.2725681333101684, 1.2690035379698283, 1.2684649382580713, 1.2682612055103601, 1.2681488109748693, 1.2680034902722324, 1.268100461890693, 1.2680347399269127, 1.2679023140491423, 2.587240707677704, 2.6036672332544835, 3.3283052791604497, 10.253173830313493, 1.8820769298995608, 1.8821647819726064, 1.8821039912219004, 1.9105620604499693, 3.8139962428437526, 2.0085568016852435, 2.5523846055110577, 3.2189748422249562, 1.9064208455743923, 1.9064210626798002, 1.9064204444717563, 1.9064197730614394, 1.9064196470789028, 1.248610287619317, 1.2486101895523118, 1.2486101547415418, 1.2486100988085342, 1.2486101344407203, 1.2486099144745313, 1.2486097435111734, 1.248609842857579, 1.2486095808190214, 1.2486093443220436, 1.2486094387996785, 1.2486093408299428, 1.2486093496426365, 1.2486090934461216, 1.2486092574527394, 1.2486085124562674, 1.248608708462712, 1.248608353486513, 1.2486080381134432, 1.2486076221172095, 1.2486077193865999, 1.2486075599242086, 1.2486019159526793, 2.515979718770616, 5.083045208612635, 2.642372561214651, 5.944724550030637, 3.8139962428437526, 6.039786003664397, 10.253173830313493, 14.093593418258566, 5.547515759657989, 1.9845629423646678, 2.4675902440704474, 1.8865790555346766, 1.9845725769676181, 4.554612801654821, 2.5285317764093374, 1.8667661259268515, 1.866765726396197, 1.2287836569789878, 1.228783509916019, 1.2287835681379162, 1.2287835998125805, 1.2287834907481583, 1.2287834320508495, 1.2287832597989508, 1.2287830326290126, 1.2287827258924129, 1.2287826141545435, 1.2287825536277934, 1.228782334600588, 1.228782550551677, 1.2287824365803246, 1.2287823524408241, 1.2287822660155274, 1.2287818875696228, 1.228780940266311, 1.2287799535010584, 1.2287790413644755, 1.2286506017579961, 1.228646256929905, 1.2286403483581634, 1.2286334686634934, 1.228630105026076, 2.5444000037101193, 1.870736567467462, 1.8705562238621998, 5.547515759657989, 14.093593418258566, 9.867519240130893, 10.253173830313493, 1.9058288540042245, 6.039786003664397, 2.587240707677704, 4.554612801654821, 2.606691528202389, 2.7007217129378587, 1.9105620604499693, 2.5163741086456817, 1.2327658343803058, 1.2327656896782597, 1.2327656525192685, 1.2327654484543644, 1.2327655458245204, 1.2327656951197343, 1.2327656144434491, 1.2327654984262308, 1.232765290461043, 1.232765363102311, 1.2327651291656376, 1.2327649130815923, 1.2327648544771834, 1.2327648260030337, 1.2327647442762724, 1.2327642951627142, 1.2327644228012298, 1.2327640035791256, 1.2327639334183658, 1.2327637760893746, 1.2327634116295028, 1.2327635231654142, 1.232759282817925, 1.2327585640657814, 9.867519240130893, 1.724255560266917, 1.7242435168416979, 1.8705562238621998, 1.870736567467462, 5.496542879654073, 5.547515759657989, 14.093593418258566, 2.6067015572450205, 5.349205620544781, 3.096984375362063, 1.9145372510628214, 2.5523846055110577, 2.5285317764093374, 2.480223614359404, 1.968730244324051, 1.9687301057007258, 2.7047163342065965, 2.57821847024326, 1.2003014479403615, 1.200301450901658, 1.2003011967906239, 1.2003007748273236, 1.200300945144911, 1.2003006461268277, 1.2003007323671036, 1.2003005901778943, 1.2003007259295764, 1.2003007102588974, 1.2003003308970592, 1.200300489386633, 1.200300356437612, 1.2003004566779583, 1.2002996831735895, 1.2002995668412193, 1.2002995232173472, 1.2002981534271946, 1.2002985529188537, 1.2002962565912096, 1.200296041673622, 1.2003416086394398, 1.200342909709851, 1.2003575923712746, 1.200361713517588, 1.2003723884260735, 2.301287771683392, 2.46759479489842, 2.4675902440704474, 1.8580969207362161, 14.093593418258566, 5.083045208612635, 1.8772213769106545, 6.039786003664397, 4.554612801654821, 2.57821847024326, 2.480223614359404, 1.8820769298995608, 2.672252303037019, 1.082301939220911, 1.0823020659910736, 1.0823019131933038, 1.082301959185388, 1.082301931229653, 1.0823017768551062, 1.0823019486632581, 1.082302021580031, 1.082301948498185, 1.082302137190155, 1.082302888297276, 1.082303570697462, 2.8927723778634804, 1.7242435168416979, 1.724255560266917, 1.7601898378346355, 2.301287771683392, 2.4950642865207575, 3.096984375362063, 3.8139962428437526, 14.093593418258566, 5.349205620544781, 5.547515759657989, 5.944724550030637, 0.8608035883799191, 0.8608047079853492, 0.8607889816851761, 0.860787169003504, 0.8607851499150505, 0.8607853308408797, 1.3266411083289558, 5.496542879654073, 1.3266483457129612, 1.326653330010019, 1.3266668167546058, 1.3266846892897162, 0.8607851499150505, 0.8607853308408797, 0.860787169003504, 0.8607889816851761, 0.8608035883799191, 0.8608047079853492, 1.5966366415892175, 1.082303570697462, 1.082302888297276, 1.082302137190155, 1.082301948498185, 1.0823019131933038, 1.082301931229653, 1.0823017768551062, 1.082301939220911, 1.082302021580031, 1.0823019486632581, 1.082301959185388, 1.0823020659910736, 1.26706289455137, 1.2672769028592392, 1.2673612705878057, 1.2674638545284391, 1.2675975932031915, 1.2676581144083487, 1.2677609345052787, 1.26783048756216, 1.2679023140491423, 1.2679022481408524, 1.2680034902722324, 1.2679666164713501, 1.2680347399269127, 1.268100461890693, 1.2681488109748693, 1.2682612055103601, 1.2684649382580713, 1.2690035379698283, 1.944168260287322, 2.6036672332544835, 1.8772213769106545, 1.9058288540042245, 1.7601898378346355, 2.0040864483399847, 2.587240707677704, 2.4950642865207575, 2.8927723778634804, 3.3778069957946273], \"Category\": [\"Default\", \"Default\", \"Default\", \"Default\", \"Default\", \"Default\", \"Default\", \"Default\", \"Default\", \"Default\", \"Default\", \"Default\", \"Default\", \"Default\", \"Default\", \"Default\", \"Default\", \"Default\", \"Default\", \"Default\", \"Default\", \"Default\", \"Default\", \"Default\", \"Default\", \"Default\", \"Default\", \"Default\", \"Default\", \"Default\", \"Topic1\", \"Topic1\", \"Topic1\", \"Topic1\", \"Topic1\", \"Topic1\", \"Topic1\", \"Topic1\", \"Topic1\", \"Topic1\", \"Topic1\", \"Topic1\", \"Topic1\", \"Topic1\", \"Topic1\", \"Topic1\", \"Topic1\", \"Topic1\", \"Topic1\", \"Topic1\", \"Topic1\", \"Topic1\", \"Topic1\", \"Topic1\", \"Topic1\", \"Topic1\", \"Topic1\", \"Topic1\", \"Topic1\", \"Topic1\", \"Topic1\", \"Topic1\", \"Topic1\", \"Topic1\", \"Topic1\", \"Topic1\", \"Topic1\", \"Topic1\", \"Topic1\", \"Topic1\", \"Topic1\", \"Topic1\", \"Topic1\", \"Topic1\", \"Topic2\", \"Topic2\", \"Topic2\", \"Topic2\", \"Topic2\", \"Topic2\", \"Topic2\", \"Topic2\", \"Topic2\", \"Topic2\", \"Topic2\", \"Topic2\", \"Topic2\", \"Topic2\", \"Topic2\", \"Topic2\", \"Topic2\", \"Topic2\", \"Topic2\", \"Topic2\", \"Topic2\", \"Topic2\", \"Topic2\", \"Topic2\", \"Topic2\", \"Topic2\", \"Topic2\", \"Topic2\", \"Topic2\", \"Topic2\", \"Topic2\", \"Topic2\", \"Topic2\", \"Topic2\", \"Topic2\", \"Topic2\", \"Topic2\", \"Topic2\", \"Topic2\", \"Topic2\", \"Topic2\", \"Topic3\", \"Topic3\", \"Topic3\", \"Topic3\", \"Topic3\", \"Topic3\", \"Topic3\", \"Topic3\", \"Topic3\", \"Topic3\", \"Topic3\", \"Topic3\", \"Topic3\", \"Topic3\", \"Topic3\", \"Topic3\", \"Topic3\", \"Topic3\", \"Topic3\", \"Topic3\", \"Topic3\", \"Topic3\", \"Topic3\", \"Topic3\", \"Topic3\", \"Topic3\", \"Topic3\", \"Topic3\", \"Topic3\", \"Topic3\", \"Topic3\", \"Topic3\", \"Topic3\", \"Topic3\", \"Topic3\", \"Topic3\", \"Topic3\", \"Topic3\", \"Topic3\", \"Topic3\", \"Topic3\", \"Topic3\", \"Topic3\", \"Topic3\", \"Topic4\", \"Topic4\", \"Topic4\", \"Topic4\", \"Topic4\", \"Topic4\", \"Topic4\", \"Topic4\", \"Topic4\", \"Topic4\", \"Topic4\", \"Topic4\", \"Topic4\", \"Topic4\", \"Topic4\", \"Topic4\", \"Topic4\", \"Topic4\", \"Topic4\", \"Topic4\", \"Topic4\", \"Topic4\", \"Topic4\", \"Topic4\", \"Topic4\", \"Topic4\", \"Topic4\", \"Topic4\", \"Topic4\", \"Topic4\", \"Topic4\", \"Topic4\", \"Topic4\", \"Topic4\", \"Topic4\", \"Topic4\", \"Topic4\", \"Topic4\", \"Topic4\", \"Topic4\", \"Topic4\", \"Topic5\", \"Topic5\", \"Topic5\", \"Topic5\", \"Topic5\", \"Topic5\", \"Topic5\", \"Topic5\", \"Topic5\", \"Topic5\", \"Topic5\", \"Topic5\", \"Topic5\", \"Topic5\", \"Topic5\", \"Topic5\", \"Topic5\", \"Topic5\", \"Topic5\", \"Topic5\", \"Topic5\", \"Topic5\", \"Topic5\", \"Topic5\", \"Topic5\", \"Topic5\", \"Topic5\", \"Topic5\", \"Topic5\", \"Topic5\", \"Topic5\", \"Topic5\", \"Topic5\", \"Topic5\", \"Topic5\", \"Topic5\", \"Topic5\", \"Topic5\", \"Topic5\", \"Topic5\", \"Topic5\", \"Topic5\", \"Topic5\", \"Topic5\", \"Topic6\", \"Topic6\", \"Topic6\", \"Topic6\", \"Topic6\", \"Topic6\", \"Topic6\", \"Topic6\", \"Topic6\", \"Topic6\", \"Topic6\", \"Topic6\", \"Topic6\", \"Topic6\", \"Topic6\", \"Topic6\", \"Topic6\", \"Topic6\", \"Topic6\", \"Topic6\", \"Topic6\", \"Topic6\", \"Topic6\", \"Topic6\", \"Topic6\", \"Topic6\", \"Topic6\", \"Topic6\", \"Topic6\", \"Topic6\", \"Topic6\", \"Topic6\", \"Topic6\", \"Topic6\", \"Topic6\", \"Topic6\", \"Topic6\", \"Topic6\", \"Topic6\", \"Topic7\", \"Topic7\", \"Topic7\", \"Topic7\", \"Topic7\", \"Topic7\", \"Topic7\", \"Topic7\", \"Topic7\", \"Topic7\", \"Topic7\", \"Topic7\", \"Topic7\", \"Topic7\", \"Topic7\", \"Topic7\", \"Topic7\", \"Topic7\", \"Topic7\", \"Topic7\", \"Topic7\", \"Topic7\", \"Topic7\", \"Topic7\", \"Topic7\", \"Topic7\", \"Topic7\", \"Topic7\", \"Topic7\", \"Topic7\", \"Topic7\", \"Topic7\", \"Topic7\", \"Topic7\", \"Topic7\", \"Topic7\", \"Topic8\", \"Topic8\", \"Topic8\", \"Topic8\", \"Topic8\", \"Topic8\", \"Topic8\", \"Topic8\", \"Topic8\", \"Topic8\", \"Topic8\", \"Topic8\", \"Topic8\", \"Topic8\", \"Topic8\", \"Topic8\", \"Topic8\", \"Topic8\", \"Topic8\", \"Topic8\", \"Topic8\", \"Topic8\", \"Topic8\", \"Topic8\", \"Topic8\", \"Topic8\", \"Topic8\", \"Topic8\", \"Topic8\", \"Topic8\", \"Topic8\", \"Topic8\", \"Topic8\", \"Topic8\", \"Topic8\", \"Topic8\", \"Topic8\", \"Topic8\", \"Topic8\", \"Topic8\", \"Topic8\", \"Topic8\", \"Topic8\", \"Topic8\", \"Topic8\", \"Topic8\", \"Topic8\"], \"logprob\": [30.0, 29.0, 28.0, 27.0, 26.0, 25.0, 24.0, 23.0, 22.0, 21.0, 20.0, 19.0, 18.0, 17.0, 16.0, 15.0, 14.0, 13.0, 12.0, 11.0, 10.0, 9.0, 8.0, 7.0, 6.0, 5.0, 4.0, 3.0, 2.0, 1.0, -4.1678, -4.1678, -4.1679, -4.168, -4.8038, -4.8038, -4.8038, -4.8038, -4.8038, -4.8038, -4.8038, -4.8038, -4.8038, -4.8038, -4.8038, -4.8038, -4.8038, -4.8038, -4.8038, -4.8038, -4.8038, -4.8038, -4.8038, -4.8038, -4.8038, -4.8038, -4.8038, -4.8038, -4.804, -4.8041, -3.5049, -3.5047, -4.1678, -4.1678, -4.1678, -4.1678, -3.1092, -3.1094, -3.7826, -4.1678, -3.7822, -3.7821, -4.8037, -4.8038, -3.9258, -3.9258, -3.9424, -4.5618, -4.5618, -4.5618, -4.5618, -4.5618, -4.5618, -4.5618, -4.5618, -4.5618, -4.5618, -4.5618, -4.5618, -4.5618, -4.5618, -4.5618, -4.5618, -4.5618, -4.5618, -4.5619, -4.5722, -4.5739, -4.5745, -4.5746, -4.5752, -4.5753, -4.5755, -4.5758, -3.9335, -3.9397, -3.9257, -3.5402, -4.5618, -4.5618, -4.5619, -4.5618, -4.5618, -4.5618, -4.5618, -3.2168, -3.8421, -3.8421, -3.8421, -3.8421, -3.8421, -4.4781, -4.4781, -4.4781, -4.4781, -4.4781, -4.4781, -4.4781, -4.4781, -4.4781, -4.4781, -4.4781, -4.4781, -4.4781, -4.4781, -4.4781, -4.4781, -4.4781, -4.4781, -4.4781, -4.4781, -4.4781, -4.4781, -4.4782, -3.8414, -3.1785, -3.8421, -3.4564, -3.859, -3.8421, -3.8416, -4.4772, -4.4774, -4.4781, -4.4781, -4.4781, -4.4781, -4.4781, -4.4781, -3.797, -3.797, -4.433, -4.433, -4.433, -4.433, -4.433, -4.433, -4.433, -4.433, -4.433, -4.433, -4.433, -4.433, -4.433, -4.433, -4.433, -4.433, -4.433, -4.433, -4.433, -4.433, -4.4371, -4.4373, -4.4375, -4.4377, -4.4378, -3.7977, -4.433, -4.4386, -3.4113, -3.1336, -3.72, -3.7971, -4.4315, -4.4316, -4.4317, -4.4329, -4.433, -4.433, -4.433, -3.4294, -4.4255, -4.4255, -4.4255, -4.4255, -4.4255, -4.4255, -4.4255, -4.4255, -4.4255, -4.4255, -4.4255, -4.4255, -4.4255, -4.4255, -4.4255, -4.4255, -4.4255, -4.4255, -4.4255, -4.4255, -4.4255, -4.4255, -4.4256, -4.4256, -2.4695, -4.4255, -4.4256, -4.4255, -4.4255, -3.7895, -3.7895, -3.7897, -4.4255, -4.4255, -4.4255, -4.4255, -4.4255, -4.4255, -4.4255, -4.4255, -4.4255, -4.4255, -4.4255, -4.3294, -4.3294, -4.3294, -4.3294, -4.3294, -4.3294, -4.3294, -4.3294, -4.3294, -4.3294, -4.3294, -4.3294, -4.3294, -4.3294, -4.3294, -4.3294, -4.3294, -4.3294, -4.3294, -4.3295, -4.3295, -4.3302, -4.3302, -4.3305, -4.3305, -4.3307, -3.6934, -3.6934, -3.6935, -4.3294, -3.0303, -3.694, -4.3263, -4.3266, -4.3293, -4.3294, -4.3294, -4.3294, -4.3294, -3.9808, -3.9808, -3.9808, -3.9808, -3.9808, -3.9808, -3.9808, -3.9808, -3.9808, -3.9808, -3.9809, -3.9809, -3.3448, -3.9808, -3.9808, -3.9809, -3.9808, -3.9808, -3.9807, -3.9807, -2.959, -3.9808, -3.981, -3.9808, -6.1779, -6.178, -6.178, -6.178, -6.178, -6.178, -6.1736, -6.1722, -6.1738, -6.174, -6.1744, -6.175, -3.5867, -3.5867, -3.5867, -3.5867, -3.5868, -3.5868, -3.5865, -5.7838, -5.7839, -5.7839, -5.7839, -5.7839, -5.7839, -5.7839, -5.7839, -5.7839, -5.7839, -5.7839, -5.7839, -5.6869, -5.6916, -5.6922, -5.6941, -5.6972, -5.6987, -5.6993, -5.7015, -5.7022, -5.7023, -5.7035, -5.7042, -5.7045, -5.7055, -5.7057, -5.7078, -5.7115, -5.7203, -5.6151, -5.6411, -5.7, -5.7018, -5.7167, -5.7068, -5.6942, -5.6973, -5.7022, -5.7056], \"loglift\": [30.0, 29.0, 28.0, 27.0, 26.0, 25.0, 24.0, 23.0, 22.0, 21.0, 20.0, 19.0, 18.0, 17.0, 16.0, 15.0, 14.0, 13.0, 12.0, 11.0, 10.0, 9.0, 8.0, 7.0, 6.0, 5.0, 4.0, 3.0, 2.0, 1.0, 1.224, 1.224, 1.2239, 1.2239, 1.0293, 1.0293, 1.0293, 1.0293, 1.0293, 1.0293, 1.0293, 1.0293, 1.0293, 1.0293, 1.0293, 1.0293, 1.0293, 1.0293, 1.0293, 1.0293, 1.0293, 1.0293, 1.0293, 1.0293, 1.0293, 1.0293, 1.0293, 1.0293, 1.0292, 1.0291, 0.9341, 0.9071, 0.9652, 0.9546, 0.9545, 0.9531, 0.6791, 0.3607, 0.5508, 0.7308, 0.5354, 0.0445, 0.6348, 0.354, 1.52, 1.52, 1.5086, 1.3131, 1.3131, 1.3131, 1.3131, 1.3131, 1.3131, 1.3131, 1.3131, 1.313, 1.313, 1.313, 1.313, 1.313, 1.313, 1.313, 1.313, 1.313, 1.313, 1.313, 1.3054, 1.3042, 1.3038, 1.3037, 1.3033, 1.303, 1.3029, 1.3028, 1.2318, 1.2193, 0.9878, 0.2481, 0.9217, 0.9217, 0.9216, 0.9067, 0.2154, 0.8567, 0.6171, 1.73, 1.6285, 1.6285, 1.6285, 1.6285, 1.6285, 1.4157, 1.4157, 1.4157, 1.4157, 1.4157, 1.4157, 1.4157, 1.4157, 1.4157, 1.4157, 1.4157, 1.4157, 1.4157, 1.4157, 1.4157, 1.4157, 1.4157, 1.4157, 1.4157, 1.4157, 1.4157, 1.4157, 1.4157, 1.3518, 1.3115, 1.3021, 0.877, 0.9182, 0.4755, -0.0533, -1.007, -0.0748, 0.9524, 0.7345, 1.003, 0.9524, 0.1216, 0.7101, 1.6947, 1.6947, 1.4768, 1.4768, 1.4768, 1.4768, 1.4768, 1.4768, 1.4768, 1.4768, 1.4768, 1.4768, 1.4768, 1.4768, 1.4768, 1.4768, 1.4768, 1.4768, 1.4768, 1.4768, 1.4768, 1.4768, 1.4728, 1.4727, 1.4725, 1.4723, 1.4722, 1.3843, 1.0565, 1.051, 0.9913, 0.3365, 0.1067, -0.0088, 1.0395, -0.1141, 0.7336, 0.1668, 0.7248, 0.6894, 1.0355, 1.7636, 1.4811, 1.4811, 1.4811, 1.4811, 1.4811, 1.4811, 1.4811, 1.4811, 1.4811, 1.4811, 1.4811, 1.4811, 1.4811, 1.4811, 1.4811, 1.4811, 1.4811, 1.4811, 1.4811, 1.4811, 1.4811, 1.4811, 1.4811, 1.4811, 1.3571, 1.1456, 1.1455, 1.0641, 1.064, 0.6222, 0.613, -0.3195, 0.7324, 0.0135, 0.56, 1.0409, 0.7534, 0.7627, 0.782, 1.013, 1.013, 0.6954, 0.7433, 1.6039, 1.6039, 1.6039, 1.6039, 1.6039, 1.6039, 1.6039, 1.6039, 1.6039, 1.6039, 1.6039, 1.6039, 1.6039, 1.6039, 1.6039, 1.6039, 1.6039, 1.6039, 1.6039, 1.6039, 1.6039, 1.6031, 1.6031, 1.6028, 1.6027, 1.6025, 1.589, 1.5192, 1.5192, 1.1669, 0.4399, 0.7959, 1.1598, -0.009, 0.2704, 0.8394, 0.8781, 1.1541, 0.8035, 2.056, 2.056, 2.056, 2.056, 2.056, 2.056, 2.056, 2.056, 2.056, 2.056, 2.0559, 2.0559, 1.7089, 1.5903, 1.5903, 1.5696, 1.3016, 1.2208, 1.0047, 0.7965, 0.5112, 0.4582, 0.4215, 0.3525, 0.0878, 0.0878, 0.0878, 0.0878, 0.0878, 0.0878, -0.3404, -1.7604, -0.3406, -0.3408, -0.3412, -0.3418, 2.6791, 2.6791, 2.6791, 2.6791, 2.679, 2.679, 2.0615, 0.253, 0.2529, 0.2529, 0.2529, 0.2529, 0.2529, 0.2529, 0.2529, 0.2529, 0.2529, 0.2529, 0.2529, 0.1923, 0.1874, 0.1867, 0.1847, 0.1815, 0.18, 0.1794, 0.1771, 0.1763, 0.1762, 0.175, 0.1743, 0.1739, 0.1728, 0.1727, 0.1705, 0.1666, 0.1574, -0.1641, -0.4821, -0.2139, -0.2309, -0.1662, -0.2861, -0.5289, -0.4957, -0.6485, -0.8069]}, \"token.table\": {\"Topic\": [6, 6, 4, 4, 4, 4, 5, 2, 5, 1, 4, 5, 1, 2, 7, 1, 1, 3, 4, 5, 5, 6, 1, 3, 1, 3, 5, 3, 2, 4, 2, 2, 2, 5, 6, 2, 2, 1, 5, 7, 1, 6, 4, 2, 6, 2, 1, 5, 3, 1, 2, 3, 4, 5, 6, 7, 2, 4, 1, 3, 4, 5, 7, 3, 6, 2, 3, 4, 5, 5, 3, 2, 3, 3, 4, 4, 2, 4, 3, 1, 3, 4, 5, 1, 4, 1, 2, 3, 7, 5, 2, 6, 5, 6, 1, 4, 3, 6, 5, 7, 2, 2, 1, 5, 2, 5, 2, 1, 2, 3, 4, 5, 6, 6, 1, 4, 1, 1, 7, 1, 5, 7, 1, 4, 2, 4, 7, 5, 5, 3, 1, 2, 3, 7, 1, 2, 1, 5, 1, 6, 2, 5, 6, 1, 3, 4, 7, 6, 3, 3, 1, 3, 1, 2, 6, 7, 2, 1, 4, 3, 5, 6, 4, 4, 1, 2, 6, 7, 3, 1, 2, 4, 3, 4, 5, 6, 7, 2, 2, 5, 7, 1, 5, 6, 2, 4, 6, 1, 1, 1, 5, 4, 6, 2, 4, 5, 6, 3, 6, 3, 6, 7, 2, 4, 5, 6, 2, 6, 3, 2, 1, 2, 5, 7, 3, 5, 6, 5, 1, 2, 3, 4, 6, 2, 1, 4, 5, 2, 1, 2, 6, 1, 6, 2, 6, 2, 7, 1, 2, 4, 2, 4, 2, 4, 2, 6, 2, 3, 6, 1, 3, 3, 1, 4, 1, 1, 1, 5, 2, 1, 3, 4, 5, 7, 1, 1, 1, 2, 6, 2, 7, 4, 1, 2, 3, 4, 6, 6, 1, 3, 4, 2, 2, 2, 2, 6, 3, 4, 4, 5, 4, 6, 5, 3, 3, 4, 3, 7, 1, 2, 2, 2, 6, 2, 4, 1, 5, 6, 3, 5, 1, 2, 4, 5, 1, 1, 2, 5, 3, 2, 3, 7, 5, 4, 5, 3, 5, 1, 3, 1, 6, 2, 3, 1, 1, 1, 4, 5, 7, 1, 5, 7, 6, 3, 2], \"Freq\": [0.8331242213819406, 0.8331240470599568, 0.8138137152928216, 0.8138140788987989, 0.8138135236835644, 0.5346003436000799, 0.5346003436000799, 0.7857974597790323, 0.811184422320983, 0.3836265786624547, 0.3836265786624547, 0.3836265786624547, 0.40079127636204115, 0.40079127636204115, 0.40079127636204115, 0.7537072949633034, 0.7537067604626833, 0.39548642786687, 0.39548642786687, 0.39548642786687, 0.8111841840794389, 0.8331248046679864, 0.7537054631864696, 0.8008914187625688, 0.5038892839591519, 0.5038892839591519, 0.8111842091340821, 0.8008908592100128, 0.7885509897148946, 0.8138138282566681, 0.7889771344777723, 0.785798061823426, 0.7885810549339564, 0.7947943801871354, 0.8330952696190139, 0.7883544667566904, 0.7884811075630045, 0.7394490781550597, 0.36972453907752983, 0.9239557713582762, 0.7484323234475266, 0.3742161617237633, 0.8138136377731375, 0.531320269583393, 0.531320269583393, 0.7886413623240944, 0.5079416407075626, 0.5079416407075626, 0.8008910131453175, 0.3547711255471857, 0.07095422510943715, 0.07095422510943715, 0.21286267532831143, 0.07095422510943715, 0.21286267532831143, 0.1419084502188743, 0.38651216217821327, 0.38651216217821327, 0.20268518878241074, 0.10134259439120537, 0.10134259439120537, 0.5067129719560268, 0.9239565884021422, 0.3974594836911604, 0.3974594836911604, 0.7857978787585543, 0.8008920531832586, 0.8138136398104268, 0.8111843183582046, 0.811184727943835, 0.8008904910812589, 0.7857984653175633, 0.9319737329560486, 0.8008957756860425, 0.8139010379103425, 0.8138137710178077, 0.7887489769415814, 0.8138130560004312, 0.5245434820881344, 0.7537053345166463, 0.800890405850064, 0.8138131700814483, 0.8111840644112968, 0.753705409760521, 0.8138130171256932, 0.26219218277320333, 0.26219218277320333, 0.26219218277320333, 0.26219218277320333, 0.8111854188093053, 0.7886219269178999, 0.8330961726249558, 0.811188848448867, 0.8331245482048235, 0.7537687589460305, 0.8139078301769136, 0.40525292161720805, 0.40525292161720805, 0.5799604322257188, 0.5799604322257188, 0.7857978271268383, 0.7857982712943208, 0.7537055795563629, 0.8111883754905759, 0.7890935262402343, 0.8111847817217362, 0.785798108515093, 0.21955763169081494, 0.21955763169081494, 0.21955763169081494, 0.21955763169081494, 0.21955763169081494, 0.21955763169081494, 0.8331252719787465, 0.7405391588499601, 0.37026957942498007, 0.7537068149014463, 0.7537054369273324, 0.9239564733569007, 0.7537053333128472, 0.8111850772478844, 0.9239564125745648, 0.7405427928464314, 0.3702713964232157, 0.3930199648411606, 0.3930199648411606, 0.9239565736600694, 0.8111841560474907, 0.8111846706443482, 0.8008921155745818, 0.3364327452294981, 0.16821637261474906, 0.3364327452294981, 0.16821637261474906, 0.4989804710412144, 0.4989804710412144, 0.9695749494445897, 0.811185585238815, 0.7537053863692614, 0.8331243960482521, 0.5223194270285771, 0.5223194270285771, 0.8331263337735828, 0.7537056018308063, 0.8008911718238665, 0.8139146158874044, 0.9239565815800389, 0.8330822190834128, 0.8008909503049462, 0.8008921554669273, 0.3784477687507919, 0.3784477687507919, 0.7537072365459383, 0.531303108834046, 0.531303108834046, 0.9239565645364498, 0.785798280036078, 0.7537088034119762, 0.8139039160862804, 0.524543152327264, 0.81118499325904, 0.8331245590817873, 0.8139123876283455, 0.8138153598215734, 0.9696011720851617, 0.788019867619767, 0.43453930981804156, 0.43453930981804156, 0.8008918487429634, 0.5921001414497636, 0.2960500707248818, 0.2960500707248818, 0.1802608669040809, 0.3605217338081618, 0.1802608669040809, 0.1802608669040809, 0.1802608669040809, 0.7857988477680085, 0.3456891415489011, 0.3456891415489011, 0.3456891415489011, 0.3878647257948036, 0.3878647257948036, 0.3878647257948036, 0.5247060867501082, 0.5247060867501082, 0.8331246424296034, 0.7537053051865714, 0.7537764217517533, 0.7537072783353795, 0.8111845284566265, 0.5356857434422851, 0.8331240450045336, 0.7857975680725111, 0.4031894520358728, 0.4031894520358728, 0.4031894520358728, 0.5245430925916909, 0.8331277995432352, 0.405253669000748, 0.405253669000748, 0.9239566037996975, 0.5234061853842545, 0.5234061853842545, 0.8111841596280884, 0.8331248223956064, 0.5313279091377876, 0.5313279091377876, 0.8008905041027252, 0.7887043354220074, 0.5608309369297473, 0.1869436456432491, 0.1869436456432491, 0.1869436456432491, 0.5901973869752024, 0.1967324623250675, 0.1967324623250675, 0.8111847092072566, 0.33113755997092953, 0.16556877998546476, 0.16556877998546476, 0.16556877998546476, 0.16556877998546476, 0.7857976711814461, 0.38362805463583716, 0.38362805463583716, 0.38362805463583716, 0.7886642968431773, 0.4978699129449403, 0.4978699129449403, 0.8331276503685494, 0.7537055843378332, 0.8331247123884881, 0.7887042944234592, 0.8330850792758568, 0.5681205393335232, 0.5681205393335232, 0.30045320850263035, 0.30045320850263035, 0.30045320850263035, 0.5116709049716388, 0.8138129658711077, 0.7857975977910572, 0.8138130044309798, 0.7857999860896168, 0.8331245142650691, 0.7857988706337612, 0.5381850585080241, 0.5381850585080241, 0.5038868377028455, 0.5038868377028455, 0.8008907548550228, 0.7537063785433092, 0.8138129070324216, 0.753783365916955, 0.7537480057114783, 0.5079416049420943, 0.5079416049420943, 0.7857977186831431, 0.753758604492061, 0.5300599500806974, 0.5300599500806974, 0.579964483109499, 0.579964483109499, 0.7537072425738982, 0.7537056587455627, 0.7537344569091095, 0.7888938929530639, 0.8331245437365584, 0.7892268049993452, 0.9239567201910596, 0.8138159639259211, 0.4876538799349629, 0.19506155197398517, 0.09753077598699258, 0.09753077598699258, 0.09753077598699258, 0.833125352724787, 0.7537054164454076, 0.8008906911316602, 0.8138147062919711, 0.7858001242991749, 0.5116692749089515, 0.7888562291629615, 0.5327022227105155, 0.5327022227105155, 0.5245432626888801, 0.8138137828332689, 0.5345488068123697, 0.5345488068123697, 0.8138135976867186, 0.8331253830040242, 0.8111843745215666, 0.8008916464539749, 0.800891544486427, 0.8138133205342806, 0.8008904687527412, 0.9239551887975168, 0.7537792537347828, 0.5143587725540861, 0.7857974070615892, 0.7857973588290358, 0.833126056486719, 0.7887922500074767, 0.535685858091313, 0.969607543598281, 0.8111856586319112, 0.8331246035956368, 0.8008906451946948, 0.8111842854757184, 0.7537056151892255, 0.39179048402063704, 0.39179048402063704, 0.39179048402063704, 0.7537053694234556, 0.545797616007829, 0.1819325386692763, 0.1819325386692763, 0.8008910109053918, 0.7890409966024898, 0.8008910074926231, 0.9239565735191473, 0.8111853152834151, 0.8138129448932461, 0.8111852691161212, 0.5245434474245627, 0.8111842542866998, 0.753707161055871, 0.8008910666256618, 0.7537055525186296, 0.8330748104854349, 0.3840736585796483, 0.3840736585796483, 0.969572645984531, 0.6263165794595862, 0.3228947514089708, 0.3228947514089708, 0.3228947514089708, 0.3228947514089708, 0.5079456118822254, 0.5079456118822254, 0.9239565112704123, 0.8331247350914747, 0.8008905269581222, 0.7858125422320832], \"Term\": [\"39800mxn\", \"70000mxn\", \"able\", \"access\", \"account\", \"add\", \"add\", \"adding\", \"addition\", \"additional\", \"additional\", \"additional\", \"airline\", \"airline\", \"airline\", \"allow\", \"allowed\", \"already\", \"already\", \"already\", \"always\", \"answered\", \"apart\", \"apparent\", \"appear\", \"appear\", \"around\", \"ask\", \"asks\", \"assigned\", \"attention\", \"automatically\", \"bad\", \"baggage\", \"benefit\", \"better\", \"buy\", \"call\", \"call\", \"cancellation\", \"cannot\", \"cannot\", \"cant\", \"card\", \"card\", \"carriage\", \"center\", \"center\", \"certain\", \"change\", \"change\", \"change\", \"change\", \"change\", \"change\", \"change\", \"changing\", \"changing\", \"charge\", \"charge\", \"charge\", \"charge\", \"charge_x000d_the\", \"charged\", \"charged\", \"charging\", \"cheapskate\", \"cheatedly\", \"check\", \"child\", \"choosing\", \"clarity\", \"clear\", \"clearer\", \"clearer_x000d_i\", \"close\", \"common\", \"completed\", \"concept\", \"confirm\", \"confused\", \"confusing\", \"consent\", \"continue\", \"correctly\", \"cost\", \"cost\", \"cost\", \"cost\", \"could\", \"counter\", \"courtesy\", \"crap\", \"date\", \"diagnosis\", \"didnt\", \"difference\", \"difference\", \"difficult\", \"difficult\", \"dis\", \"disarray\", \"disguised\", \"disservice\", \"document\", \"dont\", \"double\", \"end\", \"end\", \"end\", \"end\", \"end\", \"end\", \"english\", \"error\", \"error\", \"etc\", \"even\", \"ever\", \"every\", \"everything\", \"exaggerating\", \"expensive\", \"expensive\", \"extra\", \"extra\", \"fails\", \"fare\", \"feel\", \"final\", \"flight\", \"flight\", \"flight\", \"flight\", \"force\", \"force\", \"forced\", \"four\", \"free\", \"friendly\", \"full\", \"full\", \"get\", \"good\", \"got\", \"hand\", \"happy\", \"hsbc\", \"important\", \"include\", \"information\", \"information\", \"issue\", \"itinerary\", \"itinerary\", \"ive\", \"jumbled\", \"keep\", \"know\", \"later\", \"leaving\", \"lied\", \"little\", \"locking\", \"long\", \"look\", \"lot\", \"lot\", \"low\", \"luggage\", \"luggage\", \"luggage\", \"made\", \"made\", \"made\", \"made\", \"made\", \"maintaining\", \"make\", \"make\", \"make\", \"making\", \"making\", \"making\", \"many\", \"many\", \"manzanares\", \"marked\", \"medical\", \"method\", \"minor\", \"mistake\", \"moment\", \"much\", \"name\", \"name\", \"name\", \"new\", \"nobody\", \"nothing\", \"nothing\", \"notifying\", \"one\", \"one\", \"online\", \"operation\", \"option\", \"option\", \"original\", \"outside\", \"page\", \"page\", \"page\", \"page\", \"paid\", \"paid\", \"paid\", \"parent\", \"pay\", \"pay\", \"pay\", \"pay\", \"pay\", \"paying\", \"payment\", \"payment\", \"payment\", \"people\", \"per\", \"per\", \"perfect\", \"peso\", \"phone\", \"please\", \"plus\", \"policy\", \"policy\", \"price\", \"price\", \"price\", \"problem\", \"process\", \"promotion\", \"purchase\", \"put\", \"quoted\", \"raising\", \"rate\", \"rate\", \"really\", \"really\", \"reason\", \"recommend\", \"reflected\", \"reimbursed\", \"reimbursement\", \"remove\", \"remove\", \"removing\", \"requested\", \"reservation\", \"reservation\", \"respect\", \"respect\", \"respond\", \"rest\", \"robbery\", \"room\", \"samuel\", \"say\", \"schedule\", \"search\", \"seat\", \"seat\", \"seat\", \"seat\", \"seat\", \"see\", \"seem\", \"seems\", \"selected\", \"selecting\", \"selection\", \"send\", \"sense\", \"sense\", \"service\", \"session\", \"several\", \"several\", \"since\", \"site\", \"smart\", \"solid\", \"something\", \"somewhat\", \"space\", \"specific\", \"spoke\", \"staff\", \"stealing\", \"stop\", \"stuck\", \"suitcase\", \"system\", \"take\", \"tell\", \"terrible\", \"thats\", \"theft\", \"theory\", \"thing\", \"thing\", \"thing\", \"thousand\", \"time\", \"time\", \"time\", \"together\", \"train\", \"transferred\", \"traveled_x000d_this\", \"truck\", \"trust\", \"try\", \"tua\", \"turn\", \"type\", \"understand\", \"value\", \"viva\", \"want\", \"want\", \"wanted\", \"well\", \"without\", \"without\", \"without\", \"without\", \"work\", \"work\", \"worst\", \"worth\", \"would\", \"yeah\"]}, \"R\": 30, \"lambda.step\": 0.01, \"plot.opts\": {\"xlab\": \"PC1\", \"ylab\": \"PC2\"}, \"topic.order\": [1, 5, 8, 2, 6, 7, 4, 3]};\n",
              "\n",
              "function LDAvis_load_lib(url, callback){\n",
              "  var s = document.createElement('script');\n",
              "  s.src = url;\n",
              "  s.async = true;\n",
              "  s.onreadystatechange = s.onload = callback;\n",
              "  s.onerror = function(){console.warn(\"failed to load library \" + url);};\n",
              "  document.getElementsByTagName(\"head\")[0].appendChild(s);\n",
              "}\n",
              "\n",
              "if(typeof(LDAvis) !== \"undefined\"){\n",
              "   // already loaded: just create the visualization\n",
              "   !function(LDAvis){\n",
              "       new LDAvis(\"#\" + \"ldavis_el17571399998395316641006173473\", ldavis_el17571399998395316641006173473_data);\n",
              "   }(LDAvis);\n",
              "}else if(typeof define === \"function\" && define.amd){\n",
              "   // require.js is available: use it to load d3/LDAvis\n",
              "   require.config({paths: {d3: \"https://d3js.org/d3.v5\"}});\n",
              "   require([\"d3\"], function(d3){\n",
              "      window.d3 = d3;\n",
              "      LDAvis_load_lib(\"https://cdn.jsdelivr.net/gh/bmabey/pyLDAvis@3.4.0/pyLDAvis/js/ldavis.v3.0.0.js\", function(){\n",
              "        new LDAvis(\"#\" + \"ldavis_el17571399998395316641006173473\", ldavis_el17571399998395316641006173473_data);\n",
              "      });\n",
              "    });\n",
              "}else{\n",
              "    // require.js not available: dynamically load d3 & LDAvis\n",
              "    LDAvis_load_lib(\"https://d3js.org/d3.v5.js\", function(){\n",
              "         LDAvis_load_lib(\"https://cdn.jsdelivr.net/gh/bmabey/pyLDAvis@3.4.0/pyLDAvis/js/ldavis.v3.0.0.js\", function(){\n",
              "                 new LDAvis(\"#\" + \"ldavis_el17571399998395316641006173473\", ldavis_el17571399998395316641006173473_data);\n",
              "            })\n",
              "         });\n",
              "}\n",
              "</script>"
            ]
          },
          "metadata": {},
          "execution_count": 22
        }
      ]
    },
    {
      "cell_type": "markdown",
      "source": [
        "# VADER"
      ],
      "metadata": {
        "id": "gBieqUkzDhii"
      }
    },
    {
      "cell_type": "code",
      "source": [
        "def getSentiment(comment):\n",
        "  try:\n",
        "    # Create the object analyzer\n",
        "    sent_obj = SentimentIntensityAnalyzer()\n",
        "    #Create the dictionary with the polarity values for the sentence\n",
        "    sent_dictionary = sent_obj.polarity_scores(comment)\n",
        "    #Return the compounded sentiment value\n",
        "    return(sent_dictionary['compound'])\n",
        "  except:\n",
        "    print(comment)\n",
        "    return -10"
      ],
      "metadata": {
        "colab": {
          "base_uri": "https://localhost:8080/"
        },
        "id": "yl8m1OM94UQ-",
        "outputId": "651fd8d2-0520-4d1f-b342-b1def962fbfd"
      },
      "execution_count": null,
      "outputs": [
        {
          "output_type": "stream",
          "name": "stderr",
          "text": [
            "/usr/local/lib/python3.10/dist-packages/ipykernel/ipkernel.py:283: DeprecationWarning: `should_run_async` will not call `transform_cell` automatically in the future. Please pass the result to `transformed_cell` argument and any exception that happen during thetransform in `preprocessing_exc_tuple` in IPython 7.17 and above.\n",
            "  and should_run_async(code)\n"
          ]
        }
      ]
    },
    {
      "cell_type": "code",
      "source": [
        "df['vader_sentiment'] = df.Comment.progress_apply(getSentiment)"
      ],
      "metadata": {
        "colab": {
          "base_uri": "https://localhost:8080/",
          "height": 105,
          "referenced_widgets": [
            "7b494ce9eb584dcc81742f331812840a",
            "16f4432097664b01b1bbc6348c2cb444",
            "9d12af2843ff4b869f7ac0aaa37a0730",
            "ad80febe541941feadc9ac5762d1f5ce",
            "f0dcc93dc5054bb9b0bf74a079b04dcd",
            "b30539f98d38487fbd5fd1c2f42152b5",
            "1dc18c97a39147f2ad5e60a9726ec54d",
            "16b9aa3e66fc4b5fbfee73e3866726e6",
            "1b17acb4b68346d580a33a73c3235c4c",
            "141a2021661144329a403d90e8cc85c6",
            "12d085a17e9948dc9d0de2c3b4d6887a"
          ]
        },
        "id": "5_6U3UFG4Y5W",
        "outputId": "48756b4e-d78b-43e9-a14d-260e7eb860dc"
      },
      "execution_count": null,
      "outputs": [
        {
          "output_type": "stream",
          "name": "stderr",
          "text": [
            "/usr/local/lib/python3.10/dist-packages/ipykernel/ipkernel.py:283: DeprecationWarning: `should_run_async` will not call `transform_cell` automatically in the future. Please pass the result to `transformed_cell` argument and any exception that happen during thetransform in `preprocessing_exc_tuple` in IPython 7.17 and above.\n",
            "  and should_run_async(code)\n"
          ]
        },
        {
          "output_type": "display_data",
          "data": {
            "text/plain": [
              "  0%|          | 0/65 [00:00<?, ?it/s]"
            ],
            "application/vnd.jupyter.widget-view+json": {
              "version_major": 2,
              "version_minor": 0,
              "model_id": "7b494ce9eb584dcc81742f331812840a"
            }
          },
          "metadata": {}
        }
      ]
    },
    {
      "cell_type": "code",
      "source": [
        "dates = df.copy()\n",
        "dates['Date'] = pd.to_datetime(dates.Date)\n",
        "dates['Date'] = dates.Date.apply(removeTime)\n",
        "dates.columns\n",
        "dates = dates.drop(labels= ['Comment', 'nps'], axis = 1)\n",
        "dates = dates.groupby(['Date']).mean()"
      ],
      "metadata": {
        "colab": {
          "base_uri": "https://localhost:8080/"
        },
        "id": "Z5eVcXnP5YvI",
        "outputId": "6bd58221-4875-4ff1-e0f3-ac91953be2fd"
      },
      "execution_count": null,
      "outputs": [
        {
          "output_type": "stream",
          "name": "stderr",
          "text": [
            "/usr/local/lib/python3.10/dist-packages/ipykernel/ipkernel.py:283: DeprecationWarning: `should_run_async` will not call `transform_cell` automatically in the future. Please pass the result to `transformed_cell` argument and any exception that happen during thetransform in `preprocessing_exc_tuple` in IPython 7.17 and above.\n",
            "  and should_run_async(code)\n"
          ]
        }
      ]
    },
    {
      "cell_type": "code",
      "source": [
        "line_plot = sns.lineplot(data=dates, x=\"Date\", y=\"vader_sentiment\")\n",
        "line_plot.set_xticklabels(line_plot.get_xticklabels(), rotation=30)"
      ],
      "metadata": {
        "colab": {
          "base_uri": "https://localhost:8080/",
          "height": 731
        },
        "id": "gwL4rVIR-Y-z",
        "outputId": "a8148bd0-a577-4f64-c85b-70d59f642768"
      },
      "execution_count": null,
      "outputs": [
        {
          "output_type": "stream",
          "name": "stderr",
          "text": [
            "/usr/local/lib/python3.10/dist-packages/ipykernel/ipkernel.py:283: DeprecationWarning: `should_run_async` will not call `transform_cell` automatically in the future. Please pass the result to `transformed_cell` argument and any exception that happen during thetransform in `preprocessing_exc_tuple` in IPython 7.17 and above.\n",
            "  and should_run_async(code)\n",
            "<ipython-input-26-451280906579>:2: UserWarning: FixedFormatter should only be used together with FixedLocator\n",
            "  line_plot.set_xticklabels(line_plot.get_xticklabels(), rotation=30)\n"
          ]
        },
        {
          "output_type": "execute_result",
          "data": {
            "text/plain": [
              "[Text(19413.0, 0, '02-25 00'),\n",
              " Text(19413.5, 0, '02-25 12'),\n",
              " Text(19414.0, 0, '02-26 00'),\n",
              " Text(19414.5, 0, '02-26 12'),\n",
              " Text(19415.0, 0, '02-27 00'),\n",
              " Text(19415.5, 0, '02-27 12'),\n",
              " Text(19416.0, 0, '02-28 00'),\n",
              " Text(19416.5, 0, '02-28 12'),\n",
              " Text(19417.0, 0, '03-01 00')]"
            ]
          },
          "metadata": {},
          "execution_count": 26
        },
        {
          "output_type": "display_data",
          "data": {
            "text/plain": [
              "<Figure size 640x480 with 1 Axes>"
            ],
            "image/png": "[encoded data removed]"
          },
          "metadata": {}
        }
      ]
    }
  ]
}