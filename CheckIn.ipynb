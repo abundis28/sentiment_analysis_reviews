{
  "nbformat": 4,
  "nbformat_minor": 0,
  "metadata": {
    "colab": {
      "provenance": []
    },
    "kernelspec": {
      "name": "python3",
      "display_name": "Python 3"
    },
    "language_info": {
      "name": "python"
    },
    "widgets": {
      "application/vnd.jupyter.widget-state+json": {
        "913a5801405d414ea2461d6b8437dacc": {
          "model_module": "@jupyter-widgets/controls",
          "model_name": "HBoxModel",
          "model_module_version": "1.5.0",
          "state": {
            "_dom_classes": [],
            "_model_module": "@jupyter-widgets/controls",
            "_model_module_version": "1.5.0",
            "_model_name": "HBoxModel",
            "_view_count": null,
            "_view_module": "@jupyter-widgets/controls",
            "_view_module_version": "1.5.0",
            "_view_name": "HBoxView",
            "box_style": "",
            "children": [
              "IPY_MODEL_70738645beb841d981386c85e00d7726",
              "IPY_MODEL_df9804f082164a269d12674f0d0152d8",
              "IPY_MODEL_4db30157a913436f8296fef16603dd5c"
            ],
            "layout": "IPY_MODEL_fccd9cfc57d744969a2544f374687bf6"
          }
        },
        "70738645beb841d981386c85e00d7726": {
          "model_module": "@jupyter-widgets/controls",
          "model_name": "HTMLModel",
          "model_module_version": "1.5.0",
          "state": {
            "_dom_classes": [],
            "_model_module": "@jupyter-widgets/controls",
            "_model_module_version": "1.5.0",
            "_model_name": "HTMLModel",
            "_view_count": null,
            "_view_module": "@jupyter-widgets/controls",
            "_view_module_version": "1.5.0",
            "_view_name": "HTMLView",
            "description": "",
            "description_tooltip": null,
            "layout": "IPY_MODEL_a5e5081b97f940e69d1010347c0fbc2b",
            "placeholder": "​",
            "style": "IPY_MODEL_bde0019382c74aec9f44c652d8e82c05",
            "value": "100%"
          }
        },
        "df9804f082164a269d12674f0d0152d8": {
          "model_module": "@jupyter-widgets/controls",
          "model_name": "FloatProgressModel",
          "model_module_version": "1.5.0",
          "state": {
            "_dom_classes": [],
            "_model_module": "@jupyter-widgets/controls",
            "_model_module_version": "1.5.0",
            "_model_name": "FloatProgressModel",
            "_view_count": null,
            "_view_module": "@jupyter-widgets/controls",
            "_view_module_version": "1.5.0",
            "_view_name": "ProgressView",
            "bar_style": "success",
            "description": "",
            "description_tooltip": null,
            "layout": "IPY_MODEL_22f02c0442db46d687b85d689dcc54e1",
            "max": 191,
            "min": 0,
            "orientation": "horizontal",
            "style": "IPY_MODEL_80e708d4f55748b48822addc60c1e762",
            "value": 191
          }
        },
        "4db30157a913436f8296fef16603dd5c": {
          "model_module": "@jupyter-widgets/controls",
          "model_name": "HTMLModel",
          "model_module_version": "1.5.0",
          "state": {
            "_dom_classes": [],
            "_model_module": "@jupyter-widgets/controls",
            "_model_module_version": "1.5.0",
            "_model_name": "HTMLModel",
            "_view_count": null,
            "_view_module": "@jupyter-widgets/controls",
            "_view_module_version": "1.5.0",
            "_view_name": "HTMLView",
            "description": "",
            "description_tooltip": null,
            "layout": "IPY_MODEL_8c721ca30da34e00b7b00304dcae0ce0",
            "placeholder": "​",
            "style": "IPY_MODEL_7bf001dc24d9437886d03ee1565f9679",
            "value": " 191/191 [00:23&lt;00:00,  8.58it/s]"
          }
        },
        "fccd9cfc57d744969a2544f374687bf6": {
          "model_module": "@jupyter-widgets/base",
          "model_name": "LayoutModel",
          "model_module_version": "1.2.0",
          "state": {
            "_model_module": "@jupyter-widgets/base",
            "_model_module_version": "1.2.0",
            "_model_name": "LayoutModel",
            "_view_count": null,
            "_view_module": "@jupyter-widgets/base",
            "_view_module_version": "1.2.0",
            "_view_name": "LayoutView",
            "align_content": null,
            "align_items": null,
            "align_self": null,
            "border": null,
            "bottom": null,
            "display": null,
            "flex": null,
            "flex_flow": null,
            "grid_area": null,
            "grid_auto_columns": null,
            "grid_auto_flow": null,
            "grid_auto_rows": null,
            "grid_column": null,
            "grid_gap": null,
            "grid_row": null,
            "grid_template_areas": null,
            "grid_template_columns": null,
            "grid_template_rows": null,
            "height": null,
            "justify_content": null,
            "justify_items": null,
            "left": null,
            "margin": null,
            "max_height": null,
            "max_width": null,
            "min_height": null,
            "min_width": null,
            "object_fit": null,
            "object_position": null,
            "order": null,
            "overflow": null,
            "overflow_x": null,
            "overflow_y": null,
            "padding": null,
            "right": null,
            "top": null,
            "visibility": null,
            "width": null
          }
        },
        "a5e5081b97f940e69d1010347c0fbc2b": {
          "model_module": "@jupyter-widgets/base",
          "model_name": "LayoutModel",
          "model_module_version": "1.2.0",
          "state": {
            "_model_module": "@jupyter-widgets/base",
            "_model_module_version": "1.2.0",
            "_model_name": "LayoutModel",
            "_view_count": null,
            "_view_module": "@jupyter-widgets/base",
            "_view_module_version": "1.2.0",
            "_view_name": "LayoutView",
            "align_content": null,
            "align_items": null,
            "align_self": null,
            "border": null,
            "bottom": null,
            "display": null,
            "flex": null,
            "flex_flow": null,
            "grid_area": null,
            "grid_auto_columns": null,
            "grid_auto_flow": null,
            "grid_auto_rows": null,
            "grid_column": null,
            "grid_gap": null,
            "grid_row": null,
            "grid_template_areas": null,
            "grid_template_columns": null,
            "grid_template_rows": null,
            "height": null,
            "justify_content": null,
            "justify_items": null,
            "left": null,
            "margin": null,
            "max_height": null,
            "max_width": null,
            "min_height": null,
            "min_width": null,
            "object_fit": null,
            "object_position": null,
            "order": null,
            "overflow": null,
            "overflow_x": null,
            "overflow_y": null,
            "padding": null,
            "right": null,
            "top": null,
            "visibility": null,
            "width": null
          }
        },
        "bde0019382c74aec9f44c652d8e82c05": {
          "model_module": "@jupyter-widgets/controls",
          "model_name": "DescriptionStyleModel",
          "model_module_version": "1.5.0",
          "state": {
            "_model_module": "@jupyter-widgets/controls",
            "_model_module_version": "1.5.0",
            "_model_name": "DescriptionStyleModel",
            "_view_count": null,
            "_view_module": "@jupyter-widgets/base",
            "_view_module_version": "1.2.0",
            "_view_name": "StyleView",
            "description_width": ""
          }
        },
        "22f02c0442db46d687b85d689dcc54e1": {
          "model_module": "@jupyter-widgets/base",
          "model_name": "LayoutModel",
          "model_module_version": "1.2.0",
          "state": {
            "_model_module": "@jupyter-widgets/base",
            "_model_module_version": "1.2.0",
            "_model_name": "LayoutModel",
            "_view_count": null,
            "_view_module": "@jupyter-widgets/base",
            "_view_module_version": "1.2.0",
            "_view_name": "LayoutView",
            "align_content": null,
            "align_items": null,
            "align_self": null,
            "border": null,
            "bottom": null,
            "display": null,
            "flex": null,
            "flex_flow": null,
            "grid_area": null,
            "grid_auto_columns": null,
            "grid_auto_flow": null,
            "grid_auto_rows": null,
            "grid_column": null,
            "grid_gap": null,
            "grid_row": null,
            "grid_template_areas": null,
            "grid_template_columns": null,
            "grid_template_rows": null,
            "height": null,
            "justify_content": null,
            "justify_items": null,
            "left": null,
            "margin": null,
            "max_height": null,
            "max_width": null,
            "min_height": null,
            "min_width": null,
            "object_fit": null,
            "object_position": null,
            "order": null,
            "overflow": null,
            "overflow_x": null,
            "overflow_y": null,
            "padding": null,
            "right": null,
            "top": null,
            "visibility": null,
            "width": null
          }
        },
        "80e708d4f55748b48822addc60c1e762": {
          "model_module": "@jupyter-widgets/controls",
          "model_name": "ProgressStyleModel",
          "model_module_version": "1.5.0",
          "state": {
            "_model_module": "@jupyter-widgets/controls",
            "_model_module_version": "1.5.0",
            "_model_name": "ProgressStyleModel",
            "_view_count": null,
            "_view_module": "@jupyter-widgets/base",
            "_view_module_version": "1.2.0",
            "_view_name": "StyleView",
            "bar_color": null,
            "description_width": ""
          }
        },
        "8c721ca30da34e00b7b00304dcae0ce0": {
          "model_module": "@jupyter-widgets/base",
          "model_name": "LayoutModel",
          "model_module_version": "1.2.0",
          "state": {
            "_model_module": "@jupyter-widgets/base",
            "_model_module_version": "1.2.0",
            "_model_name": "LayoutModel",
            "_view_count": null,
            "_view_module": "@jupyter-widgets/base",
            "_view_module_version": "1.2.0",
            "_view_name": "LayoutView",
            "align_content": null,
            "align_items": null,
            "align_self": null,
            "border": null,
            "bottom": null,
            "display": null,
            "flex": null,
            "flex_flow": null,
            "grid_area": null,
            "grid_auto_columns": null,
            "grid_auto_flow": null,
            "grid_auto_rows": null,
            "grid_column": null,
            "grid_gap": null,
            "grid_row": null,
            "grid_template_areas": null,
            "grid_template_columns": null,
            "grid_template_rows": null,
            "height": null,
            "justify_content": null,
            "justify_items": null,
            "left": null,
            "margin": null,
            "max_height": null,
            "max_width": null,
            "min_height": null,
            "min_width": null,
            "object_fit": null,
            "object_position": null,
            "order": null,
            "overflow": null,
            "overflow_x": null,
            "overflow_y": null,
            "padding": null,
            "right": null,
            "top": null,
            "visibility": null,
            "width": null
          }
        },
        "7bf001dc24d9437886d03ee1565f9679": {
          "model_module": "@jupyter-widgets/controls",
          "model_name": "DescriptionStyleModel",
          "model_module_version": "1.5.0",
          "state": {
            "_model_module": "@jupyter-widgets/controls",
            "_model_module_version": "1.5.0",
            "_model_name": "DescriptionStyleModel",
            "_view_count": null,
            "_view_module": "@jupyter-widgets/base",
            "_view_module_version": "1.2.0",
            "_view_name": "StyleView",
            "description_width": ""
          }
        },
        "885cd038cc5745ce9e37af2a45f49169": {
          "model_module": "@jupyter-widgets/controls",
          "model_name": "HBoxModel",
          "model_module_version": "1.5.0",
          "state": {
            "_dom_classes": [],
            "_model_module": "@jupyter-widgets/controls",
            "_model_module_version": "1.5.0",
            "_model_name": "HBoxModel",
            "_view_count": null,
            "_view_module": "@jupyter-widgets/controls",
            "_view_module_version": "1.5.0",
            "_view_name": "HBoxView",
            "box_style": "",
            "children": [
              "IPY_MODEL_e567ed1ca01e47a3ac14e9801b33671c",
              "IPY_MODEL_763d647335d24f319da74e0ea6cd7f3e",
              "IPY_MODEL_3f24fe6ae0484c5998039ba7bdf1e36c"
            ],
            "layout": "IPY_MODEL_704ba8a3f124414e9a43aee4c7a8f26b"
          }
        },
        "e567ed1ca01e47a3ac14e9801b33671c": {
          "model_module": "@jupyter-widgets/controls",
          "model_name": "HTMLModel",
          "model_module_version": "1.5.0",
          "state": {
            "_dom_classes": [],
            "_model_module": "@jupyter-widgets/controls",
            "_model_module_version": "1.5.0",
            "_model_name": "HTMLModel",
            "_view_count": null,
            "_view_module": "@jupyter-widgets/controls",
            "_view_module_version": "1.5.0",
            "_view_name": "HTMLView",
            "description": "",
            "description_tooltip": null,
            "layout": "IPY_MODEL_cb1688f7afc94275a14c7d4794962b0c",
            "placeholder": "​",
            "style": "IPY_MODEL_0cd62d5004b9446f904011010adc6ec2",
            "value": "100%"
          }
        },
        "763d647335d24f319da74e0ea6cd7f3e": {
          "model_module": "@jupyter-widgets/controls",
          "model_name": "FloatProgressModel",
          "model_module_version": "1.5.0",
          "state": {
            "_dom_classes": [],
            "_model_module": "@jupyter-widgets/controls",
            "_model_module_version": "1.5.0",
            "_model_name": "FloatProgressModel",
            "_view_count": null,
            "_view_module": "@jupyter-widgets/controls",
            "_view_module_version": "1.5.0",
            "_view_name": "ProgressView",
            "bar_style": "success",
            "description": "",
            "description_tooltip": null,
            "layout": "IPY_MODEL_c31d0cc80f9248878a0d26440090ffd9",
            "max": 191,
            "min": 0,
            "orientation": "horizontal",
            "style": "IPY_MODEL_d251512b07d74571b5bdec3295a0721b",
            "value": 191
          }
        },
        "3f24fe6ae0484c5998039ba7bdf1e36c": {
          "model_module": "@jupyter-widgets/controls",
          "model_name": "HTMLModel",
          "model_module_version": "1.5.0",
          "state": {
            "_dom_classes": [],
            "_model_module": "@jupyter-widgets/controls",
            "_model_module_version": "1.5.0",
            "_model_name": "HTMLModel",
            "_view_count": null,
            "_view_module": "@jupyter-widgets/controls",
            "_view_module_version": "1.5.0",
            "_view_name": "HTMLView",
            "description": "",
            "description_tooltip": null,
            "layout": "IPY_MODEL_a876116770b943d8a46bbe257508259e",
            "placeholder": "​",
            "style": "IPY_MODEL_cc9f2e2b0ff14e3dba1e1aed0090690a",
            "value": " 191/191 [00:02&lt;00:00, 84.31it/s]"
          }
        },
        "704ba8a3f124414e9a43aee4c7a8f26b": {
          "model_module": "@jupyter-widgets/base",
          "model_name": "LayoutModel",
          "model_module_version": "1.2.0",
          "state": {
            "_model_module": "@jupyter-widgets/base",
            "_model_module_version": "1.2.0",
            "_model_name": "LayoutModel",
            "_view_count": null,
            "_view_module": "@jupyter-widgets/base",
            "_view_module_version": "1.2.0",
            "_view_name": "LayoutView",
            "align_content": null,
            "align_items": null,
            "align_self": null,
            "border": null,
            "bottom": null,
            "display": null,
            "flex": null,
            "flex_flow": null,
            "grid_area": null,
            "grid_auto_columns": null,
            "grid_auto_flow": null,
            "grid_auto_rows": null,
            "grid_column": null,
            "grid_gap": null,
            "grid_row": null,
            "grid_template_areas": null,
            "grid_template_columns": null,
            "grid_template_rows": null,
            "height": null,
            "justify_content": null,
            "justify_items": null,
            "left": null,
            "margin": null,
            "max_height": null,
            "max_width": null,
            "min_height": null,
            "min_width": null,
            "object_fit": null,
            "object_position": null,
            "order": null,
            "overflow": null,
            "overflow_x": null,
            "overflow_y": null,
            "padding": null,
            "right": null,
            "top": null,
            "visibility": null,
            "width": null
          }
        },
        "cb1688f7afc94275a14c7d4794962b0c": {
          "model_module": "@jupyter-widgets/base",
          "model_name": "LayoutModel",
          "model_module_version": "1.2.0",
          "state": {
            "_model_module": "@jupyter-widgets/base",
            "_model_module_version": "1.2.0",
            "_model_name": "LayoutModel",
            "_view_count": null,
            "_view_module": "@jupyter-widgets/base",
            "_view_module_version": "1.2.0",
            "_view_name": "LayoutView",
            "align_content": null,
            "align_items": null,
            "align_self": null,
            "border": null,
            "bottom": null,
            "display": null,
            "flex": null,
            "flex_flow": null,
            "grid_area": null,
            "grid_auto_columns": null,
            "grid_auto_flow": null,
            "grid_auto_rows": null,
            "grid_column": null,
            "grid_gap": null,
            "grid_row": null,
            "grid_template_areas": null,
            "grid_template_columns": null,
            "grid_template_rows": null,
            "height": null,
            "justify_content": null,
            "justify_items": null,
            "left": null,
            "margin": null,
            "max_height": null,
            "max_width": null,
            "min_height": null,
            "min_width": null,
            "object_fit": null,
            "object_position": null,
            "order": null,
            "overflow": null,
            "overflow_x": null,
            "overflow_y": null,
            "padding": null,
            "right": null,
            "top": null,
            "visibility": null,
            "width": null
          }
        },
        "0cd62d5004b9446f904011010adc6ec2": {
          "model_module": "@jupyter-widgets/controls",
          "model_name": "DescriptionStyleModel",
          "model_module_version": "1.5.0",
          "state": {
            "_model_module": "@jupyter-widgets/controls",
            "_model_module_version": "1.5.0",
            "_model_name": "DescriptionStyleModel",
            "_view_count": null,
            "_view_module": "@jupyter-widgets/base",
            "_view_module_version": "1.2.0",
            "_view_name": "StyleView",
            "description_width": ""
          }
        },
        "c31d0cc80f9248878a0d26440090ffd9": {
          "model_module": "@jupyter-widgets/base",
          "model_name": "LayoutModel",
          "model_module_version": "1.2.0",
          "state": {
            "_model_module": "@jupyter-widgets/base",
            "_model_module_version": "1.2.0",
            "_model_name": "LayoutModel",
            "_view_count": null,
            "_view_module": "@jupyter-widgets/base",
            "_view_module_version": "1.2.0",
            "_view_name": "LayoutView",
            "align_content": null,
            "align_items": null,
            "align_self": null,
            "border": null,
            "bottom": null,
            "display": null,
            "flex": null,
            "flex_flow": null,
            "grid_area": null,
            "grid_auto_columns": null,
            "grid_auto_flow": null,
            "grid_auto_rows": null,
            "grid_column": null,
            "grid_gap": null,
            "grid_row": null,
            "grid_template_areas": null,
            "grid_template_columns": null,
            "grid_template_rows": null,
            "height": null,
            "justify_content": null,
            "justify_items": null,
            "left": null,
            "margin": null,
            "max_height": null,
            "max_width": null,
            "min_height": null,
            "min_width": null,
            "object_fit": null,
            "object_position": null,
            "order": null,
            "overflow": null,
            "overflow_x": null,
            "overflow_y": null,
            "padding": null,
            "right": null,
            "top": null,
            "visibility": null,
            "width": null
          }
        },
        "d251512b07d74571b5bdec3295a0721b": {
          "model_module": "@jupyter-widgets/controls",
          "model_name": "ProgressStyleModel",
          "model_module_version": "1.5.0",
          "state": {
            "_model_module": "@jupyter-widgets/controls",
            "_model_module_version": "1.5.0",
            "_model_name": "ProgressStyleModel",
            "_view_count": null,
            "_view_module": "@jupyter-widgets/base",
            "_view_module_version": "1.2.0",
            "_view_name": "StyleView",
            "bar_color": null,
            "description_width": ""
          }
        },
        "a876116770b943d8a46bbe257508259e": {
          "model_module": "@jupyter-widgets/base",
          "model_name": "LayoutModel",
          "model_module_version": "1.2.0",
          "state": {
            "_model_module": "@jupyter-widgets/base",
            "_model_module_version": "1.2.0",
            "_model_name": "LayoutModel",
            "_view_count": null,
            "_view_module": "@jupyter-widgets/base",
            "_view_module_version": "1.2.0",
            "_view_name": "LayoutView",
            "align_content": null,
            "align_items": null,
            "align_self": null,
            "border": null,
            "bottom": null,
            "display": null,
            "flex": null,
            "flex_flow": null,
            "grid_area": null,
            "grid_auto_columns": null,
            "grid_auto_flow": null,
            "grid_auto_rows": null,
            "grid_column": null,
            "grid_gap": null,
            "grid_row": null,
            "grid_template_areas": null,
            "grid_template_columns": null,
            "grid_template_rows": null,
            "height": null,
            "justify_content": null,
            "justify_items": null,
            "left": null,
            "margin": null,
            "max_height": null,
            "max_width": null,
            "min_height": null,
            "min_width": null,
            "object_fit": null,
            "object_position": null,
            "order": null,
            "overflow": null,
            "overflow_x": null,
            "overflow_y": null,
            "padding": null,
            "right": null,
            "top": null,
            "visibility": null,
            "width": null
          }
        },
        "cc9f2e2b0ff14e3dba1e1aed0090690a": {
          "model_module": "@jupyter-widgets/controls",
          "model_name": "DescriptionStyleModel",
          "model_module_version": "1.5.0",
          "state": {
            "_model_module": "@jupyter-widgets/controls",
            "_model_module_version": "1.5.0",
            "_model_name": "DescriptionStyleModel",
            "_view_count": null,
            "_view_module": "@jupyter-widgets/base",
            "_view_module_version": "1.2.0",
            "_view_name": "StyleView",
            "description_width": ""
          }
        }
      }
    }
  },
  "cells": [
    {
      "cell_type": "markdown",
      "source": [
        "## DEPENDENCIES"
      ],
      "metadata": {
        "id": "pvss1Z6RD_WK"
      }
    },
    {
      "cell_type": "markdown",
      "source": [
        "Uncomment the following pip commands to install the necessary dependencies if it is the first time run.\n",
        "Then, reset the runtime and do not run the pip installs again."
      ],
      "metadata": {
        "id": "pE2Z79eHX68T"
      }
    },
    {
      "cell_type": "code",
      "source": [
        "!pip install --user -U nltk\n",
        "!pip install -U deep-translator\n",
        "!pip install tqdm_notebook\n",
        "!pip install pyldavis\n",
        "!pip install vadersentiment"
      ],
      "metadata": {
        "id": "dUeRCIpw4yub"
      },
      "execution_count": null,
      "outputs": []
    },
    {
      "cell_type": "code",
      "execution_count": null,
      "metadata": {
        "id": "OdpYDADIYyvM",
        "colab": {
          "base_uri": "https://localhost:8080/"
        },
        "outputId": "ed1d4112-7064-4bcb-9d0d-511d0081e3b5"
      },
      "outputs": [
        {
          "output_type": "stream",
          "name": "stderr",
          "text": [
            "/usr/local/lib/python3.10/dist-packages/ipykernel/ipkernel.py:283: DeprecationWarning: `should_run_async` will not call `transform_cell` automatically in the future. Please pass the result to `transformed_cell` argument and any exception that happen during thetransform in `preprocessing_exc_tuple` in IPython 7.17 and above.\n",
            "  and should_run_async(code)\n",
            "[nltk_data] Downloading package stopwords to /root/nltk_data...\n",
            "[nltk_data]   Package stopwords is already up-to-date!\n",
            "[nltk_data] Downloading package punkt to /root/nltk_data...\n",
            "[nltk_data]   Package punkt is already up-to-date!\n",
            "[nltk_data] Downloading package wordnet to /root/nltk_data...\n",
            "[nltk_data]   Package wordnet is already up-to-date!\n"
          ]
        }
      ],
      "source": [
        "from deep_translator import GoogleTranslator\n",
        "from matplotlib import pyplot as plt\n",
        "import nltk\n",
        "nltk.download('stopwords')\n",
        "nltk.download('punkt')\n",
        "nltk.download('wordnet')\n",
        "from nltk.corpus import stopwords\n",
        "from nltk.tokenize import word_tokenize\n",
        "from nltk.stem.snowball import PorterStemmer\n",
        "import gensim\n",
        "import pyLDAvis\n",
        "import pyLDAvis.gensim\n",
        "import re\n",
        "import numpy as np\n",
        "import pandas as pd\n",
        "import statistics\n",
        "import seaborn as sns\n",
        "from tqdm._tqdm_notebook import tqdm_notebook\n",
        "tqdm_notebook.pandas()\n",
        "from vaderSentiment.vaderSentiment import SentimentIntensityAnalyzer"
      ]
    },
    {
      "cell_type": "markdown",
      "source": [
        "## IMPORT DATA"
      ],
      "metadata": {
        "id": "QqMIYpNZEEaY"
      }
    },
    {
      "cell_type": "code",
      "source": [
        "df = pd.read_excel(\"Viva-Tec-data.xlsx\", sheet_name=\"Checkin\")\n",
        "df.rename({'translation': 'Comment'}, axis=1, inplace=True)\n",
        "df = df.iloc[:200,:] # Average per day is 200 reviews\n",
        "df"
      ],
      "metadata": {
        "colab": {
          "base_uri": "https://localhost:8080/",
          "height": 479
        },
        "id": "A36gsDzhgVKb",
        "outputId": "0843258d-b909-43a3-a210-e27fd1417494"
      },
      "execution_count": null,
      "outputs": [
        {
          "output_type": "stream",
          "name": "stderr",
          "text": [
            "/usr/local/lib/python3.10/dist-packages/ipykernel/ipkernel.py:283: DeprecationWarning: `should_run_async` will not call `transform_cell` automatically in the future. Please pass the result to `transformed_cell` argument and any exception that happen during thetransform in `preprocessing_exc_tuple` in IPython 7.17 and above.\n",
            "  and should_run_async(code)\n"
          ]
        },
        {
          "output_type": "execute_result",
          "data": {
            "text/plain": [
              "                   Date  nps   \n",
              "0   2023-04-17 20:23:04    9  \\\n",
              "1   2023-04-17 20:21:04    9   \n",
              "2   2023-04-17 20:17:07    9   \n",
              "3   2023-04-17 20:17:04   10   \n",
              "4   2023-04-17 20:10:06    9   \n",
              "..                  ...  ...   \n",
              "195 2023-04-16 01:40:41   10   \n",
              "196 2023-04-16 01:37:29   10   \n",
              "197 2023-04-16 01:33:18   10   \n",
              "198 2023-04-16 01:25:05    9   \n",
              "199 2023-04-16 01:09:48   10   \n",
              "\n",
              "                                               Comment  \n",
              "0                                               PRECIO  \n",
              "1    ES LA PRIMERA VEZ Y SI ME SIENTO CON ALGO DE I...  \n",
              "2                                        Es muy rapido  \n",
              "3                                                Bueno  \n",
              "4                                           Prcticidad  \n",
              "..                                                 ...  \n",
              "195                                por que es muy ágil  \n",
              "196                                     FUE MUY RAPIDO  \n",
              "197                            Buen precio y eficiente  \n",
              "198                                           eficacia  \n",
              "199                                    Porque es facil  \n",
              "\n",
              "[200 rows x 3 columns]"
            ],
            "text/html": [
              "\n",
              "  <div id=\"df-69163bf8-7764-4b92-9025-186d6f8645f4\">\n",
              "    <div class=\"colab-df-container\">\n",
              "      <div>\n",
              "<style scoped>\n",
              "    .dataframe tbody tr th:only-of-type {\n",
              "        vertical-align: middle;\n",
              "    }\n",
              "\n",
              "    .dataframe tbody tr th {\n",
              "        vertical-align: top;\n",
              "    }\n",
              "\n",
              "    .dataframe thead th {\n",
              "        text-align: right;\n",
              "    }\n",
              "</style>\n",
              "<table border=\"1\" class=\"dataframe\">\n",
              "  <thead>\n",
              "    <tr style=\"text-align: right;\">\n",
              "      <th></th>\n",
              "      <th>Date</th>\n",
              "      <th>nps</th>\n",
              "      <th>Comment</th>\n",
              "    </tr>\n",
              "  </thead>\n",
              "  <tbody>\n",
              "    <tr>\n",
              "      <th>0</th>\n",
              "      <td>2023-04-17 20:23:04</td>\n",
              "      <td>9</td>\n",
              "      <td>PRECIO</td>\n",
              "    </tr>\n",
              "    <tr>\n",
              "      <th>1</th>\n",
              "      <td>2023-04-17 20:21:04</td>\n",
              "      <td>9</td>\n",
              "      <td>ES LA PRIMERA VEZ Y SI ME SIENTO CON ALGO DE I...</td>\n",
              "    </tr>\n",
              "    <tr>\n",
              "      <th>2</th>\n",
              "      <td>2023-04-17 20:17:07</td>\n",
              "      <td>9</td>\n",
              "      <td>Es muy rapido</td>\n",
              "    </tr>\n",
              "    <tr>\n",
              "      <th>3</th>\n",
              "      <td>2023-04-17 20:17:04</td>\n",
              "      <td>10</td>\n",
              "      <td>Bueno</td>\n",
              "    </tr>\n",
              "    <tr>\n",
              "      <th>4</th>\n",
              "      <td>2023-04-17 20:10:06</td>\n",
              "      <td>9</td>\n",
              "      <td>Prcticidad</td>\n",
              "    </tr>\n",
              "    <tr>\n",
              "      <th>...</th>\n",
              "      <td>...</td>\n",
              "      <td>...</td>\n",
              "      <td>...</td>\n",
              "    </tr>\n",
              "    <tr>\n",
              "      <th>195</th>\n",
              "      <td>2023-04-16 01:40:41</td>\n",
              "      <td>10</td>\n",
              "      <td>por que es muy ágil</td>\n",
              "    </tr>\n",
              "    <tr>\n",
              "      <th>196</th>\n",
              "      <td>2023-04-16 01:37:29</td>\n",
              "      <td>10</td>\n",
              "      <td>FUE MUY RAPIDO</td>\n",
              "    </tr>\n",
              "    <tr>\n",
              "      <th>197</th>\n",
              "      <td>2023-04-16 01:33:18</td>\n",
              "      <td>10</td>\n",
              "      <td>Buen precio y eficiente</td>\n",
              "    </tr>\n",
              "    <tr>\n",
              "      <th>198</th>\n",
              "      <td>2023-04-16 01:25:05</td>\n",
              "      <td>9</td>\n",
              "      <td>eficacia</td>\n",
              "    </tr>\n",
              "    <tr>\n",
              "      <th>199</th>\n",
              "      <td>2023-04-16 01:09:48</td>\n",
              "      <td>10</td>\n",
              "      <td>Porque es facil</td>\n",
              "    </tr>\n",
              "  </tbody>\n",
              "</table>\n",
              "<p>200 rows × 3 columns</p>\n",
              "</div>\n",
              "      <button class=\"colab-df-convert\" onclick=\"convertToInteractive('df-69163bf8-7764-4b92-9025-186d6f8645f4')\"\n",
              "              title=\"Convert this dataframe to an interactive table.\"\n",
              "              style=\"display:none;\">\n",
              "        \n",
              "  <svg xmlns=\"http://www.w3.org/2000/svg\" height=\"24px\"viewBox=\"0 0 24 24\"\n",
              "       width=\"24px\">\n",
              "    <path d=\"M0 0h24v24H0V0z\" fill=\"none\"/>\n",
              "    <path d=\"M18.56 5.44l.94 2.06.94-2.06 2.06-.94-2.06-.94-.94-2.06-.94 2.06-2.06.94zm-11 1L8.5 8.5l.94-2.06 2.06-.94-2.06-.94L8.5 2.5l-.94 2.06-2.06.94zm10 10l.94 2.06.94-2.06 2.06-.94-2.06-.94-.94-2.06-.94 2.06-2.06.94z\"/><path d=\"M17.41 7.96l-1.37-1.37c-.4-.4-.92-.59-1.43-.59-.52 0-1.04.2-1.43.59L10.3 9.45l-7.72 7.72c-.78.78-.78 2.05 0 2.83L4 21.41c.39.39.9.59 1.41.59.51 0 1.02-.2 1.41-.59l7.78-7.78 2.81-2.81c.8-.78.8-2.07 0-2.86zM5.41 20L4 18.59l7.72-7.72 1.47 1.35L5.41 20z\"/>\n",
              "  </svg>\n",
              "      </button>\n",
              "      \n",
              "  <style>\n",
              "    .colab-df-container {\n",
              "      display:flex;\n",
              "      flex-wrap:wrap;\n",
              "      gap: 12px;\n",
              "    }\n",
              "\n",
              "    .colab-df-convert {\n",
              "      background-color: #E8F0FE;\n",
              "      border: none;\n",
              "      border-radius: 50%;\n",
              "      cursor: pointer;\n",
              "      display: none;\n",
              "      fill: #1967D2;\n",
              "      height: 32px;\n",
              "      padding: 0 0 0 0;\n",
              "      width: 32px;\n",
              "    }\n",
              "\n",
              "    .colab-df-convert:hover {\n",
              "      background-color: #E2EBFA;\n",
              "      box-shadow: 0px 1px 2px rgba(60, 64, 67, 0.3), 0px 1px 3px 1px rgba(60, 64, 67, 0.15);\n",
              "      fill: #174EA6;\n",
              "    }\n",
              "\n",
              "    [theme=dark] .colab-df-convert {\n",
              "      background-color: #3B4455;\n",
              "      fill: #D2E3FC;\n",
              "    }\n",
              "\n",
              "    [theme=dark] .colab-df-convert:hover {\n",
              "      background-color: #434B5C;\n",
              "      box-shadow: 0px 1px 3px 1px rgba(0, 0, 0, 0.15);\n",
              "      filter: drop-shadow(0px 1px 2px rgba(0, 0, 0, 0.3));\n",
              "      fill: #FFFFFF;\n",
              "    }\n",
              "  </style>\n",
              "\n",
              "      <script>\n",
              "        const buttonEl =\n",
              "          document.querySelector('#df-69163bf8-7764-4b92-9025-186d6f8645f4 button.colab-df-convert');\n",
              "        buttonEl.style.display =\n",
              "          google.colab.kernel.accessAllowed ? 'block' : 'none';\n",
              "\n",
              "        async function convertToInteractive(key) {\n",
              "          const element = document.querySelector('#df-69163bf8-7764-4b92-9025-186d6f8645f4');\n",
              "          const dataTable =\n",
              "            await google.colab.kernel.invokeFunction('convertToInteractive',\n",
              "                                                     [key], {});\n",
              "          if (!dataTable) return;\n",
              "\n",
              "          const docLinkHtml = 'Like what you see? Visit the ' +\n",
              "            '<a target=\"_blank\" href=https://colab.research.google.com/notebooks/data_table.ipynb>data table notebook</a>'\n",
              "            + ' to learn more about interactive tables.';\n",
              "          element.innerHTML = '';\n",
              "          dataTable['output_type'] = 'display_data';\n",
              "          await google.colab.output.renderOutput(dataTable, element);\n",
              "          const docLink = document.createElement('div');\n",
              "          docLink.innerHTML = docLinkHtml;\n",
              "          element.appendChild(docLink);\n",
              "        }\n",
              "      </script>\n",
              "    </div>\n",
              "  </div>\n",
              "  "
            ]
          },
          "metadata": {},
          "execution_count": 35
        }
      ]
    },
    {
      "cell_type": "markdown",
      "source": [
        "## EXPLORATION"
      ],
      "metadata": {
        "id": "tgBkY2RLEk4i"
      }
    },
    {
      "cell_type": "code",
      "source": [
        "unique = []\n",
        "\n",
        "for i, text in enumerate(df[\"Comment\"]):\n",
        "  text = str(text).lower()\n",
        "  x = len(text.split())\n",
        "  if x == 1 and len(text) < 4:\n",
        "    if text not in unique:\n",
        "      unique.append(text)\n",
        "\n",
        "print(len(unique))\n",
        "print(unique)"
      ],
      "metadata": {
        "id": "v1WsshBPpEDU",
        "outputId": "d450e7c0-77a3-4822-ffd9-84c8c7bad448",
        "colab": {
          "base_uri": "https://localhost:8080/"
        }
      },
      "execution_count": null,
      "outputs": [
        {
          "output_type": "stream",
          "name": "stdout",
          "text": [
            "9\n",
            "['.', 'si', ':d', 'na', 'b', 'ok', 'm', ':)', 'no']\n"
          ]
        },
        {
          "output_type": "stream",
          "name": "stderr",
          "text": [
            "/usr/local/lib/python3.10/dist-packages/ipykernel/ipkernel.py:283: DeprecationWarning: `should_run_async` will not call `transform_cell` automatically in the future. Please pass the result to `transformed_cell` argument and any exception that happen during thetransform in `preprocessing_exc_tuple` in IPython 7.17 and above.\n",
            "  and should_run_async(code)\n"
          ]
        }
      ]
    },
    {
      "cell_type": "markdown",
      "source": [
        "### NPS Score"
      ],
      "metadata": {
        "id": "VbProZX5H5zN"
      }
    },
    {
      "cell_type": "code",
      "source": [
        "plt.title(\"NPS\")\n",
        "plt.hist(df[\"nps\"])"
      ],
      "metadata": {
        "colab": {
          "base_uri": "https://localhost:8080/",
          "height": 561
        },
        "id": "WpEUUl11g1T-",
        "outputId": "d17cb7ec-8d48-41ae-c5c2-44b449b27792"
      },
      "execution_count": null,
      "outputs": [
        {
          "output_type": "stream",
          "name": "stderr",
          "text": [
            "/usr/local/lib/python3.10/dist-packages/ipykernel/ipkernel.py:283: DeprecationWarning: `should_run_async` will not call `transform_cell` automatically in the future. Please pass the result to `transformed_cell` argument and any exception that happen during thetransform in `preprocessing_exc_tuple` in IPython 7.17 and above.\n",
            "  and should_run_async(code)\n"
          ]
        },
        {
          "output_type": "execute_result",
          "data": {
            "text/plain": [
              "(array([ 44.,   0.,   0.,   0.,   0.,   0.,   0.,   0.,   0., 156.]),\n",
              " array([ 9. ,  9.1,  9.2,  9.3,  9.4,  9.5,  9.6,  9.7,  9.8,  9.9, 10. ]),\n",
              " <BarContainer object of 10 artists>)"
            ]
          },
          "metadata": {},
          "execution_count": 37
        },
        {
          "output_type": "display_data",
          "data": {
            "text/plain": [
              "<Figure size 640x480 with 1 Axes>"
            ],
            "image/png": "[encoded data removed]"
          },
          "metadata": {}
        }
      ]
    },
    {
      "cell_type": "code",
      "source": [
        "promoters_count = len(df[df.nps >= 9])\n",
        "promoters = promoters_count / len(df)\n",
        "\n",
        "detractors_count = len(df[df.nps <= 6])\n",
        "detractors = detractors_count / len(df)\n",
        "\n",
        "nps_score = (promoters - detractors) * 100\n",
        "print(\"Weighted NPS score = {}\".format(nps_score))\n",
        "print(\"NPS Score = %promoters(10-9) - %ditractor(>6)\")"
      ],
      "metadata": {
        "id": "BzRbnn_dwP87",
        "colab": {
          "base_uri": "https://localhost:8080/"
        },
        "outputId": "522331a5-7d2a-4899-a6ad-c33b462c11b4"
      },
      "execution_count": null,
      "outputs": [
        {
          "output_type": "stream",
          "name": "stdout",
          "text": [
            "Weighted NPS score = 100.0\n",
            "NPS Score = %promoters(10-9) - %ditractor(>6)\n"
          ]
        },
        {
          "output_type": "stream",
          "name": "stderr",
          "text": [
            "/usr/local/lib/python3.10/dist-packages/ipykernel/ipkernel.py:283: DeprecationWarning: `should_run_async` will not call `transform_cell` automatically in the future. Please pass the result to `transformed_cell` argument and any exception that happen during thetransform in `preprocessing_exc_tuple` in IPython 7.17 and above.\n",
            "  and should_run_async(code)\n"
          ]
        }
      ]
    },
    {
      "cell_type": "markdown",
      "source": [
        "### TIME"
      ],
      "metadata": {
        "id": "0ZN0xtONaz_6"
      }
    },
    {
      "cell_type": "code",
      "source": [
        "def removeTime(row):\n",
        "  return row.date()"
      ],
      "metadata": {
        "colab": {
          "base_uri": "https://localhost:8080/"
        },
        "id": "xZnIvtf2a-iZ",
        "outputId": "db000fe1-c99a-406f-9cc5-bcbf05ff47c8"
      },
      "execution_count": null,
      "outputs": [
        {
          "output_type": "stream",
          "name": "stderr",
          "text": [
            "/usr/local/lib/python3.10/dist-packages/ipykernel/ipkernel.py:283: DeprecationWarning: `should_run_async` will not call `transform_cell` automatically in the future. Please pass the result to `transformed_cell` argument and any exception that happen during thetransform in `preprocessing_exc_tuple` in IPython 7.17 and above.\n",
            "  and should_run_async(code)\n"
          ]
        }
      ]
    },
    {
      "cell_type": "code",
      "source": [
        "df_time = df.copy()\n",
        "df_time['Date'] = pd.to_datetime(df_time.Date)\n",
        "df_time['Date'] = df_time.Date.apply(removeTime)\n",
        "df_time = df_time.groupby(['Date']).count()"
      ],
      "metadata": {
        "colab": {
          "base_uri": "https://localhost:8080/"
        },
        "id": "Jp1Ej1kiazkO",
        "outputId": "c8c54802-6ad2-4f6b-d08b-aabe6704d72b"
      },
      "execution_count": null,
      "outputs": [
        {
          "output_type": "stream",
          "name": "stderr",
          "text": [
            "/usr/local/lib/python3.10/dist-packages/ipykernel/ipkernel.py:283: DeprecationWarning: `should_run_async` will not call `transform_cell` automatically in the future. Please pass the result to `transformed_cell` argument and any exception that happen during thetransform in `preprocessing_exc_tuple` in IPython 7.17 and above.\n",
            "  and should_run_async(code)\n"
          ]
        }
      ]
    },
    {
      "cell_type": "code",
      "source": [
        "df_time = df_time.drop(\"Comment\", axis=1)\n",
        "df_time.rename({'nps': 'Reviews'}, axis=1, inplace=True)"
      ],
      "metadata": {
        "colab": {
          "base_uri": "https://localhost:8080/"
        },
        "id": "us1V__EEbikz",
        "outputId": "6c429ff8-0fa3-4dda-c72a-7dbe696af83f"
      },
      "execution_count": null,
      "outputs": [
        {
          "output_type": "stream",
          "name": "stderr",
          "text": [
            "/usr/local/lib/python3.10/dist-packages/ipykernel/ipkernel.py:283: DeprecationWarning: `should_run_async` will not call `transform_cell` automatically in the future. Please pass the result to `transformed_cell` argument and any exception that happen during thetransform in `preprocessing_exc_tuple` in IPython 7.17 and above.\n",
            "  and should_run_async(code)\n"
          ]
        }
      ]
    },
    {
      "cell_type": "code",
      "source": [
        "line_plot = sns.lineplot(data=df_time, x=\"Date\", y=\"Reviews\")\n",
        "line_plot.set_xticklabels(line_plot.get_xticklabels(), rotation=30)"
      ],
      "metadata": {
        "colab": {
          "base_uri": "https://localhost:8080/",
          "height": 731
        },
        "id": "9UuHpCAmcMVA",
        "outputId": "18832ca3-0b21-4b97-e099-a8e4b63c0047"
      },
      "execution_count": null,
      "outputs": [
        {
          "output_type": "stream",
          "name": "stderr",
          "text": [
            "/usr/local/lib/python3.10/dist-packages/ipykernel/ipkernel.py:283: DeprecationWarning: `should_run_async` will not call `transform_cell` automatically in the future. Please pass the result to `transformed_cell` argument and any exception that happen during thetransform in `preprocessing_exc_tuple` in IPython 7.17 and above.\n",
            "  and should_run_async(code)\n",
            "<ipython-input-42-888df913a8a3>:2: UserWarning: FixedFormatter should only be used together with FixedLocator\n",
            "  line_plot.set_xticklabels(line_plot.get_xticklabels(), rotation=30)\n"
          ]
        },
        {
          "output_type": "execute_result",
          "data": {
            "text/plain": [
              "[Text(19463.0, 0, '04-16 00'),\n",
              " Text(19463.125, 0, '04-16 03'),\n",
              " Text(19463.25, 0, '04-16 06'),\n",
              " Text(19463.375, 0, '04-16 09'),\n",
              " Text(19463.5, 0, '04-16 12'),\n",
              " Text(19463.625, 0, '04-16 15'),\n",
              " Text(19463.75, 0, '04-16 18'),\n",
              " Text(19463.875, 0, '04-16 21'),\n",
              " Text(19464.0, 0, '04-17 00')]"
            ]
          },
          "metadata": {},
          "execution_count": 42
        },
        {
          "output_type": "display_data",
          "data": {
            "text/plain": [
              "<Figure size 640x480 with 1 Axes>"
            ],
            "image/png": "[encoded data removed]"
          },
          "metadata": {}
        }
      ]
    },
    {
      "cell_type": "code",
      "source": [
        "daily_average = sum(df_time.Reviews)/df_time.shape[0]\n",
        "daily_average"
      ],
      "metadata": {
        "id": "YMgzTE4U0CK2",
        "colab": {
          "base_uri": "https://localhost:8080/"
        },
        "outputId": "70ea6456-5aa0-46ea-85fe-60da786f66dc"
      },
      "execution_count": null,
      "outputs": [
        {
          "output_type": "stream",
          "name": "stderr",
          "text": [
            "/usr/local/lib/python3.10/dist-packages/ipykernel/ipkernel.py:283: DeprecationWarning: `should_run_async` will not call `transform_cell` automatically in the future. Please pass the result to `transformed_cell` argument and any exception that happen during thetransform in `preprocessing_exc_tuple` in IPython 7.17 and above.\n",
            "  and should_run_async(code)\n"
          ]
        },
        {
          "output_type": "execute_result",
          "data": {
            "text/plain": [
              "100.0"
            ]
          },
          "metadata": {},
          "execution_count": 43
        }
      ]
    },
    {
      "cell_type": "markdown",
      "source": [
        "## PRE-PROCESSING"
      ],
      "metadata": {
        "id": "9tQKwd17EirA"
      }
    },
    {
      "cell_type": "markdown",
      "source": [
        "###Filter: spanish\n",
        "\n",
        "In this step any entries below 3 characters are inspected to certify they contain relevant information and not just trash data like empty text, periods or such. Additionally, the data can contain irregular characters such as emojis or emoticons that can convey relevant customer data. These responses are mapped to equivalent emotions to be analyzed by sentiment. This section also calcultes the mean length of entries and removes empty or useless data."
      ],
      "metadata": {
        "id": "pAHByH0WEyq0"
      }
    },
    {
      "cell_type": "code",
      "source": [
        "avg = 0\n",
        "max_len = 0\n",
        "min_len = 1000000\n",
        "\n",
        "# Declare tokens of lenght less than 3 that are considered relevant feedback\n",
        "desired_tokens = [\"si\", \"no\", \"ok\"]\n",
        "# Converte emojis and emoticons to quantifiable and manageable data based on type of reaction\n",
        "happy_emojis = [\":)\", \"(:\", \"(;\", '👍', \";)\", \";D\", \":D\", \"😊\", \"=)\", \"😇\", \"👌🏻\"]\n",
        "sad_emojis = [\"=(\", \":/\", \"):\", \":(\", \");\", \";(\", \"🙁\",\"😭\",\"😢\"]\n",
        "drop_list = []\n",
        "\n",
        "for i, text in enumerate(df[\"Comment\"]):\n",
        "  text = str(text).lower()\n",
        "  x = len(text.split())\n",
        "  if text in happy_emojis:\n",
        "    df.loc[i, \"Comment\"] = \"feliz\"\n",
        "  elif text in sad_emojis:\n",
        "    df.loc[i, \"Comment\"] = \"triste\"\n",
        "  elif x == 1 and len(text) < 3 and text not in desired_tokens:\n",
        "      drop_list.append(i)\n",
        "      continue\n",
        "  avg += x\n",
        "  if x > max_len:\n",
        "    max_len = x\n",
        "  elif x < min_len:                                     \n",
        "    min_len = x\n",
        "\n",
        "avg /= len(df[\"Comment\"])\n",
        "print(\"LENGTH\\nAvg = {} / Max {} / Min {}\\n\".format(avg, max_len, min_len))\n",
        "print(\"DROP\\nDrop {} invalid reviews\".format(len(drop_list)))\n",
        "print(\"NaN comments dropped {}\".format(df['Comment'].isna().sum()))"
      ],
      "metadata": {
        "colab": {
          "base_uri": "https://localhost:8080/"
        },
        "id": "wrGzJLn_gW2z",
        "outputId": "8292b102-35b4-4101-fca6-e899603942b4"
      },
      "execution_count": null,
      "outputs": [
        {
          "output_type": "stream",
          "name": "stdout",
          "text": [
            "LENGTH\n",
            "Avg = 3.795 / Max 29 / Min 1\n",
            "\n",
            "DROP\n",
            "Drop 9 invalid reviews\n",
            "NaN comments dropped 0\n"
          ]
        },
        {
          "output_type": "stream",
          "name": "stderr",
          "text": [
            "/usr/local/lib/python3.10/dist-packages/ipykernel/ipkernel.py:283: DeprecationWarning: `should_run_async` will not call `transform_cell` automatically in the future. Please pass the result to `transformed_cell` argument and any exception that happen during thetransform in `preprocessing_exc_tuple` in IPython 7.17 and above.\n",
            "  and should_run_async(code)\n"
          ]
        }
      ]
    },
    {
      "cell_type": "code",
      "source": [
        "# Remove trash entries or nonsensical input\n",
        "df = df.drop(labels=drop_list)\n",
        "df = df.dropna()"
      ],
      "metadata": {
        "id": "tDVnBR2YwAF1",
        "colab": {
          "base_uri": "https://localhost:8080/"
        },
        "outputId": "8aa9c384-6a5a-402b-f687-c0cb57744655"
      },
      "execution_count": null,
      "outputs": [
        {
          "output_type": "stream",
          "name": "stderr",
          "text": [
            "/usr/local/lib/python3.10/dist-packages/ipykernel/ipkernel.py:283: DeprecationWarning: `should_run_async` will not call `transform_cell` automatically in the future. Please pass the result to `transformed_cell` argument and any exception that happen during thetransform in `preprocessing_exc_tuple` in IPython 7.17 and above.\n",
            "  and should_run_async(code)\n"
          ]
        }
      ]
    },
    {
      "cell_type": "markdown",
      "source": [
        "### Translation\n",
        "\n",
        "The processed data is loaded into the Google Translate library to translate all comments from spanish to english. Any comments written in english are skipped. This is done because the sentiment analysis models are trained using text in english."
      ],
      "metadata": {
        "id": "XxDa5BBAFNzm"
      }
    },
    {
      "cell_type": "code",
      "source": [
        "def translate(row):\n",
        "  r = str(row)\n",
        "  try:\n",
        "    t  = GoogleTranslator(source='es', target='en').translate(str(r))\n",
        "    return t\n",
        "  except:\n",
        "    return \"NVT\""
      ],
      "metadata": {
        "id": "wyQNg6QLTk9t",
        "colab": {
          "base_uri": "https://localhost:8080/"
        },
        "outputId": "37afa3e9-7a59-40ee-e7db-dc258d1f30a6"
      },
      "execution_count": null,
      "outputs": [
        {
          "output_type": "stream",
          "name": "stderr",
          "text": [
            "/usr/local/lib/python3.10/dist-packages/ipykernel/ipkernel.py:283: DeprecationWarning: `should_run_async` will not call `transform_cell` automatically in the future. Please pass the result to `transformed_cell` argument and any exception that happen during thetransform in `preprocessing_exc_tuple` in IPython 7.17 and above.\n",
            "  and should_run_async(code)\n"
          ]
        }
      ]
    },
    {
      "cell_type": "code",
      "source": [
        "df['translation'] = df.Comment.progress_apply(translate)\n",
        "df = df.drop(axis = 1, labels = 'Comment') \n",
        "df.rename({'translation': 'Comment'}, axis=1, inplace=True)"
      ],
      "metadata": {
        "id": "TlBPHUrcFSX4",
        "colab": {
          "base_uri": "https://localhost:8080/",
          "height": 105,
          "referenced_widgets": [
            "913a5801405d414ea2461d6b8437dacc",
            "70738645beb841d981386c85e00d7726",
            "df9804f082164a269d12674f0d0152d8",
            "4db30157a913436f8296fef16603dd5c",
            "fccd9cfc57d744969a2544f374687bf6",
            "a5e5081b97f940e69d1010347c0fbc2b",
            "bde0019382c74aec9f44c652d8e82c05",
            "22f02c0442db46d687b85d689dcc54e1",
            "80e708d4f55748b48822addc60c1e762",
            "8c721ca30da34e00b7b00304dcae0ce0",
            "7bf001dc24d9437886d03ee1565f9679"
          ]
        },
        "outputId": "a8c7e88b-964e-4f0c-9bdc-eec1b01520bd"
      },
      "execution_count": null,
      "outputs": [
        {
          "output_type": "stream",
          "name": "stderr",
          "text": [
            "/usr/local/lib/python3.10/dist-packages/ipykernel/ipkernel.py:283: DeprecationWarning: `should_run_async` will not call `transform_cell` automatically in the future. Please pass the result to `transformed_cell` argument and any exception that happen during thetransform in `preprocessing_exc_tuple` in IPython 7.17 and above.\n",
            "  and should_run_async(code)\n"
          ]
        },
        {
          "output_type": "display_data",
          "data": {
            "text/plain": [
              "  0%|          | 0/191 [00:00<?, ?it/s]"
            ],
            "application/vnd.jupyter.widget-view+json": {
              "version_major": 2,
              "version_minor": 0,
              "model_id": "913a5801405d414ea2461d6b8437dacc"
            }
          },
          "metadata": {}
        }
      ]
    },
    {
      "cell_type": "markdown",
      "source": [
        "###Filter: english\n",
        "\n",
        "The translated model is once again filtered to ensure only relevant entries are considered and included in the following sentiment analysis and topic modeling. It is important to note that for sentiment analysis, the processed data is input directly with punctuation and capitalization in order to extract the most accurate interpretation. On the other hand, topic modeling is done with the simplified, tokenized words in order to focus entirely on the core ideas."
      ],
      "metadata": {
        "id": "x-zJbzbSE_6p"
      }
    },
    {
      "cell_type": "code",
      "source": [
        "avg = 0\n",
        "max_len = 0\n",
        "min_len = 1000000\n",
        "\n",
        "# Declare tokens of lenght less than 3 that are considered relevant feedback\n",
        "desired_tokens = [\"no\", \"ok\", \"wow\", \"lol\", \"all\", \"wow\", \"bye\", \"sad\"]\n",
        "# Converte emojis and emoticons to quantifiable and manageable data based on type of reaction\n",
        "happy_emojis = [\":)\", \"(:\", \"(;\", '👍', \";)\", \";D\", \":D\", \"😊\", \"=)\", \"😇\", \"👌🏻\"]\n",
        "sad_emojis = [\"=(\", \":/\", \"):\", \":(\", \");\", \";(\", \"🙁\",\"😭\",\"😢\"]\n",
        "drop_list = []\n",
        "\n",
        "for i, text in enumerate(df[\"Comment\"]):\n",
        "  text = str(text).lower()\n",
        "  x = len(text.split())\n",
        "  if text in happy_emojis:\n",
        "    df.loc[i, \"Comment\"] = \"feliz\"\n",
        "  elif text in sad_emojis:\n",
        "    df.loc[i, \"Comment\"] = \"triste\"\n",
        "  elif x == 1 and len(text) < 4 and text not in desired_tokens:\n",
        "      drop_list.append(i)\n",
        "      continue\n",
        "  avg += x\n",
        "  if x > max_len:\n",
        "    max_len = x\n",
        "  elif x < min_len:                                     \n",
        "    min_len = x\n",
        "\n",
        "avg /= len(df[\"Comment\"])\n",
        "print(\"LENGTH\\nAvg = {} / Max {} / Min {}\\n\".format(avg, max_len, min_len))\n",
        "print(\"DROP\\nDrop {} invalid reviews\".format(len(drop_list)))\n",
        "print(\"NaN comments dropped {}\".format(df['Comment'].isna().sum()))"
      ],
      "metadata": {
        "id": "eVGQceFPEZRO",
        "colab": {
          "base_uri": "https://localhost:8080/"
        },
        "outputId": "58af38c3-e06b-4268-e504-6bc08dfd4f70"
      },
      "execution_count": null,
      "outputs": [
        {
          "output_type": "stream",
          "name": "stdout",
          "text": [
            "LENGTH\n",
            "Avg = 4.0837696335078535 / Max 33 / Min 1\n",
            "\n",
            "DROP\n",
            "Drop 0 invalid reviews\n",
            "NaN comments dropped 0\n"
          ]
        },
        {
          "output_type": "stream",
          "name": "stderr",
          "text": [
            "/usr/local/lib/python3.10/dist-packages/ipykernel/ipkernel.py:283: DeprecationWarning: `should_run_async` will not call `transform_cell` automatically in the future. Please pass the result to `transformed_cell` argument and any exception that happen during thetransform in `preprocessing_exc_tuple` in IPython 7.17 and above.\n",
            "  and should_run_async(code)\n"
          ]
        }
      ]
    },
    {
      "cell_type": "markdown",
      "source": [
        "### Tokenization & Remove Stopwords\n",
        "\n",
        "In order to perform topic modeling, the processed comments are tokenized (separated into individual words) and the stop words are removed. Stop words are unnecesary connecting words, prepositions or other words without key value. These are removed to get a clearer understanding of the core ideas included in the dataset. "
      ],
      "metadata": {
        "id": "ZrUPrUoB4ZFF"
      }
    },
    {
      "cell_type": "code",
      "source": [
        "# Get list of stopwords\n",
        "stop_words = set(stopwords.words('english'))\n",
        "stop_words.add('easy')\n",
        "\n",
        "df_stop = df.copy()\n",
        "stop_series = []\n",
        "filtered = []\n",
        "\n",
        "# Use regex to remove punctuation and tokenize\n",
        "for i, text in enumerate(df['Comment']):\n",
        "  text = re.sub(r'[^\\w\\s]', '', text)\n",
        "  word_tokens = str(text).split()\n",
        "\n",
        "  filtered = []\n",
        "  for w in word_tokens:\n",
        "    if w.lower() not in stop_words:\n",
        "      filtered.append(w.lower())\n",
        "  \n",
        "  stop_series.append(filtered)\n",
        "\n",
        "df_stop['Filtered'] = stop_series\n",
        "\n",
        "df_stop"
      ],
      "metadata": {
        "id": "Q6JryEjo4bzi",
        "colab": {
          "base_uri": "https://localhost:8080/",
          "height": 479
        },
        "outputId": "31955281-2403-46b1-a530-6f558bf6da6b"
      },
      "execution_count": null,
      "outputs": [
        {
          "output_type": "stream",
          "name": "stderr",
          "text": [
            "/usr/local/lib/python3.10/dist-packages/ipykernel/ipkernel.py:283: DeprecationWarning: `should_run_async` will not call `transform_cell` automatically in the future. Please pass the result to `transformed_cell` argument and any exception that happen during thetransform in `preprocessing_exc_tuple` in IPython 7.17 and above.\n",
            "  and should_run_async(code)\n"
          ]
        },
        {
          "output_type": "execute_result",
          "data": {
            "text/plain": [
              "                   Date  nps   \n",
              "0   2023-04-17 20:23:04    9  \\\n",
              "1   2023-04-17 20:21:04    9   \n",
              "2   2023-04-17 20:17:07    9   \n",
              "3   2023-04-17 20:17:04   10   \n",
              "4   2023-04-17 20:10:06    9   \n",
              "..                  ...  ...   \n",
              "195 2023-04-16 01:40:41   10   \n",
              "196 2023-04-16 01:37:29   10   \n",
              "197 2023-04-16 01:33:18   10   \n",
              "198 2023-04-16 01:25:05    9   \n",
              "199 2023-04-16 01:09:48   10   \n",
              "\n",
              "                                               Comment   \n",
              "0                                                PRICE  \\\n",
              "1    THIS IS THE FIRST TIME AND IF I FEEL SOMETHING...   \n",
              "2                                       It's very fast   \n",
              "3                                                 Well   \n",
              "4                                         practicality   \n",
              "..                                                 ...   \n",
              "195                           because it is very agile   \n",
              "196                                   IT WAS VERY FAST   \n",
              "197                           Good price and efficient   \n",
              "198                                      effectiveness   \n",
              "199                                  Because it's easy   \n",
              "\n",
              "                                            Filtered  \n",
              "0                                            [price]  \n",
              "1    [first, time, feel, something, insertion, well]  \n",
              "2                                             [fast]  \n",
              "3                                             [well]  \n",
              "4                                     [practicality]  \n",
              "..                                               ...  \n",
              "195                                          [agile]  \n",
              "196                                           [fast]  \n",
              "197                         [good, price, efficient]  \n",
              "198                                  [effectiveness]  \n",
              "199                                               []  \n",
              "\n",
              "[191 rows x 4 columns]"
            ],
            "text/html": [
              "\n",
              "  <div id=\"df-dbf20ae0-6aff-4d3b-9b10-bd344f0f76f7\">\n",
              "    <div class=\"colab-df-container\">\n",
              "      <div>\n",
              "<style scoped>\n",
              "    .dataframe tbody tr th:only-of-type {\n",
              "        vertical-align: middle;\n",
              "    }\n",
              "\n",
              "    .dataframe tbody tr th {\n",
              "        vertical-align: top;\n",
              "    }\n",
              "\n",
              "    .dataframe thead th {\n",
              "        text-align: right;\n",
              "    }\n",
              "</style>\n",
              "<table border=\"1\" class=\"dataframe\">\n",
              "  <thead>\n",
              "    <tr style=\"text-align: right;\">\n",
              "      <th></th>\n",
              "      <th>Date</th>\n",
              "      <th>nps</th>\n",
              "      <th>Comment</th>\n",
              "      <th>Filtered</th>\n",
              "    </tr>\n",
              "  </thead>\n",
              "  <tbody>\n",
              "    <tr>\n",
              "      <th>0</th>\n",
              "      <td>2023-04-17 20:23:04</td>\n",
              "      <td>9</td>\n",
              "      <td>PRICE</td>\n",
              "      <td>[price]</td>\n",
              "    </tr>\n",
              "    <tr>\n",
              "      <th>1</th>\n",
              "      <td>2023-04-17 20:21:04</td>\n",
              "      <td>9</td>\n",
              "      <td>THIS IS THE FIRST TIME AND IF I FEEL SOMETHING...</td>\n",
              "      <td>[first, time, feel, something, insertion, well]</td>\n",
              "    </tr>\n",
              "    <tr>\n",
              "      <th>2</th>\n",
              "      <td>2023-04-17 20:17:07</td>\n",
              "      <td>9</td>\n",
              "      <td>It's very fast</td>\n",
              "      <td>[fast]</td>\n",
              "    </tr>\n",
              "    <tr>\n",
              "      <th>3</th>\n",
              "      <td>2023-04-17 20:17:04</td>\n",
              "      <td>10</td>\n",
              "      <td>Well</td>\n",
              "      <td>[well]</td>\n",
              "    </tr>\n",
              "    <tr>\n",
              "      <th>4</th>\n",
              "      <td>2023-04-17 20:10:06</td>\n",
              "      <td>9</td>\n",
              "      <td>practicality</td>\n",
              "      <td>[practicality]</td>\n",
              "    </tr>\n",
              "    <tr>\n",
              "      <th>...</th>\n",
              "      <td>...</td>\n",
              "      <td>...</td>\n",
              "      <td>...</td>\n",
              "      <td>...</td>\n",
              "    </tr>\n",
              "    <tr>\n",
              "      <th>195</th>\n",
              "      <td>2023-04-16 01:40:41</td>\n",
              "      <td>10</td>\n",
              "      <td>because it is very agile</td>\n",
              "      <td>[agile]</td>\n",
              "    </tr>\n",
              "    <tr>\n",
              "      <th>196</th>\n",
              "      <td>2023-04-16 01:37:29</td>\n",
              "      <td>10</td>\n",
              "      <td>IT WAS VERY FAST</td>\n",
              "      <td>[fast]</td>\n",
              "    </tr>\n",
              "    <tr>\n",
              "      <th>197</th>\n",
              "      <td>2023-04-16 01:33:18</td>\n",
              "      <td>10</td>\n",
              "      <td>Good price and efficient</td>\n",
              "      <td>[good, price, efficient]</td>\n",
              "    </tr>\n",
              "    <tr>\n",
              "      <th>198</th>\n",
              "      <td>2023-04-16 01:25:05</td>\n",
              "      <td>9</td>\n",
              "      <td>effectiveness</td>\n",
              "      <td>[effectiveness]</td>\n",
              "    </tr>\n",
              "    <tr>\n",
              "      <th>199</th>\n",
              "      <td>2023-04-16 01:09:48</td>\n",
              "      <td>10</td>\n",
              "      <td>Because it's easy</td>\n",
              "      <td>[]</td>\n",
              "    </tr>\n",
              "  </tbody>\n",
              "</table>\n",
              "<p>191 rows × 4 columns</p>\n",
              "</div>\n",
              "      <button class=\"colab-df-convert\" onclick=\"convertToInteractive('df-dbf20ae0-6aff-4d3b-9b10-bd344f0f76f7')\"\n",
              "              title=\"Convert this dataframe to an interactive table.\"\n",
              "              style=\"display:none;\">\n",
              "        \n",
              "  <svg xmlns=\"http://www.w3.org/2000/svg\" height=\"24px\"viewBox=\"0 0 24 24\"\n",
              "       width=\"24px\">\n",
              "    <path d=\"M0 0h24v24H0V0z\" fill=\"none\"/>\n",
              "    <path d=\"M18.56 5.44l.94 2.06.94-2.06 2.06-.94-2.06-.94-.94-2.06-.94 2.06-2.06.94zm-11 1L8.5 8.5l.94-2.06 2.06-.94-2.06-.94L8.5 2.5l-.94 2.06-2.06.94zm10 10l.94 2.06.94-2.06 2.06-.94-2.06-.94-.94-2.06-.94 2.06-2.06.94z\"/><path d=\"M17.41 7.96l-1.37-1.37c-.4-.4-.92-.59-1.43-.59-.52 0-1.04.2-1.43.59L10.3 9.45l-7.72 7.72c-.78.78-.78 2.05 0 2.83L4 21.41c.39.39.9.59 1.41.59.51 0 1.02-.2 1.41-.59l7.78-7.78 2.81-2.81c.8-.78.8-2.07 0-2.86zM5.41 20L4 18.59l7.72-7.72 1.47 1.35L5.41 20z\"/>\n",
              "  </svg>\n",
              "      </button>\n",
              "      \n",
              "  <style>\n",
              "    .colab-df-container {\n",
              "      display:flex;\n",
              "      flex-wrap:wrap;\n",
              "      gap: 12px;\n",
              "    }\n",
              "\n",
              "    .colab-df-convert {\n",
              "      background-color: #E8F0FE;\n",
              "      border: none;\n",
              "      border-radius: 50%;\n",
              "      cursor: pointer;\n",
              "      display: none;\n",
              "      fill: #1967D2;\n",
              "      height: 32px;\n",
              "      padding: 0 0 0 0;\n",
              "      width: 32px;\n",
              "    }\n",
              "\n",
              "    .colab-df-convert:hover {\n",
              "      background-color: #E2EBFA;\n",
              "      box-shadow: 0px 1px 2px rgba(60, 64, 67, 0.3), 0px 1px 3px 1px rgba(60, 64, 67, 0.15);\n",
              "      fill: #174EA6;\n",
              "    }\n",
              "\n",
              "    [theme=dark] .colab-df-convert {\n",
              "      background-color: #3B4455;\n",
              "      fill: #D2E3FC;\n",
              "    }\n",
              "\n",
              "    [theme=dark] .colab-df-convert:hover {\n",
              "      background-color: #434B5C;\n",
              "      box-shadow: 0px 1px 3px 1px rgba(0, 0, 0, 0.15);\n",
              "      filter: drop-shadow(0px 1px 2px rgba(0, 0, 0, 0.3));\n",
              "      fill: #FFFFFF;\n",
              "    }\n",
              "  </style>\n",
              "\n",
              "      <script>\n",
              "        const buttonEl =\n",
              "          document.querySelector('#df-dbf20ae0-6aff-4d3b-9b10-bd344f0f76f7 button.colab-df-convert');\n",
              "        buttonEl.style.display =\n",
              "          google.colab.kernel.accessAllowed ? 'block' : 'none';\n",
              "\n",
              "        async function convertToInteractive(key) {\n",
              "          const element = document.querySelector('#df-dbf20ae0-6aff-4d3b-9b10-bd344f0f76f7');\n",
              "          const dataTable =\n",
              "            await google.colab.kernel.invokeFunction('convertToInteractive',\n",
              "                                                     [key], {});\n",
              "          if (!dataTable) return;\n",
              "\n",
              "          const docLinkHtml = 'Like what you see? Visit the ' +\n",
              "            '<a target=\"_blank\" href=https://colab.research.google.com/notebooks/data_table.ipynb>data table notebook</a>'\n",
              "            + ' to learn more about interactive tables.';\n",
              "          element.innerHTML = '';\n",
              "          dataTable['output_type'] = 'display_data';\n",
              "          await google.colab.output.renderOutput(dataTable, element);\n",
              "          const docLink = document.createElement('div');\n",
              "          docLink.innerHTML = docLinkHtml;\n",
              "          element.appendChild(docLink);\n",
              "        }\n",
              "      </script>\n",
              "    </div>\n",
              "  </div>\n",
              "  "
            ]
          },
          "metadata": {},
          "execution_count": 49
        }
      ]
    },
    {
      "cell_type": "markdown",
      "source": [
        "## TOPIC MODELING\n",
        "\n",
        "Topic modeling analyzes how often different words appear together and creates topics based on the frequency of specific words appearing together. In order to do this, the previously tokenized words are lemmatized in order to remove the temporal tense of the word, as well as removing any words smaller than 2 letters. These words are then used to create a dictionary of the different relations between words, which is then analyzed using a Latent Dirichlet Allocation algorithm to extract the desired topics."
      ],
      "metadata": {
        "id": "z3Vb8nqP9yQ-"
      }
    },
    {
      "cell_type": "code",
      "source": [
        "corpus = []\n",
        "stem = PorterStemmer()\n",
        "lem = nltk.WordNetLemmatizer()\n",
        "\n",
        "for tokens in df_stop['Filtered']:\n",
        "  words = [lem.lemmatize(w.lower()) for w in tokens if len(w) > 2]\n",
        "\n",
        "  corpus.append(words)"
      ],
      "metadata": {
        "id": "toIyf6rM9xco",
        "colab": {
          "base_uri": "https://localhost:8080/"
        },
        "outputId": "e065e76b-8479-4994-89a6-f091baf91090"
      },
      "execution_count": null,
      "outputs": [
        {
          "output_type": "stream",
          "name": "stderr",
          "text": [
            "/usr/local/lib/python3.10/dist-packages/ipykernel/ipkernel.py:283: DeprecationWarning: `should_run_async` will not call `transform_cell` automatically in the future. Please pass the result to `transformed_cell` argument and any exception that happen during thetransform in `preprocessing_exc_tuple` in IPython 7.17 and above.\n",
            "  and should_run_async(code)\n"
          ]
        }
      ]
    },
    {
      "cell_type": "code",
      "source": [
        "dic = gensim.corpora.Dictionary(corpus)\n",
        "bow_corpus = [dic.doc2bow(doc) for doc in corpus]"
      ],
      "metadata": {
        "id": "s-5yMGCi_Ifz",
        "colab": {
          "base_uri": "https://localhost:8080/"
        },
        "outputId": "f149acab-2dfb-4a45-8b5c-0dc8ba3bb09a"
      },
      "execution_count": null,
      "outputs": [
        {
          "output_type": "stream",
          "name": "stderr",
          "text": [
            "/usr/local/lib/python3.10/dist-packages/ipykernel/ipkernel.py:283: DeprecationWarning: `should_run_async` will not call `transform_cell` automatically in the future. Please pass the result to `transformed_cell` argument and any exception that happen during thetransform in `preprocessing_exc_tuple` in IPython 7.17 and above.\n",
            "  and should_run_async(code)\n"
          ]
        }
      ]
    },
    {
      "cell_type": "code",
      "source": [
        "lda_model = gensim.models.LdaMulticore(bow_corpus,\n",
        "                                       num_topics = 8,\n",
        "                                       id2word = dic,\n",
        "                                       passes = 5,\n",
        "                                       workers = 2)\n",
        "lda_model.show_topics() "
      ],
      "metadata": {
        "id": "S6tLaVT5_s4W",
        "colab": {
          "base_uri": "https://localhost:8080/"
        },
        "outputId": "03414475-e5d3-4234-801d-1b4793d3712c"
      },
      "execution_count": null,
      "outputs": [
        {
          "output_type": "stream",
          "name": "stderr",
          "text": [
            "/usr/local/lib/python3.10/dist-packages/ipykernel/ipkernel.py:283: DeprecationWarning: `should_run_async` will not call `transform_cell` automatically in the future. Please pass the result to `transformed_cell` argument and any exception that happen during thetransform in `preprocessing_exc_tuple` in IPython 7.17 and above.\n",
            "  and should_run_async(code)\n",
            "WARNING:gensim.models.ldamulticore:too few updates, training might not converge; consider increasing the number of passes or iterations to improve accuracy\n"
          ]
        },
        {
          "output_type": "execute_result",
          "data": {
            "text/plain": [
              "[(0,\n",
              "  '0.077*\"time\" + 0.039*\"first\" + 0.027*\"changed\" + 0.027*\"viva\" + 0.027*\"travel\" + 0.027*\"website\" + 0.016*\"good\" + 0.014*\"price\" + 0.014*\"clear\" + 0.014*\"200\"'),\n",
              " (1,\n",
              "  '0.244*\"use\" + 0.170*\"efficient\" + 0.028*\"procedure\" + 0.028*\"airport\" + 0.028*\"avoid\" + 0.028*\"easily\" + 0.028*\"reliable\" + 0.008*\"simple\" + 0.005*\"service\" + 0.004*\"fast\"'),\n",
              " (2,\n",
              "  '0.239*\"speed\" + 0.046*\"fly\" + 0.046*\"yeah\" + 0.025*\"everything\" + 0.025*\"well\" + 0.025*\"far\" + 0.025*\"worked\" + 0.025*\"without\" + 0.025*\"hassle\" + 0.025*\"explained\"'),\n",
              " (3,\n",
              "  '0.316*\"fast\" + 0.055*\"airline\" + 0.034*\"clear\" + 0.034*\"best\" + 0.034*\"mexico\" + 0.032*\"everything\" + 0.025*\"page\" + 0.023*\"cost\" + 0.023*\"low\" + 0.023*\"check\"'),\n",
              " (4,\n",
              "  '0.223*\"good\" + 0.152*\"service\" + 0.041*\"time\" + 0.041*\"price\" + 0.028*\"due\" + 0.028*\"line\" + 0.028*\"efficiency\" + 0.015*\"long\" + 0.015*\"traveled\" + 0.015*\"along\"'),\n",
              " (5,\n",
              "  '0.173*\"simple\" + 0.060*\"quick\" + 0.041*\"information\" + 0.039*\"practicality\" + 0.030*\"okay\" + 0.022*\"almost\" + 0.022*\"hour\" + 0.022*\"additional\" + 0.022*\"phone\" + 0.022*\"clearly\"'),\n",
              " (6,\n",
              "  '0.130*\"practical\" + 0.096*\"agile\" + 0.096*\"ease\" + 0.076*\"process\" + 0.057*\"friendly\" + 0.040*\"simplicity\" + 0.037*\"page\" + 0.027*\"service\" + 0.021*\"like\" + 0.021*\"provided\"'),\n",
              " (7,\n",
              "  '0.201*\"service\" + 0.166*\"excellent\" + 0.071*\"well\" + 0.022*\"process\" + 0.019*\"page\" + 0.019*\"friendly\" + 0.019*\"printing\" + 0.019*\"pass\" + 0.019*\"understand\" + 0.019*\"direction\"')]"
            ]
          },
          "metadata": {},
          "execution_count": 52
        }
      ]
    },
    {
      "cell_type": "code",
      "source": [
        "pyLDAvis.enable_notebook()\n",
        "vis = pyLDAvis.gensim.prepare(lda_model, bow_corpus, dic)\n",
        "vis"
      ],
      "metadata": {
        "id": "0k00OW8hAGVU",
        "colab": {
          "base_uri": "https://localhost:8080/",
          "height": 917
        },
        "outputId": "9db47eeb-d5b2-4fb4-a558-43e13a41f17d"
      },
      "execution_count": null,
      "outputs": [
        {
          "output_type": "stream",
          "name": "stderr",
          "text": [
            "/usr/local/lib/python3.10/dist-packages/ipykernel/ipkernel.py:283: DeprecationWarning: `should_run_async` will not call `transform_cell` automatically in the future. Please pass the result to `transformed_cell` argument and any exception that happen during thetransform in `preprocessing_exc_tuple` in IPython 7.17 and above.\n",
            "  and should_run_async(code)\n"
          ]
        },
        {
          "output_type": "execute_result",
          "data": {
            "text/plain": [
              "PreparedData(topic_coordinates=              x         y  topics  cluster       Freq\n",
              "topic                                                \n",
              "3      0.229478  0.126191       1        1  18.408693\n",
              "0     -0.029445 -0.112080       2        1  17.875788\n",
              "4     -0.181491  0.078589       3        1  15.224044\n",
              "7     -0.107708  0.115820       4        1  12.051896\n",
              "5      0.033687 -0.131455       5        1  11.000793\n",
              "6      0.015576  0.085414       6        1   9.418248\n",
              "2      0.034670 -0.053407       7        1   8.418504\n",
              "1      0.005233 -0.109071       8        1   7.602034, topic_info=            Term       Freq      Total Category  logprob  loglift\n",
              "7           fast  21.000000  21.000000  Default  30.0000  30.0000\n",
              "25          good  13.000000  13.000000  Default  29.0000  29.0000\n",
              "26       service  18.000000  18.000000  Default  28.0000  28.0000\n",
              "24         speed   7.000000   7.000000  Default  27.0000  27.0000\n",
              "10           use   7.000000   7.000000  Default  26.0000  26.0000\n",
              "..           ...        ...        ...      ...      ...      ...\n",
              "8   practicality   0.083827   2.177674   Topic8  -5.7573  -0.6805\n",
              "29          yeah   0.083827   2.005935   Topic8  -5.7573  -0.5984\n",
              "92    efficiency   0.083826   2.109212   Topic8  -5.7573  -0.6486\n",
              "30       airline   0.083826   4.813623   Topic8  -5.7573  -1.4737\n",
              "70          okay   0.083826   2.118736   Topic8  -5.7573  -0.6531\n",
              "\n",
              "[360 rows x 6 columns], token_table=      Topic      Freq        Term\n",
              "term                             \n",
              "123       2  0.672253         200\n",
              "49        3  0.711938      access\n",
              "130       5  0.693917  additional\n",
              "64        2  0.672253     aerobus\n",
              "34        6  0.780778       agile\n",
              "...     ...       ...         ...\n",
              "51        4  0.704288       whole\n",
              "23        7  0.739646     without\n",
              "63        7  0.739646      worked\n",
              "29        7  0.498521        yeah\n",
              "109       1  0.715494         yes\n",
              "\n",
              "[171 rows x 3 columns], R=30, lambda_step=0.01, plot_opts={'xlab': 'PC1', 'ylab': 'PC2'}, topic_order=[4, 1, 5, 8, 6, 7, 3, 2])"
            ],
            "text/html": [
              "\n",
              "<link rel=\"stylesheet\" type=\"text/css\" href=\"https://cdn.jsdelivr.net/gh/bmabey/pyLDAvis@3.4.0/pyLDAvis/js/ldavis.v1.0.0.css\">\n",
              "\n",
              "\n",
              "<div id=\"ldavis_el17171397888276784644442565895\" style=\"background-color:white;\"></div>\n",
              "<script type=\"text/javascript\">\n",
              "\n",
              "var ldavis_el17171397888276784644442565895_data = {\"mdsDat\": {\"x\": [0.22947804476411865, -0.029444802127785687, -0.181491202768208, -0.10770809589041895, 0.03368676649877749, 0.015575631132318968, 0.03467018817787065, 0.005233470213326443], \"y\": [0.1261911931096118, -0.11208001040112839, 0.07858858551884632, 0.11582013271539959, -0.13145535279431897, 0.08541370513469693, -0.05340678988115422, -0.10907146340195305], \"topics\": [1, 2, 3, 4, 5, 6, 7, 8], \"cluster\": [1, 1, 1, 1, 1, 1, 1, 1], \"Freq\": [18.408693008519638, 17.875788071037558, 15.224044176164739, 12.051895798648601, 11.000793174293271, 9.418248133659047, 8.41850412500358, 7.602033512673569]}, \"tinfo\": {\"Term\": [\"fast\", \"good\", \"service\", \"speed\", \"use\", \"simple\", \"excellent\", \"efficient\", \"practical\", \"agile\", \"ease\", \"time\", \"process\", \"well\", \"quick\", \"friendly\", \"airline\", \"fly\", \"yeah\", \"page\", \"information\", \"simplicity\", \"price\", \"first\", \"practicality\", \"everything\", \"procedure\", \"airport\", \"okay\", \"far\", \"fast\", \"mexico\", \"airline\", \"cost\", \"low\", \"check\", \"effectiveness\", \"best\", \"everything\", \"yes\", \"still\", \"problem\", \"stuck\", \"get\", \"rate\", \"change\", \"link\", \"direct\", \"theme\", \"convenient\", \"know\", \"interative\", \"economy\", \"great\", \"clear\", \"page\", \"thank\", \"friendly\", \"flexible\", \"provided\", \"service\", \"simple\", \"first\", \"changed\", \"viva\", \"travel\", \"website\", \"time\", \"200\", \"wanted\", \"fill\", \"fan\", \"seat\", \"buy\", \"experience\", \"aerobus\", \"form\", \"didnt\", \"let\", \"filled\", \"reservation\", \"going\", \"either\", \"feel\", \"something\", \"insertion\", \"option\", \"flight\", \"shopping\", \"online\", \"approach\", \"expedite\", \"good\", \"price\", \"clear\", \"simplicity\", \"good\", \"due\", \"line\", \"efficiency\", \"price\", \"long\", \"traveled\", \"along\", \"safe\", \"already\", \"several\", \"made\", \"reduced\", \"satisfied\", \"used\", \"excellence\", \"seems\", \"access\", \"useful\", \"intuitive\", \"service\", \"procedure\", \"time\", \"effectiveness\", \"practicality\", \"flexible\", \"provided\", \"flexibility\", \"faster\", \"dynamic\", \"efficient\", \"yeah\", \"speed\", \"fast\", \"agile\", \"use\", \"excellent\", \"well\", \"printing\", \"pass\", \"understand\", \"direction\", \"boarding\", \"whole\", \"extraordinary\", \"novelty\", \"webb\", \"service\", \"like\", \"far\", \"process\", \"quick\", \"friendly\", \"page\", \"flexible\", \"provided\", \"faster\", \"dynamic\", \"flexibility\", \"excellently\", \"explained\", \"effective\", \"hassle\", \"without\", \"worked\", \"reliable\", \"great\", \"fast\", \"everything\", \"speed\", \"use\", \"good\", \"agile\", \"practical\", \"efficient\", \"simple\", \"ease\", \"yeah\", \"simple\", \"practicality\", \"quick\", \"hour\", \"additional\", \"clearly\", \"phone\", \"indicate\", \"application\", \"passport\", \"ask\", \"call\", \"number\", \"answer\", \"checkin\", \"happy\", \"navigation\", \"okay\", \"information\", \"almost\", \"clear\", \"flexible\", \"provided\", \"faster\", \"dynamic\", \"flexibility\", \"excellently\", \"effective\", \"explained\", \"without\", \"everything\", \"excellent\", \"ease\", \"efficient\", \"use\", \"super\", \"offer\", \"fast\", \"thank\", \"practical\", \"agile\", \"ease\", \"process\", \"provided\", \"flexible\", \"simplicity\", \"friendly\", \"thank\", \"like\", \"page\", \"okay\", \"airline\", \"dynamic\", \"flexibility\", \"faster\", \"effective\", \"excellently\", \"explained\", \"hassle\", \"without\", \"worked\", \"reliable\", \"easily\", \"avoid\", \"economy\", \"interative\", \"know\", \"convenient\", \"direct\", \"service\", \"excellent\", \"efficient\", \"speed\", \"fast\", \"navigation\", \"website\", \"use\", \"simple\", \"well\", \"good\", \"quick\", \"clear\", \"effectiveness\", \"price\", \"efficiency\", \"practicality\", \"speed\", \"yeah\", \"fly\", \"worked\", \"without\", \"hassle\", \"explained\", \"excellently\", \"flexibility\", \"dynamic\", \"faster\", \"effective\", \"far\", \"everything\", \"well\", \"flexible\", \"provided\", \"reliable\", \"avoid\", \"easily\", \"economy\", \"interative\", \"know\", \"great\", \"theme\", \"direct\", \"convenient\", \"link\", \"change\", \"rate\", \"fast\", \"mexico\", \"best\", \"airline\", \"practical\", \"access\", \"seems\", \"practicality\", \"simplicity\", \"service\", \"use\", \"good\", \"efficient\", \"simple\", \"excellent\", \"ease\", \"agile\", \"use\", \"efficient\", \"avoid\", \"easily\", \"reliable\", \"procedure\", \"airport\", \"flexible\", \"provided\", \"dynamic\", \"faster\", \"flexibility\", \"effective\", \"excellently\", \"explained\", \"without\", \"hassle\", \"worked\", \"economy\", \"interative\", \"great\", \"know\", \"convenient\", \"direct\", \"theme\", \"link\", \"rate\", \"change\", \"get\", \"stuck\", \"simple\", \"service\", \"fast\", \"app\", \"page\", \"speed\", \"good\", \"website\", \"price\", \"excellent\", \"practical\", \"well\", \"ease\", \"agile\", \"quick\", \"friendly\", \"clear\", \"process\", \"practicality\", \"yeah\", \"efficiency\", \"airline\", \"okay\"], \"Freq\": [21.0, 13.0, 18.0, 7.0, 7.0, 8.0, 7.0, 5.0, 5.0, 3.0, 4.0, 7.0, 3.0, 5.0, 3.0, 4.0, 4.0, 2.0, 2.0, 4.0, 2.0, 2.0, 3.0, 3.0, 2.0, 3.0, 2.0, 2.0, 2.0, 2.0, 20.33332930585178, 2.15375712602913, 3.5489317393958877, 1.4823928168195402, 1.4823903037887642, 1.4823275976874994, 1.397382849409964, 2.153872486108556, 2.0516512495874997, 0.7847889959339198, 0.7847882180910606, 0.7847882180910606, 0.7847831920295089, 0.7847822346844514, 0.7847688916877128, 0.7847658999844082, 0.7847654811459455, 0.7847630279492357, 0.7847624894426408, 0.784761232927253, 0.7847572838788909, 0.7847320339029998, 0.7847195285831865, 0.7845345814848949, 2.1799735417556487, 1.5994381825512538, 0.7847147418578991, 0.8727214984677134, 0.08721023804273387, 0.08720195102458007, 0.580097613176863, 0.16951104608703643, 2.4609181390247317, 1.6734259474471367, 1.673424088184521, 1.673415256687096, 1.6731923775810256, 4.823522189450613, 0.8859248081682033, 0.8859248081682033, 0.8859242852505925, 0.8859242852505925, 0.8859235880271117, 0.8859234137212414, 0.8859233556192847, 0.8859233556192847, 0.885922600293847, 0.8859223097840633, 0.8859221935801498, 0.885922135478193, 0.885922135478193, 0.8859209153371014, 0.8859205086234042, 0.8859203343175339, 0.8859198695018801, 0.8859192303803558, 0.8859178940353507, 0.8859167900981726, 0.8859160928746916, 0.885915802364908, 0.885912839165114, 0.8859120838396763, 1.026334461651629, 0.8859540334524455, 0.8859495014998195, 0.8859177778314372, 11.872337697737875, 1.4972417895604537, 1.4972370391970986, 1.4971457926343212, 2.201706325052551, 0.7926516168542068, 0.7926512704735454, 0.7926512704735454, 0.7926510230587874, 0.7926509240928842, 0.792649538570239, 0.7926492416725293, 0.7926484499453035, 0.7926468170079002, 0.7926434521671903, 0.7926331597132545, 0.7925990164766403, 0.7925934743860595, 0.7925929795565434, 0.7925721472339136, 8.073466580645352, 0.7924053402040204, 2.201730076869326, 0.17383122147000213, 0.17380911496136828, 0.08808204142656947, 0.08807583750151078, 0.08808149711410171, 0.08808100228458557, 0.08808017963051497, 0.23123910282980872, 0.11454420028115175, 0.27975332670074116, 0.30467076388402964, 0.14098986894210844, 0.12262818060349258, 6.9682486071552745, 2.969249224421902, 0.8097983981883606, 0.8097981631535552, 0.8097975363940743, 0.8097962828751123, 0.809796126185242, 0.8097954210808259, 0.8097929140429019, 0.8097919739036803, 0.8097812406475681, 8.444106107745865, 0.8097264775379148, 0.8097889967961456, 0.913708069095563, 0.8097245189145367, 0.8098081913052514, 0.8098124219317483, 0.08998673786488993, 0.08998163565098984, 0.08998791303891682, 0.08998778572839725, 0.08998554310462925, 0.08998388806787472, 0.08998276185943227, 0.08998249744527623, 0.08998245827280867, 0.08998143978865203, 0.0899812537194311, 0.0899883733154107, 0.09020371416272188, 0.09016886045970762, 0.0901022280923828, 0.09004295035584296, 0.09004209835467347, 0.09004050207662027, 0.0900364379331106, 0.09002844674972774, 0.09002652729881713, 0.09002501915881596, 0.09000553085620332, 0.08999735360359953, 6.65617330908528, 1.4843256862312408, 2.2879320867943886, 0.8336796717704136, 0.8336795287462052, 0.8336793142098928, 0.8336793142098928, 0.8336790281614762, 0.8336790281614762, 0.8336789566493721, 0.8336788136251637, 0.8336785275767471, 0.8336783845525388, 0.8336782415283305, 0.8336538559008149, 0.8336216039418425, 0.8334366736405066, 1.1617132022844832, 1.5748469948841404, 0.8337029132042628, 0.8335898525675992, 0.09264048940831335, 0.09263385666065328, 0.09264082015179505, 0.09263936309267295, 0.09263923794649069, 0.09263625231614236, 0.09263582324351746, 0.0926358947556216, 0.09263462541577291, 0.22867976187741287, 0.2106591407038486, 0.15540824542742812, 0.14839851277132451, 0.12154072969315506, 0.09281543483210708, 0.09280055137543054, 0.0928187512059371, 0.09275403275167995, 4.27752600967502, 3.1675920514060363, 3.16179359560785, 2.496959017888689, 0.7056867277993609, 0.7056442991780392, 1.3092087640313377, 1.8811416814839799, 0.7056071358690315, 0.7057391972488166, 1.2040002321499077, 0.427933176690051, 0.7056321767148044, 0.07842043660491953, 0.0784177121119198, 0.07841772741806025, 0.07841430649567012, 0.07841442129172348, 0.078414268230319, 0.07841376312768422, 0.07841367129084154, 0.0784129595553107, 0.07841852333736354, 0.0784134034333837, 0.07841292128995958, 0.07841957180798423, 0.07841748251981308, 0.07841577588515312, 0.07841566108909977, 0.07841527843558857, 0.8878586358988358, 0.20888055685399012, 0.12427253644227552, 0.11733994155531585, 0.11782608753515413, 0.07858821486343998, 0.07851254130506521, 0.07846395961528334, 0.07844690857482431, 0.07844125295592877, 0.07843738815546566, 0.07842848763479517, 0.07842701059224194, 0.07842414834397816, 0.07842372742511584, 0.07842325293476196, 0.07842267130142494, 7.0103525648662295, 1.360823372884978, 1.3608695612865327, 0.7334374490185546, 0.7334341107573048, 0.7334337824037392, 0.7334274342348052, 0.7334230014616702, 0.7333996883585157, 0.7333911511658112, 0.7333909869890284, 0.7333312266400972, 0.7334703938262987, 0.7335560393813146, 0.7335055276578133, 0.08150022122403158, 0.08149654776851692, 0.08150237604430555, 0.08149651356502051, 0.08149646568012553, 0.08150320376891872, 0.08150160988598591, 0.08149922932263563, 0.08149834003172891, 0.08149851788991026, 0.08149810744795331, 0.08149800483746408, 0.08149796379326839, 0.08149793643047125, 0.08149745074082221, 0.23538485041883184, 0.10600375654904223, 0.10601887449445638, 0.10602203489752486, 0.10603580522518037, 0.0815029369816467, 0.08150258126528402, 0.08163516769877587, 0.08162497505684507, 0.08155988580317285, 0.08155215581298371, 0.08154975472753558, 0.0815488517552303, 0.08154097126965695, 0.08153521140086116, 0.08152835017948089, 0.08151787022818023, 6.4776602378237556, 4.516234134592255, 0.7543073106401498, 0.7543056798455041, 0.7542643169631279, 0.754466584917209, 0.7543764958675413, 0.08382043565833122, 0.08381511086672305, 0.0838219737941902, 0.08382144255047987, 0.08381996618714535, 0.08381671695235893, 0.0838168343201554, 0.08381624748117306, 0.08381572859196762, 0.08381542590659778, 0.08381540737484044, 0.08382234442933693, 0.08381918167608475, 0.08381717406903991, 0.08381747675440974, 0.08381747675440974, 0.08381712465102034, 0.08381692697894208, 0.0838167540158736, 0.08381652545753311, 0.0838162660129304, 0.0838149811444217, 0.08381456726850783, 0.21002136955176948, 0.12659893426851287, 0.1129107976376639, 0.08395562482810474, 0.083927851901109, 0.08389152965672846, 0.08388068240143386, 0.08387620389341074, 0.08386114992920064, 0.0838591423221558, 0.08385735091894655, 0.08384021522066226, 0.08383982605375818, 0.08383694127686606, 0.0838336735103223, 0.08383106670979022, 0.08383074549266305, 0.08382740977634238, 0.08382702678669075, 0.0838268970643894, 0.08382641523869863, 0.0838263164026595, 0.0838258160452114], \"Total\": [21.0, 13.0, 18.0, 7.0, 7.0, 8.0, 7.0, 5.0, 5.0, 3.0, 4.0, 7.0, 3.0, 5.0, 3.0, 4.0, 4.0, 2.0, 2.0, 4.0, 2.0, 2.0, 3.0, 3.0, 2.0, 3.0, 2.0, 2.0, 2.0, 2.0, 21.643325686811213, 2.7911276560895733, 4.813622836685012, 2.095241919508358, 2.09524142649738, 2.0952343155214392, 2.096071376103918, 3.5785963259025952, 3.4527570042753877, 1.3976366164017853, 1.3976363274627774, 1.3976363619725647, 1.3976356048175924, 1.3976354834810396, 1.3976316874391723, 1.3976316945843097, 1.3976316216904396, 1.3976313320568992, 1.3976312877032895, 1.3976314556040788, 1.3976311532333656, 1.3976238064230773, 1.3976233284004653, 1.397624193392479, 4.321370864931201, 4.087473359646053, 2.024925094651636, 4.008202442792567, 1.327330268537698, 1.3273315393447918, 18.38490405870942, 8.131010881184757, 3.062542133158104, 2.2750400374496342, 2.2750399877107137, 2.2750377383756764, 2.2749878676305206, 7.538831999070267, 1.4875352159880484, 1.4875353049242517, 1.4875351811439226, 1.487535217990894, 1.48753495511013, 1.4875348873490994, 1.4875348401459407, 1.4875349750764613, 1.4875348054773618, 1.4875346782482006, 1.4875346229733952, 1.487534679350314, 1.4875346977444925, 1.4875341917799072, 1.4875342113803804, 1.487534104311501, 1.4875339920841344, 1.4875338698710254, 1.4875330504574855, 1.4875332047606404, 1.487532990004409, 1.48753298376383, 1.4875322253174748, 1.487531958578117, 13.47970795076732, 3.6013000538870314, 4.321370864931201, 2.7447564966593103, 13.47970795076732, 2.1092228383181735, 2.1092222764927535, 2.109212222478325, 3.6013000538870314, 1.404627515223308, 1.4046273878363482, 1.4046274518118822, 1.404627462370832, 1.40462740881972, 1.4046273223770864, 1.404627043365041, 1.404626972884423, 1.4046264046508032, 1.4046261114596017, 1.4046235169471308, 1.4046163260170088, 1.4046160862167958, 1.4046160425227379, 1.4046188696293558, 18.38490405870942, 2.075114023605807, 7.538831999070267, 2.096071376103918, 2.1776735883001495, 1.327330268537698, 1.3273315393447918, 1.351995731837118, 1.351996321291793, 1.3519960996576161, 5.407065932559527, 2.0059351124396834, 7.886113345587432, 21.643325686811213, 3.8423223867170573, 7.450120527173251, 7.881077300808226, 5.018799641576577, 1.4198739064687973, 1.4198737277190314, 1.4198737001234591, 1.4198735177650617, 1.4198736910443404, 1.4198732092651343, 1.4198730784406945, 1.4198730076521084, 1.4198711163111233, 18.38490405870942, 2.047150754750474, 2.859312036158649, 3.942402445836414, 3.6447694220492775, 4.008202442792567, 4.087473359646053, 1.327330268537698, 1.3273315393447918, 1.351996321291793, 1.3519960996576161, 1.351995731837118, 1.3519979268899105, 1.351997613036566, 1.35199482990483, 1.3519981175124745, 1.3519980247754897, 1.3519984335800372, 1.3705451941382194, 1.397624193392479, 21.643325686811213, 3.4527570042753877, 7.886113345587432, 7.450120527173251, 13.47970795076732, 3.8423223867170573, 5.134960760401019, 5.407065932559527, 8.131010881184757, 4.633581248207736, 2.0059351124396834, 8.131010881184757, 2.1776735883001495, 3.6447694220492775, 1.4410947738670012, 1.441094770009439, 1.4410946423903324, 1.4410947174210844, 1.4410944991000962, 1.4410945727313944, 1.441094528078641, 1.4410945763463159, 1.4410944285148026, 1.4410944163598274, 1.441094399489021, 1.4410896937111999, 1.441083645953301, 1.4410460683922892, 2.118735674734591, 2.9696340217294708, 2.228582823232118, 4.321370864931201, 1.327330268537698, 1.3273315393447918, 1.351996321291793, 1.3519960996576161, 1.351995731837118, 1.3519979268899105, 1.35199482990483, 1.351997613036566, 1.3519980247754897, 3.4527570042753877, 7.881077300808226, 4.633581248207736, 5.407065932559527, 7.450120527173251, 1.4874790367210968, 1.4874832262762303, 21.643325686811213, 2.024925094651636, 5.134960760401019, 3.8423223867170573, 4.633581248207736, 3.942402445836414, 1.3273315393447918, 1.327330268537698, 2.7447564966593103, 4.008202442792567, 2.024925094651636, 2.047150754750474, 4.087473359646053, 2.118735674734591, 4.813622836685012, 1.3519960996576161, 1.351995731837118, 1.351996321291793, 1.35199482990483, 1.3519979268899105, 1.351997613036566, 1.3519981175124745, 1.3519980247754897, 1.3519984335800372, 1.3705451941382194, 1.3705481771704033, 1.3705482341259905, 1.3976233284004653, 1.3976238064230773, 1.3976311532333656, 1.3976314556040788, 1.3976313320568992, 18.38490405870942, 7.881077300808226, 5.407065932559527, 7.886113345587432, 21.643325686811213, 1.4410460683922892, 2.2749878676305206, 7.450120527173251, 8.131010881184757, 5.018799641576577, 13.47970795076732, 3.6447694220492775, 4.321370864931201, 2.096071376103918, 3.6013000538870314, 2.109212222478325, 2.1776735883001495, 7.886113345587432, 2.0059351124396834, 2.009045709127778, 1.3519984335800372, 1.3519980247754897, 1.3519981175124745, 1.351997613036566, 1.3519979268899105, 1.351995731837118, 1.3519960996576161, 1.351996321291793, 1.35199482990483, 2.859312036158649, 3.4527570042753877, 5.018799641576577, 1.327330268537698, 1.3273315393447918, 1.3705451941382194, 1.3705482341259905, 1.3705481771704033, 1.3976233284004653, 1.3976238064230773, 1.3976311532333656, 1.397624193392479, 1.3976312877032895, 1.3976313320568992, 1.3976314556040788, 1.3976316216904396, 1.3976316945843097, 1.3976316874391723, 21.643325686811213, 2.7911276560895733, 3.5785963259025952, 4.813622836685012, 5.134960760401019, 1.4046160862167958, 1.4046163260170088, 2.1776735883001495, 2.7447564966593103, 18.38490405870942, 7.450120527173251, 13.47970795076732, 5.407065932559527, 8.131010881184757, 7.881077300808226, 4.633581248207736, 3.8423223867170573, 7.450120527173251, 5.407065932559527, 1.3705482341259905, 1.3705481771704033, 1.3705451941382194, 2.075114023605807, 2.1580223541689882, 1.327330268537698, 1.3273315393447918, 1.3519960996576161, 1.351996321291793, 1.351995731837118, 1.35199482990483, 1.3519979268899105, 1.351997613036566, 1.3519980247754897, 1.3519981175124745, 1.3519984335800372, 1.3976233284004653, 1.3976238064230773, 1.397624193392479, 1.3976311532333656, 1.3976314556040788, 1.3976313320568992, 1.3976312877032895, 1.3976316216904396, 1.3976316874391723, 1.3976316945843097, 1.3976354834810396, 1.3976356048175924, 8.131010881184757, 18.38490405870942, 21.643325686811213, 1.4874997995720778, 4.087473359646053, 7.886113345587432, 13.47970795076732, 2.2749878676305206, 3.6013000538870314, 7.881077300808226, 5.134960760401019, 5.018799641576577, 4.633581248207736, 3.8423223867170573, 3.6447694220492775, 4.008202442792567, 4.321370864931201, 3.942402445836414, 2.1776735883001495, 2.0059351124396834, 2.109212222478325, 4.813622836685012, 2.118735674734591], \"Category\": [\"Default\", \"Default\", \"Default\", \"Default\", \"Default\", \"Default\", \"Default\", \"Default\", \"Default\", \"Default\", \"Default\", \"Default\", \"Default\", \"Default\", \"Default\", \"Default\", \"Default\", \"Default\", \"Default\", \"Default\", \"Default\", \"Default\", \"Default\", \"Default\", \"Default\", \"Default\", \"Default\", \"Default\", \"Default\", \"Default\", \"Topic1\", \"Topic1\", \"Topic1\", \"Topic1\", \"Topic1\", \"Topic1\", \"Topic1\", \"Topic1\", \"Topic1\", \"Topic1\", \"Topic1\", \"Topic1\", \"Topic1\", \"Topic1\", \"Topic1\", \"Topic1\", \"Topic1\", \"Topic1\", \"Topic1\", \"Topic1\", \"Topic1\", \"Topic1\", \"Topic1\", \"Topic1\", \"Topic1\", \"Topic1\", \"Topic1\", \"Topic1\", \"Topic1\", \"Topic1\", \"Topic1\", \"Topic1\", \"Topic2\", \"Topic2\", \"Topic2\", \"Topic2\", \"Topic2\", \"Topic2\", \"Topic2\", \"Topic2\", \"Topic2\", \"Topic2\", \"Topic2\", \"Topic2\", \"Topic2\", \"Topic2\", \"Topic2\", \"Topic2\", \"Topic2\", \"Topic2\", \"Topic2\", \"Topic2\", \"Topic2\", \"Topic2\", \"Topic2\", \"Topic2\", \"Topic2\", \"Topic2\", \"Topic2\", \"Topic2\", \"Topic2\", \"Topic2\", \"Topic2\", \"Topic2\", \"Topic2\", \"Topic2\", \"Topic3\", \"Topic3\", \"Topic3\", \"Topic3\", \"Topic3\", \"Topic3\", \"Topic3\", \"Topic3\", \"Topic3\", \"Topic3\", \"Topic3\", \"Topic3\", \"Topic3\", \"Topic3\", \"Topic3\", \"Topic3\", \"Topic3\", \"Topic3\", \"Topic3\", \"Topic3\", \"Topic3\", \"Topic3\", \"Topic3\", \"Topic3\", \"Topic3\", \"Topic3\", \"Topic3\", \"Topic3\", \"Topic3\", \"Topic3\", \"Topic3\", \"Topic3\", \"Topic3\", \"Topic3\", \"Topic3\", \"Topic3\", \"Topic4\", \"Topic4\", \"Topic4\", \"Topic4\", \"Topic4\", \"Topic4\", \"Topic4\", \"Topic4\", \"Topic4\", \"Topic4\", \"Topic4\", \"Topic4\", \"Topic4\", \"Topic4\", \"Topic4\", \"Topic4\", \"Topic4\", \"Topic4\", \"Topic4\", \"Topic4\", \"Topic4\", \"Topic4\", \"Topic4\", \"Topic4\", \"Topic4\", \"Topic4\", \"Topic4\", \"Topic4\", \"Topic4\", \"Topic4\", \"Topic4\", \"Topic4\", \"Topic4\", \"Topic4\", \"Topic4\", \"Topic4\", \"Topic4\", \"Topic4\", \"Topic4\", \"Topic4\", \"Topic4\", \"Topic4\", \"Topic5\", \"Topic5\", \"Topic5\", \"Topic5\", \"Topic5\", \"Topic5\", \"Topic5\", \"Topic5\", \"Topic5\", \"Topic5\", \"Topic5\", \"Topic5\", \"Topic5\", \"Topic5\", \"Topic5\", \"Topic5\", \"Topic5\", \"Topic5\", \"Topic5\", \"Topic5\", \"Topic5\", \"Topic5\", \"Topic5\", \"Topic5\", \"Topic5\", \"Topic5\", \"Topic5\", \"Topic5\", \"Topic5\", \"Topic5\", \"Topic5\", \"Topic5\", \"Topic5\", \"Topic5\", \"Topic5\", \"Topic5\", \"Topic5\", \"Topic5\", \"Topic5\", \"Topic6\", \"Topic6\", \"Topic6\", \"Topic6\", \"Topic6\", \"Topic6\", \"Topic6\", \"Topic6\", \"Topic6\", \"Topic6\", \"Topic6\", \"Topic6\", \"Topic6\", \"Topic6\", \"Topic6\", \"Topic6\", \"Topic6\", \"Topic6\", \"Topic6\", \"Topic6\", \"Topic6\", \"Topic6\", \"Topic6\", \"Topic6\", \"Topic6\", \"Topic6\", \"Topic6\", \"Topic6\", \"Topic6\", \"Topic6\", \"Topic6\", \"Topic6\", \"Topic6\", \"Topic6\", \"Topic6\", \"Topic6\", \"Topic6\", \"Topic6\", \"Topic6\", \"Topic6\", \"Topic6\", \"Topic6\", \"Topic6\", \"Topic6\", \"Topic6\", \"Topic6\", \"Topic6\", \"Topic7\", \"Topic7\", \"Topic7\", \"Topic7\", \"Topic7\", \"Topic7\", \"Topic7\", \"Topic7\", \"Topic7\", \"Topic7\", \"Topic7\", \"Topic7\", \"Topic7\", \"Topic7\", \"Topic7\", \"Topic7\", \"Topic7\", \"Topic7\", \"Topic7\", \"Topic7\", \"Topic7\", \"Topic7\", \"Topic7\", \"Topic7\", \"Topic7\", \"Topic7\", \"Topic7\", \"Topic7\", \"Topic7\", \"Topic7\", \"Topic7\", \"Topic7\", \"Topic7\", \"Topic7\", \"Topic7\", \"Topic7\", \"Topic7\", \"Topic7\", \"Topic7\", \"Topic7\", \"Topic7\", \"Topic7\", \"Topic7\", \"Topic7\", \"Topic7\", \"Topic7\", \"Topic7\", \"Topic8\", \"Topic8\", \"Topic8\", \"Topic8\", \"Topic8\", \"Topic8\", \"Topic8\", \"Topic8\", \"Topic8\", \"Topic8\", \"Topic8\", \"Topic8\", \"Topic8\", \"Topic8\", \"Topic8\", \"Topic8\", \"Topic8\", \"Topic8\", \"Topic8\", \"Topic8\", \"Topic8\", \"Topic8\", \"Topic8\", \"Topic8\", \"Topic8\", \"Topic8\", \"Topic8\", \"Topic8\", \"Topic8\", \"Topic8\", \"Topic8\", \"Topic8\", \"Topic8\", \"Topic8\", \"Topic8\", \"Topic8\", \"Topic8\", \"Topic8\", \"Topic8\", \"Topic8\", \"Topic8\", \"Topic8\", \"Topic8\", \"Topic8\", \"Topic8\", \"Topic8\", \"Topic8\", \"Topic8\", \"Topic8\", \"Topic8\", \"Topic8\", \"Topic8\", \"Topic8\"], \"logprob\": [30.0, 29.0, 28.0, 27.0, 26.0, 25.0, 24.0, 23.0, 22.0, 21.0, 20.0, 19.0, 18.0, 17.0, 16.0, 15.0, 14.0, 13.0, 12.0, 11.0, 10.0, 9.0, 8.0, 7.0, 6.0, 5.0, 4.0, 3.0, 2.0, 1.0, -1.1505, -3.3955, -2.8961, -3.7691, -3.7691, -3.7691, -3.8281, -3.3955, -3.4441, -4.4051, -4.4051, -4.4051, -4.4051, -4.4051, -4.4051, -4.4051, -4.4051, -4.4051, -4.4051, -4.4051, -4.4051, -4.4051, -4.4052, -4.4054, -3.3834, -3.6931, -4.4052, -4.2989, -6.6022, -6.6023, -4.7073, -5.9376, -3.2328, -3.6185, -3.6185, -3.6185, -3.6186, -2.5598, -4.2545, -4.2545, -4.2545, -4.2545, -4.2545, -4.2545, -4.2545, -4.2545, -4.2545, -4.2545, -4.2545, -4.2545, -4.2545, -4.2545, -4.2545, -4.2545, -4.2545, -4.2545, -4.2545, -4.2545, -4.2545, -4.2545, -4.2545, -4.2545, -4.1074, -4.2544, -4.2544, -4.2545, -1.4986, -3.5692, -3.5692, -3.5692, -3.1835, -4.2051, -4.2051, -4.2051, -4.2052, -4.2052, -4.2052, -4.2052, -4.2052, -4.2052, -4.2052, -4.2052, -4.2052, -4.2052, -4.2052, -4.2052, -1.8842, -4.2055, -3.1835, -5.7224, -5.7226, -6.4023, -6.4023, -6.4023, -6.4023, -6.4023, -5.4371, -6.1396, -5.2466, -5.1613, -5.9318, -6.0714, -1.7978, -2.6508, -3.9501, -3.9501, -3.9501, -3.9501, -3.9501, -3.9501, -3.9501, -3.9501, -3.9501, -1.6057, -3.9502, -3.9501, -3.8294, -3.9502, -3.9501, -3.9501, -6.1472, -6.1473, -6.1472, -6.1472, -6.1472, -6.1472, -6.1473, -6.1473, -6.1473, -6.1473, -6.1473, -6.1472, -6.1448, -6.1452, -6.1459, -6.1466, -6.1466, -6.1466, -6.1467, -6.1468, -6.1468, -6.1468, -6.147, -6.1471, -1.7523, -3.2529, -2.8202, -3.8298, -3.8298, -3.8298, -3.8298, -3.8298, -3.8298, -3.8298, -3.8298, -3.8298, -3.8298, -3.8298, -3.8298, -3.8298, -3.8301, -3.498, -3.1937, -3.8297, -3.8299, -6.0269, -6.027, -6.0269, -6.0269, -6.0269, -6.0269, -6.0269, -6.0269, -6.027, -5.1233, -5.2054, -5.5096, -5.5557, -5.7554, -6.025, -6.0252, -6.025, -6.0257, -2.0392, -2.3396, -2.3414, -2.5775, -3.8411, -3.8412, -3.2231, -2.8607, -3.8412, -3.8411, -3.3069, -4.3413, -3.8412, -6.0382, -6.0383, -6.0383, -6.0383, -6.0383, -6.0383, -6.0383, -6.0383, -6.0383, -6.0382, -6.0383, -6.0383, -6.0382, -6.0383, -6.0383, -6.0383, -6.0383, -3.6115, -5.0585, -5.5778, -5.6352, -5.6311, -6.0361, -6.037, -6.0377, -6.0379, -6.038, -6.038, -6.0381, -6.0381, -6.0382, -6.0382, -6.0382, -6.0382, -1.4329, -3.0722, -3.0722, -3.6903, -3.6904, -3.6904, -3.6904, -3.6904, -3.6904, -3.6904, -3.6904, -3.6905, -3.6903, -3.6902, -3.6903, -5.8875, -5.8875, -5.8875, -5.8875, -5.8875, -5.8874, -5.8875, -5.8875, -5.8875, -5.8875, -5.8875, -5.8875, -5.8875, -5.8875, -5.8875, -4.8269, -5.6246, -5.6245, -5.6244, -5.6243, -5.8875, -5.8875, -5.8858, -5.886, -5.8868, -5.8868, -5.8869, -5.8869, -5.887, -5.8871, -5.8871, -5.8873, -1.41, -1.7706, -3.5603, -3.5603, -3.5603, -3.5601, -3.5602, -5.7574, -5.7575, -5.7574, -5.7574, -5.7574, -5.7574, -5.7574, -5.7574, -5.7575, -5.7575, -5.7575, -5.7574, -5.7574, -5.7574, -5.7574, -5.7574, -5.7574, -5.7574, -5.7574, -5.7574, -5.7574, -5.7575, -5.7575, -4.8389, -5.345, -5.4595, -5.7558, -5.7561, -5.7565, -5.7567, -5.7567, -5.7569, -5.7569, -5.757, -5.7572, -5.7572, -5.7572, -5.7572, -5.7573, -5.7573, -5.7573, -5.7573, -5.7573, -5.7573, -5.7573, -5.7573], \"loglift\": [30.0, 29.0, 28.0, 27.0, 26.0, 25.0, 24.0, 23.0, 22.0, 21.0, 20.0, 19.0, 18.0, 17.0, 16.0, 15.0, 14.0, 13.0, 12.0, 11.0, 10.0, 9.0, 8.0, 7.0, 6.0, 5.0, 4.0, 3.0, 2.0, 1.0, 1.6299, 1.4331, 1.3875, 1.3463, 1.3463, 1.3463, 1.2869, 1.1846, 1.1718, 1.1152, 1.1152, 1.1152, 1.1152, 1.1152, 1.1152, 1.1152, 1.1152, 1.1152, 1.1152, 1.1152, 1.1152, 1.1152, 1.1151, 1.1149, 1.0081, 0.7541, 0.7444, 0.1679, -1.0303, -1.0304, -1.7637, -2.1782, 1.503, 1.4146, 1.4146, 1.4146, 1.4145, 1.2752, 1.2035, 1.2035, 1.2035, 1.2035, 1.2035, 1.2035, 1.2035, 1.2035, 1.2035, 1.2035, 1.2035, 1.2035, 1.2035, 1.2035, 1.2035, 1.2035, 1.2035, 1.2035, 1.2035, 1.2035, 1.2035, 1.2035, 1.2035, 1.2035, -0.8535, 0.3193, 0.1371, 0.5909, 1.7553, 1.5396, 1.5396, 1.5395, 1.3902, 1.3102, 1.3102, 1.3102, 1.3101, 1.3101, 1.3101, 1.3101, 1.3101, 1.3101, 1.3101, 1.3101, 1.3101, 1.3101, 1.3101, 1.3101, 1.0593, 0.9196, 0.6515, -0.6074, -0.6458, -0.8304, -0.8304, -0.8488, -0.8488, -0.8488, -1.2697, -0.9806, -1.4567, -2.3809, -1.4229, -2.2245, 1.9928, 1.5911, 1.5544, 1.5544, 1.5544, 1.5544, 1.5544, 1.5544, 1.5544, 1.5544, 1.5544, 1.3379, 1.1884, 0.8544, 0.6539, 0.6116, 0.5166, 0.4971, -0.5753, -0.5754, -0.5937, -0.5937, -0.5937, -0.5938, -0.5938, -0.5938, -0.5938, -0.5938, -0.5938, -0.6073, -0.6245, -3.3648, -1.53, -2.3566, -2.2998, -2.8927, -1.6377, -1.9278, -1.9794, -2.3874, -1.8253, -0.9881, 2.0071, 1.8239, 1.7416, 1.6599, 1.6599, 1.6599, 1.6599, 1.6599, 1.6599, 1.6599, 1.6599, 1.6599, 1.6599, 1.6599, 1.6599, 1.6598, 1.6596, 1.6063, 1.5729, 1.224, 0.5616, -0.455, -0.4551, -0.4734, -0.4734, -0.4734, -0.4735, -0.4735, -0.4735, -0.4735, -0.5074, -1.4148, -1.1878, -1.3884, -1.9085, -0.567, -0.5672, -3.2446, -0.8761, 2.1798, 2.1694, 1.9803, 1.9058, 1.7308, 1.7307, 1.6223, 1.6061, 1.3083, 1.2976, 1.1402, 0.7629, 0.4424, -0.4847, -0.4848, -0.4848, -0.4848, -0.4848, -0.4848, -0.4848, -0.4848, -0.4848, -0.4984, -0.4985, -0.4985, -0.5179, -0.518, -0.518, -0.518, -0.518, -0.668, -1.2679, -1.4105, -1.8453, -2.8507, -0.5464, -1.004, -2.1908, -2.2785, -1.7961, -2.7841, -1.4763, -1.6466, -0.9232, -1.4644, -0.9294, -0.9614, 2.357, 2.0867, 2.0852, 1.8631, 1.8631, 1.8631, 1.8631, 1.8631, 1.8631, 1.8631, 1.8631, 1.863, 1.1142, 0.9257, 0.5516, -0.3156, -0.3156, -0.3476, -0.3477, -0.3477, -0.3671, -0.3672, -0.3672, -0.3672, -0.3672, -0.3672, -0.3672, -0.3672, -0.3672, -0.3672, -2.0465, -0.796, -1.0444, -1.3408, -1.4053, -0.3721, -0.3721, -0.809, -1.0406, -2.9432, -2.04, -2.633, -1.7195, -2.1276, -2.0964, -1.5654, -1.3783, 2.4369, 2.3967, 1.9796, 1.9796, 1.9795, 1.565, 1.5257, -0.1855, -0.1856, -0.2039, -0.2039, -0.2039, -0.2039, -0.204, -0.204, -0.204, -0.204, -0.204, -0.2371, -0.2371, -0.2371, -0.2371, -0.2371, -0.2371, -0.2371, -0.2371, -0.2371, -0.2372, -0.2372, -0.2372, -1.0795, -2.4015, -2.6791, -0.2978, -1.309, -1.9666, -2.5028, -0.7236, -1.1831, -1.9663, -1.538, -1.5153, -1.4354, -1.2482, -1.1955, -1.2905, -1.3658, -1.274, -0.6805, -0.5984, -0.6486, -1.4737, -0.6531]}, \"token.table\": {\"Topic\": [2, 3, 5, 2, 6, 1, 6, 2, 8, 2, 5, 3, 3, 5, 2, 5, 2, 5, 8, 1, 2, 4, 2, 5, 1, 2, 1, 5, 1, 2, 5, 5, 1, 1, 2, 1, 4, 3, 7, 2, 6, 8, 1, 7, 1, 3, 8, 2, 1, 7, 3, 4, 7, 2, 2, 7, 4, 2, 2, 4, 7, 1, 7, 2, 2, 2, 2, 7, 6, 2, 7, 2, 1, 4, 6, 1, 2, 2, 3, 1, 5, 7, 5, 5, 2, 5, 2, 1, 3, 1, 2, 4, 6, 3, 1, 3, 1, 3, 1, 5, 4, 5, 2, 5, 2, 2, 1, 4, 6, 4, 5, 5, 6, 5, 2, 3, 4, 1, 3, 8, 4, 6, 6, 4, 5, 1, 3, 8, 2, 3, 3, 2, 3, 1, 3, 4, 6, 3, 2, 2, 5, 2, 6, 2, 7, 1, 1, 2, 1, 6, 1, 2, 3, 2, 3, 4, 8, 3, 3, 2, 2, 4, 2, 2, 4, 7, 4, 7, 7, 7, 1], \"Freq\": [0.6722529922330488, 0.7119383081347217, 0.6939168893059338, 0.6722531011068151, 0.7807777947969766, 0.8309749508240808, 0.2077437377060202, 0.4633872295475272, 0.4633872295475272, 0.4487156544398463, 0.4487156544398463, 0.7119325474595147, 0.7119325692500048, 0.6939170677192119, 0.6722689981455318, 0.693916984299399, 0.6722543437918302, 0.6939169825587391, 0.7296350285969381, 0.5588783472233514, 0.2794391736116757, 0.7042879985081515, 0.6722531407529381, 0.6939170537426917, 0.7154960808880517, 0.8791054078512132, 0.47727358825312616, 0.693919333656968, 0.4628160976023615, 0.23140804880118074, 0.23140804880118074, 0.6939169507571743, 0.7154962032303315, 0.4772718561466386, 0.6722532352507256, 0.7154962664784399, 0.7042880844584245, 0.4741082743051312, 0.7396471041989272, 0.21581579051555402, 0.6474473715466621, 0.72963505891823, 0.7155003638530187, 0.7396477988531895, 0.47708299030291346, 0.4741106605313522, 0.9247159295564877, 0.672253446239757, 0.5792472501028869, 0.28962362505144346, 0.7119345418432428, 0.8882034438720873, 0.7396461045619838, 0.672254464338277, 0.6722531620851925, 0.7396462762637689, 0.704288302372914, 0.6722529913279146, 0.3497344771588668, 0.3497344771588668, 0.3497344771588668, 0.924072404093951, 0.7396469829478006, 0.6722534946268314, 0.6722530079799488, 0.6722532347526536, 0.6530522399499507, 0.7396473054254251, 0.7533919957251383, 0.6722539011563848, 0.4977487547728058, 0.6722531777527666, 0.24948839642522821, 0.24948839642522821, 0.49897679285045643, 0.7154941412258199, 0.6722534550976951, 0.0741855835194913, 0.8902270022338956, 0.7154999210286147, 0.6939222458100156, 0.7396460002769001, 0.6939168874484379, 0.6939170197544009, 0.33674183171487737, 0.6734836634297547, 0.6722536005763039, 0.715500119133838, 0.7119368973477306, 0.7154963580244607, 0.6722532602307605, 0.4884838098412979, 0.4884838098412979, 0.47410840059152753, 0.7154961182049508, 0.7119325153195648, 0.477271968448859, 0.7119327544800199, 0.7165562619955694, 0.6939403409327888, 0.7042883374856126, 0.6939170595955662, 0.6722764884572197, 0.4719795923223258, 0.6722540010304512, 0.6722539708898929, 0.4892998251059394, 0.2446499125529697, 0.2446499125529697, 0.7042879803167136, 0.6939170058006283, 0.6939169146283134, 0.778973820179225, 0.4592056428349214, 0.2776775011903434, 0.5553550023806868, 0.7042878916529872, 0.7154936914982968, 0.48190122982367833, 0.48190122982367833, 0.25365244003846027, 0.5073048800769205, 0.7533912744163588, 0.27436577851823296, 0.5487315570364659, 0.7154960845458951, 0.7119327902029994, 0.7296366469905333, 0.6722532264398754, 0.7119325421077327, 0.7119330782113588, 0.6722531101300842, 0.7119381865905287, 0.05439245137242222, 0.43513961097937776, 0.43513961097937776, 0.05439245137242222, 0.7119326130632819, 0.6722539982101748, 0.12298593798638374, 0.8609015659046863, 0.3643310440168798, 0.3643310440168798, 0.672253545345161, 0.8876362402167038, 0.7154937091649347, 0.7154940791097774, 0.6722783819557792, 0.4938454279821338, 0.4938454279821338, 0.7154962891846016, 0.6632327130537767, 0.2652930852215107, 0.879106296244542, 0.7119325798853845, 0.7042879940047126, 0.8053560983497994, 0.7119332268149715, 0.7119383302813246, 0.879105427070987, 0.6722529520406388, 0.7042892756337183, 0.8791255674181111, 0.1992508311580786, 0.5977524934742358, 0.1992508311580786, 0.704288237481118, 0.7396460510111013, 0.7396458273638975, 0.49852061205697107, 0.7154935612480585], \"Term\": [\"200\", \"access\", \"additional\", \"aerobus\", \"agile\", \"airline\", \"airline\", \"airport\", \"airport\", \"almost\", \"almost\", \"along\", \"already\", \"answer\", \"app\", \"application\", \"approach\", \"ask\", \"avoid\", \"best\", \"best\", \"boarding\", \"buy\", \"call\", \"change\", \"changed\", \"check\", \"checkin\", \"clear\", \"clear\", \"clear\", \"clearly\", \"convenient\", \"cost\", \"didnt\", \"direct\", \"direction\", \"due\", \"dynamic\", \"ease\", \"ease\", \"easily\", \"economy\", \"effective\", \"effectiveness\", \"efficiency\", \"efficient\", \"either\", \"everything\", \"everything\", \"excellence\", \"excellent\", \"excellently\", \"expedite\", \"experience\", \"explained\", \"extraordinary\", \"fan\", \"far\", \"far\", \"far\", \"fast\", \"faster\", \"feel\", \"fill\", \"filled\", \"first\", \"flexibility\", \"flexible\", \"flight\", \"fly\", \"form\", \"friendly\", \"friendly\", \"friendly\", \"get\", \"going\", \"good\", \"good\", \"great\", \"happy\", \"hassle\", \"hour\", \"indicate\", \"information\", \"information\", \"insertion\", \"interative\", \"intuitive\", \"know\", \"let\", \"like\", \"like\", \"line\", \"link\", \"long\", \"low\", \"made\", \"mexico\", \"navigation\", \"novelty\", \"number\", \"offer\", \"okay\", \"online\", \"option\", \"page\", \"page\", \"page\", \"pass\", \"passport\", \"phone\", \"practical\", \"practicality\", \"price\", \"price\", \"printing\", \"problem\", \"procedure\", \"procedure\", \"process\", \"process\", \"provided\", \"quick\", \"quick\", \"rate\", \"reduced\", \"reliable\", \"reservation\", \"safe\", \"satisfied\", \"seat\", \"seems\", \"service\", \"service\", \"service\", \"service\", \"several\", \"shopping\", \"simple\", \"simple\", \"simplicity\", \"simplicity\", \"something\", \"speed\", \"still\", \"stuck\", \"super\", \"thank\", \"thank\", \"theme\", \"time\", \"time\", \"travel\", \"traveled\", \"understand\", \"use\", \"used\", \"useful\", \"viva\", \"wanted\", \"webb\", \"website\", \"well\", \"well\", \"well\", \"whole\", \"without\", \"worked\", \"yeah\", \"yes\"]}, \"R\": 30, \"lambda.step\": 0.01, \"plot.opts\": {\"xlab\": \"PC1\", \"ylab\": \"PC2\"}, \"topic.order\": [4, 1, 5, 8, 6, 7, 3, 2]};\n",
              "\n",
              "function LDAvis_load_lib(url, callback){\n",
              "  var s = document.createElement('script');\n",
              "  s.src = url;\n",
              "  s.async = true;\n",
              "  s.onreadystatechange = s.onload = callback;\n",
              "  s.onerror = function(){console.warn(\"failed to load library \" + url);};\n",
              "  document.getElementsByTagName(\"head\")[0].appendChild(s);\n",
              "}\n",
              "\n",
              "if(typeof(LDAvis) !== \"undefined\"){\n",
              "   // already loaded: just create the visualization\n",
              "   !function(LDAvis){\n",
              "       new LDAvis(\"#\" + \"ldavis_el17171397888276784644442565895\", ldavis_el17171397888276784644442565895_data);\n",
              "   }(LDAvis);\n",
              "}else if(typeof define === \"function\" && define.amd){\n",
              "   // require.js is available: use it to load d3/LDAvis\n",
              "   require.config({paths: {d3: \"https://d3js.org/d3.v5\"}});\n",
              "   require([\"d3\"], function(d3){\n",
              "      window.d3 = d3;\n",
              "      LDAvis_load_lib(\"https://cdn.jsdelivr.net/gh/bmabey/pyLDAvis@3.4.0/pyLDAvis/js/ldavis.v3.0.0.js\", function(){\n",
              "        new LDAvis(\"#\" + \"ldavis_el17171397888276784644442565895\", ldavis_el17171397888276784644442565895_data);\n",
              "      });\n",
              "    });\n",
              "}else{\n",
              "    // require.js not available: dynamically load d3 & LDAvis\n",
              "    LDAvis_load_lib(\"https://d3js.org/d3.v5.js\", function(){\n",
              "         LDAvis_load_lib(\"https://cdn.jsdelivr.net/gh/bmabey/pyLDAvis@3.4.0/pyLDAvis/js/ldavis.v3.0.0.js\", function(){\n",
              "                 new LDAvis(\"#\" + \"ldavis_el17171397888276784644442565895\", ldavis_el17171397888276784644442565895_data);\n",
              "            })\n",
              "         });\n",
              "}\n",
              "</script>"
            ]
          },
          "metadata": {},
          "execution_count": 53
        }
      ]
    },
    {
      "cell_type": "code",
      "source": [
        "df.shape"
      ],
      "metadata": {
        "colab": {
          "base_uri": "https://localhost:8080/"
        },
        "id": "657Xeq8a_mtR",
        "outputId": "8f1d1f4b-42bc-4f55-e51e-7ac9ed48beeb"
      },
      "execution_count": null,
      "outputs": [
        {
          "output_type": "stream",
          "name": "stderr",
          "text": [
            "/usr/local/lib/python3.10/dist-packages/ipykernel/ipkernel.py:283: DeprecationWarning: `should_run_async` will not call `transform_cell` automatically in the future. Please pass the result to `transformed_cell` argument and any exception that happen during thetransform in `preprocessing_exc_tuple` in IPython 7.17 and above.\n",
            "  and should_run_async(code)\n"
          ]
        },
        {
          "output_type": "execute_result",
          "data": {
            "text/plain": [
              "(191, 3)"
            ]
          },
          "metadata": {},
          "execution_count": 54
        }
      ]
    },
    {
      "cell_type": "markdown",
      "source": [
        "# VADER"
      ],
      "metadata": {
        "id": "a3HzgDet4V5W"
      }
    },
    {
      "cell_type": "code",
      "source": [
        "def getSentiment(comment):\n",
        "  try:\n",
        "    # Create the object analyzer\n",
        "    sent_obj = SentimentIntensityAnalyzer()\n",
        "    #Create the dictionary with the polarity values for the sentence\n",
        "    sent_dictionary = sent_obj.polarity_scores(comment)\n",
        "    #Return the compounded sentiment value\n",
        "    return(sent_dictionary['compound'])\n",
        "  except:\n",
        "    print(comment)\n",
        "    return -10"
      ],
      "metadata": {
        "colab": {
          "base_uri": "https://localhost:8080/"
        },
        "id": "yl8m1OM94UQ-",
        "outputId": "7cd5b35c-e859-4ad7-eec0-0f0a3202f117"
      },
      "execution_count": null,
      "outputs": [
        {
          "output_type": "stream",
          "name": "stderr",
          "text": [
            "/usr/local/lib/python3.10/dist-packages/ipykernel/ipkernel.py:283: DeprecationWarning: `should_run_async` will not call `transform_cell` automatically in the future. Please pass the result to `transformed_cell` argument and any exception that happen during thetransform in `preprocessing_exc_tuple` in IPython 7.17 and above.\n",
            "  and should_run_async(code)\n"
          ]
        }
      ]
    },
    {
      "cell_type": "code",
      "source": [
        "df['vader_sentiment'] = df.Comment.progress_apply(getSentiment)"
      ],
      "metadata": {
        "colab": {
          "base_uri": "https://localhost:8080/",
          "height": 105,
          "referenced_widgets": [
            "885cd038cc5745ce9e37af2a45f49169",
            "e567ed1ca01e47a3ac14e9801b33671c",
            "763d647335d24f319da74e0ea6cd7f3e",
            "3f24fe6ae0484c5998039ba7bdf1e36c",
            "704ba8a3f124414e9a43aee4c7a8f26b",
            "cb1688f7afc94275a14c7d4794962b0c",
            "0cd62d5004b9446f904011010adc6ec2",
            "c31d0cc80f9248878a0d26440090ffd9",
            "d251512b07d74571b5bdec3295a0721b",
            "a876116770b943d8a46bbe257508259e",
            "cc9f2e2b0ff14e3dba1e1aed0090690a"
          ]
        },
        "id": "5_6U3UFG4Y5W",
        "outputId": "7e02b4b3-a1da-4d54-fad1-35c034215bca"
      },
      "execution_count": null,
      "outputs": [
        {
          "output_type": "stream",
          "name": "stderr",
          "text": [
            "/usr/local/lib/python3.10/dist-packages/ipykernel/ipkernel.py:283: DeprecationWarning: `should_run_async` will not call `transform_cell` automatically in the future. Please pass the result to `transformed_cell` argument and any exception that happen during thetransform in `preprocessing_exc_tuple` in IPython 7.17 and above.\n",
            "  and should_run_async(code)\n"
          ]
        },
        {
          "output_type": "display_data",
          "data": {
            "text/plain": [
              "  0%|          | 0/191 [00:00<?, ?it/s]"
            ],
            "application/vnd.jupyter.widget-view+json": {
              "version_major": 2,
              "version_minor": 0,
              "model_id": "885cd038cc5745ce9e37af2a45f49169"
            }
          },
          "metadata": {}
        }
      ]
    },
    {
      "cell_type": "code",
      "source": [
        "dates = df.copy()\n",
        "dates['Date'] = pd.to_datetime(dates.Date)\n",
        "dates['Date'] = dates.Date.apply(removeTime)\n",
        "dates.columns\n",
        "dates = dates.drop(labels= ['Comment', 'nps'], axis = 1)\n",
        "dates = dates.groupby(['Date']).mean()"
      ],
      "metadata": {
        "colab": {
          "base_uri": "https://localhost:8080/"
        },
        "id": "Z5eVcXnP5YvI",
        "outputId": "79254866-a0b4-4834-ed58-f8fc4c5f166a"
      },
      "execution_count": null,
      "outputs": [
        {
          "output_type": "stream",
          "name": "stderr",
          "text": [
            "/usr/local/lib/python3.10/dist-packages/ipykernel/ipkernel.py:283: DeprecationWarning: `should_run_async` will not call `transform_cell` automatically in the future. Please pass the result to `transformed_cell` argument and any exception that happen during thetransform in `preprocessing_exc_tuple` in IPython 7.17 and above.\n",
            "  and should_run_async(code)\n"
          ]
        }
      ]
    },
    {
      "cell_type": "code",
      "source": [
        "line_plot = sns.lineplot(data=dates, x=\"Date\", y=\"vader_sentiment\")\n",
        "line_plot.set_xticklabels(line_plot.get_xticklabels(), rotation=30)"
      ],
      "metadata": {
        "colab": {
          "base_uri": "https://localhost:8080/",
          "height": 731
        },
        "id": "gwL4rVIR-Y-z",
        "outputId": "485f4570-4fbb-4724-a9c7-427e015c4d80"
      },
      "execution_count": null,
      "outputs": [
        {
          "output_type": "stream",
          "name": "stderr",
          "text": [
            "/usr/local/lib/python3.10/dist-packages/ipykernel/ipkernel.py:283: DeprecationWarning: `should_run_async` will not call `transform_cell` automatically in the future. Please pass the result to `transformed_cell` argument and any exception that happen during thetransform in `preprocessing_exc_tuple` in IPython 7.17 and above.\n",
            "  and should_run_async(code)\n",
            "<ipython-input-58-451280906579>:2: UserWarning: FixedFormatter should only be used together with FixedLocator\n",
            "  line_plot.set_xticklabels(line_plot.get_xticklabels(), rotation=30)\n"
          ]
        },
        {
          "output_type": "execute_result",
          "data": {
            "text/plain": [
              "[Text(19463.0, 0, '04-16 00'),\n",
              " Text(19463.125, 0, '04-16 03'),\n",
              " Text(19463.25, 0, '04-16 06'),\n",
              " Text(19463.375, 0, '04-16 09'),\n",
              " Text(19463.5, 0, '04-16 12'),\n",
              " Text(19463.625, 0, '04-16 15'),\n",
              " Text(19463.75, 0, '04-16 18'),\n",
              " Text(19463.875, 0, '04-16 21'),\n",
              " Text(19464.0, 0, '04-17 00')]"
            ]
          },
          "metadata": {},
          "execution_count": 58
        },
        {
          "output_type": "display_data",
          "data": {
            "text/plain": [
              "<Figure size 640x480 with 1 Axes>"
            ],
            "image/png": "[encoded data removed]"
          },
          "metadata": {}
        }
      ]
    }
  ]
}